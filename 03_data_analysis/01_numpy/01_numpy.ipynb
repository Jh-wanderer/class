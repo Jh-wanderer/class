{
 "cells": [
  {
   "metadata": {},
   "cell_type": "markdown",
   "source": [
    "# Data Analysis\n",
    "\n",
    "방대한 양의 데이터를 수집, 분석, 시각화 처리를 통해 유의미한 정보를 추출\n",
    "파이썬 패키지로는 numpy, pandas, matplotlib, seaborn 등이 주로 사용되고 있다."
   ],
   "id": "334bd7e51461cc30"
  },
  {
   "metadata": {},
   "cell_type": "markdown",
   "source": [
    "# Numpy\n",
    "Numerical Python 대규모의 다차원 배열, 수치연산을 지원하는 라이브러리"
   ],
   "id": "f212cfdbf9320285"
  },
  {
   "metadata": {
    "ExecuteTime": {
     "end_time": "2024-11-27T06:15:22.305438Z",
     "start_time": "2024-11-27T06:15:05.747952Z"
    }
   },
   "cell_type": "code",
   "source": [
    "# !명령어를 통해 cmd 실행도 가능\n",
    "!conda install numpy"
   ],
   "id": "73ac53396657ec22",
   "outputs": [
    {
     "name": "stdout",
     "output_type": "stream",
     "text": [
      "^C\n"
     ]
    }
   ],
   "execution_count": 11
  },
  {
   "metadata": {},
   "cell_type": "markdown",
   "source": "## 다차원 배열 생성",
   "id": "78b51e9fa857b6ae"
  },
  {
   "metadata": {
    "ExecuteTime": {
     "end_time": "2024-11-28T00:47:55.783640Z",
     "start_time": "2024-11-28T00:47:55.738291Z"
    }
   },
   "cell_type": "code",
   "source": "import numpy as np",
   "id": "e2d26eba2adfe838",
   "outputs": [],
   "execution_count": 2
  },
  {
   "metadata": {
    "ExecuteTime": {
     "end_time": "2024-11-27T06:11:02.709047Z",
     "start_time": "2024-11-27T06:11:02.704668Z"
    }
   },
   "cell_type": "code",
   "source": [
    "arr = np.array([1, 2, 3, 4, 5])\n",
    "print(arr, type(arr))\n",
    "lst = [1, 2, 3, 4, 5]\n",
    "print(lst, type(lst))"
   ],
   "id": "89ae503f7dc14912",
   "outputs": [
    {
     "name": "stdout",
     "output_type": "stream",
     "text": [
      "[1 2 3 4 5] <class 'numpy.ndarray'>\n",
      "[1, 2, 3, 4, 5] <class 'list'>\n"
     ]
    }
   ],
   "execution_count": 8
  },
  {
   "metadata": {
    "ExecuteTime": {
     "end_time": "2024-11-27T06:13:32.245603Z",
     "start_time": "2024-11-27T06:13:32.242442Z"
    }
   },
   "cell_type": "code",
   "source": [
    "arr = np.array((10, 20, 30))\n",
    "print(arr, type(arr))"
   ],
   "id": "f12bf4a97fd5c74a",
   "outputs": [
    {
     "name": "stdout",
     "output_type": "stream",
     "text": [
      "[10 20 30] <class 'numpy.ndarray'>\n"
     ]
    }
   ],
   "execution_count": 9
  },
  {
   "metadata": {
    "ExecuteTime": {
     "end_time": "2024-11-27T06:20:43.838351Z",
     "start_time": "2024-11-27T06:20:43.835109Z"
    }
   },
   "cell_type": "code",
   "source": [
    "# ndarray 구조 확인\n",
    "arr = np.array([1, 2, 3])\n",
    "print(arr)\n",
    "arr.shape, arr.ndim, arr.size, arr.dtype\n",
    "# 형태, 깊이 - 차원 수(1차원이므로 1차 튜플), 요소개수, 요소자료형\n",
    "# cell의 마지막줄은 자동으로 출력"
   ],
   "id": "782678d4cd335287",
   "outputs": [
    {
     "name": "stdout",
     "output_type": "stream",
     "text": [
      "[1 2 3]\n"
     ]
    },
    {
     "data": {
      "text/plain": [
       "((3,), 1, 3, dtype('int64'))"
      ]
     },
     "execution_count": 18,
     "metadata": {},
     "output_type": "execute_result"
    }
   ],
   "execution_count": 18
  },
  {
   "metadata": {
    "ExecuteTime": {
     "end_time": "2024-11-27T06:32:05.294936Z",
     "start_time": "2024-11-27T06:32:05.290138Z"
    }
   },
   "cell_type": "code",
   "source": [
    "arr_2d = np.array([[1, 2, 3], [4, 5, 6]])\n",
    "print(arr_2d)\n",
    "print([1, 2, 3], [4, 5, 6]) #파이썬 리스트\n",
    "# 대괄호가 두개면 2차원\n",
    "arr_2d.shape, arr_2d.ndim, arr_2d.size, arr_2d.dtype\n",
    "# 배열은 오직 한가지 자료 형태만 저장 가능"
   ],
   "id": "a38d2385f96c603c",
   "outputs": [
    {
     "name": "stdout",
     "output_type": "stream",
     "text": [
      "[[1 2 3]\n",
      " [4 5 6]]\n",
      "[1, 2, 3] [4, 5, 6]\n"
     ]
    },
    {
     "data": {
      "text/plain": [
       "((2, 3), 2, 6, dtype('int64'))"
      ]
     },
     "execution_count": 22,
     "metadata": {},
     "output_type": "execute_result"
    }
   ],
   "execution_count": 22
  },
  {
   "metadata": {
    "ExecuteTime": {
     "end_time": "2024-11-27T06:48:29.745212Z",
     "start_time": "2024-11-27T06:48:29.742280Z"
    }
   },
   "cell_type": "code",
   "source": [
    "# ndarray 자료형\n",
    "arr_int = np.array([1, 2, 3])\n",
    "print(arr_int.dtype) #int64(8byte), int32(4byte)\n",
    "\n",
    "arr_float = np.array([1.234, 3.456, 9.876, 10])  #ndarray는 하나의 타입만 저장가능\n",
    "print(arr_float.dtype)\n",
    "\n",
    "arr_bool = np.array([True, False, True, False])\n",
    "print(arr_bool.dtype)\n",
    "\n",
    "arr_str = np.array(['Hello', 'World', 'numpy', 'Good!'])\n",
    "print(arr_str.dtype) # 유니코드, 가장 긴 개수 반환"
   ],
   "id": "c622523fb46cd8cb",
   "outputs": [
    {
     "name": "stdout",
     "output_type": "stream",
     "text": [
      "int64\n",
      "float64\n",
      "bool\n",
      "<U20\n"
     ]
    }
   ],
   "execution_count": 29
  },
  {
   "metadata": {
    "ExecuteTime": {
     "end_time": "2024-11-27T07:07:59.736636Z",
     "start_time": "2024-11-27T07:07:59.732341Z"
    }
   },
   "cell_type": "code",
   "source": [
    "# 형변환\n",
    "arr = np.array([1.23, 3.5, 7, 9]) # int, float이 섞여있다면, 모두 저장 가능한 float으로 변환저장\n",
    "\n",
    "arr = np.array([1.23, 3.5, 7, 9], dtype=float)\n",
    "arr = np.array([1.23, 3.5, 7, 9], dtype=int) # 실수는 소수점이하 버림\n",
    "\n",
    "arr = np.array([1.23, 3.5, 7, 9])\n",
    "arr = arr.astype(int)\n",
    "print(arr)\n",
    "\n",
    "arr, arr.dtype"
   ],
   "id": "469bcd7052bd0b8d",
   "outputs": [
    {
     "name": "stdout",
     "output_type": "stream",
     "text": [
      "[1 3 7 9]\n"
     ]
    },
    {
     "data": {
      "text/plain": [
       "(array([1, 3, 7, 9]), dtype('int64'))"
      ]
     },
     "execution_count": 35,
     "metadata": {},
     "output_type": "execute_result"
    }
   ],
   "execution_count": 35
  },
  {
   "metadata": {
    "ExecuteTime": {
     "end_time": "2024-12-03T23:38:10.679244Z",
     "start_time": "2024-12-03T23:38:10.666094Z"
    }
   },
   "cell_type": "code",
   "source": [
    "# python의 list | ndarray 차이\n",
    "# - ndarray는 동일한 자료형만 저장 가능\n",
    "# - 다차원인 경우, 중첩배열은 동일한 크기만 허용\n",
    "# - 형태/길이를 확인하는 방법 len() | ndarray.shape, ndarray.ndim, ndarray.size\n",
    "\n",
    "lst = [1, 2, 3, 'hello']\n",
    "lst = [[1, 2, 3], [4, 5, 6]]\n",
    "lst, len(lst), len(lst[0]), len(lst[1])"
   ],
   "id": "8b9a04edcbadd3b1",
   "outputs": [
    {
     "data": {
      "text/plain": [
       "([[1, 2, 3], [4, 5, 6]], 2, 3, 3)"
      ]
     },
     "execution_count": 1,
     "metadata": {},
     "output_type": "execute_result"
    }
   ],
   "execution_count": 1
  },
  {
   "metadata": {
    "ExecuteTime": {
     "end_time": "2024-11-27T07:30:17.212061Z",
     "start_time": "2024-11-27T07:30:17.208680Z"
    }
   },
   "cell_type": "code",
   "source": [
    "arr = np.array([1, 2, 3, 'hello']) # string 형태로 들어가 버림\n",
    "# arr = np.array([[1, 2, 3], [4, 5]]) # ValueError\n",
    "arr, arr.shape, arr.ndim, arr.size"
   ],
   "id": "ec3c2549fc8d3396",
   "outputs": [
    {
     "data": {
      "text/plain": [
       "(array(['1', '2', '3', 'hello'], dtype='<U21'), (4,), 1, 4)"
      ]
     },
     "execution_count": 51,
     "metadata": {},
     "output_type": "execute_result"
    }
   ],
   "execution_count": 51
  },
  {
   "metadata": {
    "ExecuteTime": {
     "end_time": "2024-11-27T07:44:34.081181Z",
     "start_time": "2024-11-27T07:44:34.077509Z"
    }
   },
   "cell_type": "code",
   "source": [
    "# 0, 1, 특정수로 초기화된 ndarray 생성하기\n",
    "arr = np.zeros((2, 3))\n",
    "print(arr)\n",
    "\n",
    "# arr = np.zeros((2, 3, 4))\n",
    "# print(arr)\n",
    "\n",
    "arr = np.ones((3, 2))\n",
    "print(arr)\n",
    "\n",
    "arr = np.full((4, 1), 8)\n",
    "print(arr)\n",
    "arr = np.full((1, 4), 8)\n",
    "print(arr)\n",
    "arr = np.full((4,), 8)\n",
    "print(arr)"
   ],
   "id": "d54b87eb2cec463c",
   "outputs": [
    {
     "name": "stdout",
     "output_type": "stream",
     "text": [
      "[[0. 0. 0.]\n",
      " [0. 0. 0.]]\n",
      "[[1. 1.]\n",
      " [1. 1.]\n",
      " [1. 1.]]\n",
      "[[8]\n",
      " [8]\n",
      " [8]\n",
      " [8]]\n",
      "[[8 8 8 8]]\n",
      "[8 8 8 8]\n"
     ]
    }
   ],
   "execution_count": 67
  },
  {
   "metadata": {
    "ExecuteTime": {
     "end_time": "2024-11-27T08:06:05.978607Z",
     "start_time": "2024-11-27T08:06:05.975276Z"
    }
   },
   "cell_type": "code",
   "source": [
    "# shape을 따라 만들기\n",
    "# - np.zeros_like(ndarray)\n",
    "# - np.ones_like(ndarray)\n",
    "# - np.full_like(ndarray, n)\n",
    "\n",
    "arr = np.array([[2, 3], [4, 5]])\n",
    "print(arr, arr.shape)\n",
    "\n",
    "arr_0 = np.zeros_like(arr)\n",
    "print(arr_0)\n",
    "\n",
    "arr_1 = np.ones_like(arr)\n",
    "print(arr_1)\n",
    "\n",
    "arr_7 = np.full_like(arr, 7)\n",
    "print(arr_7)"
   ],
   "id": "1f6d5711bca1642d",
   "outputs": [
    {
     "name": "stdout",
     "output_type": "stream",
     "text": [
      "[[2 3]\n",
      " [4 5]] (2, 2)\n",
      "[[0 0]\n",
      " [0 0]]\n",
      "[[1 1]\n",
      " [1 1]]\n",
      "[[7 7]\n",
      " [7 7]]\n"
     ]
    }
   ],
   "execution_count": 74
  },
  {
   "metadata": {
    "ExecuteTime": {
     "end_time": "2024-11-27T08:13:19.622515Z",
     "start_time": "2024-11-27T08:13:19.619052Z"
    }
   },
   "cell_type": "code",
   "source": [
    "# 수열 생성 np.arange(start, stop, step)\n",
    "arr = np.arange(1, 11) # start포함, stop미포함\n",
    "print(arr)\n",
    "\n",
    "arr = np.arange(1, 11, 2)\n",
    "print(arr)\n",
    "\n",
    "arr = np.arange(10) # 0이상 end값 미만\n",
    "print(arr)\n",
    "\n",
    "arr = np.arange(1, 10, .1)\n",
    "print(arr)"
   ],
   "id": "e6667d0cca1cc919",
   "outputs": [
    {
     "name": "stdout",
     "output_type": "stream",
     "text": [
      "[ 1  2  3  4  5  6  7  8  9 10]\n",
      "[1 3 5 7 9]\n",
      "[0 1 2 3 4 5 6 7 8 9]\n",
      "[1.  1.1 1.2 1.3 1.4 1.5 1.6 1.7 1.8 1.9 2.  2.1 2.2 2.3 2.4 2.5 2.6 2.7\n",
      " 2.8 2.9 3.  3.1 3.2 3.3 3.4 3.5 3.6 3.7 3.8 3.9 4.  4.1 4.2 4.3 4.4 4.5\n",
      " 4.6 4.7 4.8 4.9 5.  5.1 5.2 5.3 5.4 5.5 5.6 5.7 5.8 5.9 6.  6.1 6.2 6.3\n",
      " 6.4 6.5 6.6 6.7 6.8 6.9 7.  7.1 7.2 7.3 7.4 7.5 7.6 7.7 7.8 7.9 8.  8.1\n",
      " 8.2 8.3 8.4 8.5 8.6 8.7 8.8 8.9 9.  9.1 9.2 9.3 9.4 9.5 9.6 9.7 9.8 9.9]\n"
     ]
    }
   ],
   "execution_count": 78
  },
  {
   "metadata": {
    "ExecuteTime": {
     "end_time": "2024-11-27T08:21:55.940617Z",
     "start_time": "2024-11-27T08:21:55.936890Z"
    }
   },
   "cell_type": "code",
   "source": [
    "# 수열 생성 np.linspace(start, stop, num)\n",
    "# - stop 포함\n",
    "# - num은 요소 개수\n",
    "arr = np.linspace(0, 10, 5) # 0에서 10사이의 균일한 간격으로 숫자 5개\n",
    "print(arr)\n",
    "\n",
    "arr = np.linspace(0, 100, 11)\n",
    "print(arr)"
   ],
   "id": "12615a08cc1add37",
   "outputs": [
    {
     "name": "stdout",
     "output_type": "stream",
     "text": [
      "[ 0.   2.5  5.   7.5 10. ]\n",
      "[  0.  10.  20.  30.  40.  50.  60.  70.  80.  90. 100.]\n"
     ]
    }
   ],
   "execution_count": 82
  },
  {
   "metadata": {
    "ExecuteTime": {
     "end_time": "2024-11-27T08:27:51.876365Z",
     "start_time": "2024-11-27T08:27:51.872569Z"
    }
   },
   "cell_type": "code",
   "source": [
    "# 수열 생성 np.logspace(start_exp, end_exp, num, base)\n",
    "# - start_exp : 시작 지수\n",
    "# - end_exp : 끝 지수\n",
    "# - num : 생성할 숫자 갯수\n",
    "# - base : 밑(기본값 : 10)\n",
    "\n",
    "print(np.linspace(1, 3, 4))\n",
    "arr = np.logspace(1, 3, 3)\n",
    "arr = np.logspace(1, 3, 4)\n",
    "print(arr)\n",
    "# start, end가 지수값이고, 지수사이에 동일한 간격의 숫자 num(ex.4개)를 뽑아서 그 결과 거듭제곱 값을 나열한게 로그스페이스다."
   ],
   "id": "4f233d8944e23938",
   "outputs": [
    {
     "name": "stdout",
     "output_type": "stream",
     "text": [
      "[1.         1.66666667 2.33333333 3.        ]\n",
      "[  10.           46.41588834  215.443469   1000.        ]\n"
     ]
    }
   ],
   "execution_count": 85
  },
  {
   "metadata": {},
   "cell_type": "markdown",
   "source": "## ndarray indexing/slicing",
   "id": "d24035f6389cb90b"
  },
  {
   "metadata": {
    "ExecuteTime": {
     "end_time": "2024-11-28T00:49:11.061984Z",
     "start_time": "2024-11-28T00:49:11.058490Z"
    }
   },
   "cell_type": "code",
   "source": [
    "# 1차원 배열의 인덱싱\n",
    "arr = np.arange(1, 11)\n",
    "print(arr)\n",
    "\n",
    "print(arr[2])\n",
    "print(arr[4])\n",
    "print(arr[9])\n",
    "# print(arr[10])\n",
    "print(arr[-1])\n",
    "print(arr[-2])"
   ],
   "id": "c34be29664fabf4f",
   "outputs": [
    {
     "name": "stdout",
     "output_type": "stream",
     "text": [
      "[ 1  2  3  4  5  6  7  8  9 10]\n",
      "3\n",
      "5\n",
      "10\n",
      "10\n",
      "9\n"
     ]
    }
   ],
   "execution_count": 7
  },
  {
   "metadata": {
    "ExecuteTime": {
     "end_time": "2024-11-28T00:49:32.949722Z",
     "start_time": "2024-11-28T00:49:32.944739Z"
    }
   },
   "cell_type": "code",
   "source": [
    "# 2차원 배열 인덱싱\n",
    "arr_2d = np.array([[10, 20, 30],\n",
    "                   [40, 50, 60]])\n",
    "print(arr_2d.shape)\n",
    "\n",
    "print(arr_2d)\n",
    "print('-----------')\n",
    "print(arr_2d[0])\n",
    "print('-----------')\n",
    "print(arr_2d[1])\n",
    "print('-----------')\n",
    "print(arr_2d[0][0], arr_2d[0, 0], arr_2d[(0, 0)])\n",
    "print(arr_2d[1][1], arr_2d[1, 1], arr_2d[(1, 1)])"
   ],
   "id": "cf83c0085aa3bc62",
   "outputs": [
    {
     "name": "stdout",
     "output_type": "stream",
     "text": [
      "(2, 3)\n",
      "[[10 20 30]\n",
      " [40 50 60]]\n",
      "-----------\n",
      "[10 20 30]\n",
      "-----------\n",
      "[40 50 60]\n",
      "-----------\n",
      "10 10 10\n",
      "50 50 50\n"
     ]
    }
   ],
   "execution_count": 9
  },
  {
   "metadata": {
    "ExecuteTime": {
     "end_time": "2024-11-28T01:09:12.503195Z",
     "start_time": "2024-11-28T01:09:12.500019Z"
    }
   },
   "cell_type": "code",
   "source": [
    "arr = np.array([[11, 22, 33], [44, 55, 66], [77, 88, 99]])\n",
    "print(arr)\n",
    "print(arr[1, 0]) # 44\n",
    "print(arr[2, 1]) # 88\n",
    "print(arr[-1, -2]) # 88"
   ],
   "id": "64d6fcba8546d0d8",
   "outputs": [
    {
     "name": "stdout",
     "output_type": "stream",
     "text": [
      "[[11 22 33]\n",
      " [44 55 66]\n",
      " [77 88 99]]\n",
      "44\n",
      "88\n",
      "88\n"
     ]
    }
   ],
   "execution_count": 10
  },
  {
   "metadata": {
    "ExecuteTime": {
     "end_time": "2024-11-28T01:22:34.891172Z",
     "start_time": "2024-11-28T01:22:34.887449Z"
    }
   },
   "cell_type": "code",
   "source": [
    "# 1차원 배열의 슬라이싱\n",
    "# [start:end:step]\n",
    "arr = np.arange(10)\n",
    "print(arr)\n",
    "\n",
    "print(arr[3:8])\n",
    "print(arr[3:])\n",
    "print(arr[:8])\n",
    "print(arr[:-1])\n",
    "print(arr[::2])\n",
    "print(arr[::-1]) # step에 음수주면 끝에서부터 역순으로 불러오는 것처럼 가져옴"
   ],
   "id": "299b42a3ce1d27cc",
   "outputs": [
    {
     "name": "stdout",
     "output_type": "stream",
     "text": [
      "[0 1 2 3 4 5 6 7 8 9]\n",
      "[3 4 5 6 7]\n",
      "[3 4 5 6 7 8 9]\n",
      "[0 1 2 3 4 5 6 7]\n",
      "[0 1 2 3 4 5 6 7 8]\n",
      "[0 2 4 6 8]\n",
      "[9 8 7 6 5 4 3 2 1 0]\n"
     ]
    }
   ],
   "execution_count": 25
  },
  {
   "metadata": {
    "ExecuteTime": {
     "end_time": "2024-11-28T01:56:25.654389Z",
     "start_time": "2024-11-28T01:56:25.650503Z"
    }
   },
   "cell_type": "code",
   "source": [
    "# 2차원 배열의 slicing\n",
    "arr = np.array([\n",
    "     #0  #1  #2\n",
    "    [10, 20, 30], #0\n",
    "    [40, 50, 60], #1\n",
    "    [70, 80, 90]  #2\n",
    "])\n",
    "print(arr)\n",
    "print('=============')\n",
    "print(arr[0:2, 1:2])\n",
    "print('=============')\n",
    "print(arr[0:2])\n",
    "print('=============')\n",
    "print(arr[0:2, :])\n",
    "print('=============')\n",
    "print(arr[:, 1:])\n",
    "print('=============')\n",
    "print(arr[:-1, :1], arr[:-1, :1].shape)\n",
    "print('=============')\n",
    "print(arr[:-1, 0], arr[:-1, 0].shape)"
   ],
   "id": "b25faf5e782789d6",
   "outputs": [
    {
     "name": "stdout",
     "output_type": "stream",
     "text": [
      "[[10 20 30]\n",
      " [40 50 60]\n",
      " [70 80 90]]\n",
      "=============\n",
      "[[20]\n",
      " [50]]\n",
      "=============\n",
      "[[10 20 30]\n",
      " [40 50 60]]\n",
      "=============\n",
      "[[10 20 30]\n",
      " [40 50 60]]\n",
      "=============\n",
      "[[20 30]\n",
      " [50 60]\n",
      " [80 90]]\n",
      "=============\n",
      "[[10]\n",
      " [40]] (2, 1)\n",
      "=============\n",
      "[10 40] (2,)\n"
     ]
    }
   ],
   "execution_count": 39
  },
  {
   "metadata": {
    "ExecuteTime": {
     "end_time": "2024-11-28T02:15:05.887603Z",
     "start_time": "2024-11-28T02:15:05.885143Z"
    }
   },
   "cell_type": "code",
   "source": [
    "# fancy indexing 1차원 배열\n",
    "# 배열을 사용해서 기존배열을 필터링 처리\n",
    "arr = np.arange(5, 31, 5)\n",
    "print(arr)\n",
    "print(arr[[1, 3, 4]])\n",
    "indices = [1, 3, 4]\n",
    "print(arr[indices])"
   ],
   "id": "7acb962b81ea2cd9",
   "outputs": [
    {
     "name": "stdout",
     "output_type": "stream",
     "text": [
      "[ 5 10 15 20 25 30]\n",
      "[10 20 25]\n",
      "[10 20 25]\n"
     ]
    }
   ],
   "execution_count": 42
  },
  {
   "metadata": {
    "ExecuteTime": {
     "end_time": "2024-11-28T02:21:45.072162Z",
     "start_time": "2024-11-28T02:21:45.061334Z"
    }
   },
   "cell_type": "code",
   "source": [
    "# 2차원 배열 fancy indexing\n",
    "arr = np.array([\n",
    "    [5, 10, 15, 20],\n",
    "    [25, 30, 35, 40],\n",
    "    [45, 50, 55, 60]\n",
    "])\n",
    "print(arr)\n",
    "print('==============')\n",
    "print(arr[[0, 1], [1, 2]])\n",
    "print('==============')\n",
    "row_indices = [0, 1]\n",
    "col_indices = [1, 2]\n",
    "print(arr[row_indices, col_indices])\n",
    "print('==============')\n",
    "print(arr[[1, 2, 3], [1, 2]])"
   ],
   "id": "d69eb8aee8c3f919",
   "outputs": [
    {
     "name": "stdout",
     "output_type": "stream",
     "text": [
      "[[ 5 10 15 20]\n",
      " [25 30 35 40]\n",
      " [45 50 55 60]]\n",
      "==============\n",
      "[10 35]\n",
      "==============\n",
      "[10 35]\n",
      "==============\n"
     ]
    },
    {
     "ename": "IndexError",
     "evalue": "shape mismatch: indexing arrays could not be broadcast together with shapes (3,) (2,) ",
     "output_type": "error",
     "traceback": [
      "\u001B[1;31m---------------------------------------------------------------------------\u001B[0m",
      "\u001B[1;31mIndexError\u001B[0m                                Traceback (most recent call last)",
      "Cell \u001B[1;32mIn[48], line 15\u001B[0m\n\u001B[0;32m     13\u001B[0m \u001B[38;5;28mprint\u001B[39m(arr[row_indices, col_indices])\n\u001B[0;32m     14\u001B[0m \u001B[38;5;28mprint\u001B[39m(\u001B[38;5;124m'\u001B[39m\u001B[38;5;124m==============\u001B[39m\u001B[38;5;124m'\u001B[39m)\n\u001B[1;32m---> 15\u001B[0m \u001B[38;5;28mprint\u001B[39m(\u001B[43marr\u001B[49m\u001B[43m[\u001B[49m\u001B[43m[\u001B[49m\u001B[38;5;241;43m1\u001B[39;49m\u001B[43m,\u001B[49m\u001B[43m \u001B[49m\u001B[38;5;241;43m2\u001B[39;49m\u001B[43m,\u001B[49m\u001B[43m \u001B[49m\u001B[38;5;241;43m3\u001B[39;49m\u001B[43m]\u001B[49m\u001B[43m,\u001B[49m\u001B[43m \u001B[49m\u001B[43m[\u001B[49m\u001B[38;5;241;43m1\u001B[39;49m\u001B[43m,\u001B[49m\u001B[43m \u001B[49m\u001B[38;5;241;43m2\u001B[39;49m\u001B[43m]\u001B[49m\u001B[43m]\u001B[49m)\n",
      "\u001B[1;31mIndexError\u001B[0m: shape mismatch: indexing arrays could not be broadcast together with shapes (3,) (2,) "
     ]
    }
   ],
   "execution_count": 48
  },
  {
   "metadata": {
    "ExecuteTime": {
     "end_time": "2024-11-28T02:25:59.084078Z",
     "start_time": "2024-11-28T02:25:59.081080Z"
    }
   },
   "cell_type": "code",
   "source": [
    "# slicing, fancy indexing 함께 사용 가능\n",
    "arr = np.array([\n",
    "    [5, 10, 15, 20],\n",
    "    [25, 30, 35, 40],\n",
    "    [45, 50, 55, 60]\n",
    "])\n",
    "print(arr)\n",
    "print('==============')\n",
    "print(arr[[0, 2], 2:])\n",
    "print('==============')\n",
    "print(arr[::2, [2,3]])\n",
    "# print(arr[[0, 2], [2:]])"
   ],
   "id": "c430a5faa133f09f",
   "outputs": [
    {
     "name": "stdout",
     "output_type": "stream",
     "text": [
      "[[ 5 10 15 20]\n",
      " [25 30 35 40]\n",
      " [45 50 55 60]]\n",
      "==============\n",
      "[[15 20]\n",
      " [55 60]]\n",
      "==============\n",
      "[[15 20]\n",
      " [55 60]]\n"
     ]
    }
   ],
   "execution_count": 52
  },
  {
   "metadata": {
    "ExecuteTime": {
     "end_time": "2024-11-28T02:34:08.498148Z",
     "start_time": "2024-11-28T02:34:08.494654Z"
    }
   },
   "cell_type": "code",
   "source": [
    "# boolean indexing\n",
    "arr = np.arange(1, 6)\n",
    "print(arr)\n",
    "\n",
    "print(arr[[True, False, True, False, False]])\n",
    "\n",
    "bools = [True, False, True, False, False]\n",
    "print(arr[bools])"
   ],
   "id": "abd97f1b3731e568",
   "outputs": [
    {
     "name": "stdout",
     "output_type": "stream",
     "text": [
      "[1 2 3 4 5]\n",
      "[1 3]\n",
      "[1 3]\n"
     ]
    }
   ],
   "execution_count": 55
  },
  {
   "metadata": {
    "ExecuteTime": {
     "end_time": "2024-11-28T02:44:21.853154Z",
     "start_time": "2024-11-28T02:44:21.849549Z"
    }
   },
   "cell_type": "code",
   "source": [
    "# boolean indexing 2차원 배열\n",
    "arr = np.array([\n",
    "    [3, 6, 9],\n",
    "    [12, 15, 18],\n",
    "    [21, 24, 27]\n",
    "])\n",
    "print(arr)\n",
    "print('=========')\n",
    "print(arr[[True, False, False]])\n",
    "print('=========')\n",
    "print(arr[[True, False, False], [False, True, True]])\n",
    "print('=========')\n",
    "print(arr[[0, 2], [1, 2]])"
   ],
   "id": "6817a8be35c1f1a9",
   "outputs": [
    {
     "name": "stdout",
     "output_type": "stream",
     "text": [
      "[[ 3  6  9]\n",
      " [12 15 18]\n",
      " [21 24 27]]\n",
      "=========\n",
      "[[3 6 9]]\n",
      "=========\n",
      "[6 9]\n",
      "=========\n",
      "[ 6 27]\n"
     ]
    }
   ],
   "execution_count": 67
  },
  {
   "metadata": {
    "ExecuteTime": {
     "end_time": "2024-11-28T02:49:49.287485Z",
     "start_time": "2024-11-28T02:49:49.282973Z"
    }
   },
   "cell_type": "code",
   "source": [
    "print(arr)\n",
    "print(arr[arr > 10])\n",
    "arr % 2 == 0"
   ],
   "id": "550a8f47236815e4",
   "outputs": [
    {
     "name": "stdout",
     "output_type": "stream",
     "text": [
      "[[ 3  6  9]\n",
      " [12 15 18]\n",
      " [21 24 27]]\n",
      "[12 15 18 21 24 27]\n"
     ]
    },
    {
     "data": {
      "text/plain": [
       "array([[False,  True, False],\n",
       "       [ True, False,  True],\n",
       "       [False,  True, False]])"
      ]
     },
     "execution_count": 73,
     "metadata": {},
     "output_type": "execute_result"
    }
   ],
   "execution_count": 73
  },
  {
   "metadata": {
    "ExecuteTime": {
     "end_time": "2024-11-28T03:11:38.811329Z",
     "start_time": "2024-11-28T03:11:38.806883Z"
    }
   },
   "cell_type": "code",
   "source": [
    "# np.all(), np.any()\n",
    "# - np.all() : ndarray의 모든 요소가 조건을 만족할 때 True 반환\n",
    "# - np.any() : ndarray의 하나의 요소라도 조건을 만족할 때 True 반환\n",
    "arr = np.array([10, 20, 30, 40, -50])\n",
    "is_all_positive = np.all(arr > 0)\n",
    "if is_all_positive:\n",
    "    print('모든 수는 양수입니다.')\n",
    "else:\n",
    "    print('모든 수는 양수가 아닙니다.')"
   ],
   "id": "4c1b41d7bd12cbc6",
   "outputs": [
    {
     "name": "stdout",
     "output_type": "stream",
     "text": [
      "모든 수는 양수가 아닙니다.\n"
     ]
    }
   ],
   "execution_count": 78
  },
  {
   "metadata": {
    "ExecuteTime": {
     "end_time": "2024-11-28T03:15:15.917060Z",
     "start_time": "2024-11-28T03:15:15.914135Z"
    }
   },
   "cell_type": "code",
   "source": [
    "ages = np.array([25, 23, 33, 17, 40])\n",
    "has_minor = np.any(ages < 20) # True\n",
    "if has_minor:\n",
    "    print('출입불가')\n",
    "else:\n",
    "    print('환영합니다!')"
   ],
   "id": "daaba28863f5ef27",
   "outputs": [
    {
     "name": "stdout",
     "output_type": "stream",
     "text": [
      "출입불가\n"
     ]
    }
   ],
   "execution_count": 79
  },
  {
   "metadata": {
    "ExecuteTime": {
     "end_time": "2024-11-28T03:24:58.012616Z",
     "start_time": "2024-11-28T03:24:58.009557Z"
    }
   },
   "cell_type": "code",
   "source": [
    "# 여기서 문제!!!\n",
    "# Q1) 다음 중 합격 점수만 출력하세요 (60점 미만은 불합격)\n",
    "scores = np.array([88, 77, 60, 35, 59, 100, 89, 96])\n",
    "passed = scores >= 60\n",
    "scores[passed]\n"
   ],
   "id": "d767d0fb8b4b2f4c",
   "outputs": [
    {
     "data": {
      "text/plain": [
       "array([ 88,  77,  60, 100,  89,  96])"
      ]
     },
     "execution_count": 81,
     "metadata": {},
     "output_type": "execute_result"
    }
   ],
   "execution_count": 81
  },
  {
   "metadata": {
    "ExecuteTime": {
     "end_time": "2024-11-28T04:07:04.756456Z",
     "start_time": "2024-11-28T04:07:04.752083Z"
    }
   },
   "cell_type": "code",
   "source": [
    "# Q2) 월별 판매량이 200개 이상인 제품의 판매량을 선택하라.\n",
    "sales = np.array([\n",
    "    [120, 150, 100],\n",
    "    [80, 90, 110],\n",
    "    [200, 180, 220],\n",
    "    [50, 45, 70],\n",
    "    [300, 320, 310]\n",
    "])\n",
    "sales.shape\n",
    "# product = sales >= 200\n",
    "# sales[product]\n",
    "sales[sales >= 200]"
   ],
   "id": "55f2e3a8b396d823",
   "outputs": [
    {
     "data": {
      "text/plain": [
       "array([200, 220, 300, 320, 310])"
      ]
     },
     "execution_count": 119,
     "metadata": {},
     "output_type": "execute_result"
    }
   ],
   "execution_count": 119
  },
  {
   "metadata": {
    "ExecuteTime": {
     "end_time": "2024-11-28T05:06:33.431487Z",
     "start_time": "2024-11-28T05:06:33.427245Z"
    }
   },
   "cell_type": "code",
   "source": [
    "# Q2-1) 세번째 열의 판매량이 100개 이하인 제품(행)의 첫번째 행과 두번째 행의 판매량을 추출하라\n",
    "print(sales[:, 2] <= 100)\n",
    "\n",
    "sales1 = sales[sales[:, 2] <= 100]\n",
    "result = sales1[:, :2][sales1[:, :2] <= 100]\n",
    "result\n",
    "\n",
    "\n"
   ],
   "id": "9beb2a97aa99513",
   "outputs": [
    {
     "name": "stdout",
     "output_type": "stream",
     "text": [
      "[ True False False  True False]\n"
     ]
    },
    {
     "data": {
      "text/plain": [
       "array([50, 45])"
      ]
     },
     "execution_count": 134,
     "metadata": {},
     "output_type": "execute_result"
    }
   ],
   "execution_count": 134
  },
  {
   "metadata": {
    "ExecuteTime": {
     "end_time": "2024-11-28T05:08:44.931876Z",
     "start_time": "2024-11-28T05:08:44.927965Z"
    }
   },
   "cell_type": "code",
   "source": [
    "# Q2-2) 두번째 열(1번 인덱스)의 150 이상인 행을 출력\n",
    "print(sales[:, 1] >= 150)\n",
    "sales[sales[:, 1] >= 150]"
   ],
   "id": "e7e32b86115b59e",
   "outputs": [
    {
     "name": "stdout",
     "output_type": "stream",
     "text": [
      "[ True False  True False  True]\n"
     ]
    },
    {
     "data": {
      "text/plain": [
       "array([[120, 150, 100],\n",
       "       [200, 180, 220],\n",
       "       [300, 320, 310]])"
      ]
     },
     "execution_count": 135,
     "metadata": {},
     "output_type": "execute_result"
    }
   ],
   "execution_count": 135
  }
 ],
 "metadata": {
  "kernelspec": {
   "display_name": "Python 3 (ipykernel)",
   "language": "python",
   "name": "python3"
  },
  "language_info": {
   "codemirror_mode": {
    "name": "ipython",
    "version": 3
   },
   "file_extension": ".py",
   "mimetype": "text/x-python",
   "name": "python",
   "nbconvert_exporter": "python",
   "pygments_lexer": "ipython3",
   "version": "3.12.7"
  }
 },
 "nbformat": 4,
 "nbformat_minor": 5
}
