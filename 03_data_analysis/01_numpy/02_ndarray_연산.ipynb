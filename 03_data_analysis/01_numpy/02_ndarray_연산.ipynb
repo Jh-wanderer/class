{
 "cells": [
  {
   "metadata": {},
   "cell_type": "markdown",
   "source": "## ndarray 연산",
   "id": "479ae4ac9a725136"
  },
  {
   "cell_type": "code",
   "id": "initial_id",
   "metadata": {
    "collapsed": true,
    "ExecuteTime": {
     "end_time": "2024-11-28T05:12:18.951817Z",
     "start_time": "2024-11-28T05:12:18.911808Z"
    }
   },
   "source": "import numpy as np",
   "outputs": [],
   "execution_count": 1
  },
  {
   "metadata": {
    "ExecuteTime": {
     "end_time": "2024-11-28T05:36:33.578379Z",
     "start_time": "2024-11-28T05:36:33.575520Z"
    }
   },
   "cell_type": "code",
   "source": [
    "a = np.arange(1, 10).reshape(3, 3) # 3행 3열\n",
    "print(a)\n",
    "# np.arange(1, 10).shape\n",
    "b = np.full_like(a, 2)\n",
    "print(b)\n",
    "\n"
   ],
   "id": "3d2adb41ac035985",
   "outputs": [
    {
     "name": "stdout",
     "output_type": "stream",
     "text": [
      "[[1 2 3]\n",
      " [4 5 6]\n",
      " [7 8 9]]\n",
      "[[2 2 2]\n",
      " [2 2 2]\n",
      " [2 2 2]]\n"
     ]
    }
   ],
   "execution_count": 34
  },
  {
   "metadata": {
    "ExecuteTime": {
     "end_time": "2024-11-28T05:20:02.979783Z",
     "start_time": "2024-11-28T05:20:02.975423Z"
    }
   },
   "cell_type": "code",
   "source": [
    "# 덧셈\n",
    "print(a)\n",
    "print(b)\n",
    "print(np.add(a, b))\n",
    "\n",
    "a + b"
   ],
   "id": "131878fea9191d68",
   "outputs": [
    {
     "name": "stdout",
     "output_type": "stream",
     "text": [
      "[[1 2 3]\n",
      " [4 5 6]\n",
      " [7 8 9]]\n",
      "[[2 2 2]\n",
      " [2 2 2]\n",
      " [2 2 2]]\n",
      "[[ 3  4  5]\n",
      " [ 6  7  8]\n",
      " [ 9 10 11]]\n"
     ]
    },
    {
     "data": {
      "text/plain": [
       "array([[ 3,  4,  5],\n",
       "       [ 6,  7,  8],\n",
       "       [ 9, 10, 11]])"
      ]
     },
     "execution_count": 15,
     "metadata": {},
     "output_type": "execute_result"
    }
   ],
   "execution_count": 15
  },
  {
   "metadata": {
    "ExecuteTime": {
     "end_time": "2024-11-28T05:21:46.598228Z",
     "start_time": "2024-11-28T05:21:46.594710Z"
    }
   },
   "cell_type": "code",
   "source": [
    "# 뺄셈\n",
    "print(a)\n",
    "print(b)\n",
    "print(np.subtract(a, b)) # np.subtrack(a, b) : 두 배열 a와 b의 요소별 뺄셈을 수행\n",
    "a - b"
   ],
   "id": "8dadd91f6708d745",
   "outputs": [
    {
     "name": "stdout",
     "output_type": "stream",
     "text": [
      "[[1 2 3]\n",
      " [4 5 6]\n",
      " [7 8 9]]\n",
      "[[2 2 2]\n",
      " [2 2 2]\n",
      " [2 2 2]]\n",
      "[[-1  0  1]\n",
      " [ 2  3  4]\n",
      " [ 5  6  7]]\n"
     ]
    },
    {
     "data": {
      "text/plain": [
       "array([[-1,  0,  1],\n",
       "       [ 2,  3,  4],\n",
       "       [ 5,  6,  7]])"
      ]
     },
     "execution_count": 17,
     "metadata": {},
     "output_type": "execute_result"
    }
   ],
   "execution_count": 17
  },
  {
   "metadata": {
    "ExecuteTime": {
     "end_time": "2024-11-28T05:23:41.477888Z",
     "start_time": "2024-11-28T05:23:41.474715Z"
    }
   },
   "cell_type": "code",
   "source": [
    "# 곱셈\n",
    "print(np.multiply(a, b))\n",
    "a * b"
   ],
   "id": "b8b427270dd95b4f",
   "outputs": [
    {
     "name": "stdout",
     "output_type": "stream",
     "text": [
      "[[ 2  4  6]\n",
      " [ 8 10 12]\n",
      " [14 16 18]]\n"
     ]
    },
    {
     "data": {
      "text/plain": [
       "array([[ 2,  4,  6],\n",
       "       [ 8, 10, 12],\n",
       "       [14, 16, 18]])"
      ]
     },
     "execution_count": 19,
     "metadata": {},
     "output_type": "execute_result"
    }
   ],
   "execution_count": 19
  },
  {
   "metadata": {
    "ExecuteTime": {
     "end_time": "2024-11-28T05:24:39.070446Z",
     "start_time": "2024-11-28T05:24:39.066039Z"
    }
   },
   "cell_type": "code",
   "source": [
    "# 나누기\n",
    "print(np.divide(a, b))\n",
    "a / b"
   ],
   "id": "91e1af9d71bf767f",
   "outputs": [
    {
     "name": "stdout",
     "output_type": "stream",
     "text": [
      "[[0.5 1.  1.5]\n",
      " [2.  2.5 3. ]\n",
      " [3.5 4.  4.5]]\n"
     ]
    },
    {
     "data": {
      "text/plain": [
       "array([[0.5, 1. , 1.5],\n",
       "       [2. , 2.5, 3. ],\n",
       "       [3.5, 4. , 4.5]])"
      ]
     },
     "execution_count": 21,
     "metadata": {},
     "output_type": "execute_result"
    }
   ],
   "execution_count": 21
  },
  {
   "metadata": {
    "ExecuteTime": {
     "end_time": "2024-11-28T05:26:18.456854Z",
     "start_time": "2024-11-28T05:26:18.452382Z"
    }
   },
   "cell_type": "code",
   "source": [
    "# 몫\n",
    "print(np.floor_divide(a, b))\n",
    "a // b"
   ],
   "id": "44ec72487360920b",
   "outputs": [
    {
     "name": "stdout",
     "output_type": "stream",
     "text": [
      "[[0 1 1]\n",
      " [2 2 3]\n",
      " [3 4 4]]\n"
     ]
    },
    {
     "data": {
      "text/plain": [
       "array([[0, 1, 1],\n",
       "       [2, 2, 3],\n",
       "       [3, 4, 4]])"
      ]
     },
     "execution_count": 23,
     "metadata": {},
     "output_type": "execute_result"
    }
   ],
   "execution_count": 23
  },
  {
   "metadata": {
    "ExecuteTime": {
     "end_time": "2024-11-28T05:29:16.659725Z",
     "start_time": "2024-11-28T05:29:16.656710Z"
    }
   },
   "cell_type": "code",
   "source": [
    "# 나머지\n",
    "print(np.mod(a, b))\n",
    "a % b"
   ],
   "id": "86c31b1f927083eb",
   "outputs": [
    {
     "name": "stdout",
     "output_type": "stream",
     "text": [
      "[[1 0 1]\n",
      " [0 1 0]\n",
      " [1 0 1]]\n"
     ]
    },
    {
     "data": {
      "text/plain": [
       "array([[1, 0, 1],\n",
       "       [0, 1, 0],\n",
       "       [1, 0, 1]])"
      ]
     },
     "execution_count": 26,
     "metadata": {},
     "output_type": "execute_result"
    }
   ],
   "execution_count": 26
  },
  {
   "metadata": {
    "ExecuteTime": {
     "end_time": "2024-11-28T05:38:40.034739Z",
     "start_time": "2024-11-28T05:38:40.029765Z"
    }
   },
   "cell_type": "code",
   "source": [
    "# 거듭제곱\n",
    "print(np.power(a, b))  # a: 밑, b: 지수\n",
    "print('===========')\n",
    "print(np.square(a))\n",
    "\n",
    "a = [\n",
    "    [1, 4, 9],\n",
    "    [16, 25, 36],\n",
    "    [49, 64, 81]\n",
    "]\n",
    "print('===========')\n",
    "# 제곱근\n",
    "np.sqrt(a)"
   ],
   "id": "8daaa277811f071d",
   "outputs": [
    {
     "name": "stdout",
     "output_type": "stream",
     "text": [
      "[[ 1  4  9]\n",
      " [16 25 36]\n",
      " [49 64 81]]\n",
      "===========\n",
      "[[ 1  4  9]\n",
      " [16 25 36]\n",
      " [49 64 81]]\n",
      "===========\n"
     ]
    },
    {
     "data": {
      "text/plain": [
       "array([[1., 2., 3.],\n",
       "       [4., 5., 6.],\n",
       "       [7., 8., 9.]])"
      ]
     },
     "execution_count": 36,
     "metadata": {},
     "output_type": "execute_result"
    }
   ],
   "execution_count": 36
  },
  {
   "metadata": {},
   "cell_type": "markdown",
   "source": [
    "### broadcating 연산\n",
    "- 두 배열의 shape이 다르면 broadcasting 연산 수행한다.\n",
    "- shape이 작은 쪽이 큰쪽을 맞춰 확장한다.\n",
    "- 두 배열의 행 또는 열이 일치해야 확장가능하다.\n",
    "- 크기가 1인 경우 무조건 확장가능하다.\n",
    "- shape이 다른 경우 마지막 축부터 차원이 동일한지 비교한다."
   ],
   "id": "5b49fdac6531efd0"
  },
  {
   "metadata": {
    "ExecuteTime": {
     "end_time": "2024-11-28T05:57:01.051686Z",
     "start_time": "2024-11-28T05:57:01.049056Z"
    }
   },
   "cell_type": "code",
   "source": [
    "a = np.array([\n",
    "    [1, 4, 9],\n",
    "    [16, 25, 36],\n",
    "    [49, 64, 81]\n",
    "])"
   ],
   "id": "36ccc6019a667b75",
   "outputs": [],
   "execution_count": 47
  },
  {
   "metadata": {
    "ExecuteTime": {
     "end_time": "2024-11-28T06:02:25.946725Z",
     "start_time": "2024-11-28T06:02:25.942713Z"
    }
   },
   "cell_type": "code",
   "source": [
    "# a * 3 # 스칼라값\n",
    "\n",
    "# a * np.array([3])\n",
    "# a * np.array([3, 3, 3])\n",
    "a * np.array([[3, 3, 3], [3, 3, 3], [3, 3, 3]])"
   ],
   "id": "1b8c06cc24551324",
   "outputs": [
    {
     "data": {
      "text/plain": [
       "array([[  3,  12,  27],\n",
       "       [ 48,  75, 108],\n",
       "       [147, 192, 243]])"
      ]
     },
     "execution_count": 52,
     "metadata": {},
     "output_type": "execute_result"
    }
   ],
   "execution_count": 52
  },
  {
   "metadata": {
    "ExecuteTime": {
     "end_time": "2024-11-28T06:04:57.514890Z",
     "start_time": "2024-11-28T06:04:57.510402Z"
    }
   },
   "cell_type": "code",
   "source": [
    "arr1 = np.array([[1, 2, 3], [4, 5, 6]])\n",
    "arr2 = np.array([1, 2, 3])\n",
    "arr1.shape, arr2.shape"
   ],
   "id": "9ece8bc1de4df769",
   "outputs": [
    {
     "data": {
      "text/plain": [
       "((2, 3), (3,))"
      ]
     },
     "execution_count": 57,
     "metadata": {},
     "output_type": "execute_result"
    }
   ],
   "execution_count": 57
  },
  {
   "metadata": {
    "ExecuteTime": {
     "end_time": "2024-11-28T06:05:33.626253Z",
     "start_time": "2024-11-28T06:05:33.623011Z"
    }
   },
   "cell_type": "code",
   "source": "arr1 + arr2",
   "id": "cb63af1a9f1ca5d1",
   "outputs": [
    {
     "data": {
      "text/plain": [
       "array([[2, 4, 6],\n",
       "       [5, 7, 9]])"
      ]
     },
     "execution_count": 58,
     "metadata": {},
     "output_type": "execute_result"
    }
   ],
   "execution_count": 58
  },
  {
   "metadata": {
    "ExecuteTime": {
     "end_time": "2024-11-28T06:08:01.427670Z",
     "start_time": "2024-11-28T06:08:01.423849Z"
    }
   },
   "cell_type": "code",
   "source": [
    "arr1 = np.array([[1, 2, 3], [4, 5, 6]])\n",
    "arr2 = np.array([[1], [2]])\n",
    "arr1.shape, arr2.shape"
   ],
   "id": "174eaf4e39fd3ff",
   "outputs": [
    {
     "data": {
      "text/plain": [
       "((2, 3), (2, 1))"
      ]
     },
     "execution_count": 59,
     "metadata": {},
     "output_type": "execute_result"
    }
   ],
   "execution_count": 59
  },
  {
   "metadata": {
    "ExecuteTime": {
     "end_time": "2024-11-28T06:08:51.532015Z",
     "start_time": "2024-11-28T06:08:51.529013Z"
    }
   },
   "cell_type": "code",
   "source": "arr1 + arr2",
   "id": "d5d8718fd2ea0224",
   "outputs": [
    {
     "data": {
      "text/plain": [
       "array([[2, 3, 4],\n",
       "       [6, 7, 8]])"
      ]
     },
     "execution_count": 60,
     "metadata": {},
     "output_type": "execute_result"
    }
   ],
   "execution_count": 60
  },
  {
   "metadata": {
    "ExecuteTime": {
     "end_time": "2024-11-28T06:13:36.594924Z",
     "start_time": "2024-11-28T06:13:36.591580Z"
    }
   },
   "cell_type": "code",
   "source": [
    "arr1 = np.array([1, 2, 3])\n",
    "arr2 = np.array([[4], [5], [6]])\n",
    "arr1.shape, arr2.shape\n",
    "print(arr1)\n",
    "print('----------')\n",
    "print(arr2)"
   ],
   "id": "10a0f312a8a10558",
   "outputs": [
    {
     "name": "stdout",
     "output_type": "stream",
     "text": [
      "[1 2 3]\n",
      "----------\n",
      "[[4]\n",
      " [5]\n",
      " [6]]\n"
     ]
    }
   ],
   "execution_count": 62
  },
  {
   "metadata": {
    "ExecuteTime": {
     "end_time": "2024-11-28T06:14:10.810921Z",
     "start_time": "2024-11-28T06:14:10.807432Z"
    }
   },
   "cell_type": "code",
   "source": "arr1 + arr2",
   "id": "72d54afacbafff63",
   "outputs": [
    {
     "data": {
      "text/plain": [
       "array([[5, 6, 7],\n",
       "       [6, 7, 8],\n",
       "       [7, 8, 9]])"
      ]
     },
     "execution_count": 63,
     "metadata": {},
     "output_type": "execute_result"
    }
   ],
   "execution_count": 63
  },
  {
   "metadata": {
    "ExecuteTime": {
     "end_time": "2024-11-28T06:18:57.749984Z",
     "start_time": "2024-11-28T06:18:57.739245Z"
    }
   },
   "cell_type": "code",
   "source": [
    "arr1 = np.array([[1, 2, 3], [4, 5, 6]])\n",
    "arr2 = np.array([1, 2])\n",
    "arr1.shape, arr2.shape\n",
    "arr1 + arr2"
   ],
   "id": "b84ebfd0b9b8dc23",
   "outputs": [
    {
     "ename": "ValueError",
     "evalue": "operands could not be broadcast together with shapes (2,3) (2,) ",
     "output_type": "error",
     "traceback": [
      "\u001B[1;31m---------------------------------------------------------------------------\u001B[0m",
      "\u001B[1;31mValueError\u001B[0m                                Traceback (most recent call last)",
      "Cell \u001B[1;32mIn[65], line 4\u001B[0m\n\u001B[0;32m      2\u001B[0m arr2 \u001B[38;5;241m=\u001B[39m np\u001B[38;5;241m.\u001B[39marray([\u001B[38;5;241m1\u001B[39m, \u001B[38;5;241m2\u001B[39m])\n\u001B[0;32m      3\u001B[0m arr1\u001B[38;5;241m.\u001B[39mshape, arr2\u001B[38;5;241m.\u001B[39mshape\n\u001B[1;32m----> 4\u001B[0m \u001B[43marr1\u001B[49m\u001B[43m \u001B[49m\u001B[38;5;241;43m+\u001B[39;49m\u001B[43m \u001B[49m\u001B[43marr2\u001B[49m\n",
      "\u001B[1;31mValueError\u001B[0m: operands could not be broadcast together with shapes (2,3) (2,) "
     ]
    }
   ],
   "execution_count": 65
  },
  {
   "metadata": {
    "ExecuteTime": {
     "end_time": "2024-11-28T06:23:02.712983Z",
     "start_time": "2024-11-28T06:23:02.709603Z"
    }
   },
   "cell_type": "code",
   "source": [
    "arr1 = np.array([[0, 0, 0], [1, 1, 1], [2, 2, 2]])\n",
    "arr2 = np.array([5, 6, 7])\n",
    "arr1.shape, arr2.shape\n",
    "arr1 + arr2"
   ],
   "id": "2908bacacf9e1633",
   "outputs": [
    {
     "data": {
      "text/plain": [
       "array([[5, 6, 7],\n",
       "       [6, 7, 8],\n",
       "       [7, 8, 9]])"
      ]
     },
     "execution_count": 69,
     "metadata": {},
     "output_type": "execute_result"
    }
   ],
   "execution_count": 69
  },
  {
   "metadata": {
    "ExecuteTime": {
     "end_time": "2024-11-28T06:26:59.978586Z",
     "start_time": "2024-11-28T06:26:59.974925Z"
    }
   },
   "cell_type": "code",
   "source": [
    "arr3 = np.array([[1, 2], [3, 4]])\n",
    "arr4 = np.array([[5], [6]])\n",
    "arr3.shape, arr4.shape\n",
    "arr3 + arr4"
   ],
   "id": "8ffa417a8f1391ae",
   "outputs": [
    {
     "data": {
      "text/plain": [
       "array([[ 6,  7],\n",
       "       [ 9, 10]])"
      ]
     },
     "execution_count": 71,
     "metadata": {},
     "output_type": "execute_result"
    }
   ],
   "execution_count": 71
  },
  {
   "metadata": {
    "ExecuteTime": {
     "end_time": "2024-11-28T06:34:54.425598Z",
     "start_time": "2024-11-28T06:34:54.422416Z"
    }
   },
   "cell_type": "code",
   "source": [
    "arr5 = np.array([[1, 2], [3, 4]])\n",
    "arr6 = np.array([5, 6])\n",
    "arr5.shape, arr6.shape\n",
    "arr5 + arr6"
   ],
   "id": "cc81851b34f93f1c",
   "outputs": [
    {
     "data": {
      "text/plain": [
       "array([[ 6,  8],\n",
       "       [ 8, 10]])"
      ]
     },
     "execution_count": 77,
     "metadata": {},
     "output_type": "execute_result"
    }
   ],
   "execution_count": 77
  },
  {
   "metadata": {
    "ExecuteTime": {
     "end_time": "2024-11-28T06:34:27.196356Z",
     "start_time": "2024-11-28T06:34:27.193447Z"
    }
   },
   "cell_type": "code",
   "source": [
    "a = np.array([[1, 2, 3], [4, 5, 6], [7, 8, 9]])\n",
    "b = np.array([[10], [30], [50]])\n",
    "a.shape, b.shape\n",
    "a + b\n",
    "# a + b"
   ],
   "id": "3daebc115848f791",
   "outputs": [
    {
     "data": {
      "text/plain": [
       "array([[11, 12, 13],\n",
       "       [34, 35, 36],\n",
       "       [57, 58, 59]])"
      ]
     },
     "execution_count": 76,
     "metadata": {},
     "output_type": "execute_result"
    }
   ],
   "execution_count": 76
  },
  {
   "metadata": {},
   "cell_type": "markdown",
   "source": [
    "## 행렬곱셈 Matrix Multiplication\n",
    "점곱연산 Dot Product (내적)\n",
    "\n",
    "두 행렬 A B의 곱셈은 첫번째 행렬 A의 행과 두번째 행렬 B의 열간의 곱셈을 수행한다.\n",
    "\n",
    "조건\n",
    "- 첫번째 행렬 A의 열의 수와 두번째 행렬 B의 행의 수가 같아야 한다.\n",
    "- 연산결과는 (첫번째 행렬 A의 행수, 두번째 행렬 B의 열수) 이다."
   ],
   "id": "61fdcf7d47e50987"
  },
  {
   "metadata": {
    "ExecuteTime": {
     "end_time": "2024-11-28T06:44:07.548552Z",
     "start_time": "2024-11-28T06:44:07.545204Z"
    }
   },
   "cell_type": "code",
   "source": [
    "arr1 = np.array([[1, 2], [3, 4]])\n",
    "arr2 = np.array([[5, 6], [7, 8]])\n",
    "# print(arr1 * arr2)\n",
    "print('-------------')\n",
    "np.dot(arr1, arr2)"
   ],
   "id": "5df976c30811e1f0",
   "outputs": [
    {
     "name": "stdout",
     "output_type": "stream",
     "text": [
      "-------------\n"
     ]
    },
    {
     "data": {
      "text/plain": [
       "array([[19, 22],\n",
       "       [43, 50]])"
      ]
     },
     "execution_count": 80,
     "metadata": {},
     "output_type": "execute_result"
    }
   ],
   "execution_count": 80
  },
  {
   "metadata": {
    "ExecuteTime": {
     "end_time": "2024-11-28T07:09:39.948735Z",
     "start_time": "2024-11-28T07:09:39.945350Z"
    }
   },
   "cell_type": "code",
   "source": [
    "arr3 = np.array([[1, 2, 3], [4, 5, 6]])\n",
    "arr4 = np.array([[7, 8], [9, 10], [11, 12]])\n",
    "\n",
    "arr3.shape, arr4.shape"
   ],
   "id": "8388cbdc03e7c2f6",
   "outputs": [
    {
     "data": {
      "text/plain": [
       "((2, 3), (3, 2))"
      ]
     },
     "execution_count": 81,
     "metadata": {},
     "output_type": "execute_result"
    }
   ],
   "execution_count": 81
  },
  {
   "metadata": {
    "ExecuteTime": {
     "end_time": "2024-11-28T07:11:24.671393Z",
     "start_time": "2024-11-28T07:11:24.666455Z"
    }
   },
   "cell_type": "code",
   "source": "np.dot(arr3, arr4)",
   "id": "140dfa16508fbe94",
   "outputs": [
    {
     "data": {
      "text/plain": [
       "array([[ 58,  64],\n",
       "       [139, 154]])"
      ]
     },
     "execution_count": 82,
     "metadata": {},
     "output_type": "execute_result"
    }
   ],
   "execution_count": 82
  },
  {
   "metadata": {
    "ExecuteTime": {
     "end_time": "2024-11-28T07:16:11.698350Z",
     "start_time": "2024-11-28T07:16:11.693282Z"
    }
   },
   "cell_type": "code",
   "source": "np.dot(arr4, arr3)",
   "id": "ab7122a8424accab",
   "outputs": [
    {
     "data": {
      "text/plain": [
       "array([[ 39,  54,  69],\n",
       "       [ 49,  68,  87],\n",
       "       [ 59,  82, 105]])"
      ]
     },
     "execution_count": 83,
     "metadata": {},
     "output_type": "execute_result"
    }
   ],
   "execution_count": 83
  },
  {
   "metadata": {},
   "cell_type": "code",
   "outputs": [],
   "execution_count": null,
   "source": [
    "# (100, 20000) (100, 20000) # 내적 안됨\n",
    "# (100, 20000) (20000, 100) # 100, 100\n",
    "# (20000, 100) (100, 20000) # 20000, 20000"
   ],
   "id": "a6e9ed27640de4c7"
  },
  {
   "metadata": {
    "ExecuteTime": {
     "end_time": "2024-11-28T07:19:55.701856Z",
     "start_time": "2024-11-28T07:19:55.696230Z"
    }
   },
   "cell_type": "code",
   "source": [
    "print(arr3 @ arr4)\n",
    "np.matmul(arr3, arr4)"
   ],
   "id": "540eba6ec3c4ff0e",
   "outputs": [
    {
     "name": "stdout",
     "output_type": "stream",
     "text": [
      "[[ 58  64]\n",
      " [139 154]]\n"
     ]
    },
    {
     "data": {
      "text/plain": [
       "array([[ 58,  64],\n",
       "       [139, 154]])"
      ]
     },
     "execution_count": 85,
     "metadata": {},
     "output_type": "execute_result"
    }
   ],
   "execution_count": 85
  },
  {
   "metadata": {
    "ExecuteTime": {
     "end_time": "2024-11-28T07:23:50.522201Z",
     "start_time": "2024-11-28T07:23:50.519745Z"
    }
   },
   "cell_type": "code",
   "source": [
    "# 행렬곱셈을 위해 행렬을 전치할 수 있다.\n",
    "arr = np.array([[1, 2, 3],\n",
    "                [4, 5, 6]])\n",
    "# arr @ arr # ValueError\n",
    "\n",
    "print(arr.T) # arr 전치행렬 (행/열을 교환)\n",
    "arr @ arr.T"
   ],
   "id": "7b1c28be0ba14623",
   "outputs": [
    {
     "name": "stdout",
     "output_type": "stream",
     "text": [
      "[[1 4]\n",
      " [2 5]\n",
      " [3 6]]\n"
     ]
    }
   ],
   "execution_count": 87
  },
  {
   "metadata": {
    "ExecuteTime": {
     "end_time": "2024-11-28T07:26:21.474152Z",
     "start_time": "2024-11-28T07:26:21.469242Z"
    }
   },
   "cell_type": "code",
   "source": [
    "# 절대값\n",
    "arr = np.array([[1, -2], [3, -4]])\n",
    "np.abs(arr)"
   ],
   "id": "b628145cc0dc8cf3",
   "outputs": [
    {
     "data": {
      "text/plain": [
       "array([[1, 2],\n",
       "       [3, 4]])"
      ]
     },
     "execution_count": 88,
     "metadata": {},
     "output_type": "execute_result"
    }
   ],
   "execution_count": 88
  },
  {
   "metadata": {
    "ExecuteTime": {
     "end_time": "2024-11-28T07:28:07.911669Z",
     "start_time": "2024-11-28T07:28:07.908155Z"
    }
   },
   "cell_type": "code",
   "source": [
    "# 반올림\n",
    "arr = np.array([[1.234, 3.567], [7.89, 10.123]])\n",
    "np.round(arr)\n",
    "np.round(arr, 2)"
   ],
   "id": "d66b5d97e5cc61d8",
   "outputs": [
    {
     "data": {
      "text/plain": [
       "array([[ 1.23,  3.57],\n",
       "       [ 7.89, 10.12]])"
      ]
     },
     "execution_count": 90,
     "metadata": {},
     "output_type": "execute_result"
    }
   ],
   "execution_count": 90
  },
  {
   "metadata": {
    "ExecuteTime": {
     "end_time": "2024-11-28T07:29:48.663287Z",
     "start_time": "2024-11-28T07:29:48.659557Z"
    }
   },
   "cell_type": "code",
   "source": [
    "# 올림\n",
    "arr = np.array([[1.234, 3.567], [7.89, 10.123]])\n",
    "np.ceil(arr)\n",
    "np.ceil(arr * 10) / 10"
   ],
   "id": "745d042755b1fc1e",
   "outputs": [
    {
     "data": {
      "text/plain": [
       "array([[ 1.3,  3.6],\n",
       "       [ 7.9, 10.2]])"
      ]
     },
     "execution_count": 92,
     "metadata": {},
     "output_type": "execute_result"
    }
   ],
   "execution_count": 92
  },
  {
   "metadata": {
    "ExecuteTime": {
     "end_time": "2024-11-28T07:31:04.610332Z",
     "start_time": "2024-11-28T07:31:04.605633Z"
    }
   },
   "cell_type": "code",
   "source": [
    "# 내림 (지정된 수보다 작은 최대 정수)\n",
    "arr = np.array([[1.234, -3.456], [-7.89, 10.123]])\n",
    "np.floor(arr)"
   ],
   "id": "6043de1a0414b45f",
   "outputs": [
    {
     "data": {
      "text/plain": [
       "array([[ 1., -4.],\n",
       "       [-8., 10.]])"
      ]
     },
     "execution_count": 93,
     "metadata": {},
     "output_type": "execute_result"
    }
   ],
   "execution_count": 93
  },
  {
   "metadata": {
    "ExecuteTime": {
     "end_time": "2024-11-28T07:32:52.293989Z",
     "start_time": "2024-11-28T07:32:52.290692Z"
    }
   },
   "cell_type": "code",
   "source": [
    "# 버림 (절삭)\n",
    "arr = np.array([[1.234, -3.567], [-7.89, 10.123]])\n",
    "np.trunc(arr)"
   ],
   "id": "de765e94553a66a",
   "outputs": [
    {
     "data": {
      "text/plain": [
       "array([[ 1., -3.],\n",
       "       [-7., 10.]])"
      ]
     },
     "execution_count": 95,
     "metadata": {},
     "output_type": "execute_result"
    }
   ],
   "execution_count": 95
  },
  {
   "metadata": {
    "ExecuteTime": {
     "end_time": "2024-11-28T07:37:44.437751Z",
     "start_time": "2024-11-28T07:37:44.434692Z"
    }
   },
   "cell_type": "code",
   "source": [
    "# 최소/최대값\n",
    "# arr = np.arange(1, 7).reshape(2, 3)\n",
    "arr = np.array([\n",
    "    [7, 2, 9],\n",
    "    [8, 5, 1],\n",
    "    [8, 6, 4]\n",
    "])\n",
    "print(arr)\n",
    "print(np.min(arr), np.max(arr))\n"
   ],
   "id": "a73389a3af650405",
   "outputs": [
    {
     "name": "stdout",
     "output_type": "stream",
     "text": [
      "[[7 2 9]\n",
      " [8 5 1]\n",
      " [8 6 4]]\n",
      "1 9\n"
     ]
    }
   ],
   "execution_count": 100
  },
  {
   "metadata": {
    "ExecuteTime": {
     "end_time": "2024-11-28T07:37:52.650062Z",
     "start_time": "2024-11-28T07:37:52.646466Z"
    }
   },
   "cell_type": "code",
   "source": "np.min(arr, axis=0) # 행기준(행을 고정하고, 같은 열에서 가장 작은 값)",
   "id": "8f1f96a5bb86bb0d",
   "outputs": [
    {
     "data": {
      "text/plain": [
       "array([7, 2, 1])"
      ]
     },
     "execution_count": 101,
     "metadata": {},
     "output_type": "execute_result"
    }
   ],
   "execution_count": 101
  },
  {
   "metadata": {
    "ExecuteTime": {
     "end_time": "2024-11-28T07:39:17.799650Z",
     "start_time": "2024-11-28T07:39:17.796589Z"
    }
   },
   "cell_type": "code",
   "source": "np.min(arr, axis=1) # 열기준(열을 고정하고, 같은 행에서 가장 작은 값)",
   "id": "dbb0d4b09f3ffe76",
   "outputs": [
    {
     "data": {
      "text/plain": [
       "array([2, 1, 4])"
      ]
     },
     "execution_count": 102,
     "metadata": {},
     "output_type": "execute_result"
    }
   ],
   "execution_count": 102
  },
  {
   "metadata": {
    "ExecuteTime": {
     "end_time": "2024-11-28T07:41:48.403592Z",
     "start_time": "2024-11-28T07:41:48.399372Z"
    }
   },
   "cell_type": "code",
   "source": [
    "arr = np.arange(1, 7).reshape(2, 3)\n",
    "print(arr.sum()) # axis=None 모든 값에 대해 합을 계산\n",
    "np.sum(arr)"
   ],
   "id": "7bf9cf905c5d691e",
   "outputs": [
    {
     "name": "stdout",
     "output_type": "stream",
     "text": [
      "21\n"
     ]
    },
    {
     "data": {
      "text/plain": [
       "np.int64(21)"
      ]
     },
     "execution_count": 105,
     "metadata": {},
     "output_type": "execute_result"
    }
   ],
   "execution_count": 105
  },
  {
   "metadata": {
    "ExecuteTime": {
     "end_time": "2024-11-28T07:41:59.053624Z",
     "start_time": "2024-11-28T07:41:59.049338Z"
    }
   },
   "cell_type": "code",
   "source": "arr.sum(axis=0)",
   "id": "cf87e56aabc176aa",
   "outputs": [
    {
     "data": {
      "text/plain": [
       "array([5, 7, 9])"
      ]
     },
     "execution_count": 106,
     "metadata": {},
     "output_type": "execute_result"
    }
   ],
   "execution_count": 106
  },
  {
   "metadata": {
    "ExecuteTime": {
     "end_time": "2024-11-28T07:43:18.621599Z",
     "start_time": "2024-11-28T07:43:18.618574Z"
    }
   },
   "cell_type": "code",
   "source": "arr.sum(axis=1)",
   "id": "d8f671d2142bb1e9",
   "outputs": [
    {
     "data": {
      "text/plain": [
       "array([ 6, 15])"
      ]
     },
     "execution_count": 107,
     "metadata": {},
     "output_type": "execute_result"
    }
   ],
   "execution_count": 107
  },
  {
   "metadata": {
    "ExecuteTime": {
     "end_time": "2024-11-28T07:44:50.298634Z",
     "start_time": "2024-11-28T07:44:50.294849Z"
    }
   },
   "cell_type": "code",
   "source": [
    "# 평균 mean\n",
    "arr = np.arange(1, 7).reshape(2, 3)\n",
    "print(arr.mean())\n",
    "np.mean(arr)"
   ],
   "id": "bf572db792727003",
   "outputs": [
    {
     "name": "stdout",
     "output_type": "stream",
     "text": [
      "3.5\n"
     ]
    },
    {
     "data": {
      "text/plain": [
       "np.float64(3.5)"
      ]
     },
     "execution_count": 109,
     "metadata": {},
     "output_type": "execute_result"
    }
   ],
   "execution_count": 109
  },
  {
   "metadata": {
    "ExecuteTime": {
     "end_time": "2024-11-28T07:45:14.922781Z",
     "start_time": "2024-11-28T07:45:14.919855Z"
    }
   },
   "cell_type": "code",
   "source": "arr.mean(axis=0)",
   "id": "e388fe3240f47db0",
   "outputs": [
    {
     "data": {
      "text/plain": [
       "array([2.5, 3.5, 4.5])"
      ]
     },
     "execution_count": 110,
     "metadata": {},
     "output_type": "execute_result"
    }
   ],
   "execution_count": 110
  },
  {
   "metadata": {
    "ExecuteTime": {
     "end_time": "2024-11-28T07:45:47.512119Z",
     "start_time": "2024-11-28T07:45:47.507785Z"
    }
   },
   "cell_type": "code",
   "source": "arr.mean(axis=1)",
   "id": "d729906dfdbc267a",
   "outputs": [
    {
     "data": {
      "text/plain": [
       "array([2., 5.])"
      ]
     },
     "execution_count": 111,
     "metadata": {},
     "output_type": "execute_result"
    }
   ],
   "execution_count": 111
  }
 ],
 "metadata": {
  "kernelspec": {
   "display_name": "Python 3",
   "language": "python",
   "name": "python3"
  },
  "language_info": {
   "codemirror_mode": {
    "name": "ipython",
    "version": 2
   },
   "file_extension": ".py",
   "mimetype": "text/x-python",
   "name": "python",
   "nbconvert_exporter": "python",
   "pygments_lexer": "ipython2",
   "version": "2.7.6"
  }
 },
 "nbformat": 4,
 "nbformat_minor": 5
}
