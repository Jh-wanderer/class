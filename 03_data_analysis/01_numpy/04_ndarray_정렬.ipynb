{
 "cells": [
  {
   "metadata": {},
   "cell_type": "markdown",
   "source": "# ndarray 정렬",
   "id": "f0d3dae80ffe724d"
  },
  {
   "metadata": {},
   "cell_type": "markdown",
   "source": "## 1차원 배열 정렬",
   "id": "a6d1a80d85797949"
  },
  {
   "cell_type": "code",
   "id": "initial_id",
   "metadata": {
    "collapsed": true,
    "ExecuteTime": {
     "end_time": "2024-11-29T00:12:05.040958Z",
     "start_time": "2024-11-29T00:12:05.001464Z"
    }
   },
   "source": "import numpy as np",
   "outputs": [],
   "execution_count": 1
  },
  {
   "metadata": {
    "ExecuteTime": {
     "end_time": "2024-11-29T00:13:04.856473Z",
     "start_time": "2024-11-29T00:13:04.842455Z"
    }
   },
   "cell_type": "code",
   "source": [
    "arr = np.random.randint(1, 11, 10)\n",
    "\n",
    "arr"
   ],
   "id": "c7bc6b2890cdb4df",
   "outputs": [
    {
     "data": {
      "text/plain": [
       "array([10,  2,  7,  1,  5,  2,  1,  9,  4,  5], dtype=int32)"
      ]
     },
     "execution_count": 2,
     "metadata": {},
     "output_type": "execute_result"
    }
   ],
   "execution_count": 2
  },
  {
   "metadata": {
    "ExecuteTime": {
     "end_time": "2024-11-29T00:14:11.990348Z",
     "start_time": "2024-11-29T00:14:11.986362Z"
    }
   },
   "cell_type": "code",
   "source": [
    "# arr.sort() #inplace 연산\n",
    "\n",
    "arr = np.sort(arr) # 정렬된 새 배열 반환\n",
    "arr"
   ],
   "id": "671abd01d11248f",
   "outputs": [
    {
     "data": {
      "text/plain": [
       "array([ 1,  1,  2,  2,  4,  5,  5,  7,  9, 10], dtype=int32)"
      ]
     },
     "execution_count": 3,
     "metadata": {},
     "output_type": "execute_result"
    }
   ],
   "execution_count": 3
  },
  {
   "metadata": {
    "ExecuteTime": {
     "end_time": "2024-11-29T00:16:31.095116Z",
     "start_time": "2024-11-29T00:16:31.092432Z"
    }
   },
   "cell_type": "code",
   "source": "np.sort(arr)[::-1]",
   "id": "a77174b34eacb67e",
   "outputs": [
    {
     "data": {
      "text/plain": [
       "array([10,  9,  7,  5,  5,  4,  2,  2,  1,  1], dtype=int32)"
      ]
     },
     "execution_count": 4,
     "metadata": {},
     "output_type": "execute_result"
    }
   ],
   "execution_count": 4
  },
  {
   "metadata": {},
   "cell_type": "markdown",
   "source": "## 2차원 배열 정렬",
   "id": "4bced9f8f4e01550"
  },
  {
   "metadata": {
    "ExecuteTime": {
     "end_time": "2024-11-29T00:24:56.292172Z",
     "start_time": "2024-11-29T00:24:56.288199Z"
    }
   },
   "cell_type": "code",
   "source": [
    "arr = np.random.randint(10, size=(3, 4))\n",
    "print(arr)\n",
    "arr.shape"
   ],
   "id": "833c1737cf3b4df5",
   "outputs": [
    {
     "name": "stdout",
     "output_type": "stream",
     "text": [
      "[[6 6 9 6]\n",
      " [6 6 6 0]\n",
      " [5 2 7 9]]\n"
     ]
    },
    {
     "data": {
      "text/plain": [
       "(3, 4)"
      ]
     },
     "execution_count": 13,
     "metadata": {},
     "output_type": "execute_result"
    }
   ],
   "execution_count": 13
  },
  {
   "metadata": {
    "ExecuteTime": {
     "end_time": "2024-11-29T00:20:27.549397Z",
     "start_time": "2024-11-29T00:20:27.546463Z"
    }
   },
   "cell_type": "code",
   "source": [
    "# axis=1(기본값) 열방향\n",
    "np.sort(arr, axis=1)"
   ],
   "id": "bddd554ca4c97ce1",
   "outputs": [
    {
     "data": {
      "text/plain": [
       "array([[1, 4, 9, 9],\n",
       "       [0, 6, 8, 8],\n",
       "       [2, 8, 9, 9]], dtype=int32)"
      ]
     },
     "execution_count": 8,
     "metadata": {},
     "output_type": "execute_result"
    }
   ],
   "execution_count": 8
  },
  {
   "metadata": {
    "ExecuteTime": {
     "end_time": "2024-11-29T00:21:52.645588Z",
     "start_time": "2024-11-29T00:21:52.640649Z"
    }
   },
   "cell_type": "code",
   "source": [
    "# axis=0 행방향 (같은 열안에서 정렬)\n",
    "np.sort(arr, axis=0)"
   ],
   "id": "6cfb0d2402ff54f5",
   "outputs": [
    {
     "data": {
      "text/plain": [
       "array([[8, 2, 1, 0],\n",
       "       [9, 6, 8, 4],\n",
       "       [9, 9, 8, 9]], dtype=int32)"
      ]
     },
     "execution_count": 9,
     "metadata": {},
     "output_type": "execute_result"
    }
   ],
   "execution_count": 9
  },
  {
   "metadata": {
    "ExecuteTime": {
     "end_time": "2024-11-29T00:24:27.033330Z",
     "start_time": "2024-11-29T00:24:27.030029Z"
    }
   },
   "cell_type": "code",
   "source": [
    "# axis=None 축무시 (행/열 구분없이 모든 값에 대해 정렬)\n",
    "arr = np.sort(arr, axis=None)\n",
    "\n",
    "print(arr)\n",
    "arr.shape"
   ],
   "id": "d091aa9683770b27",
   "outputs": [
    {
     "name": "stdout",
     "output_type": "stream",
     "text": [
      "[0 1 2 4 6 8 8 8 9 9 9 9]\n"
     ]
    },
    {
     "data": {
      "text/plain": [
       "(12,)"
      ]
     },
     "execution_count": 11,
     "metadata": {},
     "output_type": "execute_result"
    }
   ],
   "execution_count": 11
  },
  {
   "metadata": {},
   "cell_type": "markdown",
   "source": [
    "## np.argsort\n",
    "배열의 값을 정렬한 후, **정렬된 순서에 해당하는** 인덱스 배열을 반환"
   ],
   "id": "d5a45d87b5d05fab"
  },
  {
   "metadata": {
    "ExecuteTime": {
     "end_time": "2024-11-29T00:33:14.363517Z",
     "start_time": "2024-11-29T00:33:14.359523Z"
    }
   },
   "cell_type": "code",
   "source": [
    "arr = np.array([40, 10, 20, 30])\n",
    "np.sort(arr)\n",
    "sorted_indices = np.argsort(arr)\n",
    "arr[sorted_indices]"
   ],
   "id": "9bd527bf5196d4a",
   "outputs": [
    {
     "data": {
      "text/plain": [
       "array([10, 20, 30, 40])"
      ]
     },
     "execution_count": 16,
     "metadata": {},
     "output_type": "execute_result"
    }
   ],
   "execution_count": 16
  },
  {
   "metadata": {
    "ExecuteTime": {
     "end_time": "2024-11-29T00:37:13.148342Z",
     "start_time": "2024-11-29T00:37:13.143839Z"
    }
   },
   "cell_type": "code",
   "source": [
    "# 우수학생 정렬하기\n",
    "names = np.array(['홍길동', '신사임당', '이순신','유관순'])\n",
    "scores = np.array([90, 88, 75, 95])\n",
    "\n",
    "np.argsort(scores)\n",
    "scores_desc = np.argsort(scores)[::-1]\n",
    "names[scores_desc]"
   ],
   "id": "83af318316f64b85",
   "outputs": [
    {
     "data": {
      "text/plain": [
       "array(['유관순', '홍길동', '신사임당', '이순신'], dtype='<U4')"
      ]
     },
     "execution_count": 20,
     "metadata": {},
     "output_type": "execute_result"
    }
   ],
   "execution_count": 20
  },
  {
   "metadata": {
    "ExecuteTime": {
     "end_time": "2024-11-29T00:42:07.999072Z",
     "start_time": "2024-11-29T00:42:07.995814Z"
    }
   },
   "cell_type": "code",
   "source": [
    "# 2차원배열 argsort\n",
    "arr = np.array([[3, 1, 7], [6, 4, 5]])\n",
    "print(arr)\n",
    "np.argsort(arr, axis=1)\n"
   ],
   "id": "e8c9f9dfbe87216f",
   "outputs": [
    {
     "name": "stdout",
     "output_type": "stream",
     "text": [
      "[[3 1 7]\n",
      " [6 4 5]]\n"
     ]
    },
    {
     "data": {
      "text/plain": [
       "array([[1, 0, 2],\n",
       "       [1, 2, 0]])"
      ]
     },
     "execution_count": 25,
     "metadata": {},
     "output_type": "execute_result"
    }
   ],
   "execution_count": 25
  },
  {
   "metadata": {
    "ExecuteTime": {
     "end_time": "2024-11-29T00:42:10.511148Z",
     "start_time": "2024-11-29T00:42:10.506973Z"
    }
   },
   "cell_type": "code",
   "source": "np.argsort(arr, axis=0)",
   "id": "8a6079cfbc217a25",
   "outputs": [
    {
     "data": {
      "text/plain": [
       "array([[0, 0, 1],\n",
       "       [1, 1, 0]])"
      ]
     },
     "execution_count": 26,
     "metadata": {},
     "output_type": "execute_result"
    }
   ],
   "execution_count": 26
  }
 ],
 "metadata": {
  "kernelspec": {
   "display_name": "Python 3",
   "language": "python",
   "name": "python3"
  },
  "language_info": {
   "codemirror_mode": {
    "name": "ipython",
    "version": 2
   },
   "file_extension": ".py",
   "mimetype": "text/x-python",
   "name": "python",
   "nbconvert_exporter": "python",
   "pygments_lexer": "ipython2",
   "version": "2.7.6"
  }
 },
 "nbformat": 4,
 "nbformat_minor": 5
}
