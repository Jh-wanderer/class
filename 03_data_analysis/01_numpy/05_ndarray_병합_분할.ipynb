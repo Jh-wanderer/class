{
 "cells": [
  {
   "metadata": {},
   "cell_type": "markdown",
   "source": [
    "# ndarray 병합 분할\n",
    "\n",
    "ndarray는 고정길이의 배열이므로 크기를 변경할 수 없다.\n",
    "\n",
    "요소를 추가할 수 없다. 추가시에는 길이가 늘어난 새로운 배열을 반환."
   ],
   "id": "3280663c07e1860"
  },
  {
   "metadata": {},
   "cell_type": "markdown",
   "source": "## ndarray 요소 추가/삭제",
   "id": "603e218710cf5c3c"
  },
  {
   "cell_type": "code",
   "id": "initial_id",
   "metadata": {
    "collapsed": true,
    "ExecuteTime": {
     "end_time": "2024-11-29T00:48:06.741945Z",
     "start_time": "2024-11-29T00:48:06.737960Z"
    }
   },
   "source": [
    "# 파이썬 리스트\n",
    "lst = [10, 20 ,30]\n",
    "lst.append(40)\n",
    "lst.insert(1, 15)\n",
    "lst"
   ],
   "outputs": [
    {
     "data": {
      "text/plain": [
       "[10, 15, 20, 30, 40]"
      ]
     },
     "execution_count": 3,
     "metadata": {},
     "output_type": "execute_result"
    }
   ],
   "execution_count": 3
  },
  {
   "metadata": {
    "ExecuteTime": {
     "end_time": "2024-11-29T00:48:45.015348Z",
     "start_time": "2024-11-29T00:48:44.972561Z"
    }
   },
   "cell_type": "code",
   "source": "import numpy as np",
   "id": "12f0d416d83a388f",
   "outputs": [],
   "execution_count": 4
  },
  {
   "metadata": {
    "ExecuteTime": {
     "end_time": "2024-11-29T01:04:58.281854Z",
     "start_time": "2024-11-29T01:04:58.277168Z"
    }
   },
   "cell_type": "code",
   "source": [
    "arr = np.array([10, 20, 30])\n",
    "# arr.append(40) #AttributeError: 'numpy.ndarray' object has no attribute 'append'\n",
    "arr2 = np.insert(arr, 1, 15)\n",
    "arr2\n",
    "arr is arr2"
   ],
   "id": "53954ba085d84a54",
   "outputs": [
    {
     "data": {
      "text/plain": [
       "False"
      ]
     },
     "execution_count": 10,
     "metadata": {},
     "output_type": "execute_result"
    }
   ],
   "execution_count": 10
  },
  {
   "metadata": {
    "ExecuteTime": {
     "end_time": "2024-11-29T01:07:31.501688Z",
     "start_time": "2024-11-29T01:07:31.498219Z"
    }
   },
   "cell_type": "code",
   "source": [
    "# 2차원 배열에 요소 추가 insert\n",
    "arr = np.arange(1, 13).reshape(3, 4)\n",
    "print(arr)"
   ],
   "id": "38c329f43c4a15a6",
   "outputs": [
    {
     "name": "stdout",
     "output_type": "stream",
     "text": [
      "[[ 1  2  3  4]\n",
      " [ 5  6  7  8]\n",
      " [ 9 10 11 12]]\n"
     ]
    }
   ],
   "execution_count": 12
  },
  {
   "metadata": {
    "ExecuteTime": {
     "end_time": "2024-11-29T01:10:39.402516Z",
     "start_time": "2024-11-29T01:10:39.399247Z"
    }
   },
   "cell_type": "code",
   "source": [
    "np.insert(arr, 3, [10, 20, 30, 40], axis=0)\n",
    "arr"
   ],
   "id": "456c1d96438d12f9",
   "outputs": [
    {
     "data": {
      "text/plain": [
       "array([[ 1,  2,  3,  4],\n",
       "       [ 5,  6,  7,  8],\n",
       "       [ 9, 10, 11, 12]])"
      ]
     },
     "execution_count": 14,
     "metadata": {},
     "output_type": "execute_result"
    }
   ],
   "execution_count": 14
  },
  {
   "metadata": {
    "ExecuteTime": {
     "end_time": "2024-11-29T01:14:40.847168Z",
     "start_time": "2024-11-29T01:14:40.843756Z"
    }
   },
   "cell_type": "code",
   "source": [
    "np.insert(arr, 3, [10, 10, 10], axis=1)\n",
    "\n",
    "np.insert(arr, 3, [10], axis=1)\n",
    "\n",
    "np.insert(arr, 3, 10, axis=1)"
   ],
   "id": "761c1185410f9dcb",
   "outputs": [
    {
     "data": {
      "text/plain": [
       "array([[ 1,  2,  3, 10,  4],\n",
       "       [ 5,  6,  7, 10,  8],\n",
       "       [ 9, 10, 11, 10, 12]])"
      ]
     },
     "execution_count": 17,
     "metadata": {},
     "output_type": "execute_result"
    }
   ],
   "execution_count": 17
  },
  {
   "metadata": {
    "ExecuteTime": {
     "end_time": "2024-11-29T01:18:30.759144Z",
     "start_time": "2024-11-29T01:18:30.754938Z"
    }
   },
   "cell_type": "code",
   "source": [
    "# 1차원 배열 delete\n",
    "arr = np.arange(1, 13)\n",
    "np.delete(arr, 3)\n",
    "arr"
   ],
   "id": "bcae880de111459f",
   "outputs": [
    {
     "data": {
      "text/plain": [
       "array([ 1,  2,  3,  4,  5,  6,  7,  8,  9, 10, 11, 12])"
      ]
     },
     "execution_count": 21,
     "metadata": {},
     "output_type": "execute_result"
    }
   ],
   "execution_count": 21
  },
  {
   "metadata": {
    "ExecuteTime": {
     "end_time": "2024-11-29T01:19:52.360281Z",
     "start_time": "2024-11-29T01:19:52.355607Z"
    }
   },
   "cell_type": "code",
   "source": [
    "# 2차원 배열 delete\n",
    "arr = np.arange(1, 13).reshape(3, 4)\n",
    "arr"
   ],
   "id": "91d6a17861b21edd",
   "outputs": [
    {
     "data": {
      "text/plain": [
       "array([[ 1,  2,  3,  4],\n",
       "       [ 5,  6,  7,  8],\n",
       "       [ 9, 10, 11, 12]])"
      ]
     },
     "execution_count": 22,
     "metadata": {},
     "output_type": "execute_result"
    }
   ],
   "execution_count": 22
  },
  {
   "metadata": {
    "ExecuteTime": {
     "end_time": "2024-11-29T01:20:52.318744Z",
     "start_time": "2024-11-29T01:20:52.315391Z"
    }
   },
   "cell_type": "code",
   "source": "np.delete(arr, 1, axis=0)",
   "id": "fae200631cc18075",
   "outputs": [
    {
     "data": {
      "text/plain": [
       "array([[ 1,  2,  3,  4],\n",
       "       [ 9, 10, 11, 12]])"
      ]
     },
     "execution_count": 23,
     "metadata": {},
     "output_type": "execute_result"
    }
   ],
   "execution_count": 23
  },
  {
   "metadata": {
    "ExecuteTime": {
     "end_time": "2024-11-29T01:22:55.156209Z",
     "start_time": "2024-11-29T01:22:55.152858Z"
    }
   },
   "cell_type": "code",
   "source": "np.delete(arr, 2, axis=1)",
   "id": "f58bf2d0d8e05a",
   "outputs": [
    {
     "data": {
      "text/plain": [
       "array([[ 1,  2,  4],\n",
       "       [ 5,  6,  8],\n",
       "       [ 9, 10, 12]])"
      ]
     },
     "execution_count": 27,
     "metadata": {},
     "output_type": "execute_result"
    }
   ],
   "execution_count": 27
  },
  {
   "metadata": {},
   "cell_type": "markdown",
   "source": [
    "## ndarray 병합\n",
    "- np.append()\n",
    "- np.vstack()\n",
    "- np.hstack()\n",
    "- np.concatenate()"
   ],
   "id": "a8ef7f002cc3c133"
  },
  {
   "metadata": {
    "ExecuteTime": {
     "end_time": "2024-11-29T01:25:54.300104Z",
     "start_time": "2024-11-29T01:25:54.296149Z"
    }
   },
   "cell_type": "code",
   "source": [
    "# np.append()\n",
    "arr1 = np.arange(1, 13).reshape(3, 4)\n",
    "arr2 = np.arange(13, 25).reshape(3, 4)\n",
    "arr1, arr2"
   ],
   "id": "e4be68431c44a8a6",
   "outputs": [
    {
     "data": {
      "text/plain": [
       "(array([[ 1,  2,  3,  4],\n",
       "        [ 5,  6,  7,  8],\n",
       "        [ 9, 10, 11, 12]]),\n",
       " array([[13, 14, 15, 16],\n",
       "        [17, 18, 19, 20],\n",
       "        [21, 22, 23, 24]]))"
      ]
     },
     "execution_count": 28,
     "metadata": {},
     "output_type": "execute_result"
    }
   ],
   "execution_count": 28
  },
  {
   "metadata": {
    "ExecuteTime": {
     "end_time": "2024-11-29T01:26:42.483817Z",
     "start_time": "2024-11-29T01:26:42.481310Z"
    }
   },
   "cell_type": "code",
   "source": "np.append(arr1, arr2, axis=0)",
   "id": "21adac4b9924e99b",
   "outputs": [
    {
     "data": {
      "text/plain": [
       "array([[ 1,  2,  3,  4],\n",
       "       [ 5,  6,  7,  8],\n",
       "       [ 9, 10, 11, 12],\n",
       "       [13, 14, 15, 16],\n",
       "       [17, 18, 19, 20],\n",
       "       [21, 22, 23, 24]])"
      ]
     },
     "execution_count": 29,
     "metadata": {},
     "output_type": "execute_result"
    }
   ],
   "execution_count": 29
  },
  {
   "metadata": {
    "ExecuteTime": {
     "end_time": "2024-11-29T01:28:13.744229Z",
     "start_time": "2024-11-29T01:28:13.740910Z"
    }
   },
   "cell_type": "code",
   "source": "np.append(arr1, arr2, axis=1)",
   "id": "4cf4a2e288201c9f",
   "outputs": [
    {
     "data": {
      "text/plain": [
       "array([[ 1,  2,  3,  4, 13, 14, 15, 16],\n",
       "       [ 5,  6,  7,  8, 17, 18, 19, 20],\n",
       "       [ 9, 10, 11, 12, 21, 22, 23, 24]])"
      ]
     },
     "execution_count": 30,
     "metadata": {},
     "output_type": "execute_result"
    }
   ],
   "execution_count": 30
  },
  {
   "metadata": {
    "ExecuteTime": {
     "end_time": "2024-11-29T01:30:38.910474Z",
     "start_time": "2024-11-29T01:30:38.907188Z"
    }
   },
   "cell_type": "code",
   "source": [
    "# np.vstack() : axis=0 병합\n",
    "# - list/tuple로 묶어서 전달\n",
    "arr1 = np.arange(1, 13).reshape(3, 4)\n",
    "arr2 = np.arange(13, 25).reshape(3, 4)\n",
    "\n",
    "np.vstack((arr1, arr2))"
   ],
   "id": "bfc1adb06028f3ed",
   "outputs": [
    {
     "data": {
      "text/plain": [
       "array([[ 1,  2,  3,  4],\n",
       "       [ 5,  6,  7,  8],\n",
       "       [ 9, 10, 11, 12],\n",
       "       [13, 14, 15, 16],\n",
       "       [17, 18, 19, 20],\n",
       "       [21, 22, 23, 24]])"
      ]
     },
     "execution_count": 31,
     "metadata": {},
     "output_type": "execute_result"
    }
   ],
   "execution_count": 31
  },
  {
   "metadata": {
    "ExecuteTime": {
     "end_time": "2024-11-29T01:31:26.732049Z",
     "start_time": "2024-11-29T01:31:26.728910Z"
    }
   },
   "cell_type": "code",
   "source": [
    "# np.hstack() : axis=1 병합\n",
    "np.hstack((arr1, arr2))"
   ],
   "id": "4fd613401028555a",
   "outputs": [
    {
     "data": {
      "text/plain": [
       "array([[ 1,  2,  3,  4, 13, 14, 15, 16],\n",
       "       [ 5,  6,  7,  8, 17, 18, 19, 20],\n",
       "       [ 9, 10, 11, 12, 21, 22, 23, 24]])"
      ]
     },
     "execution_count": 32,
     "metadata": {},
     "output_type": "execute_result"
    }
   ],
   "execution_count": 32
  },
  {
   "metadata": {
    "ExecuteTime": {
     "end_time": "2024-11-29T01:34:15.938567Z",
     "start_time": "2024-11-29T01:34:15.934659Z"
    }
   },
   "cell_type": "code",
   "source": [
    "# np.concatenate() : axis=0,1,None 병합\n",
    "# - list/tuple로 묶어서 전달\n",
    "np.concatenate((arr1, arr2), axis=0)\n",
    "np.concatenate((arr1, arr2), axis=1)\n",
    "np.concatenate((arr1, arr2), axis=None)"
   ],
   "id": "f29c75654e55c749",
   "outputs": [
    {
     "data": {
      "text/plain": [
       "array([ 1,  2,  3,  4,  5,  6,  7,  8,  9, 10, 11, 12, 13, 14, 15, 16, 17,\n",
       "       18, 19, 20, 21, 22, 23, 24])"
      ]
     },
     "execution_count": 35,
     "metadata": {},
     "output_type": "execute_result"
    }
   ],
   "execution_count": 35
  },
  {
   "metadata": {},
   "cell_type": "markdown",
   "source": "## ndarray 분할",
   "id": "8603550ad5d6a894"
  },
  {
   "metadata": {
    "ExecuteTime": {
     "end_time": "2024-11-29T01:36:30.662976Z",
     "start_time": "2024-11-29T01:36:30.660313Z"
    }
   },
   "cell_type": "code",
   "source": [
    "# np.split\n",
    "arr = np.arange(1, 25).reshape(6, 4)\n",
    "arr"
   ],
   "id": "deb1baf7cde69be9",
   "outputs": [
    {
     "data": {
      "text/plain": [
       "array([[ 1,  2,  3,  4],\n",
       "       [ 5,  6,  7,  8],\n",
       "       [ 9, 10, 11, 12],\n",
       "       [13, 14, 15, 16],\n",
       "       [17, 18, 19, 20],\n",
       "       [21, 22, 23, 24]])"
      ]
     },
     "execution_count": 37,
     "metadata": {},
     "output_type": "execute_result"
    }
   ],
   "execution_count": 37
  },
  {
   "metadata": {
    "ExecuteTime": {
     "end_time": "2024-11-29T01:38:52.147940Z",
     "start_time": "2024-11-29T01:38:52.145075Z"
    }
   },
   "cell_type": "code",
   "source": [
    "# 6행의 약수인 1, 2, 3, 6 사용\n",
    "np.split(arr, 3, axis=0)"
   ],
   "id": "ca9ac72e08b4c8e1",
   "outputs": [
    {
     "data": {
      "text/plain": [
       "[array([[1, 2, 3, 4],\n",
       "        [5, 6, 7, 8]]),\n",
       " array([[ 9, 10, 11, 12],\n",
       "        [13, 14, 15, 16]]),\n",
       " array([[17, 18, 19, 20],\n",
       "        [21, 22, 23, 24]])]"
      ]
     },
     "execution_count": 38,
     "metadata": {},
     "output_type": "execute_result"
    }
   ],
   "execution_count": 38
  },
  {
   "metadata": {
    "ExecuteTime": {
     "end_time": "2024-11-29T01:40:46.944055Z",
     "start_time": "2024-11-29T01:40:46.941638Z"
    }
   },
   "cell_type": "code",
   "source": "np.split(arr, 2, axis=1)",
   "id": "770195322a1448aa",
   "outputs": [
    {
     "data": {
      "text/plain": [
       "[array([[ 1,  2],\n",
       "        [ 5,  6],\n",
       "        [ 9, 10],\n",
       "        [13, 14],\n",
       "        [17, 18],\n",
       "        [21, 22]]),\n",
       " array([[ 3,  4],\n",
       "        [ 7,  8],\n",
       "        [11, 12],\n",
       "        [15, 16],\n",
       "        [19, 20],\n",
       "        [23, 24]])]"
      ]
     },
     "execution_count": 42,
     "metadata": {},
     "output_type": "execute_result"
    }
   ],
   "execution_count": 42
  }
 ],
 "metadata": {
  "kernelspec": {
   "display_name": "Python 3",
   "language": "python",
   "name": "python3"
  },
  "language_info": {
   "codemirror_mode": {
    "name": "ipython",
    "version": 2
   },
   "file_extension": ".py",
   "mimetype": "text/x-python",
   "name": "python",
   "nbconvert_exporter": "python",
   "pygments_lexer": "ipython2",
   "version": "2.7.6"
  }
 },
 "nbformat": 4,
 "nbformat_minor": 5
}
