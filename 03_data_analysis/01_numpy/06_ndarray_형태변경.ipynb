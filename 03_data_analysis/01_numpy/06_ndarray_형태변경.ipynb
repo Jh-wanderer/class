{
 "cells": [
  {
   "metadata": {},
   "cell_type": "markdown",
   "source": "# ndarray 형태변경",
   "id": "e8e2c73f642fea89"
  },
  {
   "cell_type": "code",
   "id": "initial_id",
   "metadata": {
    "collapsed": true,
    "ExecuteTime": {
     "end_time": "2024-11-29T01:42:55.372037Z",
     "start_time": "2024-11-29T01:42:55.330931Z"
    }
   },
   "source": "import numpy as np",
   "outputs": [],
   "execution_count": 1
  },
  {
   "metadata": {
    "ExecuteTime": {
     "end_time": "2024-11-29T01:50:20.388491Z",
     "start_time": "2024-11-29T01:50:20.385873Z"
    }
   },
   "cell_type": "code",
   "source": [
    "# reshape\n",
    "# 요소의 개수에 맞는 차원으로 변경이 가능하다.\n",
    "arr = np.arange(12)\n",
    "print(arr.ndim)\n",
    "arr = arr.reshape(3, 4)\n",
    "arr = arr.reshape(6, 2)\n",
    "arr = arr.reshape(12, 1)\n",
    "print(arr.ndim)\n",
    "arr = arr.reshape(2, 2, 3)\n",
    "print(arr.ndim)\n"
   ],
   "id": "6386bd26d937f3de",
   "outputs": [
    {
     "name": "stdout",
     "output_type": "stream",
     "text": [
      "1\n",
      "2\n",
      "3\n"
     ]
    }
   ],
   "execution_count": 14
  },
  {
   "metadata": {
    "ExecuteTime": {
     "end_time": "2024-11-29T02:07:01.025378Z",
     "start_time": "2024-11-29T02:07:01.022850Z"
    }
   },
   "cell_type": "code",
   "source": [
    "arr = arr.reshape(4, -1) # -1축은 자동계산\n",
    "arr = arr.reshape(-1, 3)\n",
    "arr = arr.reshape(-1)\n",
    "arr"
   ],
   "id": "3130e1fdd068b86f",
   "outputs": [
    {
     "data": {
      "text/plain": [
       "array([ 0,  1,  2,  3,  4,  5,  6,  7,  8,  9, 10, 11])"
      ]
     },
     "execution_count": 20,
     "metadata": {},
     "output_type": "execute_result"
    }
   ],
   "execution_count": 20
  },
  {
   "metadata": {
    "ExecuteTime": {
     "end_time": "2024-11-29T02:11:18.608012Z",
     "start_time": "2024-11-29T02:11:18.604244Z"
    }
   },
   "cell_type": "code",
   "source": [
    "# np.ravel() : 1차원 변환\n",
    "arr = np.arange(50).reshape(5, 10)\n",
    "arr\n",
    "np.ravel(arr)"
   ],
   "id": "946f0b40bd71b5e",
   "outputs": [
    {
     "data": {
      "text/plain": [
       "array([ 0,  1,  2,  3,  4,  5,  6,  7,  8,  9, 10, 11, 12, 13, 14, 15, 16,\n",
       "       17, 18, 19, 20, 21, 22, 23, 24, 25, 26, 27, 28, 29, 30, 31, 32, 33,\n",
       "       34, 35, 36, 37, 38, 39, 40, 41, 42, 43, 44, 45, 46, 47, 48, 49])"
      ]
     },
     "execution_count": 22,
     "metadata": {},
     "output_type": "execute_result"
    }
   ],
   "execution_count": 22
  },
  {
   "metadata": {
    "ExecuteTime": {
     "end_time": "2024-11-29T02:14:26.830750Z",
     "start_time": "2024-11-29T02:14:26.827647Z"
    }
   },
   "cell_type": "code",
   "source": [
    "# np.expand_dims()\n",
    "arr = np.array([1, 2])\n",
    "print(arr)\n",
    "# arr.shape"
   ],
   "id": "30ecaec2d4239643",
   "outputs": [
    {
     "name": "stdout",
     "output_type": "stream",
     "text": [
      "[1 2]\n"
     ]
    }
   ],
   "execution_count": 28
  },
  {
   "metadata": {
    "ExecuteTime": {
     "end_time": "2024-11-29T02:14:06.456067Z",
     "start_time": "2024-11-29T02:14:06.453030Z"
    }
   },
   "cell_type": "code",
   "source": [
    "print(np.expand_dims(arr, axis=0)) # 행으로 차원추가\n",
    "print(np.expand_dims(arr, axis=1)) # 열로 차원추가"
   ],
   "id": "29e2c14386846a77",
   "outputs": [
    {
     "name": "stdout",
     "output_type": "stream",
     "text": [
      "[[1 2]]\n",
      "[[1]\n",
      " [2]]\n"
     ]
    }
   ],
   "execution_count": 25
  },
  {
   "metadata": {
    "ExecuteTime": {
     "end_time": "2024-11-29T02:16:36.368165Z",
     "start_time": "2024-11-29T02:16:36.365997Z"
    }
   },
   "cell_type": "code",
   "source": [
    "# 2차원 -> 3차원 확장\n",
    "arr = np.array([[1, 2], [3, 4]])\n",
    "print(arr)"
   ],
   "id": "a0eefa3dc7b65683",
   "outputs": [
    {
     "name": "stdout",
     "output_type": "stream",
     "text": [
      "[[1 2]\n",
      " [3 4]]\n"
     ]
    }
   ],
   "execution_count": 29
  },
  {
   "metadata": {
    "ExecuteTime": {
     "end_time": "2024-11-29T02:19:11.070813Z",
     "start_time": "2024-11-29T02:19:11.068620Z"
    }
   },
   "cell_type": "code",
   "source": [
    "print(np.expand_dims(arr, axis=0))\n",
    "print(np.expand_dims(arr, axis=1))\n",
    "print(np.expand_dims(arr, axis=2))"
   ],
   "id": "9ac0d5c976e520a4",
   "outputs": [
    {
     "name": "stdout",
     "output_type": "stream",
     "text": [
      "[[[1]\n",
      "  [2]]\n",
      "\n",
      " [[3]\n",
      "  [4]]]\n"
     ]
    }
   ],
   "execution_count": 32
  },
  {
   "metadata": {},
   "cell_type": "markdown",
   "source": "",
   "id": "bed04dc6abd7dfdf"
  },
  {
   "metadata": {
    "ExecuteTime": {
     "end_time": "2024-11-29T02:21:02.825424Z",
     "start_time": "2024-11-29T02:21:02.823061Z"
    }
   },
   "cell_type": "code",
   "source": [
    "# np.squeeze() : 차원의 값이 1일때 제거\n",
    "arr = np.array([[1, 2]])\n",
    "arr.shape, arr.ndim"
   ],
   "id": "2ef8dcd7d21086e0",
   "outputs": [
    {
     "data": {
      "text/plain": [
       "((1, 2), 2)"
      ]
     },
     "execution_count": 34,
     "metadata": {},
     "output_type": "execute_result"
    }
   ],
   "execution_count": 34
  },
  {
   "metadata": {
    "ExecuteTime": {
     "end_time": "2024-11-29T02:22:13.456177Z",
     "start_time": "2024-11-29T02:22:13.452679Z"
    }
   },
   "cell_type": "code",
   "source": [
    "arr2 = np.squeeze(arr, axis=0)\n",
    "arr2.shape, arr2.ndim"
   ],
   "id": "5547a7f24c05855e",
   "outputs": [
    {
     "data": {
      "text/plain": [
       "((2,), 1)"
      ]
     },
     "execution_count": 38,
     "metadata": {},
     "output_type": "execute_result"
    }
   ],
   "execution_count": 38
  },
  {
   "metadata": {
    "ExecuteTime": {
     "end_time": "2024-11-29T02:24:26.733050Z",
     "start_time": "2024-11-29T02:24:26.729920Z"
    }
   },
   "cell_type": "code",
   "source": [
    "arr = np.array([[[1], [2]], [[3], [4]]])\n",
    "arr.shape, arr.ndim"
   ],
   "id": "c1c481b95c9d7809",
   "outputs": [
    {
     "data": {
      "text/plain": [
       "((2, 2, 1), 3)"
      ]
     },
     "execution_count": 40,
     "metadata": {},
     "output_type": "execute_result"
    }
   ],
   "execution_count": 40
  },
  {
   "metadata": {
    "ExecuteTime": {
     "end_time": "2024-11-29T02:25:45.575426Z",
     "start_time": "2024-11-29T02:25:45.570075Z"
    }
   },
   "cell_type": "code",
   "source": [
    "arr2 = np.squeeze(arr, axis=2)\n",
    "arr2.shape, arr2.ndim"
   ],
   "id": "6fbdeffc417eb0f9",
   "outputs": [
    {
     "data": {
      "text/plain": [
       "((2, 2), 2)"
      ]
     },
     "execution_count": 41,
     "metadata": {},
     "output_type": "execute_result"
    }
   ],
   "execution_count": 41
  }
 ],
 "metadata": {
  "kernelspec": {
   "display_name": "Python 3",
   "language": "python",
   "name": "python3"
  },
  "language_info": {
   "codemirror_mode": {
    "name": "ipython",
    "version": 2
   },
   "file_extension": ".py",
   "mimetype": "text/x-python",
   "name": "python",
   "nbconvert_exporter": "python",
   "pygments_lexer": "ipython2",
   "version": "2.7.6"
  }
 },
 "nbformat": 4,
 "nbformat_minor": 5
}
