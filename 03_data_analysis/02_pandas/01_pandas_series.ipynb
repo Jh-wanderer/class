{
 "cells": [
  {
   "metadata": {},
   "cell_type": "markdown",
   "source": [
    "# pandas\n",
    "\n",
    "pandas는 2차원 데이터를 분석/조작하는데 최적화된 자료형을 제공한다.\n",
    "\n",
    "- Series : index(label)을 통해 처리가능한 1차원 배열\n",
    "- DataFrame : 2차원 행렬(표). Series 묶어낸 자료형"
   ],
   "id": "997a32707d91aac8"
  },
  {
   "cell_type": "code",
   "id": "initial_id",
   "metadata": {
    "collapsed": true,
    "ExecuteTime": {
     "end_time": "2024-11-29T02:39:44.487008Z",
     "start_time": "2024-11-29T02:39:40.382256Z"
    }
   },
   "source": [
    "# 설치\n",
    "# !conda install pandas"
   ],
   "outputs": [
    {
     "name": "stdout",
     "output_type": "stream",
     "text": [
      "^C\n"
     ]
    }
   ],
   "execution_count": 1
  },
  {
   "metadata": {
    "ExecuteTime": {
     "end_time": "2024-11-29T02:41:10.800774Z",
     "start_time": "2024-11-29T02:41:10.585108Z"
    }
   },
   "cell_type": "code",
   "source": [
    "import numpy as np\n",
    "import pandas as pd\n",
    "\n",
    "pd.__version__"
   ],
   "id": "6a531de254714fd9",
   "outputs": [
    {
     "data": {
      "text/plain": [
       "'2.2.3'"
      ]
     },
     "execution_count": 2,
     "metadata": {},
     "output_type": "execute_result"
    }
   ],
   "execution_count": 2
  },
  {
   "metadata": {},
   "cell_type": "markdown",
   "source": "## Series",
   "id": "d637c9f52d5bca42"
  },
  {
   "metadata": {},
   "cell_type": "markdown",
   "source": "### Series 생성",
   "id": "16c814fc02573725"
  },
  {
   "metadata": {
    "ExecuteTime": {
     "end_time": "2024-11-29T02:48:17.204659Z",
     "start_time": "2024-11-29T02:48:17.200530Z"
    }
   },
   "cell_type": "code",
   "source": [
    "# list로 생성하기\n",
    "stocks = ['NVDA', 'MSFT', 'AAPL', 'GOOG', 'TSLA']\n",
    "stocks_ser = pd.Series(stocks)\n",
    "stocks_ser\n",
    "print(type(stocks_ser))\n",
    "print(stocks_ser[0], stocks_ser[1])\n",
    "# series 이름 지정\n",
    "stocks_ser.name = '미국주식'\n",
    "stocks_ser"
   ],
   "id": "24af2da762021333",
   "outputs": [
    {
     "name": "stdout",
     "output_type": "stream",
     "text": [
      "<class 'pandas.core.series.Series'>\n",
      "NVDA MSFT\n"
     ]
    },
    {
     "data": {
      "text/plain": [
       "0    NVDA\n",
       "1    MSFT\n",
       "2    AAPL\n",
       "3    GOOG\n",
       "4    TSLA\n",
       "Name: 미국주식, dtype: object"
      ]
     },
     "execution_count": 12,
     "metadata": {},
     "output_type": "execute_result"
    }
   ],
   "execution_count": 12
  },
  {
   "metadata": {
    "ExecuteTime": {
     "end_time": "2024-11-29T03:09:18.034044Z",
     "start_time": "2024-11-29T03:09:18.030962Z"
    }
   },
   "cell_type": "code",
   "source": [
    "nums = pd.Series(np.random.randn(5))\n",
    "nums"
   ],
   "id": "61546e73bf9dad8f",
   "outputs": [
    {
     "data": {
      "text/plain": [
       "0   -0.350658\n",
       "1    0.188942\n",
       "2    0.149807\n",
       "3   -0.467096\n",
       "4   -1.212346\n",
       "dtype: float64"
      ]
     },
     "execution_count": 18,
     "metadata": {},
     "output_type": "execute_result"
    }
   ],
   "execution_count": 18
  },
  {
   "metadata": {
    "ExecuteTime": {
     "end_time": "2024-11-29T03:13:53.473131Z",
     "start_time": "2024-11-29T03:13:53.469709Z"
    }
   },
   "cell_type": "code",
   "source": [
    "# ndarray로 생성하기\n",
    "nums = pd.Series(np.random.randn(5))\n",
    "nums = pd.Series(np.random.randn(5), index=['a', 'b', 'c', 'd', 'e'])\n",
    "nums\n",
    "print(nums[2])\n",
    "print(nums['c'])\n",
    "print(nums[2], nums.iloc[2]) # integer location 인덱스를 통한 참조\n",
    "print(nums['c'], nums.loc['c']) # location 인덱스 라벨을 통한 참조\n"
   ],
   "id": "e9667482cf13732b",
   "outputs": [
    {
     "name": "stdout",
     "output_type": "stream",
     "text": [
      "-0.5548965966159434\n",
      "-0.5548965966159434\n",
      "-0.5548965966159434 -0.5548965966159434\n",
      "-0.5548965966159434 -0.5548965966159434\n"
     ]
    },
    {
     "name": "stderr",
     "output_type": "stream",
     "text": [
      "C:\\Users\\wonov\\AppData\\Local\\Temp\\ipykernel_22976\\888777207.py:5: FutureWarning: Series.__getitem__ treating keys as positions is deprecated. In a future version, integer keys will always be treated as labels (consistent with DataFrame behavior). To access a value by position, use `ser.iloc[pos]`\n",
      "  print(nums[2])\n",
      "C:\\Users\\wonov\\AppData\\Local\\Temp\\ipykernel_22976\\888777207.py:7: FutureWarning: Series.__getitem__ treating keys as positions is deprecated. In a future version, integer keys will always be treated as labels (consistent with DataFrame behavior). To access a value by position, use `ser.iloc[pos]`\n",
      "  print(nums[2], nums.iloc[2]) # integer location 인덱스를 통한 참조\n"
     ]
    }
   ],
   "execution_count": 22
  },
  {
   "metadata": {
    "ExecuteTime": {
     "end_time": "2024-11-29T03:18:26.711626Z",
     "start_time": "2024-11-29T03:18:26.707167Z"
    }
   },
   "cell_type": "code",
   "source": [
    "# dict로 생성하기\n",
    "info = {'a':10, 'b':20, 'c':30}\n",
    "info_ser = pd.Series(info)\n",
    "info_ser\n",
    "print(info_ser.index)\n",
    "info_ser.index = ['A','B','C']\n",
    "info_ser"
   ],
   "id": "62580a1d6c3f53a4",
   "outputs": [
    {
     "name": "stdout",
     "output_type": "stream",
     "text": [
      "Index(['a', 'b', 'c'], dtype='object')\n"
     ]
    },
    {
     "data": {
      "text/plain": [
       "A    10\n",
       "B    20\n",
       "C    30\n",
       "dtype: int64"
      ]
     },
     "execution_count": 25,
     "metadata": {},
     "output_type": "execute_result"
    }
   ],
   "execution_count": 25
  },
  {
   "metadata": {
    "ExecuteTime": {
     "end_time": "2024-11-29T03:22:17.091001Z",
     "start_time": "2024-11-29T03:22:17.087648Z"
    }
   },
   "cell_type": "code",
   "source": [
    "# scalar value로 생성하기\n",
    "num_ser = pd.Series(5.5, index=['a','b','c','d','e'])\n",
    "num_ser\n",
    "print(num_ser.dtype) # series 하나의 타입만 사용가능"
   ],
   "id": "bec0bcae7c5c8455",
   "outputs": [
    {
     "name": "stdout",
     "output_type": "stream",
     "text": [
      "float64\n"
     ]
    }
   ],
   "execution_count": 27
  },
  {
   "metadata": {},
   "cell_type": "markdown",
   "source": "### Series 속성",
   "id": "969ff5cee81df1c5"
  },
  {
   "metadata": {
    "ExecuteTime": {
     "end_time": "2024-11-29T03:27:43.955105Z",
     "start_time": "2024-11-29T03:27:43.950775Z"
    }
   },
   "cell_type": "code",
   "source": [
    "# 내가 좋아하는 영화로 Series객체 생성\n",
    "movies = ['사운드 오브 뮤직', '파묘', '오펜하이머', '탑건']\n",
    "movies_ser = pd.Series(movies)\n",
    "print(type(movies_ser))\n",
    "movies_ser"
   ],
   "id": "4caf345bacf62a19",
   "outputs": [
    {
     "name": "stdout",
     "output_type": "stream",
     "text": [
      "<class 'pandas.core.series.Series'>\n"
     ]
    },
    {
     "data": {
      "text/plain": [
       "0    사운드 오브 뮤직\n",
       "1           파묘\n",
       "2        오펜하이머\n",
       "3           탑건\n",
       "dtype: object"
      ]
     },
     "execution_count": 30,
     "metadata": {},
     "output_type": "execute_result"
    }
   ],
   "execution_count": 30
  },
  {
   "metadata": {
    "ExecuteTime": {
     "end_time": "2024-11-29T03:29:51.746596Z",
     "start_time": "2024-11-29T03:29:51.743980Z"
    }
   },
   "cell_type": "code",
   "source": [
    "# ser.values\n",
    "\n",
    "# movies_ser.values\n",
    "movies_ser.to_numpy()"
   ],
   "id": "2b3c32ba1b71410d",
   "outputs": [
    {
     "data": {
      "text/plain": [
       "array(['사운드 오브 뮤직', '파묘', '오펜하이머', '탑건'], dtype=object)"
      ]
     },
     "execution_count": 46,
     "metadata": {},
     "output_type": "execute_result"
    }
   ],
   "execution_count": 46
  },
  {
   "metadata": {
    "ExecuteTime": {
     "end_time": "2024-11-29T03:30:19.492114Z",
     "start_time": "2024-11-29T03:30:19.487845Z"
    }
   },
   "cell_type": "code",
   "source": "movies_ser.array",
   "id": "19991d20ede2a1d5",
   "outputs": [
    {
     "data": {
      "text/plain": [
       "<NumpyExtensionArray>\n",
       "['사운드 오브 뮤직', '파묘', '오펜하이머', '탑건']\n",
       "Length: 4, dtype: object"
      ]
     },
     "execution_count": 47,
     "metadata": {},
     "output_type": "execute_result"
    }
   ],
   "execution_count": 47
  },
  {
   "metadata": {
    "ExecuteTime": {
     "end_time": "2024-11-29T03:33:21.438779Z",
     "start_time": "2024-11-29T03:33:21.435592Z"
    }
   },
   "cell_type": "code",
   "source": [
    "# index 기본적으로 숫자 인덱스, 라벨을 지정한 경우 라벨인덱스 반환\n",
    "movies_ser.index\n",
    "movies_ser.index = ['1st', '2nd', '3rd', '4th']\n",
    "movies_ser.index"
   ],
   "id": "f7a9806d602120a",
   "outputs": [
    {
     "data": {
      "text/plain": [
       "Index(['1st', '2nd', '3rd', '4th'], dtype='object')"
      ]
     },
     "execution_count": 49,
     "metadata": {},
     "output_type": "execute_result"
    }
   ],
   "execution_count": 49
  },
  {
   "metadata": {
    "ExecuteTime": {
     "end_time": "2024-11-29T03:35:40.078777Z",
     "start_time": "2024-11-29T03:35:40.075407Z"
    }
   },
   "cell_type": "code",
   "source": [
    "# dtype 요소의 자료형\n",
    "# dtype('O') object타입\n",
    "movies_ser.dtype"
   ],
   "id": "60b24ddf7d12f95a",
   "outputs": [
    {
     "data": {
      "text/plain": [
       "dtype('O')"
      ]
     },
     "execution_count": 50,
     "metadata": {},
     "output_type": "execute_result"
    }
   ],
   "execution_count": 50
  },
  {
   "metadata": {
    "ExecuteTime": {
     "end_time": "2024-11-29T03:37:27.648517Z",
     "start_time": "2024-11-29T03:37:27.642829Z"
    }
   },
   "cell_type": "code",
   "source": [
    "# shape 시리즈 형태. 1차원 배열\n",
    "movies_ser.shape"
   ],
   "id": "8de09afa2edb6ad2",
   "outputs": [
    {
     "data": {
      "text/plain": [
       "(4,)"
      ]
     },
     "execution_count": 52,
     "metadata": {},
     "output_type": "execute_result"
    }
   ],
   "execution_count": 52
  },
  {
   "metadata": {
    "ExecuteTime": {
     "end_time": "2024-11-29T03:37:48.422818Z",
     "start_time": "2024-11-29T03:37:48.419821Z"
    }
   },
   "cell_type": "code",
   "source": [
    "# size 요소의 개수\n",
    "movies_ser.size"
   ],
   "id": "9691e6ce151d31b0",
   "outputs": [
    {
     "data": {
      "text/plain": [
       "4"
      ]
     },
     "execution_count": 53,
     "metadata": {},
     "output_type": "execute_result"
    }
   ],
   "execution_count": 53
  },
  {
   "metadata": {
    "ExecuteTime": {
     "end_time": "2024-11-29T03:38:12.359394Z",
     "start_time": "2024-11-29T03:38:12.356977Z"
    }
   },
   "cell_type": "code",
   "source": [
    "# ndim 차원 깊이\n",
    "movies_ser.ndim"
   ],
   "id": "1046a3ca658254b",
   "outputs": [
    {
     "data": {
      "text/plain": [
       "1"
      ]
     },
     "execution_count": 54,
     "metadata": {},
     "output_type": "execute_result"
    }
   ],
   "execution_count": 54
  },
  {
   "metadata": {
    "ExecuteTime": {
     "end_time": "2024-11-29T03:40:07.746913Z",
     "start_time": "2024-11-29T03:40:07.743119Z"
    }
   },
   "cell_type": "code",
   "source": [
    "# is_unique 모두 고유한 값인지 여부\n",
    "# - True 중복값이 없다.\n",
    "# - False 중복값이 있다.\n",
    "movies_ser.is_unique"
   ],
   "id": "161e43022894bd4c",
   "outputs": [
    {
     "data": {
      "text/plain": [
       "True"
      ]
     },
     "execution_count": 55,
     "metadata": {},
     "output_type": "execute_result"
    }
   ],
   "execution_count": 55
  },
  {
   "metadata": {},
   "cell_type": "markdown",
   "source": "### Series 메소드",
   "id": "93747fbc50edb5dc"
  },
  {
   "metadata": {
    "ExecuteTime": {
     "end_time": "2024-11-29T03:41:06.534622Z",
     "start_time": "2024-11-29T03:41:06.531198Z"
    }
   },
   "cell_type": "code",
   "source": [
    "nums = pd.Series([10, 20, 30, 40, 50])\n",
    "nums"
   ],
   "id": "a969296809c7b52b",
   "outputs": [
    {
     "data": {
      "text/plain": [
       "0    10\n",
       "1    20\n",
       "2    30\n",
       "3    40\n",
       "4    50\n",
       "dtype: int64"
      ]
     },
     "execution_count": 56,
     "metadata": {},
     "output_type": "execute_result"
    }
   ],
   "execution_count": 56
  },
  {
   "metadata": {
    "ExecuteTime": {
     "end_time": "2024-11-29T03:41:50.487437Z",
     "start_time": "2024-11-29T03:41:50.483242Z"
    }
   },
   "cell_type": "code",
   "source": [
    "# sum() 누적합\n",
    "nums.sum()"
   ],
   "id": "b5602d6eae5cee63",
   "outputs": [
    {
     "data": {
      "text/plain": [
       "np.int64(150)"
      ]
     },
     "execution_count": 57,
     "metadata": {},
     "output_type": "execute_result"
    }
   ],
   "execution_count": 57
  },
  {
   "metadata": {
    "ExecuteTime": {
     "end_time": "2024-11-29T03:42:46.115659Z",
     "start_time": "2024-11-29T03:42:46.112530Z"
    }
   },
   "cell_type": "code",
   "source": [
    "# product() 누적곱\n",
    "nums.product()"
   ],
   "id": "319ded5c9489ce53",
   "outputs": [
    {
     "data": {
      "text/plain": [
       "np.int64(12000000)"
      ]
     },
     "execution_count": 58,
     "metadata": {},
     "output_type": "execute_result"
    }
   ],
   "execution_count": 58
  },
  {
   "metadata": {
    "ExecuteTime": {
     "end_time": "2024-11-29T03:43:11.596496Z",
     "start_time": "2024-11-29T03:43:11.592923Z"
    }
   },
   "cell_type": "code",
   "source": [
    "# mean() 평균\n",
    "nums.mean()"
   ],
   "id": "2332b7c72b7b3514",
   "outputs": [
    {
     "data": {
      "text/plain": [
       "np.float64(30.0)"
      ]
     },
     "execution_count": 59,
     "metadata": {},
     "output_type": "execute_result"
    }
   ],
   "execution_count": 59
  },
  {
   "metadata": {
    "ExecuteTime": {
     "end_time": "2024-11-29T03:44:39.738548Z",
     "start_time": "2024-11-29T03:44:39.735556Z"
    }
   },
   "cell_type": "code",
   "source": [
    "# head() 앞에서 n건 조회(기본값:5)\n",
    "nums.head(2)"
   ],
   "id": "33bf6abb4c19a581",
   "outputs": [
    {
     "data": {
      "text/plain": [
       "0    10\n",
       "1    20\n",
       "dtype: int64"
      ]
     },
     "execution_count": 61,
     "metadata": {},
     "output_type": "execute_result"
    }
   ],
   "execution_count": 61
  },
  {
   "metadata": {
    "ExecuteTime": {
     "end_time": "2024-11-29T03:45:58.126469Z",
     "start_time": "2024-11-29T03:45:58.123346Z"
    }
   },
   "cell_type": "code",
   "source": [
    "# tail() 뒤에서 n건 조회(기본값:5)\n",
    "nums.tail(2)"
   ],
   "id": "30d67f6ef29667c0",
   "outputs": [
    {
     "data": {
      "text/plain": [
       "3    40\n",
       "4    50\n",
       "dtype: int64"
      ]
     },
     "execution_count": 63,
     "metadata": {},
     "output_type": "execute_result"
    }
   ],
   "execution_count": 63
  },
  {
   "metadata": {
    "ExecuteTime": {
     "end_time": "2024-11-29T03:46:50.987630Z",
     "start_time": "2024-11-29T03:46:50.977818Z"
    }
   },
   "cell_type": "code",
   "source": [
    "# info() 메타정보 (not-null확인, 자료형)\n",
    "nums.info()"
   ],
   "id": "882cbfe5faf29ef6",
   "outputs": [
    {
     "name": "stdout",
     "output_type": "stream",
     "text": [
      "<class 'pandas.core.series.Series'>\n",
      "RangeIndex: 5 entries, 0 to 4\n",
      "Series name: None\n",
      "Non-Null Count  Dtype\n",
      "--------------  -----\n",
      "5 non-null      int64\n",
      "dtypes: int64(1)\n",
      "memory usage: 172.0 bytes\n"
     ]
    }
   ],
   "execution_count": 64
  },
  {
   "metadata": {
    "ExecuteTime": {
     "end_time": "2024-11-29T03:48:21.490285Z",
     "start_time": "2024-11-29T03:48:21.485152Z"
    }
   },
   "cell_type": "code",
   "source": [
    "# describe() 데이터 분석/설명\n",
    "nums.describe()"
   ],
   "id": "4d4a51ca12f32e2a",
   "outputs": [
    {
     "data": {
      "text/plain": [
       "count     5.000000\n",
       "mean     30.000000\n",
       "std      15.811388\n",
       "min      10.000000\n",
       "25%      20.000000\n",
       "50%      30.000000\n",
       "75%      40.000000\n",
       "max      50.000000\n",
       "dtype: float64"
      ]
     },
     "execution_count": 65,
     "metadata": {},
     "output_type": "execute_result"
    }
   ],
   "execution_count": 65
  },
  {
   "metadata": {
    "ExecuteTime": {
     "end_time": "2024-11-29T05:19:14.191725Z",
     "start_time": "2024-11-29T05:19:14.188173Z"
    }
   },
   "cell_type": "code",
   "source": [
    "# loc[인덱스라벨]\n",
    "# iloc[인덱스]\n",
    "# nums.iloc[1]\n",
    "\n",
    "nums.index = list('abcde') # ['a', 'b', 'c', 'd', 'e']\n",
    "nums.iloc[1], nums.loc['b']\n"
   ],
   "id": "3f4b7dc8315ed340",
   "outputs": [
    {
     "data": {
      "text/plain": [
       "(np.int64(20), np.int64(20))"
      ]
     },
     "execution_count": 74,
     "metadata": {},
     "output_type": "execute_result"
    }
   ],
   "execution_count": 74
  },
  {
   "metadata": {
    "ExecuteTime": {
     "end_time": "2024-11-29T05:26:28.002306Z",
     "start_time": "2024-11-29T05:26:27.996019Z"
    }
   },
   "cell_type": "code",
   "source": [
    "# csv파일을 불러서 DataFrame 객체로 반환\n",
    "sp_500_df = pd.read_csv('./data/S_P500_Prices.csv')\n",
    "sp_500_df\n"
   ],
   "id": "97c130a6778863ba",
   "outputs": [
    {
     "data": {
      "text/plain": [
       "            sp500\n",
       "0     1295.500000\n",
       "1     1289.089966\n",
       "2     1293.670044\n",
       "3     1308.040039\n",
       "4     1314.500000\n",
       "...           ...\n",
       "2154  3327.770020\n",
       "2155  3349.159912\n",
       "2156  3351.280029\n",
       "2157  3360.469971\n",
       "2158  3333.689941\n",
       "\n",
       "[2159 rows x 1 columns]"
      ],
      "text/html": [
       "<div>\n",
       "<style scoped>\n",
       "    .dataframe tbody tr th:only-of-type {\n",
       "        vertical-align: middle;\n",
       "    }\n",
       "\n",
       "    .dataframe tbody tr th {\n",
       "        vertical-align: top;\n",
       "    }\n",
       "\n",
       "    .dataframe thead th {\n",
       "        text-align: right;\n",
       "    }\n",
       "</style>\n",
       "<table border=\"1\" class=\"dataframe\">\n",
       "  <thead>\n",
       "    <tr style=\"text-align: right;\">\n",
       "      <th></th>\n",
       "      <th>sp500</th>\n",
       "    </tr>\n",
       "  </thead>\n",
       "  <tbody>\n",
       "    <tr>\n",
       "      <th>0</th>\n",
       "      <td>1295.500000</td>\n",
       "    </tr>\n",
       "    <tr>\n",
       "      <th>1</th>\n",
       "      <td>1289.089966</td>\n",
       "    </tr>\n",
       "    <tr>\n",
       "      <th>2</th>\n",
       "      <td>1293.670044</td>\n",
       "    </tr>\n",
       "    <tr>\n",
       "      <th>3</th>\n",
       "      <td>1308.040039</td>\n",
       "    </tr>\n",
       "    <tr>\n",
       "      <th>4</th>\n",
       "      <td>1314.500000</td>\n",
       "    </tr>\n",
       "    <tr>\n",
       "      <th>...</th>\n",
       "      <td>...</td>\n",
       "    </tr>\n",
       "    <tr>\n",
       "      <th>2154</th>\n",
       "      <td>3327.770020</td>\n",
       "    </tr>\n",
       "    <tr>\n",
       "      <th>2155</th>\n",
       "      <td>3349.159912</td>\n",
       "    </tr>\n",
       "    <tr>\n",
       "      <th>2156</th>\n",
       "      <td>3351.280029</td>\n",
       "    </tr>\n",
       "    <tr>\n",
       "      <th>2157</th>\n",
       "      <td>3360.469971</td>\n",
       "    </tr>\n",
       "    <tr>\n",
       "      <th>2158</th>\n",
       "      <td>3333.689941</td>\n",
       "    </tr>\n",
       "  </tbody>\n",
       "</table>\n",
       "<p>2159 rows × 1 columns</p>\n",
       "</div>"
      ]
     },
     "execution_count": 76,
     "metadata": {},
     "output_type": "execute_result"
    }
   ],
   "execution_count": 76
  },
  {
   "metadata": {
    "ExecuteTime": {
     "end_time": "2024-11-29T05:32:51.485275Z",
     "start_time": "2024-11-29T05:32:51.481578Z"
    }
   },
   "cell_type": "code",
   "source": [
    "# df.squeeze()\n",
    "# DataFrame의 Series가 하나인 경우, Series객체를 반환\n",
    "type(sp_500_df) # DataFrame\n",
    "sp_500 = sp_500_df.squeeze()\n",
    "type(sp_500) # Series"
   ],
   "id": "548886e089610860",
   "outputs": [
    {
     "data": {
      "text/plain": [
       "pandas.core.series.Series"
      ]
     },
     "execution_count": 78,
     "metadata": {},
     "output_type": "execute_result"
    }
   ],
   "execution_count": 78
  },
  {
   "metadata": {
    "ExecuteTime": {
     "end_time": "2024-11-29T05:35:02.154996Z",
     "start_time": "2024-11-29T05:35:02.150709Z"
    }
   },
   "cell_type": "code",
   "source": "sp_500.info()",
   "id": "6005f21f64814530",
   "outputs": [
    {
     "name": "stdout",
     "output_type": "stream",
     "text": [
      "<class 'pandas.core.series.Series'>\n",
      "RangeIndex: 2159 entries, 0 to 2158\n",
      "Series name: sp500\n",
      "Non-Null Count  Dtype  \n",
      "--------------  -----  \n",
      "2159 non-null   float64\n",
      "dtypes: float64(1)\n",
      "memory usage: 17.0 KB\n"
     ]
    }
   ],
   "execution_count": 79
  },
  {
   "metadata": {
    "ExecuteTime": {
     "end_time": "2024-11-29T05:36:23.667842Z",
     "start_time": "2024-11-29T05:36:23.662031Z"
    }
   },
   "cell_type": "code",
   "source": "sp_500.describe()",
   "id": "a5353f49b6d2b9c7",
   "outputs": [
    {
     "data": {
      "text/plain": [
       "count    2159.000000\n",
       "mean     2218.749554\n",
       "std       537.321727\n",
       "min      1278.040039\n",
       "25%      1847.984985\n",
       "50%      2106.629883\n",
       "75%      2705.810059\n",
       "max      3386.149902\n",
       "Name: sp500, dtype: float64"
      ]
     },
     "execution_count": 80,
     "metadata": {},
     "output_type": "execute_result"
    }
   ],
   "execution_count": 80
  },
  {
   "metadata": {
    "ExecuteTime": {
     "end_time": "2024-11-29T05:38:09.859253Z",
     "start_time": "2024-11-29T05:38:09.856075Z"
    }
   },
   "cell_type": "code",
   "source": "sp_500.shape, sp_500.size, sp_500.ndim",
   "id": "74db5ed9773951de",
   "outputs": [
    {
     "data": {
      "text/plain": [
       "((2159,), 2159, 1)"
      ]
     },
     "execution_count": 83,
     "metadata": {},
     "output_type": "execute_result"
    }
   ],
   "execution_count": 83
  },
  {
   "metadata": {
    "ExecuteTime": {
     "end_time": "2024-11-29T05:39:47.112665Z",
     "start_time": "2024-11-29T05:39:47.108007Z"
    }
   },
   "cell_type": "code",
   "source": "sp_500.count(), sp_500.min(), sp_500.median(), sp_500.max(), sp_500.mean(), sp_500.std(), sp_500.var()",
   "id": "f64604f6a0565853",
   "outputs": [
    {
     "data": {
      "text/plain": [
       "(np.int64(2159),\n",
       " np.float64(1278.040039),\n",
       " np.float64(2106.629883),\n",
       " np.float64(3386.149902),\n",
       " np.float64(2218.7495540592868),\n",
       " np.float64(537.3217268874763),\n",
       " np.float64(288714.6381853397))"
      ]
     },
     "execution_count": 84,
     "metadata": {},
     "output_type": "execute_result"
    }
   ],
   "execution_count": 84
  },
  {
   "metadata": {
    "ExecuteTime": {
     "end_time": "2024-11-29T05:43:54.957756Z",
     "start_time": "2024-11-29T05:43:54.954096Z"
    }
   },
   "cell_type": "code",
   "source": [
    "# indexing/slicing\n",
    "sp_500.iloc[50]\n",
    "type(sp_500.iloc[50])"
   ],
   "id": "62b916e764669cec",
   "outputs": [
    {
     "data": {
      "text/plain": [
       "numpy.float64"
      ]
     },
     "execution_count": 88,
     "metadata": {},
     "output_type": "execute_result"
    }
   ],
   "execution_count": 88
  },
  {
   "metadata": {
    "ExecuteTime": {
     "end_time": "2024-11-29T05:44:48.316906Z",
     "start_time": "2024-11-29T05:44:48.313778Z"
    }
   },
   "cell_type": "code",
   "source": [
    "sp_500.iloc[100:200]\n",
    "print(type(sp_500.iloc[100:200]))\n",
    "print(sp_500.iloc[100:200])"
   ],
   "id": "b7e47cff6ed0837",
   "outputs": [
    {
     "name": "stdout",
     "output_type": "stream",
     "text": [
      "<class 'pandas.core.series.Series'>\n",
      "100    1315.130005\n",
      "101    1314.989990\n",
      "102    1325.660034\n",
      "103    1308.930054\n",
      "104    1324.180054\n",
      "          ...     \n",
      "195    1433.189941\n",
      "196    1433.819946\n",
      "197    1413.109985\n",
      "198    1408.750000\n",
      "199    1412.969971\n",
      "Name: sp500, Length: 100, dtype: float64\n"
     ]
    }
   ],
   "execution_count": 90
  },
  {
   "metadata": {
    "ExecuteTime": {
     "end_time": "2024-11-29T05:46:21.823473Z",
     "start_time": "2024-11-29T05:46:21.815875Z"
    }
   },
   "cell_type": "code",
   "source": [
    "# fancy indexing\n",
    "sp_500[[100, 200]]"
   ],
   "id": "8f5a1eb3ebfedf86",
   "outputs": [
    {
     "data": {
      "text/plain": [
       "100    1315.130005\n",
       "200    1411.939941\n",
       "Name: sp500, dtype: float64"
      ]
     },
     "execution_count": 91,
     "metadata": {},
     "output_type": "execute_result"
    }
   ],
   "execution_count": 91
  },
  {
   "metadata": {
    "ExecuteTime": {
     "end_time": "2024-11-29T05:48:41.165454Z",
     "start_time": "2024-11-29T05:48:41.162303Z"
    }
   },
   "cell_type": "code",
   "source": [
    "# boolean indexing\n",
    "sp_500.iloc[sp_500.values > 3000]\n",
    "print(sp_500.iloc[sp_500.values > 3000])"
   ],
   "id": "4c9bf491c44cc56c",
   "outputs": [
    {
     "name": "stdout",
     "output_type": "stream",
     "text": [
      "1885    3013.770020\n",
      "1886    3014.300049\n",
      "1887    3004.040039\n",
      "1892    3005.469971\n",
      "1893    3019.560059\n",
      "           ...     \n",
      "2154    3327.770020\n",
      "2155    3349.159912\n",
      "2156    3351.280029\n",
      "2157    3360.469971\n",
      "2158    3333.689941\n",
      "Name: sp500, Length: 160, dtype: float64\n"
     ]
    }
   ],
   "execution_count": 97
  },
  {
   "metadata": {
    "ExecuteTime": {
     "end_time": "2024-11-29T06:02:58.504846Z",
     "start_time": "2024-11-29T06:02:58.501731Z"
    }
   },
   "cell_type": "code",
   "source": [
    "# 값중에 특정요소 포함여부 in\n",
    "3327.770020 in sp_500.values"
   ],
   "id": "c9423f6b14788524",
   "outputs": [
    {
     "data": {
      "text/plain": [
       "True"
      ]
     },
     "execution_count": 98,
     "metadata": {},
     "output_type": "execute_result"
    }
   ],
   "execution_count": 98
  },
  {
   "metadata": {
    "ExecuteTime": {
     "end_time": "2024-11-29T06:05:15.524103Z",
     "start_time": "2024-11-29T06:05:15.521517Z"
    }
   },
   "cell_type": "code",
   "source": [
    "2000 in sp_500.index\n",
    "2000 in sp_500 # series 검색기준은 index가 기본값이다."
   ],
   "id": "6a25e1bab7cb2a08",
   "outputs": [
    {
     "data": {
      "text/plain": [
       "True"
      ]
     },
     "execution_count": 101,
     "metadata": {},
     "output_type": "execute_result"
    }
   ],
   "execution_count": 101
  },
  {
   "metadata": {
    "ExecuteTime": {
     "end_time": "2024-11-29T06:07:35.555693Z",
     "start_time": "2024-11-29T06:07:35.552290Z"
    }
   },
   "cell_type": "code",
   "source": [
    "# 정렬하기 sort_values()\n",
    "sp_500.sort_values()\n",
    "# sp_500.sort_values(inplace=True) # inplace 연산\n",
    "# sp_500 = sp_500.sort_values() # inplace 연산"
   ],
   "id": "712b5af8c946e369",
   "outputs": [
    {
     "data": {
      "text/plain": [
       "97      1278.040039\n",
       "98      1278.180054\n",
       "99      1285.500000\n",
       "1       1289.089966\n",
       "2       1293.670044\n",
       "           ...     \n",
       "2038    3373.229980\n",
       "2034    3373.939941\n",
       "2033    3379.449951\n",
       "2035    3380.159912\n",
       "2037    3386.149902\n",
       "Name: sp500, Length: 2159, dtype: float64"
      ]
     },
     "execution_count": 105,
     "metadata": {},
     "output_type": "execute_result"
    }
   ],
   "execution_count": 105
  },
  {
   "metadata": {
    "ExecuteTime": {
     "end_time": "2024-11-29T06:10:52.290158Z",
     "start_time": "2024-11-29T06:10:52.285618Z"
    }
   },
   "cell_type": "code",
   "source": "sp_500",
   "id": "afb572428d9f1010",
   "outputs": [
    {
     "data": {
      "text/plain": [
       "0       1295.500000\n",
       "1       1289.089966\n",
       "2       1293.670044\n",
       "3       1308.040039\n",
       "4       1314.500000\n",
       "           ...     \n",
       "2154    3327.770020\n",
       "2155    3349.159912\n",
       "2156    3351.280029\n",
       "2157    3360.469971\n",
       "2158    3333.689941\n",
       "Name: sp500, Length: 2159, dtype: float64"
      ]
     },
     "execution_count": 106,
     "metadata": {},
     "output_type": "execute_result"
    }
   ],
   "execution_count": 106
  },
  {
   "metadata": {
    "ExecuteTime": {
     "end_time": "2024-11-29T06:11:40.837650Z",
     "start_time": "2024-11-29T06:11:40.833639Z"
    }
   },
   "cell_type": "code",
   "source": "sp_500.sort_values(ascending=False)",
   "id": "674ec7a8c2fd3a07",
   "outputs": [
    {
     "data": {
      "text/plain": [
       "2037    3386.149902\n",
       "2035    3380.159912\n",
       "2033    3379.449951\n",
       "2034    3373.939941\n",
       "2038    3373.229980\n",
       "           ...     \n",
       "2       1293.670044\n",
       "1       1289.089966\n",
       "99      1285.500000\n",
       "98      1278.180054\n",
       "97      1278.040039\n",
       "Name: sp500, Length: 2159, dtype: float64"
      ]
     },
     "execution_count": 107,
     "metadata": {},
     "output_type": "execute_result"
    }
   ],
   "execution_count": 107
  }
 ],
 "metadata": {
  "kernelspec": {
   "display_name": "Python 3",
   "language": "python",
   "name": "python3"
  },
  "language_info": {
   "codemirror_mode": {
    "name": "ipython",
    "version": 2
   },
   "file_extension": ".py",
   "mimetype": "text/x-python",
   "name": "python",
   "nbconvert_exporter": "python",
   "pygments_lexer": "ipython2",
   "version": "2.7.6"
  }
 },
 "nbformat": 4,
 "nbformat_minor": 5
}
