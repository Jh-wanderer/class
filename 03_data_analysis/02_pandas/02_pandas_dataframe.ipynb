{
 "cells": [
  {
   "metadata": {},
   "cell_type": "markdown",
   "source": [
    "# DataFrame\n",
    "\n",
    "https://pandas.pydata.org/docs/reference/frame.html"
   ],
   "id": "63e59fe793b7f25c"
  },
  {
   "metadata": {},
   "cell_type": "markdown",
   "source": "## DataFrame 생성",
   "id": "fee53e8f849f50ff"
  },
  {
   "cell_type": "code",
   "id": "initial_id",
   "metadata": {
    "collapsed": true,
    "ExecuteTime": {
     "end_time": "2024-12-02T02:09:07.320476Z",
     "start_time": "2024-12-02T02:08:56.481626Z"
    }
   },
   "source": [
    "import pandas as pd\n",
    "import numpy as np"
   ],
   "outputs": [],
   "execution_count": 2
  },
  {
   "metadata": {
    "ExecuteTime": {
     "end_time": "2024-12-02T02:03:18.194380Z",
     "start_time": "2024-12-02T02:03:17.862863Z"
    }
   },
   "cell_type": "code",
   "source": [
    "# dict-list 생성하기\n",
    "data = {\n",
    "    'one' : [1, 2, 3, 4, 5],\n",
    "    'two' : ['가', '나', '다', '라', '마'],\n",
    "    'three' : [1.23, 2.34, 3.45, 4.56, 5.67],\n",
    "    'four' : True\n",
    "}\n",
    "df = pd.DataFrame(data)\n",
    "df"
   ],
   "id": "89ae41950fa20db1",
   "outputs": [
    {
     "ename": "NameError",
     "evalue": "name 'pd' is not defined",
     "output_type": "error",
     "traceback": [
      "\u001B[1;31m---------------------------------------------------------------------------\u001B[0m",
      "\u001B[1;31mNameError\u001B[0m                                 Traceback (most recent call last)",
      "Cell \u001B[1;32mIn[1], line 8\u001B[0m\n\u001B[0;32m      1\u001B[0m \u001B[38;5;66;03m# dict-list 생성하기\u001B[39;00m\n\u001B[0;32m      2\u001B[0m data \u001B[38;5;241m=\u001B[39m {\n\u001B[0;32m      3\u001B[0m     \u001B[38;5;124m'\u001B[39m\u001B[38;5;124mone\u001B[39m\u001B[38;5;124m'\u001B[39m : [\u001B[38;5;241m1\u001B[39m, \u001B[38;5;241m2\u001B[39m, \u001B[38;5;241m3\u001B[39m, \u001B[38;5;241m4\u001B[39m, \u001B[38;5;241m5\u001B[39m],\n\u001B[0;32m      4\u001B[0m     \u001B[38;5;124m'\u001B[39m\u001B[38;5;124mtwo\u001B[39m\u001B[38;5;124m'\u001B[39m : [\u001B[38;5;124m'\u001B[39m\u001B[38;5;124m가\u001B[39m\u001B[38;5;124m'\u001B[39m, \u001B[38;5;124m'\u001B[39m\u001B[38;5;124m나\u001B[39m\u001B[38;5;124m'\u001B[39m, \u001B[38;5;124m'\u001B[39m\u001B[38;5;124m다\u001B[39m\u001B[38;5;124m'\u001B[39m, \u001B[38;5;124m'\u001B[39m\u001B[38;5;124m라\u001B[39m\u001B[38;5;124m'\u001B[39m, \u001B[38;5;124m'\u001B[39m\u001B[38;5;124m마\u001B[39m\u001B[38;5;124m'\u001B[39m],\n\u001B[0;32m      5\u001B[0m     \u001B[38;5;124m'\u001B[39m\u001B[38;5;124mthree\u001B[39m\u001B[38;5;124m'\u001B[39m : [\u001B[38;5;241m1.23\u001B[39m, \u001B[38;5;241m2.34\u001B[39m, \u001B[38;5;241m3.45\u001B[39m, \u001B[38;5;241m4.56\u001B[39m, \u001B[38;5;241m5.67\u001B[39m],\n\u001B[0;32m      6\u001B[0m     \u001B[38;5;124m'\u001B[39m\u001B[38;5;124mfour\u001B[39m\u001B[38;5;124m'\u001B[39m : \u001B[38;5;28;01mTrue\u001B[39;00m\n\u001B[0;32m      7\u001B[0m }\n\u001B[1;32m----> 8\u001B[0m df \u001B[38;5;241m=\u001B[39m \u001B[43mpd\u001B[49m\u001B[38;5;241m.\u001B[39mDataFrame(data)\n\u001B[0;32m      9\u001B[0m df\n",
      "\u001B[1;31mNameError\u001B[0m: name 'pd' is not defined"
     ]
    }
   ],
   "execution_count": 1
  },
  {
   "metadata": {
    "ExecuteTime": {
     "end_time": "2024-12-02T00:27:16.191428Z",
     "start_time": "2024-12-02T00:27:16.189100Z"
    }
   },
   "cell_type": "code",
   "source": [
    "df['one']\n",
    "print(type(df['one']))"
   ],
   "id": "5719d7f42b084f52",
   "outputs": [
    {
     "name": "stdout",
     "output_type": "stream",
     "text": [
      "<class 'pandas.core.series.Series'>\n"
     ]
    }
   ],
   "execution_count": 6
  },
  {
   "metadata": {
    "ExecuteTime": {
     "end_time": "2024-12-02T00:27:16.229444Z",
     "start_time": "2024-12-02T00:27:16.223129Z"
    }
   },
   "cell_type": "code",
   "source": [
    "#list-dict 생성하기\n",
    "data = [\n",
    "    {'a': 1, 'b': 2},\n",
    "    {'a': 3, 'b': 4, 'c': 5},\n",
    "    {'a': 6, 'b': 7, 'c': 8}\n",
    "]\n",
    "df = pd.DataFrame(data)\n",
    "df\n",
    "\n",
    "df.index = ['홍길동', '신사임당', '이순신']\n",
    "print(df.index)\n",
    "\n",
    "print(df.columns)\n",
    "df.columns = ['협동심', '성실도', '인내심']\n",
    "print(df.columns)\n",
    "\n",
    "df"
   ],
   "id": "b5d8e634ca14c5fe",
   "outputs": [
    {
     "name": "stdout",
     "output_type": "stream",
     "text": [
      "Index(['홍길동', '신사임당', '이순신'], dtype='object')\n",
      "Index(['a', 'b', 'c'], dtype='object')\n",
      "Index(['협동심', '성실도', '인내심'], dtype='object')\n"
     ]
    },
    {
     "data": {
      "text/plain": [
       "      협동심  성실도  인내심\n",
       "홍길동     1    2  NaN\n",
       "신사임당    3    4  5.0\n",
       "이순신     6    7  8.0"
      ],
      "text/html": [
       "<div>\n",
       "<style scoped>\n",
       "    .dataframe tbody tr th:only-of-type {\n",
       "        vertical-align: middle;\n",
       "    }\n",
       "\n",
       "    .dataframe tbody tr th {\n",
       "        vertical-align: top;\n",
       "    }\n",
       "\n",
       "    .dataframe thead th {\n",
       "        text-align: right;\n",
       "    }\n",
       "</style>\n",
       "<table border=\"1\" class=\"dataframe\">\n",
       "  <thead>\n",
       "    <tr style=\"text-align: right;\">\n",
       "      <th></th>\n",
       "      <th>협동심</th>\n",
       "      <th>성실도</th>\n",
       "      <th>인내심</th>\n",
       "    </tr>\n",
       "  </thead>\n",
       "  <tbody>\n",
       "    <tr>\n",
       "      <th>홍길동</th>\n",
       "      <td>1</td>\n",
       "      <td>2</td>\n",
       "      <td>NaN</td>\n",
       "    </tr>\n",
       "    <tr>\n",
       "      <th>신사임당</th>\n",
       "      <td>3</td>\n",
       "      <td>4</td>\n",
       "      <td>5.0</td>\n",
       "    </tr>\n",
       "    <tr>\n",
       "      <th>이순신</th>\n",
       "      <td>6</td>\n",
       "      <td>7</td>\n",
       "      <td>8.0</td>\n",
       "    </tr>\n",
       "  </tbody>\n",
       "</table>\n",
       "</div>"
      ]
     },
     "execution_count": 7,
     "metadata": {},
     "output_type": "execute_result"
    }
   ],
   "execution_count": 7
  },
  {
   "metadata": {
    "ExecuteTime": {
     "end_time": "2024-12-02T00:27:16.315045Z",
     "start_time": "2024-12-02T00:27:16.311052Z"
    }
   },
   "cell_type": "code",
   "source": [
    "# 2차원 ndarray 생성\n",
    "arr = np.random.randn(2, 3)\n",
    "num_df = pd.DataFrame(arr)\n",
    "# num_df\n",
    "# print(type(num_df))\n",
    "\n",
    "# num_df.index = ['가', '나']\n",
    "# num_df.columns = ['A', 'B', 'C']\n",
    "\n",
    "num_df = pd.DataFrame(arr, index=['가', '나'], columns=['A', 'B', 'C'])\n",
    "\n",
    "num_df\n"
   ],
   "id": "a747607e268b5c53",
   "outputs": [
    {
     "data": {
      "text/plain": [
       "          A         B         C\n",
       "가  1.241108  0.847546  0.581280\n",
       "나  0.399920 -0.604142 -1.198872"
      ],
      "text/html": [
       "<div>\n",
       "<style scoped>\n",
       "    .dataframe tbody tr th:only-of-type {\n",
       "        vertical-align: middle;\n",
       "    }\n",
       "\n",
       "    .dataframe tbody tr th {\n",
       "        vertical-align: top;\n",
       "    }\n",
       "\n",
       "    .dataframe thead th {\n",
       "        text-align: right;\n",
       "    }\n",
       "</style>\n",
       "<table border=\"1\" class=\"dataframe\">\n",
       "  <thead>\n",
       "    <tr style=\"text-align: right;\">\n",
       "      <th></th>\n",
       "      <th>A</th>\n",
       "      <th>B</th>\n",
       "      <th>C</th>\n",
       "    </tr>\n",
       "  </thead>\n",
       "  <tbody>\n",
       "    <tr>\n",
       "      <th>가</th>\n",
       "      <td>1.241108</td>\n",
       "      <td>0.847546</td>\n",
       "      <td>0.581280</td>\n",
       "    </tr>\n",
       "    <tr>\n",
       "      <th>나</th>\n",
       "      <td>0.399920</td>\n",
       "      <td>-0.604142</td>\n",
       "      <td>-1.198872</td>\n",
       "    </tr>\n",
       "  </tbody>\n",
       "</table>\n",
       "</div>"
      ]
     },
     "execution_count": 8,
     "metadata": {},
     "output_type": "execute_result"
    }
   ],
   "execution_count": 8
  },
  {
   "metadata": {
    "ExecuteTime": {
     "end_time": "2024-12-02T00:27:16.365769Z",
     "start_time": "2024-12-02T00:27:16.361557Z"
    }
   },
   "cell_type": "code",
   "source": [
    "# 나와 내 친구 정보를 df객체로 생성\n",
    "# - 이름, 나이, 성별\n",
    "data = {\n",
    "    '이름' : ['홍길동', '신사임당'],\n",
    "    '나이' : [ 33, 48],\n",
    "    '성별' : ['M', 'F']\n",
    "}\n",
    "df = pd.DataFrame(data)\n",
    "df"
   ],
   "id": "f071dfad60dc0c55",
   "outputs": [
    {
     "data": {
      "text/plain": [
       "     이름  나이 성별\n",
       "0   홍길동  33  M\n",
       "1  신사임당  48  F"
      ],
      "text/html": [
       "<div>\n",
       "<style scoped>\n",
       "    .dataframe tbody tr th:only-of-type {\n",
       "        vertical-align: middle;\n",
       "    }\n",
       "\n",
       "    .dataframe tbody tr th {\n",
       "        vertical-align: top;\n",
       "    }\n",
       "\n",
       "    .dataframe thead th {\n",
       "        text-align: right;\n",
       "    }\n",
       "</style>\n",
       "<table border=\"1\" class=\"dataframe\">\n",
       "  <thead>\n",
       "    <tr style=\"text-align: right;\">\n",
       "      <th></th>\n",
       "      <th>이름</th>\n",
       "      <th>나이</th>\n",
       "      <th>성별</th>\n",
       "    </tr>\n",
       "  </thead>\n",
       "  <tbody>\n",
       "    <tr>\n",
       "      <th>0</th>\n",
       "      <td>홍길동</td>\n",
       "      <td>33</td>\n",
       "      <td>M</td>\n",
       "    </tr>\n",
       "    <tr>\n",
       "      <th>1</th>\n",
       "      <td>신사임당</td>\n",
       "      <td>48</td>\n",
       "      <td>F</td>\n",
       "    </tr>\n",
       "  </tbody>\n",
       "</table>\n",
       "</div>"
      ]
     },
     "execution_count": 9,
     "metadata": {},
     "output_type": "execute_result"
    }
   ],
   "execution_count": 9
  },
  {
   "metadata": {
    "ExecuteTime": {
     "end_time": "2024-12-02T00:27:16.431296Z",
     "start_time": "2024-12-02T00:27:16.427378Z"
    }
   },
   "cell_type": "code",
   "source": "df.T",
   "id": "69ace9f3ab217b1a",
   "outputs": [
    {
     "data": {
      "text/plain": [
       "      0     1\n",
       "이름  홍길동  신사임당\n",
       "나이   33    48\n",
       "성별    M     F"
      ],
      "text/html": [
       "<div>\n",
       "<style scoped>\n",
       "    .dataframe tbody tr th:only-of-type {\n",
       "        vertical-align: middle;\n",
       "    }\n",
       "\n",
       "    .dataframe tbody tr th {\n",
       "        vertical-align: top;\n",
       "    }\n",
       "\n",
       "    .dataframe thead th {\n",
       "        text-align: right;\n",
       "    }\n",
       "</style>\n",
       "<table border=\"1\" class=\"dataframe\">\n",
       "  <thead>\n",
       "    <tr style=\"text-align: right;\">\n",
       "      <th></th>\n",
       "      <th>0</th>\n",
       "      <th>1</th>\n",
       "    </tr>\n",
       "  </thead>\n",
       "  <tbody>\n",
       "    <tr>\n",
       "      <th>이름</th>\n",
       "      <td>홍길동</td>\n",
       "      <td>신사임당</td>\n",
       "    </tr>\n",
       "    <tr>\n",
       "      <th>나이</th>\n",
       "      <td>33</td>\n",
       "      <td>48</td>\n",
       "    </tr>\n",
       "    <tr>\n",
       "      <th>성별</th>\n",
       "      <td>M</td>\n",
       "      <td>F</td>\n",
       "    </tr>\n",
       "  </tbody>\n",
       "</table>\n",
       "</div>"
      ]
     },
     "execution_count": 10,
     "metadata": {},
     "output_type": "execute_result"
    }
   ],
   "execution_count": 10
  },
  {
   "metadata": {
    "ExecuteTime": {
     "end_time": "2024-12-02T00:27:16.487875Z",
     "start_time": "2024-12-02T00:27:16.483022Z"
    }
   },
   "cell_type": "code",
   "source": [
    "data = {\n",
    "    '홍길동' : ['홍길동', 33, 'M'],\n",
    "    '신사임당' : ['신사임당', 48, 'F']\n",
    "}\n",
    "df = pd.DataFrame(data, index=['이름', '나이', '성별'])\n",
    "df"
   ],
   "id": "3414d5e2d53a6e07",
   "outputs": [
    {
     "data": {
      "text/plain": [
       "    홍길동  신사임당\n",
       "이름  홍길동  신사임당\n",
       "나이   33    48\n",
       "성별    M     F"
      ],
      "text/html": [
       "<div>\n",
       "<style scoped>\n",
       "    .dataframe tbody tr th:only-of-type {\n",
       "        vertical-align: middle;\n",
       "    }\n",
       "\n",
       "    .dataframe tbody tr th {\n",
       "        vertical-align: top;\n",
       "    }\n",
       "\n",
       "    .dataframe thead th {\n",
       "        text-align: right;\n",
       "    }\n",
       "</style>\n",
       "<table border=\"1\" class=\"dataframe\">\n",
       "  <thead>\n",
       "    <tr style=\"text-align: right;\">\n",
       "      <th></th>\n",
       "      <th>홍길동</th>\n",
       "      <th>신사임당</th>\n",
       "    </tr>\n",
       "  </thead>\n",
       "  <tbody>\n",
       "    <tr>\n",
       "      <th>이름</th>\n",
       "      <td>홍길동</td>\n",
       "      <td>신사임당</td>\n",
       "    </tr>\n",
       "    <tr>\n",
       "      <th>나이</th>\n",
       "      <td>33</td>\n",
       "      <td>48</td>\n",
       "    </tr>\n",
       "    <tr>\n",
       "      <th>성별</th>\n",
       "      <td>M</td>\n",
       "      <td>F</td>\n",
       "    </tr>\n",
       "  </tbody>\n",
       "</table>\n",
       "</div>"
      ]
     },
     "execution_count": 11,
     "metadata": {},
     "output_type": "execute_result"
    }
   ],
   "execution_count": 11
  },
  {
   "metadata": {},
   "cell_type": "markdown",
   "source": "## DataFrame 속성",
   "id": "74a19b1d90f76dd0"
  },
  {
   "metadata": {
    "ExecuteTime": {
     "end_time": "2024-12-02T00:27:16.575462Z",
     "start_time": "2024-12-02T00:27:16.571254Z"
    }
   },
   "cell_type": "code",
   "source": "df.index",
   "id": "b1f7b9cea698ae52",
   "outputs": [
    {
     "data": {
      "text/plain": [
       "Index(['이름', '나이', '성별'], dtype='object')"
      ]
     },
     "execution_count": 12,
     "metadata": {},
     "output_type": "execute_result"
    }
   ],
   "execution_count": 12
  },
  {
   "metadata": {
    "ExecuteTime": {
     "end_time": "2024-12-02T00:27:16.644949Z",
     "start_time": "2024-12-02T00:27:16.642184Z"
    }
   },
   "cell_type": "code",
   "source": "df.columns",
   "id": "11b63bf8598f046b",
   "outputs": [
    {
     "data": {
      "text/plain": [
       "Index(['홍길동', '신사임당'], dtype='object')"
      ]
     },
     "execution_count": 13,
     "metadata": {},
     "output_type": "execute_result"
    }
   ],
   "execution_count": 13
  },
  {
   "metadata": {
    "ExecuteTime": {
     "end_time": "2024-12-02T00:27:16.722194Z",
     "start_time": "2024-12-02T00:27:16.719072Z"
    }
   },
   "cell_type": "code",
   "source": [
    "df.values\n",
    "print(type(df.values))\n",
    "print(df.values)"
   ],
   "id": "2eb51204fb2f7d37",
   "outputs": [
    {
     "name": "stdout",
     "output_type": "stream",
     "text": [
      "<class 'numpy.ndarray'>\n",
      "[['홍길동' '신사임당']\n",
      " [33 48]\n",
      " ['M' 'F']]\n"
     ]
    }
   ],
   "execution_count": 14
  },
  {
   "metadata": {
    "ExecuteTime": {
     "end_time": "2024-12-02T00:27:16.754362Z",
     "start_time": "2024-12-02T00:27:16.750842Z"
    }
   },
   "cell_type": "code",
   "source": "df.shape",
   "id": "30319294f5c1302c",
   "outputs": [
    {
     "data": {
      "text/plain": [
       "(3, 2)"
      ]
     },
     "execution_count": 15,
     "metadata": {},
     "output_type": "execute_result"
    }
   ],
   "execution_count": 15
  },
  {
   "metadata": {
    "ExecuteTime": {
     "end_time": "2024-12-02T00:27:16.786898Z",
     "start_time": "2024-12-02T00:27:16.784352Z"
    }
   },
   "cell_type": "code",
   "source": "df.size",
   "id": "e3326e62cbffa4bb",
   "outputs": [
    {
     "data": {
      "text/plain": [
       "6"
      ]
     },
     "execution_count": 16,
     "metadata": {},
     "output_type": "execute_result"
    }
   ],
   "execution_count": 16
  },
  {
   "metadata": {
    "ExecuteTime": {
     "end_time": "2024-12-02T00:27:16.814313Z",
     "start_time": "2024-12-02T00:27:16.811309Z"
    }
   },
   "cell_type": "code",
   "source": "df.ndim",
   "id": "e5b9f817c72fbcd9",
   "outputs": [
    {
     "data": {
      "text/plain": [
       "2"
      ]
     },
     "execution_count": 17,
     "metadata": {},
     "output_type": "execute_result"
    }
   ],
   "execution_count": 17
  },
  {
   "metadata": {
    "ExecuteTime": {
     "end_time": "2024-12-02T00:27:16.840794Z",
     "start_time": "2024-12-02T00:27:16.836608Z"
    }
   },
   "cell_type": "code",
   "source": "df.dtypes",
   "id": "dd25051d396c4a31",
   "outputs": [
    {
     "data": {
      "text/plain": [
       "홍길동     object\n",
       "신사임당    object\n",
       "dtype: object"
      ]
     },
     "execution_count": 18,
     "metadata": {},
     "output_type": "execute_result"
    }
   ],
   "execution_count": 18
  },
  {
   "metadata": {
    "ExecuteTime": {
     "end_time": "2024-12-02T00:27:16.868494Z",
     "start_time": "2024-12-02T00:27:16.864621Z"
    }
   },
   "cell_type": "code",
   "source": "df.T",
   "id": "1aab4e93d6ed142",
   "outputs": [
    {
     "data": {
      "text/plain": [
       "        이름  나이 성별\n",
       "홍길동    홍길동  33  M\n",
       "신사임당  신사임당  48  F"
      ],
      "text/html": [
       "<div>\n",
       "<style scoped>\n",
       "    .dataframe tbody tr th:only-of-type {\n",
       "        vertical-align: middle;\n",
       "    }\n",
       "\n",
       "    .dataframe tbody tr th {\n",
       "        vertical-align: top;\n",
       "    }\n",
       "\n",
       "    .dataframe thead th {\n",
       "        text-align: right;\n",
       "    }\n",
       "</style>\n",
       "<table border=\"1\" class=\"dataframe\">\n",
       "  <thead>\n",
       "    <tr style=\"text-align: right;\">\n",
       "      <th></th>\n",
       "      <th>이름</th>\n",
       "      <th>나이</th>\n",
       "      <th>성별</th>\n",
       "    </tr>\n",
       "  </thead>\n",
       "  <tbody>\n",
       "    <tr>\n",
       "      <th>홍길동</th>\n",
       "      <td>홍길동</td>\n",
       "      <td>33</td>\n",
       "      <td>M</td>\n",
       "    </tr>\n",
       "    <tr>\n",
       "      <th>신사임당</th>\n",
       "      <td>신사임당</td>\n",
       "      <td>48</td>\n",
       "      <td>F</td>\n",
       "    </tr>\n",
       "  </tbody>\n",
       "</table>\n",
       "</div>"
      ]
     },
     "execution_count": 19,
     "metadata": {},
     "output_type": "execute_result"
    }
   ],
   "execution_count": 19
  },
  {
   "metadata": {},
   "cell_type": "markdown",
   "source": "## DataFrame 메소드",
   "id": "bfec718f611768e1"
  },
  {
   "metadata": {
    "ExecuteTime": {
     "end_time": "2024-12-02T00:27:16.912621Z",
     "start_time": "2024-12-02T00:27:16.908758Z"
    }
   },
   "cell_type": "code",
   "source": [
    "bank_client_df = pd.DataFrame({\n",
    "    'Bank client ID':[1, 2, 3, 4],\n",
    "    'Bank Client Name':['Laila Aly', 'Kate Steve', 'Nicole Mitch', 'Francis Morris'],\n",
    "    'Net worth [$]':[35000, 3000, 100000, 2000],\n",
    "    'Years with bank':[4, 7, 10, 15]})\n",
    "bank_client_df"
   ],
   "id": "7a0692ae5c88dcbf",
   "outputs": [
    {
     "data": {
      "text/plain": [
       "   Bank client ID Bank Client Name  Net worth [$]  Years with bank\n",
       "0               1        Laila Aly          35000                4\n",
       "1               2       Kate Steve           3000                7\n",
       "2               3     Nicole Mitch         100000               10\n",
       "3               4   Francis Morris           2000               15"
      ],
      "text/html": [
       "<div>\n",
       "<style scoped>\n",
       "    .dataframe tbody tr th:only-of-type {\n",
       "        vertical-align: middle;\n",
       "    }\n",
       "\n",
       "    .dataframe tbody tr th {\n",
       "        vertical-align: top;\n",
       "    }\n",
       "\n",
       "    .dataframe thead th {\n",
       "        text-align: right;\n",
       "    }\n",
       "</style>\n",
       "<table border=\"1\" class=\"dataframe\">\n",
       "  <thead>\n",
       "    <tr style=\"text-align: right;\">\n",
       "      <th></th>\n",
       "      <th>Bank client ID</th>\n",
       "      <th>Bank Client Name</th>\n",
       "      <th>Net worth [$]</th>\n",
       "      <th>Years with bank</th>\n",
       "    </tr>\n",
       "  </thead>\n",
       "  <tbody>\n",
       "    <tr>\n",
       "      <th>0</th>\n",
       "      <td>1</td>\n",
       "      <td>Laila Aly</td>\n",
       "      <td>35000</td>\n",
       "      <td>4</td>\n",
       "    </tr>\n",
       "    <tr>\n",
       "      <th>1</th>\n",
       "      <td>2</td>\n",
       "      <td>Kate Steve</td>\n",
       "      <td>3000</td>\n",
       "      <td>7</td>\n",
       "    </tr>\n",
       "    <tr>\n",
       "      <th>2</th>\n",
       "      <td>3</td>\n",
       "      <td>Nicole Mitch</td>\n",
       "      <td>100000</td>\n",
       "      <td>10</td>\n",
       "    </tr>\n",
       "    <tr>\n",
       "      <th>3</th>\n",
       "      <td>4</td>\n",
       "      <td>Francis Morris</td>\n",
       "      <td>2000</td>\n",
       "      <td>15</td>\n",
       "    </tr>\n",
       "  </tbody>\n",
       "</table>\n",
       "</div>"
      ]
     },
     "execution_count": 20,
     "metadata": {},
     "output_type": "execute_result"
    }
   ],
   "execution_count": 20
  },
  {
   "metadata": {
    "ExecuteTime": {
     "end_time": "2024-12-02T00:27:16.972280Z",
     "start_time": "2024-12-02T00:27:16.968319Z"
    }
   },
   "cell_type": "code",
   "source": "bank_client_df.head(2)",
   "id": "2dc728fd51d2b3d3",
   "outputs": [
    {
     "data": {
      "text/plain": [
       "   Bank client ID Bank Client Name  Net worth [$]  Years with bank\n",
       "0               1        Laila Aly          35000                4\n",
       "1               2       Kate Steve           3000                7"
      ],
      "text/html": [
       "<div>\n",
       "<style scoped>\n",
       "    .dataframe tbody tr th:only-of-type {\n",
       "        vertical-align: middle;\n",
       "    }\n",
       "\n",
       "    .dataframe tbody tr th {\n",
       "        vertical-align: top;\n",
       "    }\n",
       "\n",
       "    .dataframe thead th {\n",
       "        text-align: right;\n",
       "    }\n",
       "</style>\n",
       "<table border=\"1\" class=\"dataframe\">\n",
       "  <thead>\n",
       "    <tr style=\"text-align: right;\">\n",
       "      <th></th>\n",
       "      <th>Bank client ID</th>\n",
       "      <th>Bank Client Name</th>\n",
       "      <th>Net worth [$]</th>\n",
       "      <th>Years with bank</th>\n",
       "    </tr>\n",
       "  </thead>\n",
       "  <tbody>\n",
       "    <tr>\n",
       "      <th>0</th>\n",
       "      <td>1</td>\n",
       "      <td>Laila Aly</td>\n",
       "      <td>35000</td>\n",
       "      <td>4</td>\n",
       "    </tr>\n",
       "    <tr>\n",
       "      <th>1</th>\n",
       "      <td>2</td>\n",
       "      <td>Kate Steve</td>\n",
       "      <td>3000</td>\n",
       "      <td>7</td>\n",
       "    </tr>\n",
       "  </tbody>\n",
       "</table>\n",
       "</div>"
      ]
     },
     "execution_count": 21,
     "metadata": {},
     "output_type": "execute_result"
    }
   ],
   "execution_count": 21
  },
  {
   "metadata": {
    "ExecuteTime": {
     "end_time": "2024-12-02T00:27:17.011227Z",
     "start_time": "2024-12-02T00:27:17.007748Z"
    }
   },
   "cell_type": "code",
   "source": "bank_client_df.tail(2)",
   "id": "47910256a920a620",
   "outputs": [
    {
     "data": {
      "text/plain": [
       "   Bank client ID Bank Client Name  Net worth [$]  Years with bank\n",
       "2               3     Nicole Mitch         100000               10\n",
       "3               4   Francis Morris           2000               15"
      ],
      "text/html": [
       "<div>\n",
       "<style scoped>\n",
       "    .dataframe tbody tr th:only-of-type {\n",
       "        vertical-align: middle;\n",
       "    }\n",
       "\n",
       "    .dataframe tbody tr th {\n",
       "        vertical-align: top;\n",
       "    }\n",
       "\n",
       "    .dataframe thead th {\n",
       "        text-align: right;\n",
       "    }\n",
       "</style>\n",
       "<table border=\"1\" class=\"dataframe\">\n",
       "  <thead>\n",
       "    <tr style=\"text-align: right;\">\n",
       "      <th></th>\n",
       "      <th>Bank client ID</th>\n",
       "      <th>Bank Client Name</th>\n",
       "      <th>Net worth [$]</th>\n",
       "      <th>Years with bank</th>\n",
       "    </tr>\n",
       "  </thead>\n",
       "  <tbody>\n",
       "    <tr>\n",
       "      <th>2</th>\n",
       "      <td>3</td>\n",
       "      <td>Nicole Mitch</td>\n",
       "      <td>100000</td>\n",
       "      <td>10</td>\n",
       "    </tr>\n",
       "    <tr>\n",
       "      <th>3</th>\n",
       "      <td>4</td>\n",
       "      <td>Francis Morris</td>\n",
       "      <td>2000</td>\n",
       "      <td>15</td>\n",
       "    </tr>\n",
       "  </tbody>\n",
       "</table>\n",
       "</div>"
      ]
     },
     "execution_count": 22,
     "metadata": {},
     "output_type": "execute_result"
    }
   ],
   "execution_count": 22
  },
  {
   "metadata": {
    "ExecuteTime": {
     "end_time": "2024-12-02T00:27:17.105371Z",
     "start_time": "2024-12-02T00:27:17.098053Z"
    }
   },
   "cell_type": "code",
   "source": "bank_client_df.info()",
   "id": "e8a31d449e33a0fd",
   "outputs": [
    {
     "name": "stdout",
     "output_type": "stream",
     "text": [
      "<class 'pandas.core.frame.DataFrame'>\n",
      "RangeIndex: 4 entries, 0 to 3\n",
      "Data columns (total 4 columns):\n",
      " #   Column            Non-Null Count  Dtype \n",
      "---  ------            --------------  ----- \n",
      " 0   Bank client ID    4 non-null      int64 \n",
      " 1   Bank Client Name  4 non-null      object\n",
      " 2   Net worth [$]     4 non-null      int64 \n",
      " 3   Years with bank   4 non-null      int64 \n",
      "dtypes: int64(3), object(1)\n",
      "memory usage: 260.0+ bytes\n"
     ]
    }
   ],
   "execution_count": 23
  },
  {
   "metadata": {
    "ExecuteTime": {
     "end_time": "2024-12-02T00:27:17.156528Z",
     "start_time": "2024-12-02T00:27:17.148348Z"
    }
   },
   "cell_type": "code",
   "source": "bank_client_df.describe()",
   "id": "d06facf21b236ab6",
   "outputs": [
    {
     "data": {
      "text/plain": [
       "       Bank client ID  Net worth [$]  Years with bank\n",
       "count        4.000000       4.000000         4.000000\n",
       "mean         2.500000   35000.000000         9.000000\n",
       "std          1.290994   45963.753836         4.690416\n",
       "min          1.000000    2000.000000         4.000000\n",
       "25%          1.750000    2750.000000         6.250000\n",
       "50%          2.500000   19000.000000         8.500000\n",
       "75%          3.250000   51250.000000        11.250000\n",
       "max          4.000000  100000.000000        15.000000"
      ],
      "text/html": [
       "<div>\n",
       "<style scoped>\n",
       "    .dataframe tbody tr th:only-of-type {\n",
       "        vertical-align: middle;\n",
       "    }\n",
       "\n",
       "    .dataframe tbody tr th {\n",
       "        vertical-align: top;\n",
       "    }\n",
       "\n",
       "    .dataframe thead th {\n",
       "        text-align: right;\n",
       "    }\n",
       "</style>\n",
       "<table border=\"1\" class=\"dataframe\">\n",
       "  <thead>\n",
       "    <tr style=\"text-align: right;\">\n",
       "      <th></th>\n",
       "      <th>Bank client ID</th>\n",
       "      <th>Net worth [$]</th>\n",
       "      <th>Years with bank</th>\n",
       "    </tr>\n",
       "  </thead>\n",
       "  <tbody>\n",
       "    <tr>\n",
       "      <th>count</th>\n",
       "      <td>4.000000</td>\n",
       "      <td>4.000000</td>\n",
       "      <td>4.000000</td>\n",
       "    </tr>\n",
       "    <tr>\n",
       "      <th>mean</th>\n",
       "      <td>2.500000</td>\n",
       "      <td>35000.000000</td>\n",
       "      <td>9.000000</td>\n",
       "    </tr>\n",
       "    <tr>\n",
       "      <th>std</th>\n",
       "      <td>1.290994</td>\n",
       "      <td>45963.753836</td>\n",
       "      <td>4.690416</td>\n",
       "    </tr>\n",
       "    <tr>\n",
       "      <th>min</th>\n",
       "      <td>1.000000</td>\n",
       "      <td>2000.000000</td>\n",
       "      <td>4.000000</td>\n",
       "    </tr>\n",
       "    <tr>\n",
       "      <th>25%</th>\n",
       "      <td>1.750000</td>\n",
       "      <td>2750.000000</td>\n",
       "      <td>6.250000</td>\n",
       "    </tr>\n",
       "    <tr>\n",
       "      <th>50%</th>\n",
       "      <td>2.500000</td>\n",
       "      <td>19000.000000</td>\n",
       "      <td>8.500000</td>\n",
       "    </tr>\n",
       "    <tr>\n",
       "      <th>75%</th>\n",
       "      <td>3.250000</td>\n",
       "      <td>51250.000000</td>\n",
       "      <td>11.250000</td>\n",
       "    </tr>\n",
       "    <tr>\n",
       "      <th>max</th>\n",
       "      <td>4.000000</td>\n",
       "      <td>100000.000000</td>\n",
       "      <td>15.000000</td>\n",
       "    </tr>\n",
       "  </tbody>\n",
       "</table>\n",
       "</div>"
      ]
     },
     "execution_count": 24,
     "metadata": {},
     "output_type": "execute_result"
    }
   ],
   "execution_count": 24
  },
  {
   "metadata": {
    "ExecuteTime": {
     "end_time": "2024-12-02T00:27:17.226139Z",
     "start_time": "2024-12-02T00:27:17.221958Z"
    }
   },
   "cell_type": "code",
   "source": "bank_client_df",
   "id": "83c14e3b9cd2aafa",
   "outputs": [
    {
     "data": {
      "text/plain": [
       "   Bank client ID Bank Client Name  Net worth [$]  Years with bank\n",
       "0               1        Laila Aly          35000                4\n",
       "1               2       Kate Steve           3000                7\n",
       "2               3     Nicole Mitch         100000               10\n",
       "3               4   Francis Morris           2000               15"
      ],
      "text/html": [
       "<div>\n",
       "<style scoped>\n",
       "    .dataframe tbody tr th:only-of-type {\n",
       "        vertical-align: middle;\n",
       "    }\n",
       "\n",
       "    .dataframe tbody tr th {\n",
       "        vertical-align: top;\n",
       "    }\n",
       "\n",
       "    .dataframe thead th {\n",
       "        text-align: right;\n",
       "    }\n",
       "</style>\n",
       "<table border=\"1\" class=\"dataframe\">\n",
       "  <thead>\n",
       "    <tr style=\"text-align: right;\">\n",
       "      <th></th>\n",
       "      <th>Bank client ID</th>\n",
       "      <th>Bank Client Name</th>\n",
       "      <th>Net worth [$]</th>\n",
       "      <th>Years with bank</th>\n",
       "    </tr>\n",
       "  </thead>\n",
       "  <tbody>\n",
       "    <tr>\n",
       "      <th>0</th>\n",
       "      <td>1</td>\n",
       "      <td>Laila Aly</td>\n",
       "      <td>35000</td>\n",
       "      <td>4</td>\n",
       "    </tr>\n",
       "    <tr>\n",
       "      <th>1</th>\n",
       "      <td>2</td>\n",
       "      <td>Kate Steve</td>\n",
       "      <td>3000</td>\n",
       "      <td>7</td>\n",
       "    </tr>\n",
       "    <tr>\n",
       "      <th>2</th>\n",
       "      <td>3</td>\n",
       "      <td>Nicole Mitch</td>\n",
       "      <td>100000</td>\n",
       "      <td>10</td>\n",
       "    </tr>\n",
       "    <tr>\n",
       "      <th>3</th>\n",
       "      <td>4</td>\n",
       "      <td>Francis Morris</td>\n",
       "      <td>2000</td>\n",
       "      <td>15</td>\n",
       "    </tr>\n",
       "  </tbody>\n",
       "</table>\n",
       "</div>"
      ]
     },
     "execution_count": 25,
     "metadata": {},
     "output_type": "execute_result"
    }
   ],
   "execution_count": 25
  },
  {
   "metadata": {},
   "cell_type": "markdown",
   "source": [
    "## 조회\n",
    "- iloc 인덱스(행/열) - 행/열 순서로 조회\n",
    "- loc 라벨(행/열) - 행/열 순서로 조회\n",
    "- 컬럼라벨"
   ],
   "id": "1c01561eb0cb3ebb"
  },
  {
   "metadata": {
    "ExecuteTime": {
     "end_time": "2024-12-02T00:27:17.286625Z",
     "start_time": "2024-12-02T00:27:17.282770Z"
    }
   },
   "cell_type": "code",
   "source": [
    "# indexing/slicing\n",
    "\n",
    "# 행 데이터 하나를 조회시 Series 타입으로 변환\n",
    "# bank_client_df[0]\n",
    "bank_client_df.iloc[0]\n",
    "print(type(bank_client_df.iloc[0])) # Series\n",
    "print(bank_client_df.iloc[0].index) # df.cloumns\n",
    "print(bank_client_df.iloc[0].name)\n",
    "bank_client_df.iloc[0]"
   ],
   "id": "6cb7cae601c30d2",
   "outputs": [
    {
     "name": "stdout",
     "output_type": "stream",
     "text": [
      "<class 'pandas.core.series.Series'>\n",
      "Index(['Bank client ID', 'Bank Client Name', 'Net worth [$]',\n",
      "       'Years with bank'],\n",
      "      dtype='object')\n",
      "0\n"
     ]
    },
    {
     "data": {
      "text/plain": [
       "Bank client ID              1\n",
       "Bank Client Name    Laila Aly\n",
       "Net worth [$]           35000\n",
       "Years with bank             4\n",
       "Name: 0, dtype: object"
      ]
     },
     "execution_count": 26,
     "metadata": {},
     "output_type": "execute_result"
    }
   ],
   "execution_count": 26
  },
  {
   "metadata": {
    "ExecuteTime": {
     "end_time": "2024-12-02T00:27:17.336089Z",
     "start_time": "2024-12-02T00:27:17.331369Z"
    }
   },
   "cell_type": "code",
   "source": [
    "# slicing과 같이 조회결과가 2행(열)이상이면 DataFrame타입으로 반환된다.\n",
    "bank_client_df.iloc[:2]\n",
    "print(type(bank_client_df.iloc[:2])) # DataFrame\n",
    "bank_client_df.iloc[:2]\n"
   ],
   "id": "be13a50f0f2d8f5d",
   "outputs": [
    {
     "name": "stdout",
     "output_type": "stream",
     "text": [
      "<class 'pandas.core.frame.DataFrame'>\n"
     ]
    },
    {
     "data": {
      "text/plain": [
       "   Bank client ID Bank Client Name  Net worth [$]  Years with bank\n",
       "0               1        Laila Aly          35000                4\n",
       "1               2       Kate Steve           3000                7"
      ],
      "text/html": [
       "<div>\n",
       "<style scoped>\n",
       "    .dataframe tbody tr th:only-of-type {\n",
       "        vertical-align: middle;\n",
       "    }\n",
       "\n",
       "    .dataframe tbody tr th {\n",
       "        vertical-align: top;\n",
       "    }\n",
       "\n",
       "    .dataframe thead th {\n",
       "        text-align: right;\n",
       "    }\n",
       "</style>\n",
       "<table border=\"1\" class=\"dataframe\">\n",
       "  <thead>\n",
       "    <tr style=\"text-align: right;\">\n",
       "      <th></th>\n",
       "      <th>Bank client ID</th>\n",
       "      <th>Bank Client Name</th>\n",
       "      <th>Net worth [$]</th>\n",
       "      <th>Years with bank</th>\n",
       "    </tr>\n",
       "  </thead>\n",
       "  <tbody>\n",
       "    <tr>\n",
       "      <th>0</th>\n",
       "      <td>1</td>\n",
       "      <td>Laila Aly</td>\n",
       "      <td>35000</td>\n",
       "      <td>4</td>\n",
       "    </tr>\n",
       "    <tr>\n",
       "      <th>1</th>\n",
       "      <td>2</td>\n",
       "      <td>Kate Steve</td>\n",
       "      <td>3000</td>\n",
       "      <td>7</td>\n",
       "    </tr>\n",
       "  </tbody>\n",
       "</table>\n",
       "</div>"
      ]
     },
     "execution_count": 27,
     "metadata": {},
     "output_type": "execute_result"
    }
   ],
   "execution_count": 27
  },
  {
   "metadata": {
    "ExecuteTime": {
     "end_time": "2024-12-02T00:27:17.418177Z",
     "start_time": "2024-12-02T00:27:17.413687Z"
    }
   },
   "cell_type": "code",
   "source": "bank_client_df.iloc[[0,1]]",
   "id": "532fd2970b556fb9",
   "outputs": [
    {
     "data": {
      "text/plain": [
       "   Bank client ID Bank Client Name  Net worth [$]  Years with bank\n",
       "0               1        Laila Aly          35000                4\n",
       "1               2       Kate Steve           3000                7"
      ],
      "text/html": [
       "<div>\n",
       "<style scoped>\n",
       "    .dataframe tbody tr th:only-of-type {\n",
       "        vertical-align: middle;\n",
       "    }\n",
       "\n",
       "    .dataframe tbody tr th {\n",
       "        vertical-align: top;\n",
       "    }\n",
       "\n",
       "    .dataframe thead th {\n",
       "        text-align: right;\n",
       "    }\n",
       "</style>\n",
       "<table border=\"1\" class=\"dataframe\">\n",
       "  <thead>\n",
       "    <tr style=\"text-align: right;\">\n",
       "      <th></th>\n",
       "      <th>Bank client ID</th>\n",
       "      <th>Bank Client Name</th>\n",
       "      <th>Net worth [$]</th>\n",
       "      <th>Years with bank</th>\n",
       "    </tr>\n",
       "  </thead>\n",
       "  <tbody>\n",
       "    <tr>\n",
       "      <th>0</th>\n",
       "      <td>1</td>\n",
       "      <td>Laila Aly</td>\n",
       "      <td>35000</td>\n",
       "      <td>4</td>\n",
       "    </tr>\n",
       "    <tr>\n",
       "      <th>1</th>\n",
       "      <td>2</td>\n",
       "      <td>Kate Steve</td>\n",
       "      <td>3000</td>\n",
       "      <td>7</td>\n",
       "    </tr>\n",
       "  </tbody>\n",
       "</table>\n",
       "</div>"
      ]
     },
     "execution_count": 28,
     "metadata": {},
     "output_type": "execute_result"
    }
   ],
   "execution_count": 28
  },
  {
   "metadata": {
    "ExecuteTime": {
     "end_time": "2024-12-02T00:27:17.504324Z",
     "start_time": "2024-12-02T00:27:17.499743Z"
    }
   },
   "cell_type": "code",
   "source": [
    "# fancy indexing을 통한 조회에서는 1행(열)이어도 DataFrame타입으로 반환\n",
    "# - DataFrame타입으로 반환된다는 것은 차원을 유지하는 것이다.\n",
    "# - Series타입으로 반환된 것은 차원을 제거한 것이다.\n",
    "bank_client_df.iloc[[0]]\n",
    "print(type(bank_client_df.iloc[[0]]))\n",
    "print(bank_client_df.iloc[[0]].shape)\n",
    "print(bank_client_df.iloc[0].shape)\n",
    "bank_client_df.iloc[[0]]"
   ],
   "id": "6758d2403f959894",
   "outputs": [
    {
     "name": "stdout",
     "output_type": "stream",
     "text": [
      "<class 'pandas.core.frame.DataFrame'>\n",
      "(1, 4)\n",
      "(4,)\n"
     ]
    },
    {
     "data": {
      "text/plain": [
       "   Bank client ID Bank Client Name  Net worth [$]  Years with bank\n",
       "0               1        Laila Aly          35000                4"
      ],
      "text/html": [
       "<div>\n",
       "<style scoped>\n",
       "    .dataframe tbody tr th:only-of-type {\n",
       "        vertical-align: middle;\n",
       "    }\n",
       "\n",
       "    .dataframe tbody tr th {\n",
       "        vertical-align: top;\n",
       "    }\n",
       "\n",
       "    .dataframe thead th {\n",
       "        text-align: right;\n",
       "    }\n",
       "</style>\n",
       "<table border=\"1\" class=\"dataframe\">\n",
       "  <thead>\n",
       "    <tr style=\"text-align: right;\">\n",
       "      <th></th>\n",
       "      <th>Bank client ID</th>\n",
       "      <th>Bank Client Name</th>\n",
       "      <th>Net worth [$]</th>\n",
       "      <th>Years with bank</th>\n",
       "    </tr>\n",
       "  </thead>\n",
       "  <tbody>\n",
       "    <tr>\n",
       "      <th>0</th>\n",
       "      <td>1</td>\n",
       "      <td>Laila Aly</td>\n",
       "      <td>35000</td>\n",
       "      <td>4</td>\n",
       "    </tr>\n",
       "  </tbody>\n",
       "</table>\n",
       "</div>"
      ]
     },
     "execution_count": 29,
     "metadata": {},
     "output_type": "execute_result"
    }
   ],
   "execution_count": 29
  },
  {
   "metadata": {
    "ExecuteTime": {
     "end_time": "2024-12-02T00:27:17.558564Z",
     "start_time": "2024-12-02T00:27:17.555493Z"
    }
   },
   "cell_type": "code",
   "source": [
    "# 2차원 indexing/slicing\n",
    "bank_client_df.iloc[0, 1]"
   ],
   "id": "defb20dd14156412",
   "outputs": [
    {
     "data": {
      "text/plain": [
       "'Laila Aly'"
      ]
     },
     "execution_count": 30,
     "metadata": {},
     "output_type": "execute_result"
    }
   ],
   "execution_count": 30
  },
  {
   "metadata": {
    "ExecuteTime": {
     "end_time": "2024-12-02T00:27:17.652906Z",
     "start_time": "2024-12-02T00:27:17.650231Z"
    }
   },
   "cell_type": "code",
   "source": [
    "bank_client_df.iloc[:2, 1]\n",
    "# print(type(bank_client_df.iloc[:2, 1]))\n"
   ],
   "id": "d175b18f71bfd628",
   "outputs": [
    {
     "data": {
      "text/plain": [
       "0     Laila Aly\n",
       "1    Kate Steve\n",
       "Name: Bank Client Name, dtype: object"
      ]
     },
     "execution_count": 31,
     "metadata": {},
     "output_type": "execute_result"
    }
   ],
   "execution_count": 31
  },
  {
   "metadata": {
    "ExecuteTime": {
     "end_time": "2024-12-02T00:27:17.711976Z",
     "start_time": "2024-12-02T00:27:17.706820Z"
    }
   },
   "cell_type": "code",
   "source": "bank_client_df",
   "id": "9517503054f1c3f5",
   "outputs": [
    {
     "data": {
      "text/plain": [
       "   Bank client ID Bank Client Name  Net worth [$]  Years with bank\n",
       "0               1        Laila Aly          35000                4\n",
       "1               2       Kate Steve           3000                7\n",
       "2               3     Nicole Mitch         100000               10\n",
       "3               4   Francis Morris           2000               15"
      ],
      "text/html": [
       "<div>\n",
       "<style scoped>\n",
       "    .dataframe tbody tr th:only-of-type {\n",
       "        vertical-align: middle;\n",
       "    }\n",
       "\n",
       "    .dataframe tbody tr th {\n",
       "        vertical-align: top;\n",
       "    }\n",
       "\n",
       "    .dataframe thead th {\n",
       "        text-align: right;\n",
       "    }\n",
       "</style>\n",
       "<table border=\"1\" class=\"dataframe\">\n",
       "  <thead>\n",
       "    <tr style=\"text-align: right;\">\n",
       "      <th></th>\n",
       "      <th>Bank client ID</th>\n",
       "      <th>Bank Client Name</th>\n",
       "      <th>Net worth [$]</th>\n",
       "      <th>Years with bank</th>\n",
       "    </tr>\n",
       "  </thead>\n",
       "  <tbody>\n",
       "    <tr>\n",
       "      <th>0</th>\n",
       "      <td>1</td>\n",
       "      <td>Laila Aly</td>\n",
       "      <td>35000</td>\n",
       "      <td>4</td>\n",
       "    </tr>\n",
       "    <tr>\n",
       "      <th>1</th>\n",
       "      <td>2</td>\n",
       "      <td>Kate Steve</td>\n",
       "      <td>3000</td>\n",
       "      <td>7</td>\n",
       "    </tr>\n",
       "    <tr>\n",
       "      <th>2</th>\n",
       "      <td>3</td>\n",
       "      <td>Nicole Mitch</td>\n",
       "      <td>100000</td>\n",
       "      <td>10</td>\n",
       "    </tr>\n",
       "    <tr>\n",
       "      <th>3</th>\n",
       "      <td>4</td>\n",
       "      <td>Francis Morris</td>\n",
       "      <td>2000</td>\n",
       "      <td>15</td>\n",
       "    </tr>\n",
       "  </tbody>\n",
       "</table>\n",
       "</div>"
      ]
     },
     "execution_count": 32,
     "metadata": {},
     "output_type": "execute_result"
    }
   ],
   "execution_count": 32
  },
  {
   "metadata": {
    "ExecuteTime": {
     "end_time": "2024-12-02T00:27:17.785200Z",
     "start_time": "2024-12-02T00:27:17.781594Z"
    }
   },
   "cell_type": "code",
   "source": [
    "bank_client_df.iloc[:2, 2:]\n",
    "print(type(bank_client_df.iloc[:2, 2:]))\n",
    "bank_client_df.iloc[:2, 2:].shape"
   ],
   "id": "430e51d0d97138cc",
   "outputs": [
    {
     "name": "stdout",
     "output_type": "stream",
     "text": [
      "<class 'pandas.core.frame.DataFrame'>\n"
     ]
    },
    {
     "data": {
      "text/plain": [
       "(2, 2)"
      ]
     },
     "execution_count": 33,
     "metadata": {},
     "output_type": "execute_result"
    }
   ],
   "execution_count": 33
  },
  {
   "metadata": {
    "ExecuteTime": {
     "end_time": "2024-12-02T00:27:17.847112Z",
     "start_time": "2024-12-02T00:27:17.842515Z"
    }
   },
   "cell_type": "code",
   "source": [
    "bank_client_df.index = ['client1', 'client2', 'client3', 'client4']\n",
    "bank_client_df"
   ],
   "id": "8633f3b1cf2e5b73",
   "outputs": [
    {
     "data": {
      "text/plain": [
       "         Bank client ID Bank Client Name  Net worth [$]  Years with bank\n",
       "client1               1        Laila Aly          35000                4\n",
       "client2               2       Kate Steve           3000                7\n",
       "client3               3     Nicole Mitch         100000               10\n",
       "client4               4   Francis Morris           2000               15"
      ],
      "text/html": [
       "<div>\n",
       "<style scoped>\n",
       "    .dataframe tbody tr th:only-of-type {\n",
       "        vertical-align: middle;\n",
       "    }\n",
       "\n",
       "    .dataframe tbody tr th {\n",
       "        vertical-align: top;\n",
       "    }\n",
       "\n",
       "    .dataframe thead th {\n",
       "        text-align: right;\n",
       "    }\n",
       "</style>\n",
       "<table border=\"1\" class=\"dataframe\">\n",
       "  <thead>\n",
       "    <tr style=\"text-align: right;\">\n",
       "      <th></th>\n",
       "      <th>Bank client ID</th>\n",
       "      <th>Bank Client Name</th>\n",
       "      <th>Net worth [$]</th>\n",
       "      <th>Years with bank</th>\n",
       "    </tr>\n",
       "  </thead>\n",
       "  <tbody>\n",
       "    <tr>\n",
       "      <th>client1</th>\n",
       "      <td>1</td>\n",
       "      <td>Laila Aly</td>\n",
       "      <td>35000</td>\n",
       "      <td>4</td>\n",
       "    </tr>\n",
       "    <tr>\n",
       "      <th>client2</th>\n",
       "      <td>2</td>\n",
       "      <td>Kate Steve</td>\n",
       "      <td>3000</td>\n",
       "      <td>7</td>\n",
       "    </tr>\n",
       "    <tr>\n",
       "      <th>client3</th>\n",
       "      <td>3</td>\n",
       "      <td>Nicole Mitch</td>\n",
       "      <td>100000</td>\n",
       "      <td>10</td>\n",
       "    </tr>\n",
       "    <tr>\n",
       "      <th>client4</th>\n",
       "      <td>4</td>\n",
       "      <td>Francis Morris</td>\n",
       "      <td>2000</td>\n",
       "      <td>15</td>\n",
       "    </tr>\n",
       "  </tbody>\n",
       "</table>\n",
       "</div>"
      ]
     },
     "execution_count": 34,
     "metadata": {},
     "output_type": "execute_result"
    }
   ],
   "execution_count": 34
  },
  {
   "metadata": {
    "ExecuteTime": {
     "end_time": "2024-12-02T00:27:17.947787Z",
     "start_time": "2024-12-02T00:27:17.944548Z"
    }
   },
   "cell_type": "code",
   "source": [
    "# loc 인덱스라벨, 컬럼라벨로 조회\n",
    "bank_client_df.loc['client3']"
   ],
   "id": "262df1fb544df63b",
   "outputs": [
    {
     "data": {
      "text/plain": [
       "Bank client ID                 3\n",
       "Bank Client Name    Nicole Mitch\n",
       "Net worth [$]             100000\n",
       "Years with bank               10\n",
       "Name: client3, dtype: object"
      ]
     },
     "execution_count": 35,
     "metadata": {},
     "output_type": "execute_result"
    }
   ],
   "execution_count": 35
  },
  {
   "metadata": {
    "ExecuteTime": {
     "end_time": "2024-12-02T00:27:17.987753Z",
     "start_time": "2024-12-02T00:27:17.982505Z"
    }
   },
   "cell_type": "code",
   "source": [
    "# label slicing start:end (end포함)\n",
    "bank_client_df.loc['client2':]\n",
    "bank_client_df.loc['client1':'client3':2]"
   ],
   "id": "5de6429eb04488ff",
   "outputs": [
    {
     "data": {
      "text/plain": [
       "         Bank client ID Bank Client Name  Net worth [$]  Years with bank\n",
       "client1               1        Laila Aly          35000                4\n",
       "client3               3     Nicole Mitch         100000               10"
      ],
      "text/html": [
       "<div>\n",
       "<style scoped>\n",
       "    .dataframe tbody tr th:only-of-type {\n",
       "        vertical-align: middle;\n",
       "    }\n",
       "\n",
       "    .dataframe tbody tr th {\n",
       "        vertical-align: top;\n",
       "    }\n",
       "\n",
       "    .dataframe thead th {\n",
       "        text-align: right;\n",
       "    }\n",
       "</style>\n",
       "<table border=\"1\" class=\"dataframe\">\n",
       "  <thead>\n",
       "    <tr style=\"text-align: right;\">\n",
       "      <th></th>\n",
       "      <th>Bank client ID</th>\n",
       "      <th>Bank Client Name</th>\n",
       "      <th>Net worth [$]</th>\n",
       "      <th>Years with bank</th>\n",
       "    </tr>\n",
       "  </thead>\n",
       "  <tbody>\n",
       "    <tr>\n",
       "      <th>client1</th>\n",
       "      <td>1</td>\n",
       "      <td>Laila Aly</td>\n",
       "      <td>35000</td>\n",
       "      <td>4</td>\n",
       "    </tr>\n",
       "    <tr>\n",
       "      <th>client3</th>\n",
       "      <td>3</td>\n",
       "      <td>Nicole Mitch</td>\n",
       "      <td>100000</td>\n",
       "      <td>10</td>\n",
       "    </tr>\n",
       "  </tbody>\n",
       "</table>\n",
       "</div>"
      ]
     },
     "execution_count": 36,
     "metadata": {},
     "output_type": "execute_result"
    }
   ],
   "execution_count": 36
  },
  {
   "metadata": {
    "ExecuteTime": {
     "end_time": "2024-12-02T00:27:18.066416Z",
     "start_time": "2024-12-02T00:27:18.063044Z"
    }
   },
   "cell_type": "code",
   "source": "bank_client_df.loc['client2':'client4':2, 'Bank Client Name']",
   "id": "bc2bfb4a74da2054",
   "outputs": [
    {
     "data": {
      "text/plain": [
       "client2        Kate Steve\n",
       "client4    Francis Morris\n",
       "Name: Bank Client Name, dtype: object"
      ]
     },
     "execution_count": 37,
     "metadata": {},
     "output_type": "execute_result"
    }
   ],
   "execution_count": 37
  },
  {
   "metadata": {
    "ExecuteTime": {
     "end_time": "2024-12-02T00:27:18.118227Z",
     "start_time": "2024-12-02T00:27:18.114927Z"
    }
   },
   "cell_type": "code",
   "source": [
    "bank_client_df.index = ['client1', 'client2', 'client3', 'client4']\n",
    "print(bank_client_df)"
   ],
   "id": "347de765592a74ac",
   "outputs": [
    {
     "name": "stdout",
     "output_type": "stream",
     "text": [
      "         Bank client ID Bank Client Name  Net worth [$]  Years with bank\n",
      "client1               1        Laila Aly          35000                4\n",
      "client2               2       Kate Steve           3000                7\n",
      "client3               3     Nicole Mitch         100000               10\n",
      "client4               4   Francis Morris           2000               15\n"
     ]
    }
   ],
   "execution_count": 38
  },
  {
   "metadata": {
    "ExecuteTime": {
     "end_time": "2024-12-02T00:27:18.184688Z",
     "start_time": "2024-12-02T00:27:18.180621Z"
    }
   },
   "cell_type": "code",
   "source": "bank_client_df.loc['client2':'client4':2, 'Bank Client Name':'Net worth [$]']",
   "id": "f0eb46229519dedd",
   "outputs": [
    {
     "data": {
      "text/plain": [
       "        Bank Client Name  Net worth [$]\n",
       "client2       Kate Steve           3000\n",
       "client4   Francis Morris           2000"
      ],
      "text/html": [
       "<div>\n",
       "<style scoped>\n",
       "    .dataframe tbody tr th:only-of-type {\n",
       "        vertical-align: middle;\n",
       "    }\n",
       "\n",
       "    .dataframe tbody tr th {\n",
       "        vertical-align: top;\n",
       "    }\n",
       "\n",
       "    .dataframe thead th {\n",
       "        text-align: right;\n",
       "    }\n",
       "</style>\n",
       "<table border=\"1\" class=\"dataframe\">\n",
       "  <thead>\n",
       "    <tr style=\"text-align: right;\">\n",
       "      <th></th>\n",
       "      <th>Bank Client Name</th>\n",
       "      <th>Net worth [$]</th>\n",
       "    </tr>\n",
       "  </thead>\n",
       "  <tbody>\n",
       "    <tr>\n",
       "      <th>client2</th>\n",
       "      <td>Kate Steve</td>\n",
       "      <td>3000</td>\n",
       "    </tr>\n",
       "    <tr>\n",
       "      <th>client4</th>\n",
       "      <td>Francis Morris</td>\n",
       "      <td>2000</td>\n",
       "    </tr>\n",
       "  </tbody>\n",
       "</table>\n",
       "</div>"
      ]
     },
     "execution_count": 39,
     "metadata": {},
     "output_type": "execute_result"
    }
   ],
   "execution_count": 39
  },
  {
   "metadata": {
    "ExecuteTime": {
     "end_time": "2024-12-02T00:27:18.229848Z",
     "start_time": "2024-12-02T00:27:18.224134Z"
    }
   },
   "cell_type": "code",
   "source": "bank_client_df.loc['client2':'client4':2, ['Bank Client Name', 'Net worth [$]']]",
   "id": "1ef1f3de5e4d9e46",
   "outputs": [
    {
     "data": {
      "text/plain": [
       "        Bank Client Name  Net worth [$]\n",
       "client2       Kate Steve           3000\n",
       "client4   Francis Morris           2000"
      ],
      "text/html": [
       "<div>\n",
       "<style scoped>\n",
       "    .dataframe tbody tr th:only-of-type {\n",
       "        vertical-align: middle;\n",
       "    }\n",
       "\n",
       "    .dataframe tbody tr th {\n",
       "        vertical-align: top;\n",
       "    }\n",
       "\n",
       "    .dataframe thead th {\n",
       "        text-align: right;\n",
       "    }\n",
       "</style>\n",
       "<table border=\"1\" class=\"dataframe\">\n",
       "  <thead>\n",
       "    <tr style=\"text-align: right;\">\n",
       "      <th></th>\n",
       "      <th>Bank Client Name</th>\n",
       "      <th>Net worth [$]</th>\n",
       "    </tr>\n",
       "  </thead>\n",
       "  <tbody>\n",
       "    <tr>\n",
       "      <th>client2</th>\n",
       "      <td>Kate Steve</td>\n",
       "      <td>3000</td>\n",
       "    </tr>\n",
       "    <tr>\n",
       "      <th>client4</th>\n",
       "      <td>Francis Morris</td>\n",
       "      <td>2000</td>\n",
       "    </tr>\n",
       "  </tbody>\n",
       "</table>\n",
       "</div>"
      ]
     },
     "execution_count": 40,
     "metadata": {},
     "output_type": "execute_result"
    }
   ],
   "execution_count": 40
  },
  {
   "metadata": {
    "ExecuteTime": {
     "end_time": "2024-12-02T00:27:18.314798Z",
     "start_time": "2024-12-02T00:27:18.309234Z"
    }
   },
   "cell_type": "code",
   "source": [
    "# 이름 Kate Steve인 고객의 정보를 출력\n",
    "bank_client_df.loc[bank_client_df['Bank Client Name'] == 'Kate Steve']"
   ],
   "id": "5a7037b17b3ba8c6",
   "outputs": [
    {
     "data": {
      "text/plain": [
       "         Bank client ID Bank Client Name  Net worth [$]  Years with bank\n",
       "client2               2       Kate Steve           3000                7"
      ],
      "text/html": [
       "<div>\n",
       "<style scoped>\n",
       "    .dataframe tbody tr th:only-of-type {\n",
       "        vertical-align: middle;\n",
       "    }\n",
       "\n",
       "    .dataframe tbody tr th {\n",
       "        vertical-align: top;\n",
       "    }\n",
       "\n",
       "    .dataframe thead th {\n",
       "        text-align: right;\n",
       "    }\n",
       "</style>\n",
       "<table border=\"1\" class=\"dataframe\">\n",
       "  <thead>\n",
       "    <tr style=\"text-align: right;\">\n",
       "      <th></th>\n",
       "      <th>Bank client ID</th>\n",
       "      <th>Bank Client Name</th>\n",
       "      <th>Net worth [$]</th>\n",
       "      <th>Years with bank</th>\n",
       "    </tr>\n",
       "  </thead>\n",
       "  <tbody>\n",
       "    <tr>\n",
       "      <th>client2</th>\n",
       "      <td>2</td>\n",
       "      <td>Kate Steve</td>\n",
       "      <td>3000</td>\n",
       "      <td>7</td>\n",
       "    </tr>\n",
       "  </tbody>\n",
       "</table>\n",
       "</div>"
      ]
     },
     "execution_count": 41,
     "metadata": {},
     "output_type": "execute_result"
    }
   ],
   "execution_count": 41
  },
  {
   "metadata": {
    "ExecuteTime": {
     "end_time": "2024-12-02T00:27:18.381694Z",
     "start_time": "2024-12-02T00:27:18.378833Z"
    }
   },
   "cell_type": "code",
   "source": [
    "# 컬럼 라벨 조회\n",
    "bank_client_df['Bank Client Name']"
   ],
   "id": "9dc96c4ecd62695c",
   "outputs": [
    {
     "data": {
      "text/plain": [
       "client1         Laila Aly\n",
       "client2        Kate Steve\n",
       "client3      Nicole Mitch\n",
       "client4    Francis Morris\n",
       "Name: Bank Client Name, dtype: object"
      ]
     },
     "execution_count": 42,
     "metadata": {},
     "output_type": "execute_result"
    }
   ],
   "execution_count": 42
  },
  {
   "metadata": {
    "ExecuteTime": {
     "end_time": "2024-12-02T00:27:18.482811Z",
     "start_time": "2024-12-02T00:27:18.478145Z"
    }
   },
   "cell_type": "code",
   "source": "bank_client_df[['Bank Client Name', 'Bank client ID']]",
   "id": "dc1e6a0f54d0b77f",
   "outputs": [
    {
     "data": {
      "text/plain": [
       "        Bank Client Name  Bank client ID\n",
       "client1        Laila Aly               1\n",
       "client2       Kate Steve               2\n",
       "client3     Nicole Mitch               3\n",
       "client4   Francis Morris               4"
      ],
      "text/html": [
       "<div>\n",
       "<style scoped>\n",
       "    .dataframe tbody tr th:only-of-type {\n",
       "        vertical-align: middle;\n",
       "    }\n",
       "\n",
       "    .dataframe tbody tr th {\n",
       "        vertical-align: top;\n",
       "    }\n",
       "\n",
       "    .dataframe thead th {\n",
       "        text-align: right;\n",
       "    }\n",
       "</style>\n",
       "<table border=\"1\" class=\"dataframe\">\n",
       "  <thead>\n",
       "    <tr style=\"text-align: right;\">\n",
       "      <th></th>\n",
       "      <th>Bank Client Name</th>\n",
       "      <th>Bank client ID</th>\n",
       "    </tr>\n",
       "  </thead>\n",
       "  <tbody>\n",
       "    <tr>\n",
       "      <th>client1</th>\n",
       "      <td>Laila Aly</td>\n",
       "      <td>1</td>\n",
       "    </tr>\n",
       "    <tr>\n",
       "      <th>client2</th>\n",
       "      <td>Kate Steve</td>\n",
       "      <td>2</td>\n",
       "    </tr>\n",
       "    <tr>\n",
       "      <th>client3</th>\n",
       "      <td>Nicole Mitch</td>\n",
       "      <td>3</td>\n",
       "    </tr>\n",
       "    <tr>\n",
       "      <th>client4</th>\n",
       "      <td>Francis Morris</td>\n",
       "      <td>4</td>\n",
       "    </tr>\n",
       "  </tbody>\n",
       "</table>\n",
       "</div>"
      ]
     },
     "execution_count": 43,
     "metadata": {},
     "output_type": "execute_result"
    }
   ],
   "execution_count": 43
  },
  {
   "metadata": {
    "ExecuteTime": {
     "end_time": "2024-12-02T00:27:18.565411Z",
     "start_time": "2024-12-02T00:27:18.561938Z"
    }
   },
   "cell_type": "code",
   "source": [
    "# 컬럼 인덱스 조회\n",
    "bank_client_df.iloc[:, [0,1]]"
   ],
   "id": "51dd0004f58ec798",
   "outputs": [
    {
     "data": {
      "text/plain": [
       "         Bank client ID Bank Client Name\n",
       "client1               1        Laila Aly\n",
       "client2               2       Kate Steve\n",
       "client3               3     Nicole Mitch\n",
       "client4               4   Francis Morris"
      ],
      "text/html": [
       "<div>\n",
       "<style scoped>\n",
       "    .dataframe tbody tr th:only-of-type {\n",
       "        vertical-align: middle;\n",
       "    }\n",
       "\n",
       "    .dataframe tbody tr th {\n",
       "        vertical-align: top;\n",
       "    }\n",
       "\n",
       "    .dataframe thead th {\n",
       "        text-align: right;\n",
       "    }\n",
       "</style>\n",
       "<table border=\"1\" class=\"dataframe\">\n",
       "  <thead>\n",
       "    <tr style=\"text-align: right;\">\n",
       "      <th></th>\n",
       "      <th>Bank client ID</th>\n",
       "      <th>Bank Client Name</th>\n",
       "    </tr>\n",
       "  </thead>\n",
       "  <tbody>\n",
       "    <tr>\n",
       "      <th>client1</th>\n",
       "      <td>1</td>\n",
       "      <td>Laila Aly</td>\n",
       "    </tr>\n",
       "    <tr>\n",
       "      <th>client2</th>\n",
       "      <td>2</td>\n",
       "      <td>Kate Steve</td>\n",
       "    </tr>\n",
       "    <tr>\n",
       "      <th>client3</th>\n",
       "      <td>3</td>\n",
       "      <td>Nicole Mitch</td>\n",
       "    </tr>\n",
       "    <tr>\n",
       "      <th>client4</th>\n",
       "      <td>4</td>\n",
       "      <td>Francis Morris</td>\n",
       "    </tr>\n",
       "  </tbody>\n",
       "</table>\n",
       "</div>"
      ]
     },
     "execution_count": 44,
     "metadata": {},
     "output_type": "execute_result"
    }
   ],
   "execution_count": 44
  },
  {
   "metadata": {
    "ExecuteTime": {
     "end_time": "2024-12-02T00:27:18.651966Z",
     "start_time": "2024-12-02T00:27:18.646326Z"
    }
   },
   "cell_type": "code",
   "source": [
    "# filter 메소드 - items 컬럼명 조회\n",
    "bank_client_df.filter(items=['Bank client ID', 'Net worth [$]'])"
   ],
   "id": "5de7bb30900123bb",
   "outputs": [
    {
     "data": {
      "text/plain": [
       "         Bank client ID  Net worth [$]\n",
       "client1               1          35000\n",
       "client2               2           3000\n",
       "client3               3         100000\n",
       "client4               4           2000"
      ],
      "text/html": [
       "<div>\n",
       "<style scoped>\n",
       "    .dataframe tbody tr th:only-of-type {\n",
       "        vertical-align: middle;\n",
       "    }\n",
       "\n",
       "    .dataframe tbody tr th {\n",
       "        vertical-align: top;\n",
       "    }\n",
       "\n",
       "    .dataframe thead th {\n",
       "        text-align: right;\n",
       "    }\n",
       "</style>\n",
       "<table border=\"1\" class=\"dataframe\">\n",
       "  <thead>\n",
       "    <tr style=\"text-align: right;\">\n",
       "      <th></th>\n",
       "      <th>Bank client ID</th>\n",
       "      <th>Net worth [$]</th>\n",
       "    </tr>\n",
       "  </thead>\n",
       "  <tbody>\n",
       "    <tr>\n",
       "      <th>client1</th>\n",
       "      <td>1</td>\n",
       "      <td>35000</td>\n",
       "    </tr>\n",
       "    <tr>\n",
       "      <th>client2</th>\n",
       "      <td>2</td>\n",
       "      <td>3000</td>\n",
       "    </tr>\n",
       "    <tr>\n",
       "      <th>client3</th>\n",
       "      <td>3</td>\n",
       "      <td>100000</td>\n",
       "    </tr>\n",
       "    <tr>\n",
       "      <th>client4</th>\n",
       "      <td>4</td>\n",
       "      <td>2000</td>\n",
       "    </tr>\n",
       "  </tbody>\n",
       "</table>\n",
       "</div>"
      ]
     },
     "execution_count": 45,
     "metadata": {},
     "output_type": "execute_result"
    }
   ],
   "execution_count": 45
  },
  {
   "metadata": {
    "ExecuteTime": {
     "end_time": "2024-12-02T00:30:32.426108Z",
     "start_time": "2024-12-02T00:30:32.419765Z"
    }
   },
   "cell_type": "code",
   "source": [
    "# filter - like 검색어 포함된 라벨 조회\n",
    "bank_client_df.filter(like='$', axis=1) # 컬럼명 중에 $가 포함된 컬럼 조회"
   ],
   "id": "9535cb90837da406",
   "outputs": [
    {
     "data": {
      "text/plain": [
       "         Net worth [$]\n",
       "client1          35000\n",
       "client2           3000\n",
       "client3         100000\n",
       "client4           2000"
      ],
      "text/html": [
       "<div>\n",
       "<style scoped>\n",
       "    .dataframe tbody tr th:only-of-type {\n",
       "        vertical-align: middle;\n",
       "    }\n",
       "\n",
       "    .dataframe tbody tr th {\n",
       "        vertical-align: top;\n",
       "    }\n",
       "\n",
       "    .dataframe thead th {\n",
       "        text-align: right;\n",
       "    }\n",
       "</style>\n",
       "<table border=\"1\" class=\"dataframe\">\n",
       "  <thead>\n",
       "    <tr style=\"text-align: right;\">\n",
       "      <th></th>\n",
       "      <th>Net worth [$]</th>\n",
       "    </tr>\n",
       "  </thead>\n",
       "  <tbody>\n",
       "    <tr>\n",
       "      <th>client1</th>\n",
       "      <td>35000</td>\n",
       "    </tr>\n",
       "    <tr>\n",
       "      <th>client2</th>\n",
       "      <td>3000</td>\n",
       "    </tr>\n",
       "    <tr>\n",
       "      <th>client3</th>\n",
       "      <td>100000</td>\n",
       "    </tr>\n",
       "    <tr>\n",
       "      <th>client4</th>\n",
       "      <td>2000</td>\n",
       "    </tr>\n",
       "  </tbody>\n",
       "</table>\n",
       "</div>"
      ]
     },
     "execution_count": 46,
     "metadata": {},
     "output_type": "execute_result"
    }
   ],
   "execution_count": 46
  },
  {
   "metadata": {
    "ExecuteTime": {
     "end_time": "2024-12-02T00:34:01.836962Z",
     "start_time": "2024-12-02T00:34:01.832701Z"
    }
   },
   "cell_type": "code",
   "source": [
    "# 행 인덱스 라벨중에 3이 포함된 행 조회\n",
    "bank_client_df.filter(like='3', axis=0)"
   ],
   "id": "7d5c6003e3a91562",
   "outputs": [
    {
     "data": {
      "text/plain": [
       "         Bank client ID Bank Client Name  Net worth [$]  Years with bank\n",
       "client3               3     Nicole Mitch         100000               10"
      ],
      "text/html": [
       "<div>\n",
       "<style scoped>\n",
       "    .dataframe tbody tr th:only-of-type {\n",
       "        vertical-align: middle;\n",
       "    }\n",
       "\n",
       "    .dataframe tbody tr th {\n",
       "        vertical-align: top;\n",
       "    }\n",
       "\n",
       "    .dataframe thead th {\n",
       "        text-align: right;\n",
       "    }\n",
       "</style>\n",
       "<table border=\"1\" class=\"dataframe\">\n",
       "  <thead>\n",
       "    <tr style=\"text-align: right;\">\n",
       "      <th></th>\n",
       "      <th>Bank client ID</th>\n",
       "      <th>Bank Client Name</th>\n",
       "      <th>Net worth [$]</th>\n",
       "      <th>Years with bank</th>\n",
       "    </tr>\n",
       "  </thead>\n",
       "  <tbody>\n",
       "    <tr>\n",
       "      <th>client3</th>\n",
       "      <td>3</td>\n",
       "      <td>Nicole Mitch</td>\n",
       "      <td>100000</td>\n",
       "      <td>10</td>\n",
       "    </tr>\n",
       "  </tbody>\n",
       "</table>\n",
       "</div>"
      ]
     },
     "execution_count": 48,
     "metadata": {},
     "output_type": "execute_result"
    }
   ],
   "execution_count": 48
  },
  {
   "metadata": {
    "ExecuteTime": {
     "end_time": "2024-12-02T00:38:32.427390Z",
     "start_time": "2024-12-02T00:38:32.422772Z"
    }
   },
   "cell_type": "code",
   "source": [
    "# 값 조회\n",
    "# 아이디가 3인 고객 조회\n",
    "print(bank_client_df['Bank client ID'] == 3) # boolean array\n",
    "bank_client_df[bank_client_df['Bank client ID'] == 3]"
   ],
   "id": "fcd549ef85a8f0c3",
   "outputs": [
    {
     "name": "stdout",
     "output_type": "stream",
     "text": [
      "client1    False\n",
      "client2    False\n",
      "client3     True\n",
      "client4    False\n",
      "Name: Bank client ID, dtype: bool\n"
     ]
    },
    {
     "data": {
      "text/plain": [
       "         Bank client ID Bank Client Name  Net worth [$]  Years with bank\n",
       "client3               3     Nicole Mitch         100000               10"
      ],
      "text/html": [
       "<div>\n",
       "<style scoped>\n",
       "    .dataframe tbody tr th:only-of-type {\n",
       "        vertical-align: middle;\n",
       "    }\n",
       "\n",
       "    .dataframe tbody tr th {\n",
       "        vertical-align: top;\n",
       "    }\n",
       "\n",
       "    .dataframe thead th {\n",
       "        text-align: right;\n",
       "    }\n",
       "</style>\n",
       "<table border=\"1\" class=\"dataframe\">\n",
       "  <thead>\n",
       "    <tr style=\"text-align: right;\">\n",
       "      <th></th>\n",
       "      <th>Bank client ID</th>\n",
       "      <th>Bank Client Name</th>\n",
       "      <th>Net worth [$]</th>\n",
       "      <th>Years with bank</th>\n",
       "    </tr>\n",
       "  </thead>\n",
       "  <tbody>\n",
       "    <tr>\n",
       "      <th>client3</th>\n",
       "      <td>3</td>\n",
       "      <td>Nicole Mitch</td>\n",
       "      <td>100000</td>\n",
       "      <td>10</td>\n",
       "    </tr>\n",
       "  </tbody>\n",
       "</table>\n",
       "</div>"
      ]
     },
     "execution_count": 51,
     "metadata": {},
     "output_type": "execute_result"
    }
   ],
   "execution_count": 51
  },
  {
   "metadata": {
    "ExecuteTime": {
     "end_time": "2024-12-02T00:42:36.038038Z",
     "start_time": "2024-12-02T00:42:36.033677Z"
    }
   },
   "cell_type": "code",
   "source": [
    "# 예치금액(Net worth)이 5000달러가 넘는 고객 조회\n",
    "bank_client_df[bank_client_df['Net worth [$]'] > 5000]"
   ],
   "id": "5efc2b59676e088e",
   "outputs": [
    {
     "data": {
      "text/plain": [
       "         Bank client ID Bank Client Name  Net worth [$]  Years with bank\n",
       "client1               1        Laila Aly          35000                4\n",
       "client3               3     Nicole Mitch         100000               10"
      ],
      "text/html": [
       "<div>\n",
       "<style scoped>\n",
       "    .dataframe tbody tr th:only-of-type {\n",
       "        vertical-align: middle;\n",
       "    }\n",
       "\n",
       "    .dataframe tbody tr th {\n",
       "        vertical-align: top;\n",
       "    }\n",
       "\n",
       "    .dataframe thead th {\n",
       "        text-align: right;\n",
       "    }\n",
       "</style>\n",
       "<table border=\"1\" class=\"dataframe\">\n",
       "  <thead>\n",
       "    <tr style=\"text-align: right;\">\n",
       "      <th></th>\n",
       "      <th>Bank client ID</th>\n",
       "      <th>Bank Client Name</th>\n",
       "      <th>Net worth [$]</th>\n",
       "      <th>Years with bank</th>\n",
       "    </tr>\n",
       "  </thead>\n",
       "  <tbody>\n",
       "    <tr>\n",
       "      <th>client1</th>\n",
       "      <td>1</td>\n",
       "      <td>Laila Aly</td>\n",
       "      <td>35000</td>\n",
       "      <td>4</td>\n",
       "    </tr>\n",
       "    <tr>\n",
       "      <th>client3</th>\n",
       "      <td>3</td>\n",
       "      <td>Nicole Mitch</td>\n",
       "      <td>100000</td>\n",
       "      <td>10</td>\n",
       "    </tr>\n",
       "  </tbody>\n",
       "</table>\n",
       "</div>"
      ]
     },
     "execution_count": 54,
     "metadata": {},
     "output_type": "execute_result"
    }
   ],
   "execution_count": 54
  },
  {
   "metadata": {
    "ExecuteTime": {
     "end_time": "2024-12-02T00:46:22.428128Z",
     "start_time": "2024-12-02T00:46:22.423524Z"
    }
   },
   "cell_type": "code",
   "source": [
    "# 거래기간이 5년 이상인 고객 조회(고객의 이름만 조회)\n",
    "bank_client_df[bank_client_df['Years with bank'] >= 5]['Bank Client Name']"
   ],
   "id": "ffc4e67dcb4f3742",
   "outputs": [
    {
     "data": {
      "text/plain": [
       "client2        Kate Steve\n",
       "client3      Nicole Mitch\n",
       "client4    Francis Morris\n",
       "Name: Bank Client Name, dtype: object"
      ]
     },
     "execution_count": 59,
     "metadata": {},
     "output_type": "execute_result"
    }
   ],
   "execution_count": 59
  },
  {
   "metadata": {
    "ExecuteTime": {
     "end_time": "2024-12-02T00:49:54.088612Z",
     "start_time": "2024-12-02T00:49:54.083974Z"
    }
   },
   "cell_type": "code",
   "source": [
    "# 이름이 K로 시작하는 고객 조회\n",
    "print(bank_client_df['Bank Client Name'].str)\n",
    "\n",
    "starts_with_K = bank_client_df['Bank Client Name'].str.startswith('K')\n",
    "bank_client_df[starts_with_K]"
   ],
   "id": "5868db0e792cc63",
   "outputs": [
    {
     "name": "stdout",
     "output_type": "stream",
     "text": [
      "<pandas.core.strings.accessor.StringMethods object at 0x0000022D69867A70>\n"
     ]
    },
    {
     "data": {
      "text/plain": [
       "         Bank client ID Bank Client Name  Net worth [$]  Years with bank\n",
       "client2               2       Kate Steve           3000                7"
      ],
      "text/html": [
       "<div>\n",
       "<style scoped>\n",
       "    .dataframe tbody tr th:only-of-type {\n",
       "        vertical-align: middle;\n",
       "    }\n",
       "\n",
       "    .dataframe tbody tr th {\n",
       "        vertical-align: top;\n",
       "    }\n",
       "\n",
       "    .dataframe thead th {\n",
       "        text-align: right;\n",
       "    }\n",
       "</style>\n",
       "<table border=\"1\" class=\"dataframe\">\n",
       "  <thead>\n",
       "    <tr style=\"text-align: right;\">\n",
       "      <th></th>\n",
       "      <th>Bank client ID</th>\n",
       "      <th>Bank Client Name</th>\n",
       "      <th>Net worth [$]</th>\n",
       "      <th>Years with bank</th>\n",
       "    </tr>\n",
       "  </thead>\n",
       "  <tbody>\n",
       "    <tr>\n",
       "      <th>client2</th>\n",
       "      <td>2</td>\n",
       "      <td>Kate Steve</td>\n",
       "      <td>3000</td>\n",
       "      <td>7</td>\n",
       "    </tr>\n",
       "  </tbody>\n",
       "</table>\n",
       "</div>"
      ]
     },
     "execution_count": 63,
     "metadata": {},
     "output_type": "execute_result"
    }
   ],
   "execution_count": 63
  },
  {
   "metadata": {
    "ExecuteTime": {
     "end_time": "2024-12-02T01:17:29.298730Z",
     "start_time": "2024-12-02T01:17:29.294750Z"
    }
   },
   "cell_type": "code",
   "source": [
    "# 거래기간이 5년 이상이면서 이름이 o로 시작하는 고객 조회\n",
    "# and(&), or(|), not(~)\n",
    "_5_years_with_bank = bank_client_df['Years with bank'] >= 5\n",
    "contains_o = bank_client_df['Bank Client Name'].str.contains('o')\n",
    "\n",
    "print(bank_client_df[_5_years_with_bank & contains_o])"
   ],
   "id": "4941d9577449646f",
   "outputs": [
    {
     "name": "stdout",
     "output_type": "stream",
     "text": [
      "         Bank client ID Bank Client Name  Net worth [$]  Years with bank\n",
      "client3               3     Nicole Mitch         100000               10\n",
      "client4               4   Francis Morris           2000               15\n"
     ]
    }
   ],
   "execution_count": 68
  },
  {
   "metadata": {},
   "cell_type": "markdown",
   "source": "## 행 추가/삭제",
   "id": "90e781244a058cd4"
  },
  {
   "metadata": {
    "ExecuteTime": {
     "end_time": "2024-12-02T02:09:53.143009Z",
     "start_time": "2024-12-02T02:09:53.135709Z"
    }
   },
   "cell_type": "code",
   "source": [
    "students = [{'name': 'John', 'midterm': 95, 'final': 85},\n",
    "         {'name': 'Jenny', 'midterm': 85, 'final': 80},\n",
    "         {'name': 'Nate', 'midterm': 10, 'final': 30}]\n",
    "\n",
    "df = pd.DataFrame(students, columns=['name', 'midterm', 'final'])\n",
    "df"
   ],
   "id": "9e45a501cc51dbd0",
   "outputs": [
    {
     "data": {
      "text/plain": [
       "    name  midterm  final\n",
       "0   John       95     85\n",
       "1  Jenny       85     80\n",
       "2   Nate       10     30"
      ],
      "text/html": [
       "<div>\n",
       "<style scoped>\n",
       "    .dataframe tbody tr th:only-of-type {\n",
       "        vertical-align: middle;\n",
       "    }\n",
       "\n",
       "    .dataframe tbody tr th {\n",
       "        vertical-align: top;\n",
       "    }\n",
       "\n",
       "    .dataframe thead th {\n",
       "        text-align: right;\n",
       "    }\n",
       "</style>\n",
       "<table border=\"1\" class=\"dataframe\">\n",
       "  <thead>\n",
       "    <tr style=\"text-align: right;\">\n",
       "      <th></th>\n",
       "      <th>name</th>\n",
       "      <th>midterm</th>\n",
       "      <th>final</th>\n",
       "    </tr>\n",
       "  </thead>\n",
       "  <tbody>\n",
       "    <tr>\n",
       "      <th>0</th>\n",
       "      <td>John</td>\n",
       "      <td>95</td>\n",
       "      <td>85</td>\n",
       "    </tr>\n",
       "    <tr>\n",
       "      <th>1</th>\n",
       "      <td>Jenny</td>\n",
       "      <td>85</td>\n",
       "      <td>80</td>\n",
       "    </tr>\n",
       "    <tr>\n",
       "      <th>2</th>\n",
       "      <td>Nate</td>\n",
       "      <td>10</td>\n",
       "      <td>30</td>\n",
       "    </tr>\n",
       "  </tbody>\n",
       "</table>\n",
       "</div>"
      ]
     },
     "execution_count": 5,
     "metadata": {},
     "output_type": "execute_result"
    }
   ],
   "execution_count": 5
  },
  {
   "metadata": {
    "ExecuteTime": {
     "end_time": "2024-12-02T02:09:56.428092Z",
     "start_time": "2024-12-02T02:09:56.420356Z"
    }
   },
   "cell_type": "code",
   "source": [
    "# 1. loc를 이용해 행추가\n",
    "# 요소의 현재개수를 index로 지정하면 자동으로 마지막 인덱스 +1 처리가 될 것이다.\n",
    "df.loc[len(df)] = ['David', 88, 75]\n",
    "df"
   ],
   "id": "b4b398764a640424",
   "outputs": [
    {
     "data": {
      "text/plain": [
       "    name  midterm  final\n",
       "0   John       95     85\n",
       "1  Jenny       85     80\n",
       "2   Nate       10     30\n",
       "3  David       88     75"
      ],
      "text/html": [
       "<div>\n",
       "<style scoped>\n",
       "    .dataframe tbody tr th:only-of-type {\n",
       "        vertical-align: middle;\n",
       "    }\n",
       "\n",
       "    .dataframe tbody tr th {\n",
       "        vertical-align: top;\n",
       "    }\n",
       "\n",
       "    .dataframe thead th {\n",
       "        text-align: right;\n",
       "    }\n",
       "</style>\n",
       "<table border=\"1\" class=\"dataframe\">\n",
       "  <thead>\n",
       "    <tr style=\"text-align: right;\">\n",
       "      <th></th>\n",
       "      <th>name</th>\n",
       "      <th>midterm</th>\n",
       "      <th>final</th>\n",
       "    </tr>\n",
       "  </thead>\n",
       "  <tbody>\n",
       "    <tr>\n",
       "      <th>0</th>\n",
       "      <td>John</td>\n",
       "      <td>95</td>\n",
       "      <td>85</td>\n",
       "    </tr>\n",
       "    <tr>\n",
       "      <th>1</th>\n",
       "      <td>Jenny</td>\n",
       "      <td>85</td>\n",
       "      <td>80</td>\n",
       "    </tr>\n",
       "    <tr>\n",
       "      <th>2</th>\n",
       "      <td>Nate</td>\n",
       "      <td>10</td>\n",
       "      <td>30</td>\n",
       "    </tr>\n",
       "    <tr>\n",
       "      <th>3</th>\n",
       "      <td>David</td>\n",
       "      <td>88</td>\n",
       "      <td>75</td>\n",
       "    </tr>\n",
       "  </tbody>\n",
       "</table>\n",
       "</div>"
      ]
     },
     "execution_count": 6,
     "metadata": {},
     "output_type": "execute_result"
    }
   ],
   "execution_count": 6
  },
  {
   "metadata": {
    "ExecuteTime": {
     "end_time": "2024-12-02T02:10:28.561776Z",
     "start_time": "2024-12-02T02:10:28.548879Z"
    }
   },
   "cell_type": "code",
   "source": [
    "# 2. pd.concat(dfs...) DataFrame 병합\n",
    "another_student_df = pd.DataFrame([['Ben', 65, 99]], columns=['name', 'midterm', 'final'])\n",
    "\n",
    "pd.concat([df, another_student_df], ignore_index=True) #ignore_index 인덱스를 새로부여"
   ],
   "id": "7ff6d2f2c44bfc1c",
   "outputs": [
    {
     "data": {
      "text/plain": [
       "   name   age   job     salary type  midterm  final\n",
       "0   홍길동  33.0   개발자  5000000.0   청년      NaN    NaN\n",
       "1  신사임당  48.0    쉐프  5000000.0   청년      NaN    NaN\n",
       "2   이순신  55.0  건설업자  5000000.0   중년      NaN    NaN\n",
       "3   Ben   NaN   NaN        NaN  NaN     65.0   99.0"
      ],
      "text/html": [
       "<div>\n",
       "<style scoped>\n",
       "    .dataframe tbody tr th:only-of-type {\n",
       "        vertical-align: middle;\n",
       "    }\n",
       "\n",
       "    .dataframe tbody tr th {\n",
       "        vertical-align: top;\n",
       "    }\n",
       "\n",
       "    .dataframe thead th {\n",
       "        text-align: right;\n",
       "    }\n",
       "</style>\n",
       "<table border=\"1\" class=\"dataframe\">\n",
       "  <thead>\n",
       "    <tr style=\"text-align: right;\">\n",
       "      <th></th>\n",
       "      <th>name</th>\n",
       "      <th>age</th>\n",
       "      <th>job</th>\n",
       "      <th>salary</th>\n",
       "      <th>type</th>\n",
       "      <th>midterm</th>\n",
       "      <th>final</th>\n",
       "    </tr>\n",
       "  </thead>\n",
       "  <tbody>\n",
       "    <tr>\n",
       "      <th>0</th>\n",
       "      <td>홍길동</td>\n",
       "      <td>33.0</td>\n",
       "      <td>개발자</td>\n",
       "      <td>5000000.0</td>\n",
       "      <td>청년</td>\n",
       "      <td>NaN</td>\n",
       "      <td>NaN</td>\n",
       "    </tr>\n",
       "    <tr>\n",
       "      <th>1</th>\n",
       "      <td>신사임당</td>\n",
       "      <td>48.0</td>\n",
       "      <td>쉐프</td>\n",
       "      <td>5000000.0</td>\n",
       "      <td>청년</td>\n",
       "      <td>NaN</td>\n",
       "      <td>NaN</td>\n",
       "    </tr>\n",
       "    <tr>\n",
       "      <th>2</th>\n",
       "      <td>이순신</td>\n",
       "      <td>55.0</td>\n",
       "      <td>건설업자</td>\n",
       "      <td>5000000.0</td>\n",
       "      <td>중년</td>\n",
       "      <td>NaN</td>\n",
       "      <td>NaN</td>\n",
       "    </tr>\n",
       "    <tr>\n",
       "      <th>3</th>\n",
       "      <td>Ben</td>\n",
       "      <td>NaN</td>\n",
       "      <td>NaN</td>\n",
       "      <td>NaN</td>\n",
       "      <td>NaN</td>\n",
       "      <td>65.0</td>\n",
       "      <td>99.0</td>\n",
       "    </tr>\n",
       "  </tbody>\n",
       "</table>\n",
       "</div>"
      ]
     },
     "execution_count": 16,
     "metadata": {},
     "output_type": "execute_result"
    }
   ],
   "execution_count": 16
  },
  {
   "metadata": {
    "ExecuteTime": {
     "end_time": "2024-12-02T02:10:07.539614Z",
     "start_time": "2024-12-02T02:10:07.513183Z"
    }
   },
   "cell_type": "code",
   "source": [
    "# 행 삭제\n",
    "# index로 삭제\n",
    "# df.drop(df.index[[4, 5]], inplace=True)\n",
    "df = df.drop(df.index[[4, 5]])"
   ],
   "id": "3ab104a921732b56",
   "outputs": [
    {
     "ename": "IndexError",
     "evalue": "index 4 is out of bounds for axis 0 with size 4",
     "output_type": "error",
     "traceback": [
      "\u001B[1;31m---------------------------------------------------------------------------\u001B[0m",
      "\u001B[1;31mIndexError\u001B[0m                                Traceback (most recent call last)",
      "Cell \u001B[1;32mIn[9], line 4\u001B[0m\n\u001B[0;32m      1\u001B[0m \u001B[38;5;66;03m# 행 삭제\u001B[39;00m\n\u001B[0;32m      2\u001B[0m \u001B[38;5;66;03m# index로 삭제\u001B[39;00m\n\u001B[0;32m      3\u001B[0m \u001B[38;5;66;03m# df.drop(df.index[[4, 5]], inplace=True)\u001B[39;00m\n\u001B[1;32m----> 4\u001B[0m df \u001B[38;5;241m=\u001B[39m df\u001B[38;5;241m.\u001B[39mdrop(\u001B[43mdf\u001B[49m\u001B[38;5;241;43m.\u001B[39;49m\u001B[43mindex\u001B[49m\u001B[43m[\u001B[49m\u001B[43m[\u001B[49m\u001B[38;5;241;43m4\u001B[39;49m\u001B[43m,\u001B[49m\u001B[43m \u001B[49m\u001B[38;5;241;43m5\u001B[39;49m\u001B[43m]\u001B[49m\u001B[43m]\u001B[49m)\n",
      "File \u001B[1;32m~\\miniconda3\\envs\\da_env\\Lib\\site-packages\\pandas\\core\\indexes\\base.py:5416\u001B[0m, in \u001B[0;36mIndex.__getitem__\u001B[1;34m(self, key)\u001B[0m\n\u001B[0;32m   5407\u001B[0m         \u001B[38;5;28;01mif\u001B[39;00m \u001B[38;5;28mlen\u001B[39m(key) \u001B[38;5;241m==\u001B[39m \u001B[38;5;241m0\u001B[39m \u001B[38;5;129;01mand\u001B[39;00m \u001B[38;5;28mlen\u001B[39m(key) \u001B[38;5;241m!=\u001B[39m \u001B[38;5;28mlen\u001B[39m(\u001B[38;5;28mself\u001B[39m):\n\u001B[0;32m   5408\u001B[0m             warnings\u001B[38;5;241m.\u001B[39mwarn(\n\u001B[0;32m   5409\u001B[0m                 \u001B[38;5;124m\"\u001B[39m\u001B[38;5;124mUsing a boolean indexer with length 0 on an Index with \u001B[39m\u001B[38;5;124m\"\u001B[39m\n\u001B[0;32m   5410\u001B[0m                 \u001B[38;5;124m\"\u001B[39m\u001B[38;5;124mlength greater than 0 is deprecated and will raise in a \u001B[39m\u001B[38;5;124m\"\u001B[39m\n\u001B[1;32m   (...)\u001B[0m\n\u001B[0;32m   5413\u001B[0m                 stacklevel\u001B[38;5;241m=\u001B[39mfind_stack_level(),\n\u001B[0;32m   5414\u001B[0m             )\n\u001B[1;32m-> 5416\u001B[0m result \u001B[38;5;241m=\u001B[39m \u001B[43mgetitem\u001B[49m\u001B[43m(\u001B[49m\u001B[43mkey\u001B[49m\u001B[43m)\u001B[49m\n\u001B[0;32m   5417\u001B[0m \u001B[38;5;66;03m# Because we ruled out integer above, we always get an arraylike here\u001B[39;00m\n\u001B[0;32m   5418\u001B[0m \u001B[38;5;28;01mif\u001B[39;00m result\u001B[38;5;241m.\u001B[39mndim \u001B[38;5;241m>\u001B[39m \u001B[38;5;241m1\u001B[39m:\n",
      "\u001B[1;31mIndexError\u001B[0m: index 4 is out of bounds for axis 0 with size 4"
     ]
    }
   ],
   "execution_count": 9
  },
  {
   "metadata": {
    "ExecuteTime": {
     "end_time": "2024-12-02T02:10:32.679925Z",
     "start_time": "2024-12-02T02:10:32.668754Z"
    }
   },
   "cell_type": "code",
   "source": "df",
   "id": "7ad8cc851d86de99",
   "outputs": [
    {
     "data": {
      "text/plain": [
       "   name  age   job   salary type\n",
       "0   홍길동   33   개발자  5000000   청년\n",
       "1  신사임당   48    쉐프  5000000   청년\n",
       "2   이순신   55  건설업자  5000000   중년"
      ],
      "text/html": [
       "<div>\n",
       "<style scoped>\n",
       "    .dataframe tbody tr th:only-of-type {\n",
       "        vertical-align: middle;\n",
       "    }\n",
       "\n",
       "    .dataframe tbody tr th {\n",
       "        vertical-align: top;\n",
       "    }\n",
       "\n",
       "    .dataframe thead th {\n",
       "        text-align: right;\n",
       "    }\n",
       "</style>\n",
       "<table border=\"1\" class=\"dataframe\">\n",
       "  <thead>\n",
       "    <tr style=\"text-align: right;\">\n",
       "      <th></th>\n",
       "      <th>name</th>\n",
       "      <th>age</th>\n",
       "      <th>job</th>\n",
       "      <th>salary</th>\n",
       "      <th>type</th>\n",
       "    </tr>\n",
       "  </thead>\n",
       "  <tbody>\n",
       "    <tr>\n",
       "      <th>0</th>\n",
       "      <td>홍길동</td>\n",
       "      <td>33</td>\n",
       "      <td>개발자</td>\n",
       "      <td>5000000</td>\n",
       "      <td>청년</td>\n",
       "    </tr>\n",
       "    <tr>\n",
       "      <th>1</th>\n",
       "      <td>신사임당</td>\n",
       "      <td>48</td>\n",
       "      <td>쉐프</td>\n",
       "      <td>5000000</td>\n",
       "      <td>청년</td>\n",
       "    </tr>\n",
       "    <tr>\n",
       "      <th>2</th>\n",
       "      <td>이순신</td>\n",
       "      <td>55</td>\n",
       "      <td>건설업자</td>\n",
       "      <td>5000000</td>\n",
       "      <td>중년</td>\n",
       "    </tr>\n",
       "  </tbody>\n",
       "</table>\n",
       "</div>"
      ]
     },
     "execution_count": 17,
     "metadata": {},
     "output_type": "execute_result"
    }
   ],
   "execution_count": 17
  },
  {
   "metadata": {},
   "cell_type": "markdown",
   "source": "## 컬럼 추가",
   "id": "8770988b01990dd9"
  },
  {
   "metadata": {
    "ExecuteTime": {
     "end_time": "2024-12-02T02:10:35.152884Z",
     "start_time": "2024-12-02T02:10:35.146096Z"
    }
   },
   "cell_type": "code",
   "source": [
    "df = pd.DataFrame({\n",
    "    \"name\": ['홍길동', '신사임당', '이순신'],\n",
    "    \"age\": [33, 48, 55],\n",
    "    \"job\": ['개발자', '쉐프', '건설업자']\n",
    "})\n",
    "df"
   ],
   "id": "89c6503d9ad205bf",
   "outputs": [
    {
     "data": {
      "text/plain": [
       "   name  age   job\n",
       "0   홍길동   33   개발자\n",
       "1  신사임당   48    쉐프\n",
       "2   이순신   55  건설업자"
      ],
      "text/html": [
       "<div>\n",
       "<style scoped>\n",
       "    .dataframe tbody tr th:only-of-type {\n",
       "        vertical-align: middle;\n",
       "    }\n",
       "\n",
       "    .dataframe tbody tr th {\n",
       "        vertical-align: top;\n",
       "    }\n",
       "\n",
       "    .dataframe thead th {\n",
       "        text-align: right;\n",
       "    }\n",
       "</style>\n",
       "<table border=\"1\" class=\"dataframe\">\n",
       "  <thead>\n",
       "    <tr style=\"text-align: right;\">\n",
       "      <th></th>\n",
       "      <th>name</th>\n",
       "      <th>age</th>\n",
       "      <th>job</th>\n",
       "    </tr>\n",
       "  </thead>\n",
       "  <tbody>\n",
       "    <tr>\n",
       "      <th>0</th>\n",
       "      <td>홍길동</td>\n",
       "      <td>33</td>\n",
       "      <td>개발자</td>\n",
       "    </tr>\n",
       "    <tr>\n",
       "      <th>1</th>\n",
       "      <td>신사임당</td>\n",
       "      <td>48</td>\n",
       "      <td>쉐프</td>\n",
       "    </tr>\n",
       "    <tr>\n",
       "      <th>2</th>\n",
       "      <td>이순신</td>\n",
       "      <td>55</td>\n",
       "      <td>건설업자</td>\n",
       "    </tr>\n",
       "  </tbody>\n",
       "</table>\n",
       "</div>"
      ]
     },
     "execution_count": 18,
     "metadata": {},
     "output_type": "execute_result"
    }
   ],
   "execution_count": 18
  },
  {
   "metadata": {
    "ExecuteTime": {
     "end_time": "2024-12-02T02:10:38.268663Z",
     "start_time": "2024-12-02T02:10:38.261058Z"
    }
   },
   "cell_type": "code",
   "source": [
    "# scala value로 컬럼 생성하기\n",
    "df['salary'] = 5_000_000 # bracket notation\n",
    "# df.salary = 5_000_000 # dot notation으로 컬럼 생성\n",
    "df"
   ],
   "id": "b9fb71885118b02d",
   "outputs": [
    {
     "data": {
      "text/plain": [
       "   name  age   job   salary\n",
       "0   홍길동   33   개발자  5000000\n",
       "1  신사임당   48    쉐프  5000000\n",
       "2   이순신   55  건설업자  5000000"
      ],
      "text/html": [
       "<div>\n",
       "<style scoped>\n",
       "    .dataframe tbody tr th:only-of-type {\n",
       "        vertical-align: middle;\n",
       "    }\n",
       "\n",
       "    .dataframe tbody tr th {\n",
       "        vertical-align: top;\n",
       "    }\n",
       "\n",
       "    .dataframe thead th {\n",
       "        text-align: right;\n",
       "    }\n",
       "</style>\n",
       "<table border=\"1\" class=\"dataframe\">\n",
       "  <thead>\n",
       "    <tr style=\"text-align: right;\">\n",
       "      <th></th>\n",
       "      <th>name</th>\n",
       "      <th>age</th>\n",
       "      <th>job</th>\n",
       "      <th>salary</th>\n",
       "    </tr>\n",
       "  </thead>\n",
       "  <tbody>\n",
       "    <tr>\n",
       "      <th>0</th>\n",
       "      <td>홍길동</td>\n",
       "      <td>33</td>\n",
       "      <td>개발자</td>\n",
       "      <td>5000000</td>\n",
       "    </tr>\n",
       "    <tr>\n",
       "      <th>1</th>\n",
       "      <td>신사임당</td>\n",
       "      <td>48</td>\n",
       "      <td>쉐프</td>\n",
       "      <td>5000000</td>\n",
       "    </tr>\n",
       "    <tr>\n",
       "      <th>2</th>\n",
       "      <td>이순신</td>\n",
       "      <td>55</td>\n",
       "      <td>건설업자</td>\n",
       "      <td>5000000</td>\n",
       "    </tr>\n",
       "  </tbody>\n",
       "</table>\n",
       "</div>"
      ]
     },
     "execution_count": 19,
     "metadata": {},
     "output_type": "execute_result"
    }
   ],
   "execution_count": 19
  },
  {
   "metadata": {
    "ExecuteTime": {
     "end_time": "2024-12-02T02:10:40.317592Z",
     "start_time": "2024-12-02T02:10:40.305626Z"
    }
   },
   "cell_type": "code",
   "source": [
    "# np.where(조건식, true일때 값, false일때 값)\n",
    "df['type'] = np.where(df['age'] < 50, '청년', '중년')\n",
    "df"
   ],
   "id": "43c2eb3d097a9d5a",
   "outputs": [
    {
     "data": {
      "text/plain": [
       "   name  age   job   salary type\n",
       "0   홍길동   33   개발자  5000000   청년\n",
       "1  신사임당   48    쉐프  5000000   청년\n",
       "2   이순신   55  건설업자  5000000   중년"
      ],
      "text/html": [
       "<div>\n",
       "<style scoped>\n",
       "    .dataframe tbody tr th:only-of-type {\n",
       "        vertical-align: middle;\n",
       "    }\n",
       "\n",
       "    .dataframe tbody tr th {\n",
       "        vertical-align: top;\n",
       "    }\n",
       "\n",
       "    .dataframe thead th {\n",
       "        text-align: right;\n",
       "    }\n",
       "</style>\n",
       "<table border=\"1\" class=\"dataframe\">\n",
       "  <thead>\n",
       "    <tr style=\"text-align: right;\">\n",
       "      <th></th>\n",
       "      <th>name</th>\n",
       "      <th>age</th>\n",
       "      <th>job</th>\n",
       "      <th>salary</th>\n",
       "      <th>type</th>\n",
       "    </tr>\n",
       "  </thead>\n",
       "  <tbody>\n",
       "    <tr>\n",
       "      <th>0</th>\n",
       "      <td>홍길동</td>\n",
       "      <td>33</td>\n",
       "      <td>개발자</td>\n",
       "      <td>5000000</td>\n",
       "      <td>청년</td>\n",
       "    </tr>\n",
       "    <tr>\n",
       "      <th>1</th>\n",
       "      <td>신사임당</td>\n",
       "      <td>48</td>\n",
       "      <td>쉐프</td>\n",
       "      <td>5000000</td>\n",
       "      <td>청년</td>\n",
       "    </tr>\n",
       "    <tr>\n",
       "      <th>2</th>\n",
       "      <td>이순신</td>\n",
       "      <td>55</td>\n",
       "      <td>건설업자</td>\n",
       "      <td>5000000</td>\n",
       "      <td>중년</td>\n",
       "    </tr>\n",
       "  </tbody>\n",
       "</table>\n",
       "</div>"
      ]
     },
     "execution_count": 20,
     "metadata": {},
     "output_type": "execute_result"
    }
   ],
   "execution_count": 20
  },
  {
   "metadata": {},
   "cell_type": "markdown",
   "source": "",
   "id": "d8c25bac1ad2b21e"
  },
  {
   "metadata": {
    "ExecuteTime": {
     "end_time": "2024-12-02T02:11:48.477949Z",
     "start_time": "2024-12-02T02:11:48.453865Z"
    }
   },
   "cell_type": "code",
   "source": [
    "# 기존칼럼 연산\n",
    "df['annual_salary'] = df['salary'] * 12\n",
    "df"
   ],
   "id": "1baccf47fa94e539",
   "outputs": [
    {
     "data": {
      "text/plain": [
       "   name  age   job   salary type  annual_salary\n",
       "0   홍길동   33   개발자  5000000   청년       60000000\n",
       "1  신사임당   48    쉐프  5000000   청년       60000000\n",
       "2   이순신   55  건설업자  5000000   중년       60000000"
      ],
      "text/html": [
       "<div>\n",
       "<style scoped>\n",
       "    .dataframe tbody tr th:only-of-type {\n",
       "        vertical-align: middle;\n",
       "    }\n",
       "\n",
       "    .dataframe tbody tr th {\n",
       "        vertical-align: top;\n",
       "    }\n",
       "\n",
       "    .dataframe thead th {\n",
       "        text-align: right;\n",
       "    }\n",
       "</style>\n",
       "<table border=\"1\" class=\"dataframe\">\n",
       "  <thead>\n",
       "    <tr style=\"text-align: right;\">\n",
       "      <th></th>\n",
       "      <th>name</th>\n",
       "      <th>age</th>\n",
       "      <th>job</th>\n",
       "      <th>salary</th>\n",
       "      <th>type</th>\n",
       "      <th>annual_salary</th>\n",
       "    </tr>\n",
       "  </thead>\n",
       "  <tbody>\n",
       "    <tr>\n",
       "      <th>0</th>\n",
       "      <td>홍길동</td>\n",
       "      <td>33</td>\n",
       "      <td>개발자</td>\n",
       "      <td>5000000</td>\n",
       "      <td>청년</td>\n",
       "      <td>60000000</td>\n",
       "    </tr>\n",
       "    <tr>\n",
       "      <th>1</th>\n",
       "      <td>신사임당</td>\n",
       "      <td>48</td>\n",
       "      <td>쉐프</td>\n",
       "      <td>5000000</td>\n",
       "      <td>청년</td>\n",
       "      <td>60000000</td>\n",
       "    </tr>\n",
       "    <tr>\n",
       "      <th>2</th>\n",
       "      <td>이순신</td>\n",
       "      <td>55</td>\n",
       "      <td>건설업자</td>\n",
       "      <td>5000000</td>\n",
       "      <td>중년</td>\n",
       "      <td>60000000</td>\n",
       "    </tr>\n",
       "  </tbody>\n",
       "</table>\n",
       "</div>"
      ]
     },
     "execution_count": 21,
     "metadata": {},
     "output_type": "execute_result"
    }
   ],
   "execution_count": 21
  },
  {
   "metadata": {
    "ExecuteTime": {
     "end_time": "2024-12-02T02:12:56.204113Z",
     "start_time": "2024-12-02T02:12:56.182049Z"
    }
   },
   "cell_type": "code",
   "source": [
    "# list 추가\n",
    "df['birthday'] = ['1988-08-08','1999-09-09','2000-01-01']\n",
    "df"
   ],
   "id": "b839b016784c21aa",
   "outputs": [
    {
     "data": {
      "text/plain": [
       "   name  age   job   salary type  annual_salary    birthday\n",
       "0   홍길동   33   개발자  5000000   청년       60000000  1988-08-08\n",
       "1  신사임당   48    쉐프  5000000   청년       60000000  1999-09-09\n",
       "2   이순신   55  건설업자  5000000   중년       60000000  2000-01-01"
      ],
      "text/html": [
       "<div>\n",
       "<style scoped>\n",
       "    .dataframe tbody tr th:only-of-type {\n",
       "        vertical-align: middle;\n",
       "    }\n",
       "\n",
       "    .dataframe tbody tr th {\n",
       "        vertical-align: top;\n",
       "    }\n",
       "\n",
       "    .dataframe thead th {\n",
       "        text-align: right;\n",
       "    }\n",
       "</style>\n",
       "<table border=\"1\" class=\"dataframe\">\n",
       "  <thead>\n",
       "    <tr style=\"text-align: right;\">\n",
       "      <th></th>\n",
       "      <th>name</th>\n",
       "      <th>age</th>\n",
       "      <th>job</th>\n",
       "      <th>salary</th>\n",
       "      <th>type</th>\n",
       "      <th>annual_salary</th>\n",
       "      <th>birthday</th>\n",
       "    </tr>\n",
       "  </thead>\n",
       "  <tbody>\n",
       "    <tr>\n",
       "      <th>0</th>\n",
       "      <td>홍길동</td>\n",
       "      <td>33</td>\n",
       "      <td>개발자</td>\n",
       "      <td>5000000</td>\n",
       "      <td>청년</td>\n",
       "      <td>60000000</td>\n",
       "      <td>1988-08-08</td>\n",
       "    </tr>\n",
       "    <tr>\n",
       "      <th>1</th>\n",
       "      <td>신사임당</td>\n",
       "      <td>48</td>\n",
       "      <td>쉐프</td>\n",
       "      <td>5000000</td>\n",
       "      <td>청년</td>\n",
       "      <td>60000000</td>\n",
       "      <td>1999-09-09</td>\n",
       "    </tr>\n",
       "    <tr>\n",
       "      <th>2</th>\n",
       "      <td>이순신</td>\n",
       "      <td>55</td>\n",
       "      <td>건설업자</td>\n",
       "      <td>5000000</td>\n",
       "      <td>중년</td>\n",
       "      <td>60000000</td>\n",
       "      <td>2000-01-01</td>\n",
       "    </tr>\n",
       "  </tbody>\n",
       "</table>\n",
       "</div>"
      ]
     },
     "execution_count": 22,
     "metadata": {},
     "output_type": "execute_result"
    }
   ],
   "execution_count": 22
  },
  {
   "metadata": {
    "ExecuteTime": {
     "end_time": "2024-12-02T02:16:09.279038Z",
     "start_time": "2024-12-02T02:16:09.269047Z"
    }
   },
   "cell_type": "code",
   "source": [
    "# 함수 반환값 추가하기\n",
    "def get_type(value) :\n",
    "    return '청년' if value < 50 else '중년'\n",
    "\n",
    "# apply 함수를 호출. 이때 콜백함수 get_type을 전달\n",
    "df['type2'] = df['age'].apply(get_type)\n",
    "df"
   ],
   "id": "66eebe573e3edfca",
   "outputs": [
    {
     "data": {
      "text/plain": [
       "   name  age   job   salary type  annual_salary    birthday type2\n",
       "0   홍길동   33   개발자  5000000   청년       60000000  1988-08-08    청년\n",
       "1  신사임당   48    쉐프  5000000   청년       60000000  1999-09-09    청년\n",
       "2   이순신   55  건설업자  5000000   중년       60000000  2000-01-01    중년"
      ],
      "text/html": [
       "<div>\n",
       "<style scoped>\n",
       "    .dataframe tbody tr th:only-of-type {\n",
       "        vertical-align: middle;\n",
       "    }\n",
       "\n",
       "    .dataframe tbody tr th {\n",
       "        vertical-align: top;\n",
       "    }\n",
       "\n",
       "    .dataframe thead th {\n",
       "        text-align: right;\n",
       "    }\n",
       "</style>\n",
       "<table border=\"1\" class=\"dataframe\">\n",
       "  <thead>\n",
       "    <tr style=\"text-align: right;\">\n",
       "      <th></th>\n",
       "      <th>name</th>\n",
       "      <th>age</th>\n",
       "      <th>job</th>\n",
       "      <th>salary</th>\n",
       "      <th>type</th>\n",
       "      <th>annual_salary</th>\n",
       "      <th>birthday</th>\n",
       "      <th>type2</th>\n",
       "    </tr>\n",
       "  </thead>\n",
       "  <tbody>\n",
       "    <tr>\n",
       "      <th>0</th>\n",
       "      <td>홍길동</td>\n",
       "      <td>33</td>\n",
       "      <td>개발자</td>\n",
       "      <td>5000000</td>\n",
       "      <td>청년</td>\n",
       "      <td>60000000</td>\n",
       "      <td>1988-08-08</td>\n",
       "      <td>청년</td>\n",
       "    </tr>\n",
       "    <tr>\n",
       "      <th>1</th>\n",
       "      <td>신사임당</td>\n",
       "      <td>48</td>\n",
       "      <td>쉐프</td>\n",
       "      <td>5000000</td>\n",
       "      <td>청년</td>\n",
       "      <td>60000000</td>\n",
       "      <td>1999-09-09</td>\n",
       "      <td>청년</td>\n",
       "    </tr>\n",
       "    <tr>\n",
       "      <th>2</th>\n",
       "      <td>이순신</td>\n",
       "      <td>55</td>\n",
       "      <td>건설업자</td>\n",
       "      <td>5000000</td>\n",
       "      <td>중년</td>\n",
       "      <td>60000000</td>\n",
       "      <td>2000-01-01</td>\n",
       "      <td>중년</td>\n",
       "    </tr>\n",
       "  </tbody>\n",
       "</table>\n",
       "</div>"
      ]
     },
     "execution_count": 24,
     "metadata": {},
     "output_type": "execute_result"
    }
   ],
   "execution_count": 24
  },
  {
   "metadata": {
    "ExecuteTime": {
     "end_time": "2024-12-02T02:19:37.636524Z",
     "start_time": "2024-12-02T02:19:37.624364Z"
    }
   },
   "cell_type": "code",
   "source": [
    "# birth_year 컬럼을 추가 : birthday에서 년도 4자리만 추출\n",
    "def extract_year(value) :\n",
    "    return int(value.split('-')[0])\n",
    "\n",
    "df['birth_year'] = df.birthday.apply(extract_year) # dot notation(공백 및 특수 문자 있을 시 에러가 있어 아래 방식 사용 추천)\n",
    "df\n",
    "\n",
    "#df['birthyear'] = df['birthday'].apply(extract_year) # bracket notation"
   ],
   "id": "43f6304ce744091e",
   "outputs": [
    {
     "data": {
      "text/plain": [
       "   name  age   job   salary type  annual_salary    birthday type2  birth_year\n",
       "0   홍길동   33   개발자  5000000   청년       60000000  1988-08-08    청년        1988\n",
       "1  신사임당   48    쉐프  5000000   청년       60000000  1999-09-09    청년        1999\n",
       "2   이순신   55  건설업자  5000000   중년       60000000  2000-01-01    중년        2000"
      ],
      "text/html": [
       "<div>\n",
       "<style scoped>\n",
       "    .dataframe tbody tr th:only-of-type {\n",
       "        vertical-align: middle;\n",
       "    }\n",
       "\n",
       "    .dataframe tbody tr th {\n",
       "        vertical-align: top;\n",
       "    }\n",
       "\n",
       "    .dataframe thead th {\n",
       "        text-align: right;\n",
       "    }\n",
       "</style>\n",
       "<table border=\"1\" class=\"dataframe\">\n",
       "  <thead>\n",
       "    <tr style=\"text-align: right;\">\n",
       "      <th></th>\n",
       "      <th>name</th>\n",
       "      <th>age</th>\n",
       "      <th>job</th>\n",
       "      <th>salary</th>\n",
       "      <th>type</th>\n",
       "      <th>annual_salary</th>\n",
       "      <th>birthday</th>\n",
       "      <th>type2</th>\n",
       "      <th>birth_year</th>\n",
       "    </tr>\n",
       "  </thead>\n",
       "  <tbody>\n",
       "    <tr>\n",
       "      <th>0</th>\n",
       "      <td>홍길동</td>\n",
       "      <td>33</td>\n",
       "      <td>개발자</td>\n",
       "      <td>5000000</td>\n",
       "      <td>청년</td>\n",
       "      <td>60000000</td>\n",
       "      <td>1988-08-08</td>\n",
       "      <td>청년</td>\n",
       "      <td>1988</td>\n",
       "    </tr>\n",
       "    <tr>\n",
       "      <th>1</th>\n",
       "      <td>신사임당</td>\n",
       "      <td>48</td>\n",
       "      <td>쉐프</td>\n",
       "      <td>5000000</td>\n",
       "      <td>청년</td>\n",
       "      <td>60000000</td>\n",
       "      <td>1999-09-09</td>\n",
       "      <td>청년</td>\n",
       "      <td>1999</td>\n",
       "    </tr>\n",
       "    <tr>\n",
       "      <th>2</th>\n",
       "      <td>이순신</td>\n",
       "      <td>55</td>\n",
       "      <td>건설업자</td>\n",
       "      <td>5000000</td>\n",
       "      <td>중년</td>\n",
       "      <td>60000000</td>\n",
       "      <td>2000-01-01</td>\n",
       "      <td>중년</td>\n",
       "      <td>2000</td>\n",
       "    </tr>\n",
       "  </tbody>\n",
       "</table>\n",
       "</div>"
      ]
     },
     "execution_count": 26,
     "metadata": {},
     "output_type": "execute_result"
    }
   ],
   "execution_count": 26
  },
  {
   "metadata": {
    "ExecuteTime": {
     "end_time": "2024-12-02T02:25:52.724307Z",
     "start_time": "2024-12-02T02:25:52.715595Z"
    }
   },
   "cell_type": "code",
   "source": [
    "# 컬럼 삭제 birthyear 삭제!\n",
    "df.drop('birth_year', axis=1, inplace=True)\n",
    "df\n"
   ],
   "id": "fb5a6bb9dac5464e",
   "outputs": [
    {
     "data": {
      "text/plain": [
       "   name  age   job   salary type  annual_salary    birthday type2\n",
       "0   홍길동   33   개발자  5000000   청년       60000000  1988-08-08    청년\n",
       "1  신사임당   48    쉐프  5000000   청년       60000000  1999-09-09    청년\n",
       "2   이순신   55  건설업자  5000000   중년       60000000  2000-01-01    중년"
      ],
      "text/html": [
       "<div>\n",
       "<style scoped>\n",
       "    .dataframe tbody tr th:only-of-type {\n",
       "        vertical-align: middle;\n",
       "    }\n",
       "\n",
       "    .dataframe tbody tr th {\n",
       "        vertical-align: top;\n",
       "    }\n",
       "\n",
       "    .dataframe thead th {\n",
       "        text-align: right;\n",
       "    }\n",
       "</style>\n",
       "<table border=\"1\" class=\"dataframe\">\n",
       "  <thead>\n",
       "    <tr style=\"text-align: right;\">\n",
       "      <th></th>\n",
       "      <th>name</th>\n",
       "      <th>age</th>\n",
       "      <th>job</th>\n",
       "      <th>salary</th>\n",
       "      <th>type</th>\n",
       "      <th>annual_salary</th>\n",
       "      <th>birthday</th>\n",
       "      <th>type2</th>\n",
       "    </tr>\n",
       "  </thead>\n",
       "  <tbody>\n",
       "    <tr>\n",
       "      <th>0</th>\n",
       "      <td>홍길동</td>\n",
       "      <td>33</td>\n",
       "      <td>개발자</td>\n",
       "      <td>5000000</td>\n",
       "      <td>청년</td>\n",
       "      <td>60000000</td>\n",
       "      <td>1988-08-08</td>\n",
       "      <td>청년</td>\n",
       "    </tr>\n",
       "    <tr>\n",
       "      <th>1</th>\n",
       "      <td>신사임당</td>\n",
       "      <td>48</td>\n",
       "      <td>쉐프</td>\n",
       "      <td>5000000</td>\n",
       "      <td>청년</td>\n",
       "      <td>60000000</td>\n",
       "      <td>1999-09-09</td>\n",
       "      <td>청년</td>\n",
       "    </tr>\n",
       "    <tr>\n",
       "      <th>2</th>\n",
       "      <td>이순신</td>\n",
       "      <td>55</td>\n",
       "      <td>건설업자</td>\n",
       "      <td>5000000</td>\n",
       "      <td>중년</td>\n",
       "      <td>60000000</td>\n",
       "      <td>2000-01-01</td>\n",
       "      <td>중년</td>\n",
       "    </tr>\n",
       "  </tbody>\n",
       "</table>\n",
       "</div>"
      ]
     },
     "execution_count": 31,
     "metadata": {},
     "output_type": "execute_result"
    }
   ],
   "execution_count": 31
  },
  {
   "metadata": {
    "ExecuteTime": {
     "end_time": "2024-12-02T02:27:09.943261Z",
     "start_time": "2024-12-02T02:27:09.922628Z"
    }
   },
   "cell_type": "code",
   "source": [
    "## 정렬하기\n",
    "df = pd.read_csv('data/bank_client_information.csv')\n",
    "df"
   ],
   "id": "18aa960b5cdf95d6",
   "outputs": [
    {
     "data": {
      "text/plain": [
       "  First Name Last Name                    Email Postal Code  Net Worth  \\\n",
       "0      Bird      Steve           bird@gmail.com     N94 3M0    5000.00   \n",
       "1       Noah     Small       nsmall@hotmail.com     N8S 14K   10000.00   \n",
       "2       Nina    Keller          azikez@gahew.mr     S1T 4E6    9072.02   \n",
       "3    Chanel      Steve         chanel@gmail.com     N7T 3E6   11072.02   \n",
       "4       Kate      Noor         kate@hotmail.com     K8N 5H6    5000.00   \n",
       "5      Samer        Mo          samer@gmail.com     J7H 3HY  100000.00   \n",
       "6       Heba    Ismail  heba.ismail@hotmail.com     K8Y 3M8   50000.00   \n",
       "7      Laila     Ahmed      Laila.a@hotmail.com     J8Y 3M0   20000.00   \n",
       "8     Joseph    Patton           daafeja@boh.jm     M6U 5U7    2629.13   \n",
       "9       Noah     Moran        guutodi@bigwoc.kw     K2D 4M9    8626.96   \n",
       "\n",
       "   Years with Bank  \n",
       "0                5  \n",
       "1                6  \n",
       "2                7  \n",
       "3               10  \n",
       "4               22  \n",
       "5               26  \n",
       "6               11  \n",
       "7                3  \n",
       "8                1  \n",
       "9               13  "
      ],
      "text/html": [
       "<div>\n",
       "<style scoped>\n",
       "    .dataframe tbody tr th:only-of-type {\n",
       "        vertical-align: middle;\n",
       "    }\n",
       "\n",
       "    .dataframe tbody tr th {\n",
       "        vertical-align: top;\n",
       "    }\n",
       "\n",
       "    .dataframe thead th {\n",
       "        text-align: right;\n",
       "    }\n",
       "</style>\n",
       "<table border=\"1\" class=\"dataframe\">\n",
       "  <thead>\n",
       "    <tr style=\"text-align: right;\">\n",
       "      <th></th>\n",
       "      <th>First Name</th>\n",
       "      <th>Last Name</th>\n",
       "      <th>Email</th>\n",
       "      <th>Postal Code</th>\n",
       "      <th>Net Worth</th>\n",
       "      <th>Years with Bank</th>\n",
       "    </tr>\n",
       "  </thead>\n",
       "  <tbody>\n",
       "    <tr>\n",
       "      <th>0</th>\n",
       "      <td>Bird</td>\n",
       "      <td>Steve</td>\n",
       "      <td>bird@gmail.com</td>\n",
       "      <td>N94 3M0</td>\n",
       "      <td>5000.00</td>\n",
       "      <td>5</td>\n",
       "    </tr>\n",
       "    <tr>\n",
       "      <th>1</th>\n",
       "      <td>Noah</td>\n",
       "      <td>Small</td>\n",
       "      <td>nsmall@hotmail.com</td>\n",
       "      <td>N8S 14K</td>\n",
       "      <td>10000.00</td>\n",
       "      <td>6</td>\n",
       "    </tr>\n",
       "    <tr>\n",
       "      <th>2</th>\n",
       "      <td>Nina</td>\n",
       "      <td>Keller</td>\n",
       "      <td>azikez@gahew.mr</td>\n",
       "      <td>S1T 4E6</td>\n",
       "      <td>9072.02</td>\n",
       "      <td>7</td>\n",
       "    </tr>\n",
       "    <tr>\n",
       "      <th>3</th>\n",
       "      <td>Chanel</td>\n",
       "      <td>Steve</td>\n",
       "      <td>chanel@gmail.com</td>\n",
       "      <td>N7T 3E6</td>\n",
       "      <td>11072.02</td>\n",
       "      <td>10</td>\n",
       "    </tr>\n",
       "    <tr>\n",
       "      <th>4</th>\n",
       "      <td>Kate</td>\n",
       "      <td>Noor</td>\n",
       "      <td>kate@hotmail.com</td>\n",
       "      <td>K8N 5H6</td>\n",
       "      <td>5000.00</td>\n",
       "      <td>22</td>\n",
       "    </tr>\n",
       "    <tr>\n",
       "      <th>5</th>\n",
       "      <td>Samer</td>\n",
       "      <td>Mo</td>\n",
       "      <td>samer@gmail.com</td>\n",
       "      <td>J7H 3HY</td>\n",
       "      <td>100000.00</td>\n",
       "      <td>26</td>\n",
       "    </tr>\n",
       "    <tr>\n",
       "      <th>6</th>\n",
       "      <td>Heba</td>\n",
       "      <td>Ismail</td>\n",
       "      <td>heba.ismail@hotmail.com</td>\n",
       "      <td>K8Y 3M8</td>\n",
       "      <td>50000.00</td>\n",
       "      <td>11</td>\n",
       "    </tr>\n",
       "    <tr>\n",
       "      <th>7</th>\n",
       "      <td>Laila</td>\n",
       "      <td>Ahmed</td>\n",
       "      <td>Laila.a@hotmail.com</td>\n",
       "      <td>J8Y 3M0</td>\n",
       "      <td>20000.00</td>\n",
       "      <td>3</td>\n",
       "    </tr>\n",
       "    <tr>\n",
       "      <th>8</th>\n",
       "      <td>Joseph</td>\n",
       "      <td>Patton</td>\n",
       "      <td>daafeja@boh.jm</td>\n",
       "      <td>M6U 5U7</td>\n",
       "      <td>2629.13</td>\n",
       "      <td>1</td>\n",
       "    </tr>\n",
       "    <tr>\n",
       "      <th>9</th>\n",
       "      <td>Noah</td>\n",
       "      <td>Moran</td>\n",
       "      <td>guutodi@bigwoc.kw</td>\n",
       "      <td>K2D 4M9</td>\n",
       "      <td>8626.96</td>\n",
       "      <td>13</td>\n",
       "    </tr>\n",
       "  </tbody>\n",
       "</table>\n",
       "</div>"
      ]
     },
     "execution_count": 32,
     "metadata": {},
     "output_type": "execute_result"
    }
   ],
   "execution_count": 32
  },
  {
   "metadata": {
    "ExecuteTime": {
     "end_time": "2024-12-02T02:28:31.138256Z",
     "start_time": "2024-12-02T02:28:31.128208Z"
    }
   },
   "cell_type": "code",
   "source": " df.sort_values('Net Worth', ascending=False)",
   "id": "2297e0186ed0671d",
   "outputs": [
    {
     "data": {
      "text/plain": [
       "  First Name Last Name                    Email Postal Code  Net Worth  \\\n",
       "5      Samer        Mo          samer@gmail.com     J7H 3HY  100000.00   \n",
       "6       Heba    Ismail  heba.ismail@hotmail.com     K8Y 3M8   50000.00   \n",
       "7      Laila     Ahmed      Laila.a@hotmail.com     J8Y 3M0   20000.00   \n",
       "3    Chanel      Steve         chanel@gmail.com     N7T 3E6   11072.02   \n",
       "1       Noah     Small       nsmall@hotmail.com     N8S 14K   10000.00   \n",
       "2       Nina    Keller          azikez@gahew.mr     S1T 4E6    9072.02   \n",
       "9       Noah     Moran        guutodi@bigwoc.kw     K2D 4M9    8626.96   \n",
       "0      Bird      Steve           bird@gmail.com     N94 3M0    5000.00   \n",
       "4       Kate      Noor         kate@hotmail.com     K8N 5H6    5000.00   \n",
       "8     Joseph    Patton           daafeja@boh.jm     M6U 5U7    2629.13   \n",
       "\n",
       "   Years with Bank  \n",
       "5               26  \n",
       "6               11  \n",
       "7                3  \n",
       "3               10  \n",
       "1                6  \n",
       "2                7  \n",
       "9               13  \n",
       "0                5  \n",
       "4               22  \n",
       "8                1  "
      ],
      "text/html": [
       "<div>\n",
       "<style scoped>\n",
       "    .dataframe tbody tr th:only-of-type {\n",
       "        vertical-align: middle;\n",
       "    }\n",
       "\n",
       "    .dataframe tbody tr th {\n",
       "        vertical-align: top;\n",
       "    }\n",
       "\n",
       "    .dataframe thead th {\n",
       "        text-align: right;\n",
       "    }\n",
       "</style>\n",
       "<table border=\"1\" class=\"dataframe\">\n",
       "  <thead>\n",
       "    <tr style=\"text-align: right;\">\n",
       "      <th></th>\n",
       "      <th>First Name</th>\n",
       "      <th>Last Name</th>\n",
       "      <th>Email</th>\n",
       "      <th>Postal Code</th>\n",
       "      <th>Net Worth</th>\n",
       "      <th>Years with Bank</th>\n",
       "    </tr>\n",
       "  </thead>\n",
       "  <tbody>\n",
       "    <tr>\n",
       "      <th>5</th>\n",
       "      <td>Samer</td>\n",
       "      <td>Mo</td>\n",
       "      <td>samer@gmail.com</td>\n",
       "      <td>J7H 3HY</td>\n",
       "      <td>100000.00</td>\n",
       "      <td>26</td>\n",
       "    </tr>\n",
       "    <tr>\n",
       "      <th>6</th>\n",
       "      <td>Heba</td>\n",
       "      <td>Ismail</td>\n",
       "      <td>heba.ismail@hotmail.com</td>\n",
       "      <td>K8Y 3M8</td>\n",
       "      <td>50000.00</td>\n",
       "      <td>11</td>\n",
       "    </tr>\n",
       "    <tr>\n",
       "      <th>7</th>\n",
       "      <td>Laila</td>\n",
       "      <td>Ahmed</td>\n",
       "      <td>Laila.a@hotmail.com</td>\n",
       "      <td>J8Y 3M0</td>\n",
       "      <td>20000.00</td>\n",
       "      <td>3</td>\n",
       "    </tr>\n",
       "    <tr>\n",
       "      <th>3</th>\n",
       "      <td>Chanel</td>\n",
       "      <td>Steve</td>\n",
       "      <td>chanel@gmail.com</td>\n",
       "      <td>N7T 3E6</td>\n",
       "      <td>11072.02</td>\n",
       "      <td>10</td>\n",
       "    </tr>\n",
       "    <tr>\n",
       "      <th>1</th>\n",
       "      <td>Noah</td>\n",
       "      <td>Small</td>\n",
       "      <td>nsmall@hotmail.com</td>\n",
       "      <td>N8S 14K</td>\n",
       "      <td>10000.00</td>\n",
       "      <td>6</td>\n",
       "    </tr>\n",
       "    <tr>\n",
       "      <th>2</th>\n",
       "      <td>Nina</td>\n",
       "      <td>Keller</td>\n",
       "      <td>azikez@gahew.mr</td>\n",
       "      <td>S1T 4E6</td>\n",
       "      <td>9072.02</td>\n",
       "      <td>7</td>\n",
       "    </tr>\n",
       "    <tr>\n",
       "      <th>9</th>\n",
       "      <td>Noah</td>\n",
       "      <td>Moran</td>\n",
       "      <td>guutodi@bigwoc.kw</td>\n",
       "      <td>K2D 4M9</td>\n",
       "      <td>8626.96</td>\n",
       "      <td>13</td>\n",
       "    </tr>\n",
       "    <tr>\n",
       "      <th>0</th>\n",
       "      <td>Bird</td>\n",
       "      <td>Steve</td>\n",
       "      <td>bird@gmail.com</td>\n",
       "      <td>N94 3M0</td>\n",
       "      <td>5000.00</td>\n",
       "      <td>5</td>\n",
       "    </tr>\n",
       "    <tr>\n",
       "      <th>4</th>\n",
       "      <td>Kate</td>\n",
       "      <td>Noor</td>\n",
       "      <td>kate@hotmail.com</td>\n",
       "      <td>K8N 5H6</td>\n",
       "      <td>5000.00</td>\n",
       "      <td>22</td>\n",
       "    </tr>\n",
       "    <tr>\n",
       "      <th>8</th>\n",
       "      <td>Joseph</td>\n",
       "      <td>Patton</td>\n",
       "      <td>daafeja@boh.jm</td>\n",
       "      <td>M6U 5U7</td>\n",
       "      <td>2629.13</td>\n",
       "      <td>1</td>\n",
       "    </tr>\n",
       "  </tbody>\n",
       "</table>\n",
       "</div>"
      ]
     },
     "execution_count": 34,
     "metadata": {},
     "output_type": "execute_result"
    }
   ],
   "execution_count": 34
  },
  {
   "metadata": {
    "ExecuteTime": {
     "end_time": "2024-12-02T02:28:43.428008Z",
     "start_time": "2024-12-02T02:28:43.405626Z"
    }
   },
   "cell_type": "code",
   "source": "df #방금 진행한 sort를 반영이 안됨. inplace = true가 필요",
   "id": "faa7aa10804b0289",
   "outputs": [
    {
     "data": {
      "text/plain": [
       "  First Name Last Name                    Email Postal Code  Net Worth  \\\n",
       "0      Bird      Steve           bird@gmail.com     N94 3M0    5000.00   \n",
       "1       Noah     Small       nsmall@hotmail.com     N8S 14K   10000.00   \n",
       "2       Nina    Keller          azikez@gahew.mr     S1T 4E6    9072.02   \n",
       "3    Chanel      Steve         chanel@gmail.com     N7T 3E6   11072.02   \n",
       "4       Kate      Noor         kate@hotmail.com     K8N 5H6    5000.00   \n",
       "5      Samer        Mo          samer@gmail.com     J7H 3HY  100000.00   \n",
       "6       Heba    Ismail  heba.ismail@hotmail.com     K8Y 3M8   50000.00   \n",
       "7      Laila     Ahmed      Laila.a@hotmail.com     J8Y 3M0   20000.00   \n",
       "8     Joseph    Patton           daafeja@boh.jm     M6U 5U7    2629.13   \n",
       "9       Noah     Moran        guutodi@bigwoc.kw     K2D 4M9    8626.96   \n",
       "\n",
       "   Years with Bank  \n",
       "0                5  \n",
       "1                6  \n",
       "2                7  \n",
       "3               10  \n",
       "4               22  \n",
       "5               26  \n",
       "6               11  \n",
       "7                3  \n",
       "8                1  \n",
       "9               13  "
      ],
      "text/html": [
       "<div>\n",
       "<style scoped>\n",
       "    .dataframe tbody tr th:only-of-type {\n",
       "        vertical-align: middle;\n",
       "    }\n",
       "\n",
       "    .dataframe tbody tr th {\n",
       "        vertical-align: top;\n",
       "    }\n",
       "\n",
       "    .dataframe thead th {\n",
       "        text-align: right;\n",
       "    }\n",
       "</style>\n",
       "<table border=\"1\" class=\"dataframe\">\n",
       "  <thead>\n",
       "    <tr style=\"text-align: right;\">\n",
       "      <th></th>\n",
       "      <th>First Name</th>\n",
       "      <th>Last Name</th>\n",
       "      <th>Email</th>\n",
       "      <th>Postal Code</th>\n",
       "      <th>Net Worth</th>\n",
       "      <th>Years with Bank</th>\n",
       "    </tr>\n",
       "  </thead>\n",
       "  <tbody>\n",
       "    <tr>\n",
       "      <th>0</th>\n",
       "      <td>Bird</td>\n",
       "      <td>Steve</td>\n",
       "      <td>bird@gmail.com</td>\n",
       "      <td>N94 3M0</td>\n",
       "      <td>5000.00</td>\n",
       "      <td>5</td>\n",
       "    </tr>\n",
       "    <tr>\n",
       "      <th>1</th>\n",
       "      <td>Noah</td>\n",
       "      <td>Small</td>\n",
       "      <td>nsmall@hotmail.com</td>\n",
       "      <td>N8S 14K</td>\n",
       "      <td>10000.00</td>\n",
       "      <td>6</td>\n",
       "    </tr>\n",
       "    <tr>\n",
       "      <th>2</th>\n",
       "      <td>Nina</td>\n",
       "      <td>Keller</td>\n",
       "      <td>azikez@gahew.mr</td>\n",
       "      <td>S1T 4E6</td>\n",
       "      <td>9072.02</td>\n",
       "      <td>7</td>\n",
       "    </tr>\n",
       "    <tr>\n",
       "      <th>3</th>\n",
       "      <td>Chanel</td>\n",
       "      <td>Steve</td>\n",
       "      <td>chanel@gmail.com</td>\n",
       "      <td>N7T 3E6</td>\n",
       "      <td>11072.02</td>\n",
       "      <td>10</td>\n",
       "    </tr>\n",
       "    <tr>\n",
       "      <th>4</th>\n",
       "      <td>Kate</td>\n",
       "      <td>Noor</td>\n",
       "      <td>kate@hotmail.com</td>\n",
       "      <td>K8N 5H6</td>\n",
       "      <td>5000.00</td>\n",
       "      <td>22</td>\n",
       "    </tr>\n",
       "    <tr>\n",
       "      <th>5</th>\n",
       "      <td>Samer</td>\n",
       "      <td>Mo</td>\n",
       "      <td>samer@gmail.com</td>\n",
       "      <td>J7H 3HY</td>\n",
       "      <td>100000.00</td>\n",
       "      <td>26</td>\n",
       "    </tr>\n",
       "    <tr>\n",
       "      <th>6</th>\n",
       "      <td>Heba</td>\n",
       "      <td>Ismail</td>\n",
       "      <td>heba.ismail@hotmail.com</td>\n",
       "      <td>K8Y 3M8</td>\n",
       "      <td>50000.00</td>\n",
       "      <td>11</td>\n",
       "    </tr>\n",
       "    <tr>\n",
       "      <th>7</th>\n",
       "      <td>Laila</td>\n",
       "      <td>Ahmed</td>\n",
       "      <td>Laila.a@hotmail.com</td>\n",
       "      <td>J8Y 3M0</td>\n",
       "      <td>20000.00</td>\n",
       "      <td>3</td>\n",
       "    </tr>\n",
       "    <tr>\n",
       "      <th>8</th>\n",
       "      <td>Joseph</td>\n",
       "      <td>Patton</td>\n",
       "      <td>daafeja@boh.jm</td>\n",
       "      <td>M6U 5U7</td>\n",
       "      <td>2629.13</td>\n",
       "      <td>1</td>\n",
       "    </tr>\n",
       "    <tr>\n",
       "      <th>9</th>\n",
       "      <td>Noah</td>\n",
       "      <td>Moran</td>\n",
       "      <td>guutodi@bigwoc.kw</td>\n",
       "      <td>K2D 4M9</td>\n",
       "      <td>8626.96</td>\n",
       "      <td>13</td>\n",
       "    </tr>\n",
       "  </tbody>\n",
       "</table>\n",
       "</div>"
      ]
     },
     "execution_count": 35,
     "metadata": {},
     "output_type": "execute_result"
    }
   ],
   "execution_count": 35
  },
  {
   "metadata": {
    "ExecuteTime": {
     "end_time": "2024-12-02T02:29:56.534534Z",
     "start_time": "2024-12-02T02:29:56.521451Z"
    }
   },
   "cell_type": "code",
   "source": "df.sort_values('Years with Bank', ascending=False)",
   "id": "69c185ab337a9428",
   "outputs": [
    {
     "data": {
      "text/plain": [
       "  First Name Last Name                    Email Postal Code  Net Worth  \\\n",
       "5      Samer        Mo          samer@gmail.com     J7H 3HY  100000.00   \n",
       "4       Kate      Noor         kate@hotmail.com     K8N 5H6    5000.00   \n",
       "9       Noah     Moran        guutodi@bigwoc.kw     K2D 4M9    8626.96   \n",
       "6       Heba    Ismail  heba.ismail@hotmail.com     K8Y 3M8   50000.00   \n",
       "3    Chanel      Steve         chanel@gmail.com     N7T 3E6   11072.02   \n",
       "2       Nina    Keller          azikez@gahew.mr     S1T 4E6    9072.02   \n",
       "1       Noah     Small       nsmall@hotmail.com     N8S 14K   10000.00   \n",
       "0      Bird      Steve           bird@gmail.com     N94 3M0    5000.00   \n",
       "7      Laila     Ahmed      Laila.a@hotmail.com     J8Y 3M0   20000.00   \n",
       "8     Joseph    Patton           daafeja@boh.jm     M6U 5U7    2629.13   \n",
       "\n",
       "   Years with Bank  \n",
       "5               26  \n",
       "4               22  \n",
       "9               13  \n",
       "6               11  \n",
       "3               10  \n",
       "2                7  \n",
       "1                6  \n",
       "0                5  \n",
       "7                3  \n",
       "8                1  "
      ],
      "text/html": [
       "<div>\n",
       "<style scoped>\n",
       "    .dataframe tbody tr th:only-of-type {\n",
       "        vertical-align: middle;\n",
       "    }\n",
       "\n",
       "    .dataframe tbody tr th {\n",
       "        vertical-align: top;\n",
       "    }\n",
       "\n",
       "    .dataframe thead th {\n",
       "        text-align: right;\n",
       "    }\n",
       "</style>\n",
       "<table border=\"1\" class=\"dataframe\">\n",
       "  <thead>\n",
       "    <tr style=\"text-align: right;\">\n",
       "      <th></th>\n",
       "      <th>First Name</th>\n",
       "      <th>Last Name</th>\n",
       "      <th>Email</th>\n",
       "      <th>Postal Code</th>\n",
       "      <th>Net Worth</th>\n",
       "      <th>Years with Bank</th>\n",
       "    </tr>\n",
       "  </thead>\n",
       "  <tbody>\n",
       "    <tr>\n",
       "      <th>5</th>\n",
       "      <td>Samer</td>\n",
       "      <td>Mo</td>\n",
       "      <td>samer@gmail.com</td>\n",
       "      <td>J7H 3HY</td>\n",
       "      <td>100000.00</td>\n",
       "      <td>26</td>\n",
       "    </tr>\n",
       "    <tr>\n",
       "      <th>4</th>\n",
       "      <td>Kate</td>\n",
       "      <td>Noor</td>\n",
       "      <td>kate@hotmail.com</td>\n",
       "      <td>K8N 5H6</td>\n",
       "      <td>5000.00</td>\n",
       "      <td>22</td>\n",
       "    </tr>\n",
       "    <tr>\n",
       "      <th>9</th>\n",
       "      <td>Noah</td>\n",
       "      <td>Moran</td>\n",
       "      <td>guutodi@bigwoc.kw</td>\n",
       "      <td>K2D 4M9</td>\n",
       "      <td>8626.96</td>\n",
       "      <td>13</td>\n",
       "    </tr>\n",
       "    <tr>\n",
       "      <th>6</th>\n",
       "      <td>Heba</td>\n",
       "      <td>Ismail</td>\n",
       "      <td>heba.ismail@hotmail.com</td>\n",
       "      <td>K8Y 3M8</td>\n",
       "      <td>50000.00</td>\n",
       "      <td>11</td>\n",
       "    </tr>\n",
       "    <tr>\n",
       "      <th>3</th>\n",
       "      <td>Chanel</td>\n",
       "      <td>Steve</td>\n",
       "      <td>chanel@gmail.com</td>\n",
       "      <td>N7T 3E6</td>\n",
       "      <td>11072.02</td>\n",
       "      <td>10</td>\n",
       "    </tr>\n",
       "    <tr>\n",
       "      <th>2</th>\n",
       "      <td>Nina</td>\n",
       "      <td>Keller</td>\n",
       "      <td>azikez@gahew.mr</td>\n",
       "      <td>S1T 4E6</td>\n",
       "      <td>9072.02</td>\n",
       "      <td>7</td>\n",
       "    </tr>\n",
       "    <tr>\n",
       "      <th>1</th>\n",
       "      <td>Noah</td>\n",
       "      <td>Small</td>\n",
       "      <td>nsmall@hotmail.com</td>\n",
       "      <td>N8S 14K</td>\n",
       "      <td>10000.00</td>\n",
       "      <td>6</td>\n",
       "    </tr>\n",
       "    <tr>\n",
       "      <th>0</th>\n",
       "      <td>Bird</td>\n",
       "      <td>Steve</td>\n",
       "      <td>bird@gmail.com</td>\n",
       "      <td>N94 3M0</td>\n",
       "      <td>5000.00</td>\n",
       "      <td>5</td>\n",
       "    </tr>\n",
       "    <tr>\n",
       "      <th>7</th>\n",
       "      <td>Laila</td>\n",
       "      <td>Ahmed</td>\n",
       "      <td>Laila.a@hotmail.com</td>\n",
       "      <td>J8Y 3M0</td>\n",
       "      <td>20000.00</td>\n",
       "      <td>3</td>\n",
       "    </tr>\n",
       "    <tr>\n",
       "      <th>8</th>\n",
       "      <td>Joseph</td>\n",
       "      <td>Patton</td>\n",
       "      <td>daafeja@boh.jm</td>\n",
       "      <td>M6U 5U7</td>\n",
       "      <td>2629.13</td>\n",
       "      <td>1</td>\n",
       "    </tr>\n",
       "  </tbody>\n",
       "</table>\n",
       "</div>"
      ]
     },
     "execution_count": 36,
     "metadata": {},
     "output_type": "execute_result"
    }
   ],
   "execution_count": 36
  },
  {
   "metadata": {
    "ExecuteTime": {
     "end_time": "2024-12-02T02:34:57.468375Z",
     "start_time": "2024-12-02T02:34:57.447417Z"
    }
   },
   "cell_type": "code",
   "source": [
    "# 정렬 기준으로 n개의 컬럼을 사용 가능. ascending 속성 역시 짝맞추어 n개를 작성\n",
    "df.sort_values(['Net Worth', 'Years with Bank'], ascending = [False, False]) # 여러 개 칼럼을 사용 위해서는 대괄호"
   ],
   "id": "d20d623ab787a7c1",
   "outputs": [
    {
     "data": {
      "text/plain": [
       "  First Name Last Name                    Email Postal Code  Net Worth  \\\n",
       "5      Samer        Mo          samer@gmail.com     J7H 3HY  100000.00   \n",
       "6       Heba    Ismail  heba.ismail@hotmail.com     K8Y 3M8   50000.00   \n",
       "7      Laila     Ahmed      Laila.a@hotmail.com     J8Y 3M0   20000.00   \n",
       "3    Chanel      Steve         chanel@gmail.com     N7T 3E6   11072.02   \n",
       "1       Noah     Small       nsmall@hotmail.com     N8S 14K   10000.00   \n",
       "2       Nina    Keller          azikez@gahew.mr     S1T 4E6    9072.02   \n",
       "9       Noah     Moran        guutodi@bigwoc.kw     K2D 4M9    8626.96   \n",
       "4       Kate      Noor         kate@hotmail.com     K8N 5H6    5000.00   \n",
       "0      Bird      Steve           bird@gmail.com     N94 3M0    5000.00   \n",
       "8     Joseph    Patton           daafeja@boh.jm     M6U 5U7    2629.13   \n",
       "\n",
       "   Years with Bank  \n",
       "5               26  \n",
       "6               11  \n",
       "7                3  \n",
       "3               10  \n",
       "1                6  \n",
       "2                7  \n",
       "9               13  \n",
       "4               22  \n",
       "0                5  \n",
       "8                1  "
      ],
      "text/html": [
       "<div>\n",
       "<style scoped>\n",
       "    .dataframe tbody tr th:only-of-type {\n",
       "        vertical-align: middle;\n",
       "    }\n",
       "\n",
       "    .dataframe tbody tr th {\n",
       "        vertical-align: top;\n",
       "    }\n",
       "\n",
       "    .dataframe thead th {\n",
       "        text-align: right;\n",
       "    }\n",
       "</style>\n",
       "<table border=\"1\" class=\"dataframe\">\n",
       "  <thead>\n",
       "    <tr style=\"text-align: right;\">\n",
       "      <th></th>\n",
       "      <th>First Name</th>\n",
       "      <th>Last Name</th>\n",
       "      <th>Email</th>\n",
       "      <th>Postal Code</th>\n",
       "      <th>Net Worth</th>\n",
       "      <th>Years with Bank</th>\n",
       "    </tr>\n",
       "  </thead>\n",
       "  <tbody>\n",
       "    <tr>\n",
       "      <th>5</th>\n",
       "      <td>Samer</td>\n",
       "      <td>Mo</td>\n",
       "      <td>samer@gmail.com</td>\n",
       "      <td>J7H 3HY</td>\n",
       "      <td>100000.00</td>\n",
       "      <td>26</td>\n",
       "    </tr>\n",
       "    <tr>\n",
       "      <th>6</th>\n",
       "      <td>Heba</td>\n",
       "      <td>Ismail</td>\n",
       "      <td>heba.ismail@hotmail.com</td>\n",
       "      <td>K8Y 3M8</td>\n",
       "      <td>50000.00</td>\n",
       "      <td>11</td>\n",
       "    </tr>\n",
       "    <tr>\n",
       "      <th>7</th>\n",
       "      <td>Laila</td>\n",
       "      <td>Ahmed</td>\n",
       "      <td>Laila.a@hotmail.com</td>\n",
       "      <td>J8Y 3M0</td>\n",
       "      <td>20000.00</td>\n",
       "      <td>3</td>\n",
       "    </tr>\n",
       "    <tr>\n",
       "      <th>3</th>\n",
       "      <td>Chanel</td>\n",
       "      <td>Steve</td>\n",
       "      <td>chanel@gmail.com</td>\n",
       "      <td>N7T 3E6</td>\n",
       "      <td>11072.02</td>\n",
       "      <td>10</td>\n",
       "    </tr>\n",
       "    <tr>\n",
       "      <th>1</th>\n",
       "      <td>Noah</td>\n",
       "      <td>Small</td>\n",
       "      <td>nsmall@hotmail.com</td>\n",
       "      <td>N8S 14K</td>\n",
       "      <td>10000.00</td>\n",
       "      <td>6</td>\n",
       "    </tr>\n",
       "    <tr>\n",
       "      <th>2</th>\n",
       "      <td>Nina</td>\n",
       "      <td>Keller</td>\n",
       "      <td>azikez@gahew.mr</td>\n",
       "      <td>S1T 4E6</td>\n",
       "      <td>9072.02</td>\n",
       "      <td>7</td>\n",
       "    </tr>\n",
       "    <tr>\n",
       "      <th>9</th>\n",
       "      <td>Noah</td>\n",
       "      <td>Moran</td>\n",
       "      <td>guutodi@bigwoc.kw</td>\n",
       "      <td>K2D 4M9</td>\n",
       "      <td>8626.96</td>\n",
       "      <td>13</td>\n",
       "    </tr>\n",
       "    <tr>\n",
       "      <th>4</th>\n",
       "      <td>Kate</td>\n",
       "      <td>Noor</td>\n",
       "      <td>kate@hotmail.com</td>\n",
       "      <td>K8N 5H6</td>\n",
       "      <td>5000.00</td>\n",
       "      <td>22</td>\n",
       "    </tr>\n",
       "    <tr>\n",
       "      <th>0</th>\n",
       "      <td>Bird</td>\n",
       "      <td>Steve</td>\n",
       "      <td>bird@gmail.com</td>\n",
       "      <td>N94 3M0</td>\n",
       "      <td>5000.00</td>\n",
       "      <td>5</td>\n",
       "    </tr>\n",
       "    <tr>\n",
       "      <th>8</th>\n",
       "      <td>Joseph</td>\n",
       "      <td>Patton</td>\n",
       "      <td>daafeja@boh.jm</td>\n",
       "      <td>M6U 5U7</td>\n",
       "      <td>2629.13</td>\n",
       "      <td>1</td>\n",
       "    </tr>\n",
       "  </tbody>\n",
       "</table>\n",
       "</div>"
      ]
     },
     "execution_count": 37,
     "metadata": {},
     "output_type": "execute_result"
    }
   ],
   "execution_count": 37
  },
  {
   "metadata": {
    "ExecuteTime": {
     "end_time": "2024-12-02T02:39:34.673220Z",
     "start_time": "2024-12-02T02:39:34.650431Z"
    }
   },
   "cell_type": "code",
   "source": [
    "# 순위 부여하기\n",
    "# 예치금액 내림차순 순위 부여하기\n",
    "df.sort_values('Net Worth', ascending=False)\n",
    "df['Rank'] = df['Net Worth'].rank(ascending=False).astype(int)\n",
    "df.sort_values('Rank')"
   ],
   "id": "581d08fc0f24f512",
   "outputs": [
    {
     "data": {
      "text/plain": [
       "  First Name Last Name                    Email Postal Code  Net Worth  \\\n",
       "5      Samer        Mo          samer@gmail.com     J7H 3HY  100000.00   \n",
       "6       Heba    Ismail  heba.ismail@hotmail.com     K8Y 3M8   50000.00   \n",
       "7      Laila     Ahmed      Laila.a@hotmail.com     J8Y 3M0   20000.00   \n",
       "3    Chanel      Steve         chanel@gmail.com     N7T 3E6   11072.02   \n",
       "1       Noah     Small       nsmall@hotmail.com     N8S 14K   10000.00   \n",
       "2       Nina    Keller          azikez@gahew.mr     S1T 4E6    9072.02   \n",
       "9       Noah     Moran        guutodi@bigwoc.kw     K2D 4M9    8626.96   \n",
       "0      Bird      Steve           bird@gmail.com     N94 3M0    5000.00   \n",
       "4       Kate      Noor         kate@hotmail.com     K8N 5H6    5000.00   \n",
       "8     Joseph    Patton           daafeja@boh.jm     M6U 5U7    2629.13   \n",
       "\n",
       "   Years with Bank  rank  Rank  \n",
       "5               26     1     1  \n",
       "6               11     2     2  \n",
       "7                3     3     3  \n",
       "3               10     4     4  \n",
       "1                6     5     5  \n",
       "2                7     6     6  \n",
       "9               13     7     7  \n",
       "0                5     8     8  \n",
       "4               22     8     8  \n",
       "8                1    10    10  "
      ],
      "text/html": [
       "<div>\n",
       "<style scoped>\n",
       "    .dataframe tbody tr th:only-of-type {\n",
       "        vertical-align: middle;\n",
       "    }\n",
       "\n",
       "    .dataframe tbody tr th {\n",
       "        vertical-align: top;\n",
       "    }\n",
       "\n",
       "    .dataframe thead th {\n",
       "        text-align: right;\n",
       "    }\n",
       "</style>\n",
       "<table border=\"1\" class=\"dataframe\">\n",
       "  <thead>\n",
       "    <tr style=\"text-align: right;\">\n",
       "      <th></th>\n",
       "      <th>First Name</th>\n",
       "      <th>Last Name</th>\n",
       "      <th>Email</th>\n",
       "      <th>Postal Code</th>\n",
       "      <th>Net Worth</th>\n",
       "      <th>Years with Bank</th>\n",
       "      <th>rank</th>\n",
       "      <th>Rank</th>\n",
       "    </tr>\n",
       "  </thead>\n",
       "  <tbody>\n",
       "    <tr>\n",
       "      <th>5</th>\n",
       "      <td>Samer</td>\n",
       "      <td>Mo</td>\n",
       "      <td>samer@gmail.com</td>\n",
       "      <td>J7H 3HY</td>\n",
       "      <td>100000.00</td>\n",
       "      <td>26</td>\n",
       "      <td>1</td>\n",
       "      <td>1</td>\n",
       "    </tr>\n",
       "    <tr>\n",
       "      <th>6</th>\n",
       "      <td>Heba</td>\n",
       "      <td>Ismail</td>\n",
       "      <td>heba.ismail@hotmail.com</td>\n",
       "      <td>K8Y 3M8</td>\n",
       "      <td>50000.00</td>\n",
       "      <td>11</td>\n",
       "      <td>2</td>\n",
       "      <td>2</td>\n",
       "    </tr>\n",
       "    <tr>\n",
       "      <th>7</th>\n",
       "      <td>Laila</td>\n",
       "      <td>Ahmed</td>\n",
       "      <td>Laila.a@hotmail.com</td>\n",
       "      <td>J8Y 3M0</td>\n",
       "      <td>20000.00</td>\n",
       "      <td>3</td>\n",
       "      <td>3</td>\n",
       "      <td>3</td>\n",
       "    </tr>\n",
       "    <tr>\n",
       "      <th>3</th>\n",
       "      <td>Chanel</td>\n",
       "      <td>Steve</td>\n",
       "      <td>chanel@gmail.com</td>\n",
       "      <td>N7T 3E6</td>\n",
       "      <td>11072.02</td>\n",
       "      <td>10</td>\n",
       "      <td>4</td>\n",
       "      <td>4</td>\n",
       "    </tr>\n",
       "    <tr>\n",
       "      <th>1</th>\n",
       "      <td>Noah</td>\n",
       "      <td>Small</td>\n",
       "      <td>nsmall@hotmail.com</td>\n",
       "      <td>N8S 14K</td>\n",
       "      <td>10000.00</td>\n",
       "      <td>6</td>\n",
       "      <td>5</td>\n",
       "      <td>5</td>\n",
       "    </tr>\n",
       "    <tr>\n",
       "      <th>2</th>\n",
       "      <td>Nina</td>\n",
       "      <td>Keller</td>\n",
       "      <td>azikez@gahew.mr</td>\n",
       "      <td>S1T 4E6</td>\n",
       "      <td>9072.02</td>\n",
       "      <td>7</td>\n",
       "      <td>6</td>\n",
       "      <td>6</td>\n",
       "    </tr>\n",
       "    <tr>\n",
       "      <th>9</th>\n",
       "      <td>Noah</td>\n",
       "      <td>Moran</td>\n",
       "      <td>guutodi@bigwoc.kw</td>\n",
       "      <td>K2D 4M9</td>\n",
       "      <td>8626.96</td>\n",
       "      <td>13</td>\n",
       "      <td>7</td>\n",
       "      <td>7</td>\n",
       "    </tr>\n",
       "    <tr>\n",
       "      <th>0</th>\n",
       "      <td>Bird</td>\n",
       "      <td>Steve</td>\n",
       "      <td>bird@gmail.com</td>\n",
       "      <td>N94 3M0</td>\n",
       "      <td>5000.00</td>\n",
       "      <td>5</td>\n",
       "      <td>8</td>\n",
       "      <td>8</td>\n",
       "    </tr>\n",
       "    <tr>\n",
       "      <th>4</th>\n",
       "      <td>Kate</td>\n",
       "      <td>Noor</td>\n",
       "      <td>kate@hotmail.com</td>\n",
       "      <td>K8N 5H6</td>\n",
       "      <td>5000.00</td>\n",
       "      <td>22</td>\n",
       "      <td>8</td>\n",
       "      <td>8</td>\n",
       "    </tr>\n",
       "    <tr>\n",
       "      <th>8</th>\n",
       "      <td>Joseph</td>\n",
       "      <td>Patton</td>\n",
       "      <td>daafeja@boh.jm</td>\n",
       "      <td>M6U 5U7</td>\n",
       "      <td>2629.13</td>\n",
       "      <td>1</td>\n",
       "      <td>10</td>\n",
       "      <td>10</td>\n",
       "    </tr>\n",
       "  </tbody>\n",
       "</table>\n",
       "</div>"
      ]
     },
     "execution_count": 40,
     "metadata": {},
     "output_type": "execute_result"
    }
   ],
   "execution_count": 40
  }
 ],
 "metadata": {
  "kernelspec": {
   "display_name": "Python 3",
   "language": "python",
   "name": "python3"
  },
  "language_info": {
   "codemirror_mode": {
    "name": "ipython",
    "version": 2
   },
   "file_extension": ".py",
   "mimetype": "text/x-python",
   "name": "python",
   "nbconvert_exporter": "python",
   "pygments_lexer": "ipython2",
   "version": "2.7.6"
  }
 },
 "nbformat": 4,
 "nbformat_minor": 5
}
