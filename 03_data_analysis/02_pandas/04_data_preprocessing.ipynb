{
 "cells": [
  {
   "cell_type": "code",
   "execution_count": null,
   "id": "initial_id",
   "metadata": {
    "collapsed": true
   },
   "outputs": [],
   "source": [
    ""
   ]
  },
  {
   "metadata": {},
   "cell_type": "markdown",
   "source": [
    "# Data Pre-Processing\n",
    "- 결측치 확인\n",
    "- 결측치 처리 (결측치가 포함된 행 제거, 결측치 값을 대체(기본값/평균값))\n",
    "- 중복값 처리"
   ],
   "id": "d9369232365ba855"
  },
  {
   "metadata": {
    "ExecuteTime": {
     "end_time": "2024-12-02T07:24:33.159338Z",
     "start_time": "2024-12-02T07:24:32.773635Z"
    }
   },
   "cell_type": "code",
   "source": [
    "import pandas as pd\n",
    "import numpy as np\n"
   ],
   "id": "5e3fc558db7a305",
   "outputs": [],
   "execution_count": 1
  },
  {
   "metadata": {
    "ExecuteTime": {
     "end_time": "2024-12-02T07:25:05.011706Z",
     "start_time": "2024-12-02T07:25:04.995723Z"
    }
   },
   "cell_type": "code",
   "source": [
    "df = pd.read_csv('data/contacts.csv')\n",
    "df"
   ],
   "id": "7c873bad494f94f5",
   "outputs": [
    {
     "data": {
      "text/plain": [
       "   Name          Phone                     Email\n",
       "0   김민수  010-1234-5678       minsu.kim@gmail.com\n",
       "1   이지은  010-2345-6789       jieun.lee@naver.com\n",
       "2   박철수  010-3456-7890  chulsoo.park@hotmail.com\n",
       "3   홍길동  010-4567-8901     gildong.hong@daum.net\n",
       "4   김영희  010-5678-9012    younghee.kim@gmail.com\n",
       "..  ...            ...                       ...\n",
       "72  범수정  010-3456-7892   soojeong.beom@gmail.com\n",
       "73  이호진  010-4567-8904        hojin.lee@daum.net\n",
       "74  정지윤  010-5678-9015         jungzee@naver.com\n",
       "75  김지현  010-6789-0126          jh.kim@gmail.com\n",
       "76  이지훈  010-7890-1237           leejh@gmail.com\n",
       "\n",
       "[77 rows x 3 columns]"
      ],
      "text/html": [
       "<div>\n",
       "<style scoped>\n",
       "    .dataframe tbody tr th:only-of-type {\n",
       "        vertical-align: middle;\n",
       "    }\n",
       "\n",
       "    .dataframe tbody tr th {\n",
       "        vertical-align: top;\n",
       "    }\n",
       "\n",
       "    .dataframe thead th {\n",
       "        text-align: right;\n",
       "    }\n",
       "</style>\n",
       "<table border=\"1\" class=\"dataframe\">\n",
       "  <thead>\n",
       "    <tr style=\"text-align: right;\">\n",
       "      <th></th>\n",
       "      <th>Name</th>\n",
       "      <th>Phone</th>\n",
       "      <th>Email</th>\n",
       "    </tr>\n",
       "  </thead>\n",
       "  <tbody>\n",
       "    <tr>\n",
       "      <th>0</th>\n",
       "      <td>김민수</td>\n",
       "      <td>010-1234-5678</td>\n",
       "      <td>minsu.kim@gmail.com</td>\n",
       "    </tr>\n",
       "    <tr>\n",
       "      <th>1</th>\n",
       "      <td>이지은</td>\n",
       "      <td>010-2345-6789</td>\n",
       "      <td>jieun.lee@naver.com</td>\n",
       "    </tr>\n",
       "    <tr>\n",
       "      <th>2</th>\n",
       "      <td>박철수</td>\n",
       "      <td>010-3456-7890</td>\n",
       "      <td>chulsoo.park@hotmail.com</td>\n",
       "    </tr>\n",
       "    <tr>\n",
       "      <th>3</th>\n",
       "      <td>홍길동</td>\n",
       "      <td>010-4567-8901</td>\n",
       "      <td>gildong.hong@daum.net</td>\n",
       "    </tr>\n",
       "    <tr>\n",
       "      <th>4</th>\n",
       "      <td>김영희</td>\n",
       "      <td>010-5678-9012</td>\n",
       "      <td>younghee.kim@gmail.com</td>\n",
       "    </tr>\n",
       "    <tr>\n",
       "      <th>...</th>\n",
       "      <td>...</td>\n",
       "      <td>...</td>\n",
       "      <td>...</td>\n",
       "    </tr>\n",
       "    <tr>\n",
       "      <th>72</th>\n",
       "      <td>범수정</td>\n",
       "      <td>010-3456-7892</td>\n",
       "      <td>soojeong.beom@gmail.com</td>\n",
       "    </tr>\n",
       "    <tr>\n",
       "      <th>73</th>\n",
       "      <td>이호진</td>\n",
       "      <td>010-4567-8904</td>\n",
       "      <td>hojin.lee@daum.net</td>\n",
       "    </tr>\n",
       "    <tr>\n",
       "      <th>74</th>\n",
       "      <td>정지윤</td>\n",
       "      <td>010-5678-9015</td>\n",
       "      <td>jungzee@naver.com</td>\n",
       "    </tr>\n",
       "    <tr>\n",
       "      <th>75</th>\n",
       "      <td>김지현</td>\n",
       "      <td>010-6789-0126</td>\n",
       "      <td>jh.kim@gmail.com</td>\n",
       "    </tr>\n",
       "    <tr>\n",
       "      <th>76</th>\n",
       "      <td>이지훈</td>\n",
       "      <td>010-7890-1237</td>\n",
       "      <td>leejh@gmail.com</td>\n",
       "    </tr>\n",
       "  </tbody>\n",
       "</table>\n",
       "<p>77 rows × 3 columns</p>\n",
       "</div>"
      ]
     },
     "execution_count": 2,
     "metadata": {},
     "output_type": "execute_result"
    }
   ],
   "execution_count": 2
  },
  {
   "metadata": {
    "ExecuteTime": {
     "end_time": "2024-12-02T07:25:53.262973Z",
     "start_time": "2024-12-02T07:25:53.254830Z"
    }
   },
   "cell_type": "code",
   "source": "df.info()",
   "id": "95facac7fc5b5480",
   "outputs": [
    {
     "name": "stdout",
     "output_type": "stream",
     "text": [
      "<class 'pandas.core.frame.DataFrame'>\n",
      "RangeIndex: 77 entries, 0 to 76\n",
      "Data columns (total 3 columns):\n",
      " #   Column  Non-Null Count  Dtype \n",
      "---  ------  --------------  ----- \n",
      " 0   Name    77 non-null     object\n",
      " 1   Phone   71 non-null     object\n",
      " 2   Email   76 non-null     object\n",
      "dtypes: object(3)\n",
      "memory usage: 1.9+ KB\n"
     ]
    }
   ],
   "execution_count": 3
  },
  {
   "metadata": {
    "ExecuteTime": {
     "end_time": "2024-12-02T07:26:34.255547Z",
     "start_time": "2024-12-02T07:26:34.245877Z"
    }
   },
   "cell_type": "code",
   "source": "df.describe()",
   "id": "df9f686a5c5482de",
   "outputs": [
    {
     "data": {
      "text/plain": [
       "       Name          Phone                  Email\n",
       "count    77             71                     76\n",
       "unique   75             63                     75\n",
       "top     박철수  010-2345-6789  dahyun.jung@naver.com\n",
       "freq      2              2                      2"
      ],
      "text/html": [
       "<div>\n",
       "<style scoped>\n",
       "    .dataframe tbody tr th:only-of-type {\n",
       "        vertical-align: middle;\n",
       "    }\n",
       "\n",
       "    .dataframe tbody tr th {\n",
       "        vertical-align: top;\n",
       "    }\n",
       "\n",
       "    .dataframe thead th {\n",
       "        text-align: right;\n",
       "    }\n",
       "</style>\n",
       "<table border=\"1\" class=\"dataframe\">\n",
       "  <thead>\n",
       "    <tr style=\"text-align: right;\">\n",
       "      <th></th>\n",
       "      <th>Name</th>\n",
       "      <th>Phone</th>\n",
       "      <th>Email</th>\n",
       "    </tr>\n",
       "  </thead>\n",
       "  <tbody>\n",
       "    <tr>\n",
       "      <th>count</th>\n",
       "      <td>77</td>\n",
       "      <td>71</td>\n",
       "      <td>76</td>\n",
       "    </tr>\n",
       "    <tr>\n",
       "      <th>unique</th>\n",
       "      <td>75</td>\n",
       "      <td>63</td>\n",
       "      <td>75</td>\n",
       "    </tr>\n",
       "    <tr>\n",
       "      <th>top</th>\n",
       "      <td>박철수</td>\n",
       "      <td>010-2345-6789</td>\n",
       "      <td>dahyun.jung@naver.com</td>\n",
       "    </tr>\n",
       "    <tr>\n",
       "      <th>freq</th>\n",
       "      <td>2</td>\n",
       "      <td>2</td>\n",
       "      <td>2</td>\n",
       "    </tr>\n",
       "  </tbody>\n",
       "</table>\n",
       "</div>"
      ]
     },
     "execution_count": 4,
     "metadata": {},
     "output_type": "execute_result"
    }
   ],
   "execution_count": 4
  },
  {
   "metadata": {
    "ExecuteTime": {
     "end_time": "2024-12-02T07:31:52.567648Z",
     "start_time": "2024-12-02T07:31:52.560646Z"
    }
   },
   "cell_type": "code",
   "source": "df[df['Name'] == '박철수']",
   "id": "bb64a9a31ae3f549",
   "outputs": [
    {
     "data": {
      "text/plain": [
       "   Name          Phone                     Email\n",
       "2   박철수  010-3456-7890  chulsoo.park@hotmail.com\n",
       "31  박철수  010-1234-5681    chulsoo.park@gmail.com"
      ],
      "text/html": [
       "<div>\n",
       "<style scoped>\n",
       "    .dataframe tbody tr th:only-of-type {\n",
       "        vertical-align: middle;\n",
       "    }\n",
       "\n",
       "    .dataframe tbody tr th {\n",
       "        vertical-align: top;\n",
       "    }\n",
       "\n",
       "    .dataframe thead th {\n",
       "        text-align: right;\n",
       "    }\n",
       "</style>\n",
       "<table border=\"1\" class=\"dataframe\">\n",
       "  <thead>\n",
       "    <tr style=\"text-align: right;\">\n",
       "      <th></th>\n",
       "      <th>Name</th>\n",
       "      <th>Phone</th>\n",
       "      <th>Email</th>\n",
       "    </tr>\n",
       "  </thead>\n",
       "  <tbody>\n",
       "    <tr>\n",
       "      <th>2</th>\n",
       "      <td>박철수</td>\n",
       "      <td>010-3456-7890</td>\n",
       "      <td>chulsoo.park@hotmail.com</td>\n",
       "    </tr>\n",
       "    <tr>\n",
       "      <th>31</th>\n",
       "      <td>박철수</td>\n",
       "      <td>010-1234-5681</td>\n",
       "      <td>chulsoo.park@gmail.com</td>\n",
       "    </tr>\n",
       "  </tbody>\n",
       "</table>\n",
       "</div>"
      ]
     },
     "execution_count": 6,
     "metadata": {},
     "output_type": "execute_result"
    }
   ],
   "execution_count": 6
  },
  {
   "metadata": {
    "ExecuteTime": {
     "end_time": "2024-12-02T07:33:09.575325Z",
     "start_time": "2024-12-02T07:33:09.569571Z"
    }
   },
   "cell_type": "code",
   "source": "df[df['Phone'] == '010-2345-6789']",
   "id": "74854a1f8c9c3f0f",
   "outputs": [
    {
     "data": {
      "text/plain": [
       "   Name          Phone                     Email\n",
       "1   이지은  010-2345-6789       jieun.lee@naver.com\n",
       "71  엄정희  010-2345-6789  jeonghee.eom@hotmail.com"
      ],
      "text/html": [
       "<div>\n",
       "<style scoped>\n",
       "    .dataframe tbody tr th:only-of-type {\n",
       "        vertical-align: middle;\n",
       "    }\n",
       "\n",
       "    .dataframe tbody tr th {\n",
       "        vertical-align: top;\n",
       "    }\n",
       "\n",
       "    .dataframe thead th {\n",
       "        text-align: right;\n",
       "    }\n",
       "</style>\n",
       "<table border=\"1\" class=\"dataframe\">\n",
       "  <thead>\n",
       "    <tr style=\"text-align: right;\">\n",
       "      <th></th>\n",
       "      <th>Name</th>\n",
       "      <th>Phone</th>\n",
       "      <th>Email</th>\n",
       "    </tr>\n",
       "  </thead>\n",
       "  <tbody>\n",
       "    <tr>\n",
       "      <th>1</th>\n",
       "      <td>이지은</td>\n",
       "      <td>010-2345-6789</td>\n",
       "      <td>jieun.lee@naver.com</td>\n",
       "    </tr>\n",
       "    <tr>\n",
       "      <th>71</th>\n",
       "      <td>엄정희</td>\n",
       "      <td>010-2345-6789</td>\n",
       "      <td>jeonghee.eom@hotmail.com</td>\n",
       "    </tr>\n",
       "  </tbody>\n",
       "</table>\n",
       "</div>"
      ]
     },
     "execution_count": 9,
     "metadata": {},
     "output_type": "execute_result"
    }
   ],
   "execution_count": 9
  },
  {
   "metadata": {
    "ExecuteTime": {
     "end_time": "2024-12-02T07:33:39.005036Z",
     "start_time": "2024-12-02T07:33:38.999830Z"
    }
   },
   "cell_type": "code",
   "source": "df[df['Email'] == 'dahyun.jung@naver.com']",
   "id": "d3236c15c610adf3",
   "outputs": [
    {
     "data": {
      "text/plain": [
       "   Name          Phone                  Email\n",
       "32  정다현  010-2345-6782  dahyun.jung@naver.com\n",
       "67  정다현  010-2345-6782  dahyun.jung@naver.com"
      ],
      "text/html": [
       "<div>\n",
       "<style scoped>\n",
       "    .dataframe tbody tr th:only-of-type {\n",
       "        vertical-align: middle;\n",
       "    }\n",
       "\n",
       "    .dataframe tbody tr th {\n",
       "        vertical-align: top;\n",
       "    }\n",
       "\n",
       "    .dataframe thead th {\n",
       "        text-align: right;\n",
       "    }\n",
       "</style>\n",
       "<table border=\"1\" class=\"dataframe\">\n",
       "  <thead>\n",
       "    <tr style=\"text-align: right;\">\n",
       "      <th></th>\n",
       "      <th>Name</th>\n",
       "      <th>Phone</th>\n",
       "      <th>Email</th>\n",
       "    </tr>\n",
       "  </thead>\n",
       "  <tbody>\n",
       "    <tr>\n",
       "      <th>32</th>\n",
       "      <td>정다현</td>\n",
       "      <td>010-2345-6782</td>\n",
       "      <td>dahyun.jung@naver.com</td>\n",
       "    </tr>\n",
       "    <tr>\n",
       "      <th>67</th>\n",
       "      <td>정다현</td>\n",
       "      <td>010-2345-6782</td>\n",
       "      <td>dahyun.jung@naver.com</td>\n",
       "    </tr>\n",
       "  </tbody>\n",
       "</table>\n",
       "</div>"
      ]
     },
     "execution_count": 12,
     "metadata": {},
     "output_type": "execute_result"
    }
   ],
   "execution_count": 12
  },
  {
   "metadata": {},
   "cell_type": "markdown",
   "source": [
    "## 중복데이터 처리\n",
    "# dupliated()는 기본적으로 모든 컬럼값이 같을 때 중복으로 간주한다.\n",
    "# 결과가 1이라면, 2개 데이터가 중복이다.\n",
    "# 결과가 2라면, a데이터가 3번 중복된 것 일 수도 있고, a와 b데이터가 각각 2번 중복일 수 있다."
   ],
   "id": "23ca45841daf72ca"
  },
  {
   "metadata": {
    "ExecuteTime": {
     "end_time": "2024-12-02T07:34:56.388840Z",
     "start_time": "2024-12-02T07:34:56.381674Z"
    }
   },
   "cell_type": "code",
   "source": "df[df.duplicated()]",
   "id": "5ee3087c5c7af62e",
   "outputs": [
    {
     "data": {
      "text/plain": [
       "   Name          Phone                  Email\n",
       "67  정다현  010-2345-6782  dahyun.jung@naver.com"
      ],
      "text/html": [
       "<div>\n",
       "<style scoped>\n",
       "    .dataframe tbody tr th:only-of-type {\n",
       "        vertical-align: middle;\n",
       "    }\n",
       "\n",
       "    .dataframe tbody tr th {\n",
       "        vertical-align: top;\n",
       "    }\n",
       "\n",
       "    .dataframe thead th {\n",
       "        text-align: right;\n",
       "    }\n",
       "</style>\n",
       "<table border=\"1\" class=\"dataframe\">\n",
       "  <thead>\n",
       "    <tr style=\"text-align: right;\">\n",
       "      <th></th>\n",
       "      <th>Name</th>\n",
       "      <th>Phone</th>\n",
       "      <th>Email</th>\n",
       "    </tr>\n",
       "  </thead>\n",
       "  <tbody>\n",
       "    <tr>\n",
       "      <th>67</th>\n",
       "      <td>정다현</td>\n",
       "      <td>010-2345-6782</td>\n",
       "      <td>dahyun.jung@naver.com</td>\n",
       "    </tr>\n",
       "  </tbody>\n",
       "</table>\n",
       "</div>"
      ]
     },
     "execution_count": 14,
     "metadata": {},
     "output_type": "execute_result"
    }
   ],
   "execution_count": 14
  },
  {
   "metadata": {
    "ExecuteTime": {
     "end_time": "2024-12-02T07:36:51.364907Z",
     "start_time": "2024-12-02T07:36:51.357755Z"
    }
   },
   "cell_type": "code",
   "source": "df.duplicated().sum()",
   "id": "32b92a26f169465d",
   "outputs": [
    {
     "data": {
      "text/plain": [
       "np.int64(1)"
      ]
     },
     "execution_count": 16,
     "metadata": {},
     "output_type": "execute_result"
    }
   ],
   "execution_count": 16
  },
  {
   "metadata": {
    "ExecuteTime": {
     "end_time": "2024-12-02T07:37:28.172953Z",
     "start_time": "2024-12-02T07:37:28.167207Z"
    }
   },
   "cell_type": "code",
   "source": "df[df['Name'] == '정다현']",
   "id": "4a300b45d728ae3d",
   "outputs": [
    {
     "data": {
      "text/plain": [
       "   Name          Phone                  Email\n",
       "32  정다현  010-2345-6782  dahyun.jung@naver.com\n",
       "67  정다현  010-2345-6782  dahyun.jung@naver.com"
      ],
      "text/html": [
       "<div>\n",
       "<style scoped>\n",
       "    .dataframe tbody tr th:only-of-type {\n",
       "        vertical-align: middle;\n",
       "    }\n",
       "\n",
       "    .dataframe tbody tr th {\n",
       "        vertical-align: top;\n",
       "    }\n",
       "\n",
       "    .dataframe thead th {\n",
       "        text-align: right;\n",
       "    }\n",
       "</style>\n",
       "<table border=\"1\" class=\"dataframe\">\n",
       "  <thead>\n",
       "    <tr style=\"text-align: right;\">\n",
       "      <th></th>\n",
       "      <th>Name</th>\n",
       "      <th>Phone</th>\n",
       "      <th>Email</th>\n",
       "    </tr>\n",
       "  </thead>\n",
       "  <tbody>\n",
       "    <tr>\n",
       "      <th>32</th>\n",
       "      <td>정다현</td>\n",
       "      <td>010-2345-6782</td>\n",
       "      <td>dahyun.jung@naver.com</td>\n",
       "    </tr>\n",
       "    <tr>\n",
       "      <th>67</th>\n",
       "      <td>정다현</td>\n",
       "      <td>010-2345-6782</td>\n",
       "      <td>dahyun.jung@naver.com</td>\n",
       "    </tr>\n",
       "  </tbody>\n",
       "</table>\n",
       "</div>"
      ]
     },
     "execution_count": 17,
     "metadata": {},
     "output_type": "execute_result"
    }
   ],
   "execution_count": 17
  },
  {
   "metadata": {
    "ExecuteTime": {
     "end_time": "2024-12-02T07:38:21.415329Z",
     "start_time": "2024-12-02T07:38:21.408793Z"
    }
   },
   "cell_type": "code",
   "source": [
    "# 특정 컬럼을 지정해서 중복 데이터 찾기\n",
    "df[df.duplicated(['Name'])]"
   ],
   "id": "3dc8ee938143836",
   "outputs": [
    {
     "data": {
      "text/plain": [
       "   Name          Phone                   Email\n",
       "31  박철수  010-1234-5681  chulsoo.park@gmail.com\n",
       "67  정다현  010-2345-6782   dahyun.jung@naver.com"
      ],
      "text/html": [
       "<div>\n",
       "<style scoped>\n",
       "    .dataframe tbody tr th:only-of-type {\n",
       "        vertical-align: middle;\n",
       "    }\n",
       "\n",
       "    .dataframe tbody tr th {\n",
       "        vertical-align: top;\n",
       "    }\n",
       "\n",
       "    .dataframe thead th {\n",
       "        text-align: right;\n",
       "    }\n",
       "</style>\n",
       "<table border=\"1\" class=\"dataframe\">\n",
       "  <thead>\n",
       "    <tr style=\"text-align: right;\">\n",
       "      <th></th>\n",
       "      <th>Name</th>\n",
       "      <th>Phone</th>\n",
       "      <th>Email</th>\n",
       "    </tr>\n",
       "  </thead>\n",
       "  <tbody>\n",
       "    <tr>\n",
       "      <th>31</th>\n",
       "      <td>박철수</td>\n",
       "      <td>010-1234-5681</td>\n",
       "      <td>chulsoo.park@gmail.com</td>\n",
       "    </tr>\n",
       "    <tr>\n",
       "      <th>67</th>\n",
       "      <td>정다현</td>\n",
       "      <td>010-2345-6782</td>\n",
       "      <td>dahyun.jung@naver.com</td>\n",
       "    </tr>\n",
       "  </tbody>\n",
       "</table>\n",
       "</div>"
      ]
     },
     "execution_count": 18,
     "metadata": {},
     "output_type": "execute_result"
    }
   ],
   "execution_count": 18
  },
  {
   "metadata": {
    "ExecuteTime": {
     "end_time": "2024-12-02T07:39:36.440823Z",
     "start_time": "2024-12-02T07:39:36.433676Z"
    }
   },
   "cell_type": "code",
   "source": [
    "# 중복 데이터 제거\n",
    "df.drop_duplicates()"
   ],
   "id": "3db8f5633ed8099a",
   "outputs": [
    {
     "data": {
      "text/plain": [
       "   Name          Phone                     Email\n",
       "0   김민수  010-1234-5678       minsu.kim@gmail.com\n",
       "1   이지은  010-2345-6789       jieun.lee@naver.com\n",
       "2   박철수  010-3456-7890  chulsoo.park@hotmail.com\n",
       "3   홍길동  010-4567-8901     gildong.hong@daum.net\n",
       "4   김영희  010-5678-9012    younghee.kim@gmail.com\n",
       "..  ...            ...                       ...\n",
       "72  범수정  010-3456-7892   soojeong.beom@gmail.com\n",
       "73  이호진  010-4567-8904        hojin.lee@daum.net\n",
       "74  정지윤  010-5678-9015         jungzee@naver.com\n",
       "75  김지현  010-6789-0126          jh.kim@gmail.com\n",
       "76  이지훈  010-7890-1237           leejh@gmail.com\n",
       "\n",
       "[76 rows x 3 columns]"
      ],
      "text/html": [
       "<div>\n",
       "<style scoped>\n",
       "    .dataframe tbody tr th:only-of-type {\n",
       "        vertical-align: middle;\n",
       "    }\n",
       "\n",
       "    .dataframe tbody tr th {\n",
       "        vertical-align: top;\n",
       "    }\n",
       "\n",
       "    .dataframe thead th {\n",
       "        text-align: right;\n",
       "    }\n",
       "</style>\n",
       "<table border=\"1\" class=\"dataframe\">\n",
       "  <thead>\n",
       "    <tr style=\"text-align: right;\">\n",
       "      <th></th>\n",
       "      <th>Name</th>\n",
       "      <th>Phone</th>\n",
       "      <th>Email</th>\n",
       "    </tr>\n",
       "  </thead>\n",
       "  <tbody>\n",
       "    <tr>\n",
       "      <th>0</th>\n",
       "      <td>김민수</td>\n",
       "      <td>010-1234-5678</td>\n",
       "      <td>minsu.kim@gmail.com</td>\n",
       "    </tr>\n",
       "    <tr>\n",
       "      <th>1</th>\n",
       "      <td>이지은</td>\n",
       "      <td>010-2345-6789</td>\n",
       "      <td>jieun.lee@naver.com</td>\n",
       "    </tr>\n",
       "    <tr>\n",
       "      <th>2</th>\n",
       "      <td>박철수</td>\n",
       "      <td>010-3456-7890</td>\n",
       "      <td>chulsoo.park@hotmail.com</td>\n",
       "    </tr>\n",
       "    <tr>\n",
       "      <th>3</th>\n",
       "      <td>홍길동</td>\n",
       "      <td>010-4567-8901</td>\n",
       "      <td>gildong.hong@daum.net</td>\n",
       "    </tr>\n",
       "    <tr>\n",
       "      <th>4</th>\n",
       "      <td>김영희</td>\n",
       "      <td>010-5678-9012</td>\n",
       "      <td>younghee.kim@gmail.com</td>\n",
       "    </tr>\n",
       "    <tr>\n",
       "      <th>...</th>\n",
       "      <td>...</td>\n",
       "      <td>...</td>\n",
       "      <td>...</td>\n",
       "    </tr>\n",
       "    <tr>\n",
       "      <th>72</th>\n",
       "      <td>범수정</td>\n",
       "      <td>010-3456-7892</td>\n",
       "      <td>soojeong.beom@gmail.com</td>\n",
       "    </tr>\n",
       "    <tr>\n",
       "      <th>73</th>\n",
       "      <td>이호진</td>\n",
       "      <td>010-4567-8904</td>\n",
       "      <td>hojin.lee@daum.net</td>\n",
       "    </tr>\n",
       "    <tr>\n",
       "      <th>74</th>\n",
       "      <td>정지윤</td>\n",
       "      <td>010-5678-9015</td>\n",
       "      <td>jungzee@naver.com</td>\n",
       "    </tr>\n",
       "    <tr>\n",
       "      <th>75</th>\n",
       "      <td>김지현</td>\n",
       "      <td>010-6789-0126</td>\n",
       "      <td>jh.kim@gmail.com</td>\n",
       "    </tr>\n",
       "    <tr>\n",
       "      <th>76</th>\n",
       "      <td>이지훈</td>\n",
       "      <td>010-7890-1237</td>\n",
       "      <td>leejh@gmail.com</td>\n",
       "    </tr>\n",
       "  </tbody>\n",
       "</table>\n",
       "<p>76 rows × 3 columns</p>\n",
       "</div>"
      ]
     },
     "execution_count": 19,
     "metadata": {},
     "output_type": "execute_result"
    }
   ],
   "execution_count": 19
  },
  {
   "metadata": {
    "ExecuteTime": {
     "end_time": "2024-12-02T07:43:37.110712Z",
     "start_time": "2024-12-02T07:43:37.101382Z"
    }
   },
   "cell_type": "code",
   "source": [
    "# 공백이 생기게 되면 처리에 좋지 않다. index 초기화, 지워진 행 다시 채우기\n",
    "df.drop_duplicates(). reset_index(drop = True) # index 지우기까지\n",
    "df"
   ],
   "id": "eb5d806e070741f5",
   "outputs": [
    {
     "data": {
      "text/plain": [
       "   Name          Phone                     Email\n",
       "0   김민수  010-1234-5678       minsu.kim@gmail.com\n",
       "1   이지은  010-2345-6789       jieun.lee@naver.com\n",
       "2   박철수  010-3456-7890  chulsoo.park@hotmail.com\n",
       "3   홍길동  010-4567-8901     gildong.hong@daum.net\n",
       "4   김영희  010-5678-9012    younghee.kim@gmail.com\n",
       "..  ...            ...                       ...\n",
       "72  범수정  010-3456-7892   soojeong.beom@gmail.com\n",
       "73  이호진  010-4567-8904        hojin.lee@daum.net\n",
       "74  정지윤  010-5678-9015         jungzee@naver.com\n",
       "75  김지현  010-6789-0126          jh.kim@gmail.com\n",
       "76  이지훈  010-7890-1237           leejh@gmail.com\n",
       "\n",
       "[77 rows x 3 columns]"
      ],
      "text/html": [
       "<div>\n",
       "<style scoped>\n",
       "    .dataframe tbody tr th:only-of-type {\n",
       "        vertical-align: middle;\n",
       "    }\n",
       "\n",
       "    .dataframe tbody tr th {\n",
       "        vertical-align: top;\n",
       "    }\n",
       "\n",
       "    .dataframe thead th {\n",
       "        text-align: right;\n",
       "    }\n",
       "</style>\n",
       "<table border=\"1\" class=\"dataframe\">\n",
       "  <thead>\n",
       "    <tr style=\"text-align: right;\">\n",
       "      <th></th>\n",
       "      <th>Name</th>\n",
       "      <th>Phone</th>\n",
       "      <th>Email</th>\n",
       "    </tr>\n",
       "  </thead>\n",
       "  <tbody>\n",
       "    <tr>\n",
       "      <th>0</th>\n",
       "      <td>김민수</td>\n",
       "      <td>010-1234-5678</td>\n",
       "      <td>minsu.kim@gmail.com</td>\n",
       "    </tr>\n",
       "    <tr>\n",
       "      <th>1</th>\n",
       "      <td>이지은</td>\n",
       "      <td>010-2345-6789</td>\n",
       "      <td>jieun.lee@naver.com</td>\n",
       "    </tr>\n",
       "    <tr>\n",
       "      <th>2</th>\n",
       "      <td>박철수</td>\n",
       "      <td>010-3456-7890</td>\n",
       "      <td>chulsoo.park@hotmail.com</td>\n",
       "    </tr>\n",
       "    <tr>\n",
       "      <th>3</th>\n",
       "      <td>홍길동</td>\n",
       "      <td>010-4567-8901</td>\n",
       "      <td>gildong.hong@daum.net</td>\n",
       "    </tr>\n",
       "    <tr>\n",
       "      <th>4</th>\n",
       "      <td>김영희</td>\n",
       "      <td>010-5678-9012</td>\n",
       "      <td>younghee.kim@gmail.com</td>\n",
       "    </tr>\n",
       "    <tr>\n",
       "      <th>...</th>\n",
       "      <td>...</td>\n",
       "      <td>...</td>\n",
       "      <td>...</td>\n",
       "    </tr>\n",
       "    <tr>\n",
       "      <th>72</th>\n",
       "      <td>범수정</td>\n",
       "      <td>010-3456-7892</td>\n",
       "      <td>soojeong.beom@gmail.com</td>\n",
       "    </tr>\n",
       "    <tr>\n",
       "      <th>73</th>\n",
       "      <td>이호진</td>\n",
       "      <td>010-4567-8904</td>\n",
       "      <td>hojin.lee@daum.net</td>\n",
       "    </tr>\n",
       "    <tr>\n",
       "      <th>74</th>\n",
       "      <td>정지윤</td>\n",
       "      <td>010-5678-9015</td>\n",
       "      <td>jungzee@naver.com</td>\n",
       "    </tr>\n",
       "    <tr>\n",
       "      <th>75</th>\n",
       "      <td>김지현</td>\n",
       "      <td>010-6789-0126</td>\n",
       "      <td>jh.kim@gmail.com</td>\n",
       "    </tr>\n",
       "    <tr>\n",
       "      <th>76</th>\n",
       "      <td>이지훈</td>\n",
       "      <td>010-7890-1237</td>\n",
       "      <td>leejh@gmail.com</td>\n",
       "    </tr>\n",
       "  </tbody>\n",
       "</table>\n",
       "<p>77 rows × 3 columns</p>\n",
       "</div>"
      ]
     },
     "execution_count": 22,
     "metadata": {},
     "output_type": "execute_result"
    }
   ],
   "execution_count": 22
  },
  {
   "metadata": {},
   "cell_type": "markdown",
   "source": [
    "## 결측치 처리\n",
    "\n"
   ],
   "id": "c6e5fbbe6fbcda07"
  },
  {
   "metadata": {
    "ExecuteTime": {
     "end_time": "2024-12-02T07:44:48.161644Z",
     "start_time": "2024-12-02T07:44:48.152024Z"
    }
   },
   "cell_type": "code",
   "source": "df.info()",
   "id": "eff160a6fc25132",
   "outputs": [
    {
     "name": "stdout",
     "output_type": "stream",
     "text": [
      "<class 'pandas.core.frame.DataFrame'>\n",
      "RangeIndex: 77 entries, 0 to 76\n",
      "Data columns (total 3 columns):\n",
      " #   Column  Non-Null Count  Dtype \n",
      "---  ------  --------------  ----- \n",
      " 0   Name    77 non-null     object\n",
      " 1   Phone   71 non-null     object\n",
      " 2   Email   76 non-null     object\n",
      "dtypes: object(3)\n",
      "memory usage: 1.9+ KB\n"
     ]
    }
   ],
   "execution_count": 23
  },
  {
   "metadata": {
    "ExecuteTime": {
     "end_time": "2024-12-02T07:47:09.486201Z",
     "start_time": "2024-12-02T07:47:09.477650Z"
    }
   },
   "cell_type": "code",
   "source": [
    "# 1. isna() - 결측치가 있는지\n",
    "print(df.isna().sum())"
   ],
   "id": "3c869b1542388120",
   "outputs": [
    {
     "name": "stdout",
     "output_type": "stream",
     "text": [
      "Name     0\n",
      "Phone    6\n",
      "Email    1\n",
      "dtype: int64\n"
     ]
    }
   ],
   "execution_count": 24
  },
  {
   "metadata": {
    "ExecuteTime": {
     "end_time": "2024-12-02T07:47:36.585998Z",
     "start_time": "2024-12-02T07:47:36.580203Z"
    }
   },
   "cell_type": "code",
   "source": [
    "# 2. isnull()\n",
    "df.isnull()\n",
    "print(df.isnull().sum())"
   ],
   "id": "aa63d5c7d2ea57f3",
   "outputs": [
    {
     "name": "stdout",
     "output_type": "stream",
     "text": [
      "Name     0\n",
      "Phone    6\n",
      "Email    1\n",
      "dtype: int64\n"
     ]
    }
   ],
   "execution_count": 25
  },
  {
   "metadata": {
    "ExecuteTime": {
     "end_time": "2024-12-02T08:06:25.605355Z",
     "start_time": "2024-12-02T08:06:25.594549Z"
    }
   },
   "cell_type": "code",
   "source": [
    "# 대표값으로 NaN 값 대체하기\n",
    "# - 평균값\n",
    "# - 기본값 010-0000-0000\n",
    "# - 최빈값\n",
    "df['Phone'].fillna('010-0000-0000') # 빈 부분을 기본값으로 채워 넣겠다.\n",
    "\n",
    "df['Phone'].value_counts()\n",
    "df['Phone'] = df['Phone'].fillna('010-2345-6789') # 최빈값\n",
    "df.info()\n"
   ],
   "id": "2d7630e68ed17188",
   "outputs": [
    {
     "name": "stdout",
     "output_type": "stream",
     "text": [
      "<class 'pandas.core.frame.DataFrame'>\n",
      "Index: 71 entries, 0 to 76\n",
      "Data columns (total 4 columns):\n",
      " #   Column  Non-Null Count  Dtype \n",
      "---  ------  --------------  ----- \n",
      " 0   Name    71 non-null     object\n",
      " 1   Phone   71 non-null     object\n",
      " 2   Email   71 non-null     object\n",
      " 3   phone   71 non-null     object\n",
      "dtypes: object(4)\n",
      "memory usage: 2.8+ KB\n"
     ]
    }
   ],
   "execution_count": 39
  },
  {
   "metadata": {
    "ExecuteTime": {
     "end_time": "2024-12-02T08:05:47.979334Z",
     "start_time": "2024-12-02T08:05:47.972295Z"
    }
   },
   "cell_type": "code",
   "source": [
    "# dropna() : 결측치가 포함된 행을 제거\n",
    "# - how='any' : 하나만 비어있으면 삭제\n",
    "# - how='all' : 다 비어있어야 삭제\n",
    "df = df.dropna(how='any')\n",
    "df.info()"
   ],
   "id": "3cd73c0942ce554e",
   "outputs": [
    {
     "name": "stdout",
     "output_type": "stream",
     "text": [
      "<class 'pandas.core.frame.DataFrame'>\n",
      "Index: 71 entries, 0 to 76\n",
      "Data columns (total 4 columns):\n",
      " #   Column  Non-Null Count  Dtype \n",
      "---  ------  --------------  ----- \n",
      " 0   Name    71 non-null     object\n",
      " 1   Phone   71 non-null     object\n",
      " 2   Email   71 non-null     object\n",
      " 3   phone   71 non-null     object\n",
      "dtypes: object(4)\n",
      "memory usage: 2.8+ KB\n"
     ]
    }
   ],
   "execution_count": 36
  }
 ],
 "metadata": {
  "kernelspec": {
   "display_name": "Python 3",
   "language": "python",
   "name": "python3"
  },
  "language_info": {
   "codemirror_mode": {
    "name": "ipython",
    "version": 2
   },
   "file_extension": ".py",
   "mimetype": "text/x-python",
   "name": "python",
   "nbconvert_exporter": "python",
   "pygments_lexer": "ipython2",
   "version": "2.7.6"
  }
 },
 "nbformat": 4,
 "nbformat_minor": 5
}
