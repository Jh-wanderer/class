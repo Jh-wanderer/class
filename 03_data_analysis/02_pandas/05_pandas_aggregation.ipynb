{
 "cells": [
  {
   "cell_type": "code",
   "execution_count": null,
   "id": "initial_id",
   "metadata": {
    "collapsed": true
   },
   "outputs": [],
   "source": "# Aggregation"
  },
  {
   "metadata": {},
   "cell_type": "markdown",
   "source": "## 집계함수\n",
   "id": "4ff1aef7d010a04"
  },
  {
   "metadata": {
    "ExecuteTime": {
     "end_time": "2024-12-03T00:15:02.442188Z",
     "start_time": "2024-12-03T00:15:02.438294Z"
    }
   },
   "cell_type": "code",
   "source": [
    "import pandas as pd\n",
    "import numpy as np"
   ],
   "id": "80276f867dfa69e9",
   "outputs": [],
   "execution_count": 66
  },
  {
   "metadata": {
    "ExecuteTime": {
     "end_time": "2024-12-02T08:08:27.460483Z",
     "start_time": "2024-12-02T08:08:27.447645Z"
    }
   },
   "cell_type": "code",
   "source": [
    "data = {\n",
    "    'name': ['김혜수', '박보검', '송혜교', '아이유', '공유', '전지현', '수지', '유재석', '강동원', '윤아'],\n",
    "    'department': ['인사', '재무', '재무', 'IT', 'IT', '인사', '재무', '인사', 'IT', '재무'],\n",
    "    'job': ['사원', '과장', '대리', '사원', '팀장', '대리', '대리', '과장', '사원', '팀장'],\n",
    "    'branch': ['서울', '부산', '서울', '부산', '서울', '서울', '서울', '부산', '서울', '부산'],\n",
    "    'salary': [3500, 5000, 4200, 3800, 6000, 4500, 4600, 5200, 3900, 6100],\n",
    "    'hire_date': ['2020-03-15', '2018-07-10', '2019-05-20', '2021-01-10', '2017-09-25', '2019-03-05', '2020-06-12', '2016-11-30', '2022-04-01', '2017-12-15']\n",
    "}\n",
    "\n",
    "df = pd.DataFrame(data)\n",
    "df"
   ],
   "id": "217e074a39433757",
   "outputs": [
    {
     "data": {
      "text/plain": [
       "  name department job branch  salary   hire_date\n",
       "0  김혜수         인사  사원     서울    3500  2020-03-15\n",
       "1  박보검         재무  과장     부산    5000  2018-07-10\n",
       "2  송혜교         재무  대리     서울    4200  2019-05-20\n",
       "3  아이유         IT  사원     부산    3800  2021-01-10\n",
       "4   공유         IT  팀장     서울    6000  2017-09-25\n",
       "5  전지현         인사  대리     서울    4500  2019-03-05\n",
       "6   수지         재무  대리     서울    4600  2020-06-12\n",
       "7  유재석         인사  과장     부산    5200  2016-11-30\n",
       "8  강동원         IT  사원     서울    3900  2022-04-01\n",
       "9   윤아         재무  팀장     부산    6100  2017-12-15"
      ],
      "text/html": [
       "<div>\n",
       "<style scoped>\n",
       "    .dataframe tbody tr th:only-of-type {\n",
       "        vertical-align: middle;\n",
       "    }\n",
       "\n",
       "    .dataframe tbody tr th {\n",
       "        vertical-align: top;\n",
       "    }\n",
       "\n",
       "    .dataframe thead th {\n",
       "        text-align: right;\n",
       "    }\n",
       "</style>\n",
       "<table border=\"1\" class=\"dataframe\">\n",
       "  <thead>\n",
       "    <tr style=\"text-align: right;\">\n",
       "      <th></th>\n",
       "      <th>name</th>\n",
       "      <th>department</th>\n",
       "      <th>job</th>\n",
       "      <th>branch</th>\n",
       "      <th>salary</th>\n",
       "      <th>hire_date</th>\n",
       "    </tr>\n",
       "  </thead>\n",
       "  <tbody>\n",
       "    <tr>\n",
       "      <th>0</th>\n",
       "      <td>김혜수</td>\n",
       "      <td>인사</td>\n",
       "      <td>사원</td>\n",
       "      <td>서울</td>\n",
       "      <td>3500</td>\n",
       "      <td>2020-03-15</td>\n",
       "    </tr>\n",
       "    <tr>\n",
       "      <th>1</th>\n",
       "      <td>박보검</td>\n",
       "      <td>재무</td>\n",
       "      <td>과장</td>\n",
       "      <td>부산</td>\n",
       "      <td>5000</td>\n",
       "      <td>2018-07-10</td>\n",
       "    </tr>\n",
       "    <tr>\n",
       "      <th>2</th>\n",
       "      <td>송혜교</td>\n",
       "      <td>재무</td>\n",
       "      <td>대리</td>\n",
       "      <td>서울</td>\n",
       "      <td>4200</td>\n",
       "      <td>2019-05-20</td>\n",
       "    </tr>\n",
       "    <tr>\n",
       "      <th>3</th>\n",
       "      <td>아이유</td>\n",
       "      <td>IT</td>\n",
       "      <td>사원</td>\n",
       "      <td>부산</td>\n",
       "      <td>3800</td>\n",
       "      <td>2021-01-10</td>\n",
       "    </tr>\n",
       "    <tr>\n",
       "      <th>4</th>\n",
       "      <td>공유</td>\n",
       "      <td>IT</td>\n",
       "      <td>팀장</td>\n",
       "      <td>서울</td>\n",
       "      <td>6000</td>\n",
       "      <td>2017-09-25</td>\n",
       "    </tr>\n",
       "    <tr>\n",
       "      <th>5</th>\n",
       "      <td>전지현</td>\n",
       "      <td>인사</td>\n",
       "      <td>대리</td>\n",
       "      <td>서울</td>\n",
       "      <td>4500</td>\n",
       "      <td>2019-03-05</td>\n",
       "    </tr>\n",
       "    <tr>\n",
       "      <th>6</th>\n",
       "      <td>수지</td>\n",
       "      <td>재무</td>\n",
       "      <td>대리</td>\n",
       "      <td>서울</td>\n",
       "      <td>4600</td>\n",
       "      <td>2020-06-12</td>\n",
       "    </tr>\n",
       "    <tr>\n",
       "      <th>7</th>\n",
       "      <td>유재석</td>\n",
       "      <td>인사</td>\n",
       "      <td>과장</td>\n",
       "      <td>부산</td>\n",
       "      <td>5200</td>\n",
       "      <td>2016-11-30</td>\n",
       "    </tr>\n",
       "    <tr>\n",
       "      <th>8</th>\n",
       "      <td>강동원</td>\n",
       "      <td>IT</td>\n",
       "      <td>사원</td>\n",
       "      <td>서울</td>\n",
       "      <td>3900</td>\n",
       "      <td>2022-04-01</td>\n",
       "    </tr>\n",
       "    <tr>\n",
       "      <th>9</th>\n",
       "      <td>윤아</td>\n",
       "      <td>재무</td>\n",
       "      <td>팀장</td>\n",
       "      <td>부산</td>\n",
       "      <td>6100</td>\n",
       "      <td>2017-12-15</td>\n",
       "    </tr>\n",
       "  </tbody>\n",
       "</table>\n",
       "</div>"
      ]
     },
     "execution_count": 2,
     "metadata": {},
     "output_type": "execute_result"
    }
   ],
   "execution_count": 2
  },
  {
   "metadata": {
    "ExecuteTime": {
     "end_time": "2024-12-02T08:10:39.415113Z",
     "start_time": "2024-12-02T08:10:39.402768Z"
    }
   },
   "cell_type": "code",
   "source": [
    "# hire_date 컬럼 자료명 변경\n",
    "df['hire_date'] = pd.to_datetime(df['hire_date']) # 데이트 타임으로 안되어 있는 상태를 변경\n",
    "df.info()\n"
   ],
   "id": "ceb594f1b06e8ea9",
   "outputs": [
    {
     "name": "stdout",
     "output_type": "stream",
     "text": [
      "<class 'pandas.core.frame.DataFrame'>\n",
      "RangeIndex: 10 entries, 0 to 9\n",
      "Data columns (total 6 columns):\n",
      " #   Column      Non-Null Count  Dtype         \n",
      "---  ------      --------------  -----         \n",
      " 0   name        10 non-null     object        \n",
      " 1   department  10 non-null     object        \n",
      " 2   job         10 non-null     object        \n",
      " 3   branch      10 non-null     object        \n",
      " 4   salary      10 non-null     int64         \n",
      " 5   hire_date   10 non-null     datetime64[ns]\n",
      "dtypes: datetime64[ns](1), int64(1), object(4)\n",
      "memory usage: 612.0+ bytes\n"
     ]
    }
   ],
   "execution_count": 4
  },
  {
   "metadata": {
    "ExecuteTime": {
     "end_time": "2024-12-02T08:13:16.863877Z",
     "start_time": "2024-12-02T08:13:16.859400Z"
    }
   },
   "cell_type": "code",
   "source": [
    "# df레벨 집계함수\n",
    "# ser레벨 집계함수\n",
    "df.count()\n",
    "print(type(df.count()))\n",
    "df['salary'].count()\n",
    "print(type(df['salary'].count()))\n"
   ],
   "id": "93cd23207d28a29c",
   "outputs": [
    {
     "name": "stdout",
     "output_type": "stream",
     "text": [
      "<class 'pandas.core.series.Series'>\n",
      "<class 'numpy.int64'>\n"
     ]
    }
   ],
   "execution_count": 6
  },
  {
   "metadata": {
    "ExecuteTime": {
     "end_time": "2024-12-02T08:13:53.502782Z",
     "start_time": "2024-12-02T08:13:53.495743Z"
    }
   },
   "cell_type": "code",
   "source": [
    "# df.sum()\n",
    "df['salary'].sum()"
   ],
   "id": "2e41acfea730abff",
   "outputs": [
    {
     "data": {
      "text/plain": [
       "np.int64(46800)"
      ]
     },
     "execution_count": 7,
     "metadata": {},
     "output_type": "execute_result"
    }
   ],
   "execution_count": 7
  },
  {
   "metadata": {
    "ExecuteTime": {
     "end_time": "2024-12-02T08:14:13.479362Z",
     "start_time": "2024-12-02T08:14:13.473434Z"
    }
   },
   "cell_type": "code",
   "source": "df['salary'].mean()",
   "id": "83b14e6a40a7a3e8",
   "outputs": [
    {
     "data": {
      "text/plain": [
       "np.float64(4680.0)"
      ]
     },
     "execution_count": 8,
     "metadata": {},
     "output_type": "execute_result"
    }
   ],
   "execution_count": 8
  },
  {
   "metadata": {
    "ExecuteTime": {
     "end_time": "2024-12-02T08:14:39.201442Z",
     "start_time": "2024-12-02T08:14:39.196010Z"
    }
   },
   "cell_type": "code",
   "source": "df['salary'].max()",
   "id": "afc27ac00fde9701",
   "outputs": [
    {
     "data": {
      "text/plain": [
       "np.int64(6100)"
      ]
     },
     "execution_count": 9,
     "metadata": {},
     "output_type": "execute_result"
    }
   ],
   "execution_count": 9
  },
  {
   "metadata": {
    "ExecuteTime": {
     "end_time": "2024-12-02T08:14:50.029038Z",
     "start_time": "2024-12-02T08:14:50.023293Z"
    }
   },
   "cell_type": "code",
   "source": "df['salary'].min()",
   "id": "3a1e586b1f9345b",
   "outputs": [
    {
     "data": {
      "text/plain": [
       "np.int64(3500)"
      ]
     },
     "execution_count": 10,
     "metadata": {},
     "output_type": "execute_result"
    }
   ],
   "execution_count": 10
  },
  {
   "metadata": {
    "ExecuteTime": {
     "end_time": "2024-12-02T08:15:08.460173Z",
     "start_time": "2024-12-02T08:15:08.454087Z"
    }
   },
   "cell_type": "code",
   "source": "(df['salary'].median())",
   "id": "5fd2e3e9ba48b278",
   "outputs": [
    {
     "data": {
      "text/plain": [
       "np.float64(4550.0)"
      ]
     },
     "execution_count": 11,
     "metadata": {},
     "output_type": "execute_result"
    }
   ],
   "execution_count": 11
  },
  {
   "metadata": {
    "ExecuteTime": {
     "end_time": "2024-12-02T08:15:28.263911Z",
     "start_time": "2024-12-02T08:15:28.260621Z"
    }
   },
   "cell_type": "code",
   "source": "df['salary'].var() # 분산",
   "id": "5da17b62e86c5c9f",
   "outputs": [
    {
     "data": {
      "text/plain": [
       "np.float64(797333.3333333334)"
      ]
     },
     "execution_count": 12,
     "metadata": {},
     "output_type": "execute_result"
    }
   ],
   "execution_count": 12
  },
  {
   "metadata": {},
   "cell_type": "code",
   "outputs": [],
   "execution_count": null,
   "source": "df['salary'].std() # 표준편차",
   "id": "22a24f451c43b111"
  },
  {
   "metadata": {},
   "cell_type": "markdown",
   "source": [
    "## groupby\n",
    "특정 조건에 맞게 행을 그룹핑하는 메소드\n",
    "DataFrameGroupBy 객체를 반환"
   ],
   "id": "dd3a74a17c552f03"
  },
  {
   "metadata": {
    "ExecuteTime": {
     "end_time": "2024-12-02T08:18:23.102482Z",
     "start_time": "2024-12-02T08:18:23.096147Z"
    }
   },
   "cell_type": "code",
   "source": [
    "groupby_dept = df.groupby('department')\n",
    "print(type(groupby_dept))\n",
    "print(groupby_dept.groups)"
   ],
   "id": "f21e0f276c93a898",
   "outputs": [
    {
     "name": "stdout",
     "output_type": "stream",
     "text": [
      "<class 'pandas.core.groupby.generic.DataFrameGroupBy'>\n",
      "{'IT': [3, 4, 8], '인사': [0, 5, 7], '재무': [1, 2, 6, 9]}\n"
     ]
    }
   ],
   "execution_count": 15
  },
  {
   "metadata": {
    "ExecuteTime": {
     "end_time": "2024-12-02T08:20:50.538017Z",
     "start_time": "2024-12-02T08:20:50.531079Z"
    }
   },
   "cell_type": "code",
   "source": [
    "# 그룹별 직계함수 조회\n",
    "print(groupby_dept['salary'])\n",
    "groupby_dept['salary'].mean()"
   ],
   "id": "b2593983dec2635d",
   "outputs": [
    {
     "name": "stdout",
     "output_type": "stream",
     "text": [
      "<pandas.core.groupby.generic.SeriesGroupBy object at 0x000002B486A73A70>\n"
     ]
    },
    {
     "data": {
      "text/plain": [
       "department\n",
       "IT    4566.666667\n",
       "인사    4400.000000\n",
       "재무    4975.000000\n",
       "Name: salary, dtype: float64"
      ]
     },
     "execution_count": 18,
     "metadata": {},
     "output_type": "execute_result"
    }
   ],
   "execution_count": 18
  },
  {
   "metadata": {
    "ExecuteTime": {
     "end_time": "2024-12-02T08:21:03.307837Z",
     "start_time": "2024-12-02T08:21:03.287240Z"
    }
   },
   "cell_type": "code",
   "source": "groupby_dept['salary'].max()",
   "id": "be195a224bd3c8f2",
   "outputs": [
    {
     "data": {
      "text/plain": [
       "department\n",
       "IT    6000\n",
       "인사    5200\n",
       "재무    6100\n",
       "Name: salary, dtype: int64"
      ]
     },
     "execution_count": 19,
     "metadata": {},
     "output_type": "execute_result"
    }
   ],
   "execution_count": 19
  },
  {
   "metadata": {
    "ExecuteTime": {
     "end_time": "2024-12-02T08:22:01.947586Z",
     "start_time": "2024-12-02T08:22:01.940678Z"
    }
   },
   "cell_type": "code",
   "source": [
    "# 숫자형 데이터가 아닌 경우 카운팅\n",
    "groupby_dept['job'].value_counts()\n"
   ],
   "id": "bb5899aca86cd09d",
   "outputs": [
    {
     "data": {
      "text/plain": [
       "department  job\n",
       "IT          사원     2\n",
       "            팀장     1\n",
       "인사          과장     1\n",
       "            대리     1\n",
       "            사원     1\n",
       "재무          대리     2\n",
       "            과장     1\n",
       "            팀장     1\n",
       "Name: count, dtype: int64"
      ]
     },
     "execution_count": 20,
     "metadata": {},
     "output_type": "execute_result"
    }
   ],
   "execution_count": 20
  },
  {
   "metadata": {
    "ExecuteTime": {
     "end_time": "2024-12-02T08:24:07.375599Z",
     "start_time": "2024-12-02T08:24:07.371243Z"
    }
   },
   "cell_type": "code",
   "source": [
    "# 날짜형 데이터\n",
    "groupby_dept['hire_date'].max() # 미래는 과거보다 크다"
   ],
   "id": "403f8e96e8e79668",
   "outputs": [
    {
     "data": {
      "text/plain": [
       "department\n",
       "IT   2022-04-01\n",
       "인사   2020-03-15\n",
       "재무   2020-06-12\n",
       "Name: hire_date, dtype: datetime64[ns]"
      ]
     },
     "execution_count": 22,
     "metadata": {},
     "output_type": "execute_result"
    }
   ],
   "execution_count": 22
  },
  {
   "metadata": {
    "ExecuteTime": {
     "end_time": "2024-12-02T08:27:08.862188Z",
     "start_time": "2024-12-02T08:27:08.853476Z"
    }
   },
   "cell_type": "code",
   "source": [
    "# 집계함수 묶어서 출력 # agg({컬럼명 : 집계함수, ...}), # 컬럼명이 중복되면 맨 마지막게 나온다.\n",
    "groupby_dept.agg({'salary' : 'mean', 'salary' : 'max', 'hire_date' : 'min'})"
   ],
   "id": "9a420b1f6df3529",
   "outputs": [
    {
     "data": {
      "text/plain": [
       "            salary  hire_date\n",
       "department                   \n",
       "IT            6000 2017-09-25\n",
       "인사            5200 2016-11-30\n",
       "재무            6100 2017-12-15"
      ],
      "text/html": [
       "<div>\n",
       "<style scoped>\n",
       "    .dataframe tbody tr th:only-of-type {\n",
       "        vertical-align: middle;\n",
       "    }\n",
       "\n",
       "    .dataframe tbody tr th {\n",
       "        vertical-align: top;\n",
       "    }\n",
       "\n",
       "    .dataframe thead th {\n",
       "        text-align: right;\n",
       "    }\n",
       "</style>\n",
       "<table border=\"1\" class=\"dataframe\">\n",
       "  <thead>\n",
       "    <tr style=\"text-align: right;\">\n",
       "      <th></th>\n",
       "      <th>salary</th>\n",
       "      <th>hire_date</th>\n",
       "    </tr>\n",
       "    <tr>\n",
       "      <th>department</th>\n",
       "      <th></th>\n",
       "      <th></th>\n",
       "    </tr>\n",
       "  </thead>\n",
       "  <tbody>\n",
       "    <tr>\n",
       "      <th>IT</th>\n",
       "      <td>6000</td>\n",
       "      <td>2017-09-25</td>\n",
       "    </tr>\n",
       "    <tr>\n",
       "      <th>인사</th>\n",
       "      <td>5200</td>\n",
       "      <td>2016-11-30</td>\n",
       "    </tr>\n",
       "    <tr>\n",
       "      <th>재무</th>\n",
       "      <td>6100</td>\n",
       "      <td>2017-12-15</td>\n",
       "    </tr>\n",
       "  </tbody>\n",
       "</table>\n",
       "</div>"
      ]
     },
     "execution_count": 23,
     "metadata": {},
     "output_type": "execute_result"
    }
   ],
   "execution_count": 23
  },
  {
   "metadata": {
    "ExecuteTime": {
     "end_time": "2024-12-02T08:29:55.042109Z",
     "start_time": "2024-12-02T08:29:55.028536Z"
    }
   },
   "cell_type": "code",
   "source": [
    "# name aggregation\n",
    "\n",
    "groupby_dept.agg(\n",
    "    salary_mean = ('salary', 'mean'),\n",
    "    salary_max = ('salary', 'max'),\n",
    "    hire_date_min = ('hire_date', 'min'),\n",
    "    hire_date_max = ('hire_date', 'max'),\n",
    ")"
   ],
   "id": "4a67abede0d551e1",
   "outputs": [
    {
     "data": {
      "text/plain": [
       "            salary_mean  salary_max hire_date_min hire_date_max\n",
       "department                                                     \n",
       "IT          4566.666667        6000    2017-09-25    2022-04-01\n",
       "인사          4400.000000        5200    2016-11-30    2020-03-15\n",
       "재무          4975.000000        6100    2017-12-15    2020-06-12"
      ],
      "text/html": [
       "<div>\n",
       "<style scoped>\n",
       "    .dataframe tbody tr th:only-of-type {\n",
       "        vertical-align: middle;\n",
       "    }\n",
       "\n",
       "    .dataframe tbody tr th {\n",
       "        vertical-align: top;\n",
       "    }\n",
       "\n",
       "    .dataframe thead th {\n",
       "        text-align: right;\n",
       "    }\n",
       "</style>\n",
       "<table border=\"1\" class=\"dataframe\">\n",
       "  <thead>\n",
       "    <tr style=\"text-align: right;\">\n",
       "      <th></th>\n",
       "      <th>salary_mean</th>\n",
       "      <th>salary_max</th>\n",
       "      <th>hire_date_min</th>\n",
       "      <th>hire_date_max</th>\n",
       "    </tr>\n",
       "    <tr>\n",
       "      <th>department</th>\n",
       "      <th></th>\n",
       "      <th></th>\n",
       "      <th></th>\n",
       "      <th></th>\n",
       "    </tr>\n",
       "  </thead>\n",
       "  <tbody>\n",
       "    <tr>\n",
       "      <th>IT</th>\n",
       "      <td>4566.666667</td>\n",
       "      <td>6000</td>\n",
       "      <td>2017-09-25</td>\n",
       "      <td>2022-04-01</td>\n",
       "    </tr>\n",
       "    <tr>\n",
       "      <th>인사</th>\n",
       "      <td>4400.000000</td>\n",
       "      <td>5200</td>\n",
       "      <td>2016-11-30</td>\n",
       "      <td>2020-03-15</td>\n",
       "    </tr>\n",
       "    <tr>\n",
       "      <th>재무</th>\n",
       "      <td>4975.000000</td>\n",
       "      <td>6100</td>\n",
       "      <td>2017-12-15</td>\n",
       "      <td>2020-06-12</td>\n",
       "    </tr>\n",
       "  </tbody>\n",
       "</table>\n",
       "</div>"
      ]
     },
     "execution_count": 24,
     "metadata": {},
     "output_type": "execute_result"
    }
   ],
   "execution_count": 24
  },
  {
   "metadata": {
    "ExecuteTime": {
     "end_time": "2024-12-02T08:31:36.995619Z",
     "start_time": "2024-12-02T08:31:36.986220Z"
    }
   },
   "cell_type": "code",
   "source": [
    "# 두 개 이상의 컬럼을 그룹핑\n",
    "groupby_dept_job = df.groupby(['job', 'department'])\n",
    "print(groupby_dept_job)\n",
    "groupby_dept_job.groups"
   ],
   "id": "b24996417eb691b3",
   "outputs": [
    {
     "name": "stdout",
     "output_type": "stream",
     "text": [
      "<pandas.core.groupby.generic.DataFrameGroupBy object at 0x000002B487E1D730>\n"
     ]
    },
    {
     "data": {
      "text/plain": [
       "{('과장', '인사'): [7], ('과장', '재무'): [1], ('대리', '인사'): [5], ('대리', '재무'): [2, 6], ('사원', 'IT'): [3, 8], ('사원', '인사'): [0], ('팀장', 'IT'): [4], ('팀장', '재무'): [9]}"
      ]
     },
     "execution_count": 27,
     "metadata": {},
     "output_type": "execute_result"
    }
   ],
   "execution_count": 27
  },
  {
   "metadata": {
    "ExecuteTime": {
     "end_time": "2024-12-02T08:32:07.610492Z",
     "start_time": "2024-12-02T08:32:07.602315Z"
    }
   },
   "cell_type": "code",
   "source": "groupby_dept_job.count()",
   "id": "2cfdbd0903bce55e",
   "outputs": [
    {
     "data": {
      "text/plain": [
       "                name  branch  salary  hire_date\n",
       "job department                                 \n",
       "과장  인사             1       1       1          1\n",
       "    재무             1       1       1          1\n",
       "대리  인사             1       1       1          1\n",
       "    재무             2       2       2          2\n",
       "사원  IT             2       2       2          2\n",
       "    인사             1       1       1          1\n",
       "팀장  IT             1       1       1          1\n",
       "    재무             1       1       1          1"
      ],
      "text/html": [
       "<div>\n",
       "<style scoped>\n",
       "    .dataframe tbody tr th:only-of-type {\n",
       "        vertical-align: middle;\n",
       "    }\n",
       "\n",
       "    .dataframe tbody tr th {\n",
       "        vertical-align: top;\n",
       "    }\n",
       "\n",
       "    .dataframe thead th {\n",
       "        text-align: right;\n",
       "    }\n",
       "</style>\n",
       "<table border=\"1\" class=\"dataframe\">\n",
       "  <thead>\n",
       "    <tr style=\"text-align: right;\">\n",
       "      <th></th>\n",
       "      <th></th>\n",
       "      <th>name</th>\n",
       "      <th>branch</th>\n",
       "      <th>salary</th>\n",
       "      <th>hire_date</th>\n",
       "    </tr>\n",
       "    <tr>\n",
       "      <th>job</th>\n",
       "      <th>department</th>\n",
       "      <th></th>\n",
       "      <th></th>\n",
       "      <th></th>\n",
       "      <th></th>\n",
       "    </tr>\n",
       "  </thead>\n",
       "  <tbody>\n",
       "    <tr>\n",
       "      <th rowspan=\"2\" valign=\"top\">과장</th>\n",
       "      <th>인사</th>\n",
       "      <td>1</td>\n",
       "      <td>1</td>\n",
       "      <td>1</td>\n",
       "      <td>1</td>\n",
       "    </tr>\n",
       "    <tr>\n",
       "      <th>재무</th>\n",
       "      <td>1</td>\n",
       "      <td>1</td>\n",
       "      <td>1</td>\n",
       "      <td>1</td>\n",
       "    </tr>\n",
       "    <tr>\n",
       "      <th rowspan=\"2\" valign=\"top\">대리</th>\n",
       "      <th>인사</th>\n",
       "      <td>1</td>\n",
       "      <td>1</td>\n",
       "      <td>1</td>\n",
       "      <td>1</td>\n",
       "    </tr>\n",
       "    <tr>\n",
       "      <th>재무</th>\n",
       "      <td>2</td>\n",
       "      <td>2</td>\n",
       "      <td>2</td>\n",
       "      <td>2</td>\n",
       "    </tr>\n",
       "    <tr>\n",
       "      <th rowspan=\"2\" valign=\"top\">사원</th>\n",
       "      <th>IT</th>\n",
       "      <td>2</td>\n",
       "      <td>2</td>\n",
       "      <td>2</td>\n",
       "      <td>2</td>\n",
       "    </tr>\n",
       "    <tr>\n",
       "      <th>인사</th>\n",
       "      <td>1</td>\n",
       "      <td>1</td>\n",
       "      <td>1</td>\n",
       "      <td>1</td>\n",
       "    </tr>\n",
       "    <tr>\n",
       "      <th rowspan=\"2\" valign=\"top\">팀장</th>\n",
       "      <th>IT</th>\n",
       "      <td>1</td>\n",
       "      <td>1</td>\n",
       "      <td>1</td>\n",
       "      <td>1</td>\n",
       "    </tr>\n",
       "    <tr>\n",
       "      <th>재무</th>\n",
       "      <td>1</td>\n",
       "      <td>1</td>\n",
       "      <td>1</td>\n",
       "      <td>1</td>\n",
       "    </tr>\n",
       "  </tbody>\n",
       "</table>\n",
       "</div>"
      ]
     },
     "execution_count": 28,
     "metadata": {},
     "output_type": "execute_result"
    }
   ],
   "execution_count": 28
  },
  {
   "metadata": {
    "ExecuteTime": {
     "end_time": "2024-12-02T08:33:25.172747Z",
     "start_time": "2024-12-02T08:33:25.161528Z"
    }
   },
   "cell_type": "code",
   "source": "groupby_dept_job.value_counts()",
   "id": "556670b118b311ff",
   "outputs": [
    {
     "data": {
      "text/plain": [
       "job  department  name  branch  salary  hire_date \n",
       "과장   인사          유재석   부산      5200    2016-11-30    1\n",
       "     재무          박보검   부산      5000    2018-07-10    1\n",
       "대리   인사          전지현   서울      4500    2019-03-05    1\n",
       "     재무          송혜교   서울      4200    2019-05-20    1\n",
       "                 수지    서울      4600    2020-06-12    1\n",
       "사원   IT          강동원   서울      3900    2022-04-01    1\n",
       "                 아이유   부산      3800    2021-01-10    1\n",
       "     인사          김혜수   서울      3500    2020-03-15    1\n",
       "팀장   IT          공유    서울      6000    2017-09-25    1\n",
       "     재무          윤아    부산      6100    2017-12-15    1\n",
       "Name: count, dtype: int64"
      ]
     },
     "execution_count": 29,
     "metadata": {},
     "output_type": "execute_result"
    }
   ],
   "execution_count": 29
  },
  {
   "metadata": {
    "ExecuteTime": {
     "end_time": "2024-12-02T08:36:10.746952Z",
     "start_time": "2024-12-02T08:36:10.714192Z"
    }
   },
   "cell_type": "code",
   "source": [
    "# 반복문을 통해 처리 가능\n",
    "for (name, group) in groupby_dept_job :\n",
    "    print(name)\n",
    "    display(group) # 주피터만 사용"
   ],
   "id": "bb3dfbdefa438705",
   "outputs": [
    {
     "name": "stdout",
     "output_type": "stream",
     "text": [
      "('과장', '인사')\n"
     ]
    },
    {
     "data": {
      "text/plain": [
       "  name department job branch  salary  hire_date\n",
       "7  유재석         인사  과장     부산    5200 2016-11-30"
      ],
      "text/html": [
       "<div>\n",
       "<style scoped>\n",
       "    .dataframe tbody tr th:only-of-type {\n",
       "        vertical-align: middle;\n",
       "    }\n",
       "\n",
       "    .dataframe tbody tr th {\n",
       "        vertical-align: top;\n",
       "    }\n",
       "\n",
       "    .dataframe thead th {\n",
       "        text-align: right;\n",
       "    }\n",
       "</style>\n",
       "<table border=\"1\" class=\"dataframe\">\n",
       "  <thead>\n",
       "    <tr style=\"text-align: right;\">\n",
       "      <th></th>\n",
       "      <th>name</th>\n",
       "      <th>department</th>\n",
       "      <th>job</th>\n",
       "      <th>branch</th>\n",
       "      <th>salary</th>\n",
       "      <th>hire_date</th>\n",
       "    </tr>\n",
       "  </thead>\n",
       "  <tbody>\n",
       "    <tr>\n",
       "      <th>7</th>\n",
       "      <td>유재석</td>\n",
       "      <td>인사</td>\n",
       "      <td>과장</td>\n",
       "      <td>부산</td>\n",
       "      <td>5200</td>\n",
       "      <td>2016-11-30</td>\n",
       "    </tr>\n",
       "  </tbody>\n",
       "</table>\n",
       "</div>"
      ]
     },
     "metadata": {},
     "output_type": "display_data"
    },
    {
     "name": "stdout",
     "output_type": "stream",
     "text": [
      "('과장', '재무')\n"
     ]
    },
    {
     "data": {
      "text/plain": [
       "  name department job branch  salary  hire_date\n",
       "1  박보검         재무  과장     부산    5000 2018-07-10"
      ],
      "text/html": [
       "<div>\n",
       "<style scoped>\n",
       "    .dataframe tbody tr th:only-of-type {\n",
       "        vertical-align: middle;\n",
       "    }\n",
       "\n",
       "    .dataframe tbody tr th {\n",
       "        vertical-align: top;\n",
       "    }\n",
       "\n",
       "    .dataframe thead th {\n",
       "        text-align: right;\n",
       "    }\n",
       "</style>\n",
       "<table border=\"1\" class=\"dataframe\">\n",
       "  <thead>\n",
       "    <tr style=\"text-align: right;\">\n",
       "      <th></th>\n",
       "      <th>name</th>\n",
       "      <th>department</th>\n",
       "      <th>job</th>\n",
       "      <th>branch</th>\n",
       "      <th>salary</th>\n",
       "      <th>hire_date</th>\n",
       "    </tr>\n",
       "  </thead>\n",
       "  <tbody>\n",
       "    <tr>\n",
       "      <th>1</th>\n",
       "      <td>박보검</td>\n",
       "      <td>재무</td>\n",
       "      <td>과장</td>\n",
       "      <td>부산</td>\n",
       "      <td>5000</td>\n",
       "      <td>2018-07-10</td>\n",
       "    </tr>\n",
       "  </tbody>\n",
       "</table>\n",
       "</div>"
      ]
     },
     "metadata": {},
     "output_type": "display_data"
    },
    {
     "name": "stdout",
     "output_type": "stream",
     "text": [
      "('대리', '인사')\n"
     ]
    },
    {
     "data": {
      "text/plain": [
       "  name department job branch  salary  hire_date\n",
       "5  전지현         인사  대리     서울    4500 2019-03-05"
      ],
      "text/html": [
       "<div>\n",
       "<style scoped>\n",
       "    .dataframe tbody tr th:only-of-type {\n",
       "        vertical-align: middle;\n",
       "    }\n",
       "\n",
       "    .dataframe tbody tr th {\n",
       "        vertical-align: top;\n",
       "    }\n",
       "\n",
       "    .dataframe thead th {\n",
       "        text-align: right;\n",
       "    }\n",
       "</style>\n",
       "<table border=\"1\" class=\"dataframe\">\n",
       "  <thead>\n",
       "    <tr style=\"text-align: right;\">\n",
       "      <th></th>\n",
       "      <th>name</th>\n",
       "      <th>department</th>\n",
       "      <th>job</th>\n",
       "      <th>branch</th>\n",
       "      <th>salary</th>\n",
       "      <th>hire_date</th>\n",
       "    </tr>\n",
       "  </thead>\n",
       "  <tbody>\n",
       "    <tr>\n",
       "      <th>5</th>\n",
       "      <td>전지현</td>\n",
       "      <td>인사</td>\n",
       "      <td>대리</td>\n",
       "      <td>서울</td>\n",
       "      <td>4500</td>\n",
       "      <td>2019-03-05</td>\n",
       "    </tr>\n",
       "  </tbody>\n",
       "</table>\n",
       "</div>"
      ]
     },
     "metadata": {},
     "output_type": "display_data"
    },
    {
     "name": "stdout",
     "output_type": "stream",
     "text": [
      "('대리', '재무')\n"
     ]
    },
    {
     "data": {
      "text/plain": [
       "  name department job branch  salary  hire_date\n",
       "2  송혜교         재무  대리     서울    4200 2019-05-20\n",
       "6   수지         재무  대리     서울    4600 2020-06-12"
      ],
      "text/html": [
       "<div>\n",
       "<style scoped>\n",
       "    .dataframe tbody tr th:only-of-type {\n",
       "        vertical-align: middle;\n",
       "    }\n",
       "\n",
       "    .dataframe tbody tr th {\n",
       "        vertical-align: top;\n",
       "    }\n",
       "\n",
       "    .dataframe thead th {\n",
       "        text-align: right;\n",
       "    }\n",
       "</style>\n",
       "<table border=\"1\" class=\"dataframe\">\n",
       "  <thead>\n",
       "    <tr style=\"text-align: right;\">\n",
       "      <th></th>\n",
       "      <th>name</th>\n",
       "      <th>department</th>\n",
       "      <th>job</th>\n",
       "      <th>branch</th>\n",
       "      <th>salary</th>\n",
       "      <th>hire_date</th>\n",
       "    </tr>\n",
       "  </thead>\n",
       "  <tbody>\n",
       "    <tr>\n",
       "      <th>2</th>\n",
       "      <td>송혜교</td>\n",
       "      <td>재무</td>\n",
       "      <td>대리</td>\n",
       "      <td>서울</td>\n",
       "      <td>4200</td>\n",
       "      <td>2019-05-20</td>\n",
       "    </tr>\n",
       "    <tr>\n",
       "      <th>6</th>\n",
       "      <td>수지</td>\n",
       "      <td>재무</td>\n",
       "      <td>대리</td>\n",
       "      <td>서울</td>\n",
       "      <td>4600</td>\n",
       "      <td>2020-06-12</td>\n",
       "    </tr>\n",
       "  </tbody>\n",
       "</table>\n",
       "</div>"
      ]
     },
     "metadata": {},
     "output_type": "display_data"
    },
    {
     "name": "stdout",
     "output_type": "stream",
     "text": [
      "('사원', 'IT')\n"
     ]
    },
    {
     "data": {
      "text/plain": [
       "  name department job branch  salary  hire_date\n",
       "3  아이유         IT  사원     부산    3800 2021-01-10\n",
       "8  강동원         IT  사원     서울    3900 2022-04-01"
      ],
      "text/html": [
       "<div>\n",
       "<style scoped>\n",
       "    .dataframe tbody tr th:only-of-type {\n",
       "        vertical-align: middle;\n",
       "    }\n",
       "\n",
       "    .dataframe tbody tr th {\n",
       "        vertical-align: top;\n",
       "    }\n",
       "\n",
       "    .dataframe thead th {\n",
       "        text-align: right;\n",
       "    }\n",
       "</style>\n",
       "<table border=\"1\" class=\"dataframe\">\n",
       "  <thead>\n",
       "    <tr style=\"text-align: right;\">\n",
       "      <th></th>\n",
       "      <th>name</th>\n",
       "      <th>department</th>\n",
       "      <th>job</th>\n",
       "      <th>branch</th>\n",
       "      <th>salary</th>\n",
       "      <th>hire_date</th>\n",
       "    </tr>\n",
       "  </thead>\n",
       "  <tbody>\n",
       "    <tr>\n",
       "      <th>3</th>\n",
       "      <td>아이유</td>\n",
       "      <td>IT</td>\n",
       "      <td>사원</td>\n",
       "      <td>부산</td>\n",
       "      <td>3800</td>\n",
       "      <td>2021-01-10</td>\n",
       "    </tr>\n",
       "    <tr>\n",
       "      <th>8</th>\n",
       "      <td>강동원</td>\n",
       "      <td>IT</td>\n",
       "      <td>사원</td>\n",
       "      <td>서울</td>\n",
       "      <td>3900</td>\n",
       "      <td>2022-04-01</td>\n",
       "    </tr>\n",
       "  </tbody>\n",
       "</table>\n",
       "</div>"
      ]
     },
     "metadata": {},
     "output_type": "display_data"
    },
    {
     "name": "stdout",
     "output_type": "stream",
     "text": [
      "('사원', '인사')\n"
     ]
    },
    {
     "data": {
      "text/plain": [
       "  name department job branch  salary  hire_date\n",
       "0  김혜수         인사  사원     서울    3500 2020-03-15"
      ],
      "text/html": [
       "<div>\n",
       "<style scoped>\n",
       "    .dataframe tbody tr th:only-of-type {\n",
       "        vertical-align: middle;\n",
       "    }\n",
       "\n",
       "    .dataframe tbody tr th {\n",
       "        vertical-align: top;\n",
       "    }\n",
       "\n",
       "    .dataframe thead th {\n",
       "        text-align: right;\n",
       "    }\n",
       "</style>\n",
       "<table border=\"1\" class=\"dataframe\">\n",
       "  <thead>\n",
       "    <tr style=\"text-align: right;\">\n",
       "      <th></th>\n",
       "      <th>name</th>\n",
       "      <th>department</th>\n",
       "      <th>job</th>\n",
       "      <th>branch</th>\n",
       "      <th>salary</th>\n",
       "      <th>hire_date</th>\n",
       "    </tr>\n",
       "  </thead>\n",
       "  <tbody>\n",
       "    <tr>\n",
       "      <th>0</th>\n",
       "      <td>김혜수</td>\n",
       "      <td>인사</td>\n",
       "      <td>사원</td>\n",
       "      <td>서울</td>\n",
       "      <td>3500</td>\n",
       "      <td>2020-03-15</td>\n",
       "    </tr>\n",
       "  </tbody>\n",
       "</table>\n",
       "</div>"
      ]
     },
     "metadata": {},
     "output_type": "display_data"
    },
    {
     "name": "stdout",
     "output_type": "stream",
     "text": [
      "('팀장', 'IT')\n"
     ]
    },
    {
     "data": {
      "text/plain": [
       "  name department job branch  salary  hire_date\n",
       "4   공유         IT  팀장     서울    6000 2017-09-25"
      ],
      "text/html": [
       "<div>\n",
       "<style scoped>\n",
       "    .dataframe tbody tr th:only-of-type {\n",
       "        vertical-align: middle;\n",
       "    }\n",
       "\n",
       "    .dataframe tbody tr th {\n",
       "        vertical-align: top;\n",
       "    }\n",
       "\n",
       "    .dataframe thead th {\n",
       "        text-align: right;\n",
       "    }\n",
       "</style>\n",
       "<table border=\"1\" class=\"dataframe\">\n",
       "  <thead>\n",
       "    <tr style=\"text-align: right;\">\n",
       "      <th></th>\n",
       "      <th>name</th>\n",
       "      <th>department</th>\n",
       "      <th>job</th>\n",
       "      <th>branch</th>\n",
       "      <th>salary</th>\n",
       "      <th>hire_date</th>\n",
       "    </tr>\n",
       "  </thead>\n",
       "  <tbody>\n",
       "    <tr>\n",
       "      <th>4</th>\n",
       "      <td>공유</td>\n",
       "      <td>IT</td>\n",
       "      <td>팀장</td>\n",
       "      <td>서울</td>\n",
       "      <td>6000</td>\n",
       "      <td>2017-09-25</td>\n",
       "    </tr>\n",
       "  </tbody>\n",
       "</table>\n",
       "</div>"
      ]
     },
     "metadata": {},
     "output_type": "display_data"
    },
    {
     "name": "stdout",
     "output_type": "stream",
     "text": [
      "('팀장', '재무')\n"
     ]
    },
    {
     "data": {
      "text/plain": [
       "  name department job branch  salary  hire_date\n",
       "9   윤아         재무  팀장     부산    6100 2017-12-15"
      ],
      "text/html": [
       "<div>\n",
       "<style scoped>\n",
       "    .dataframe tbody tr th:only-of-type {\n",
       "        vertical-align: middle;\n",
       "    }\n",
       "\n",
       "    .dataframe tbody tr th {\n",
       "        vertical-align: top;\n",
       "    }\n",
       "\n",
       "    .dataframe thead th {\n",
       "        text-align: right;\n",
       "    }\n",
       "</style>\n",
       "<table border=\"1\" class=\"dataframe\">\n",
       "  <thead>\n",
       "    <tr style=\"text-align: right;\">\n",
       "      <th></th>\n",
       "      <th>name</th>\n",
       "      <th>department</th>\n",
       "      <th>job</th>\n",
       "      <th>branch</th>\n",
       "      <th>salary</th>\n",
       "      <th>hire_date</th>\n",
       "    </tr>\n",
       "  </thead>\n",
       "  <tbody>\n",
       "    <tr>\n",
       "      <th>9</th>\n",
       "      <td>윤아</td>\n",
       "      <td>재무</td>\n",
       "      <td>팀장</td>\n",
       "      <td>부산</td>\n",
       "      <td>6100</td>\n",
       "      <td>2017-12-15</td>\n",
       "    </tr>\n",
       "  </tbody>\n",
       "</table>\n",
       "</div>"
      ]
     },
     "metadata": {},
     "output_type": "display_data"
    }
   ],
   "execution_count": 31
  },
  {
   "metadata": {},
   "cell_type": "markdown",
   "source": [
    "## pivot table\n",
    "특정 컬러(인덱스, 컬럼)을 기준으로 값 컬럼을 열람하는 기능\n",
    "연관있는 데이터를 가독성 좋게 출력"
   ],
   "id": "1cc149060b17310d"
  },
  {
   "metadata": {
    "ExecuteTime": {
     "end_time": "2024-12-03T00:05:41.726200Z",
     "start_time": "2024-12-03T00:05:41.712604Z"
    }
   },
   "cell_type": "code",
   "source": [
    "data = {\n",
    "    'Date' : ['2024-10-11','2024-10-12','2024-10-13','2024-10-14', '2024-10-14'],\n",
    "    'City' : ['서울', '인천', '평택', '화성', '서울'],\n",
    "    'Temperature' : [17, 18, 19, 81, 20]\n",
    "}\n",
    "df = pd.DataFrame(data)\n",
    "df"
   ],
   "id": "287a121f90425ec5",
   "outputs": [
    {
     "data": {
      "text/plain": [
       "         Date City  Temperature\n",
       "0  2024-10-11   서울           17\n",
       "1  2024-10-12   인천           18\n",
       "2  2024-10-13   평택           19\n",
       "3  2024-10-14   화성           81\n",
       "4  2024-10-14   서울           20"
      ],
      "text/html": [
       "<div>\n",
       "<style scoped>\n",
       "    .dataframe tbody tr th:only-of-type {\n",
       "        vertical-align: middle;\n",
       "    }\n",
       "\n",
       "    .dataframe tbody tr th {\n",
       "        vertical-align: top;\n",
       "    }\n",
       "\n",
       "    .dataframe thead th {\n",
       "        text-align: right;\n",
       "    }\n",
       "</style>\n",
       "<table border=\"1\" class=\"dataframe\">\n",
       "  <thead>\n",
       "    <tr style=\"text-align: right;\">\n",
       "      <th></th>\n",
       "      <th>Date</th>\n",
       "      <th>City</th>\n",
       "      <th>Temperature</th>\n",
       "    </tr>\n",
       "  </thead>\n",
       "  <tbody>\n",
       "    <tr>\n",
       "      <th>0</th>\n",
       "      <td>2024-10-11</td>\n",
       "      <td>서울</td>\n",
       "      <td>17</td>\n",
       "    </tr>\n",
       "    <tr>\n",
       "      <th>1</th>\n",
       "      <td>2024-10-12</td>\n",
       "      <td>인천</td>\n",
       "      <td>18</td>\n",
       "    </tr>\n",
       "    <tr>\n",
       "      <th>2</th>\n",
       "      <td>2024-10-13</td>\n",
       "      <td>평택</td>\n",
       "      <td>19</td>\n",
       "    </tr>\n",
       "    <tr>\n",
       "      <th>3</th>\n",
       "      <td>2024-10-14</td>\n",
       "      <td>화성</td>\n",
       "      <td>81</td>\n",
       "    </tr>\n",
       "    <tr>\n",
       "      <th>4</th>\n",
       "      <td>2024-10-14</td>\n",
       "      <td>서울</td>\n",
       "      <td>20</td>\n",
       "    </tr>\n",
       "  </tbody>\n",
       "</table>\n",
       "</div>"
      ]
     },
     "execution_count": 62,
     "metadata": {},
     "output_type": "execute_result"
    }
   ],
   "execution_count": 62
  },
  {
   "metadata": {
    "ExecuteTime": {
     "end_time": "2024-12-03T00:06:03.704505Z",
     "start_time": "2024-12-03T00:06:03.686487Z"
    }
   },
   "cell_type": "code",
   "source": [
    "#df.pivot(index ='Date', columns ='City', values ='Temperature') # 일부라도 중복 데이터가 있다면 오류가 난다.\n",
    "# pivot_table(index, column, value)\n",
    "df.pivot_table(index = 'Date',\n",
    "               columns = 'City',\n",
    "               values = 'Temperature'\n",
    ")"
   ],
   "id": "81537a438c9c85aa",
   "outputs": [
    {
     "data": {
      "text/plain": [
       "City          서울    인천    평택    화성\n",
       "Date                              \n",
       "2024-10-11  17.0   NaN   NaN   NaN\n",
       "2024-10-12   NaN  18.0   NaN   NaN\n",
       "2024-10-13   NaN   NaN  19.0   NaN\n",
       "2024-10-14  20.0   NaN   NaN  81.0"
      ],
      "text/html": [
       "<div>\n",
       "<style scoped>\n",
       "    .dataframe tbody tr th:only-of-type {\n",
       "        vertical-align: middle;\n",
       "    }\n",
       "\n",
       "    .dataframe tbody tr th {\n",
       "        vertical-align: top;\n",
       "    }\n",
       "\n",
       "    .dataframe thead th {\n",
       "        text-align: right;\n",
       "    }\n",
       "</style>\n",
       "<table border=\"1\" class=\"dataframe\">\n",
       "  <thead>\n",
       "    <tr style=\"text-align: right;\">\n",
       "      <th>City</th>\n",
       "      <th>서울</th>\n",
       "      <th>인천</th>\n",
       "      <th>평택</th>\n",
       "      <th>화성</th>\n",
       "    </tr>\n",
       "    <tr>\n",
       "      <th>Date</th>\n",
       "      <th></th>\n",
       "      <th></th>\n",
       "      <th></th>\n",
       "      <th></th>\n",
       "    </tr>\n",
       "  </thead>\n",
       "  <tbody>\n",
       "    <tr>\n",
       "      <th>2024-10-11</th>\n",
       "      <td>17.0</td>\n",
       "      <td>NaN</td>\n",
       "      <td>NaN</td>\n",
       "      <td>NaN</td>\n",
       "    </tr>\n",
       "    <tr>\n",
       "      <th>2024-10-12</th>\n",
       "      <td>NaN</td>\n",
       "      <td>18.0</td>\n",
       "      <td>NaN</td>\n",
       "      <td>NaN</td>\n",
       "    </tr>\n",
       "    <tr>\n",
       "      <th>2024-10-13</th>\n",
       "      <td>NaN</td>\n",
       "      <td>NaN</td>\n",
       "      <td>19.0</td>\n",
       "      <td>NaN</td>\n",
       "    </tr>\n",
       "    <tr>\n",
       "      <th>2024-10-14</th>\n",
       "      <td>20.0</td>\n",
       "      <td>NaN</td>\n",
       "      <td>NaN</td>\n",
       "      <td>81.0</td>\n",
       "    </tr>\n",
       "  </tbody>\n",
       "</table>\n",
       "</div>"
      ]
     },
     "execution_count": 65,
     "metadata": {},
     "output_type": "execute_result"
    }
   ],
   "execution_count": 65
  },
  {
   "metadata": {
    "ExecuteTime": {
     "end_time": "2024-12-02T08:45:43.078070Z",
     "start_time": "2024-12-02T08:45:43.072269Z"
    }
   },
   "cell_type": "code",
   "source": [
    "data = {\n",
    "    '날짜': [\n",
    "        '2024-01-01', '2024-01-01', '2024-01-01', '2024-01-01',\n",
    "        '2024-01-02', '2024-01-02', '2024-01-02', '2024-01-02',\n",
    "        '2024-01-03', '2024-01-03'\n",
    "    ],\n",
    "    '상품': [\n",
    "        '아이폰 14', '갤럭시 S23', '아이패드 프로', '아이폰 14',\n",
    "        '아이폰 14', '갤럭시 S23', '아이패드 프로', '갤럭시 S23',\n",
    "        '맥북 프로', '아이폰 14'\n",
    "    ],\n",
    "    '판매량': [15, 30, 5, 10, 20, 25, 10, 5, 8, 12],\n",
    "    '가격': [1000, 900, 800, 1000, 1000, 900, 800, 900, 2000, 1000]\n",
    "}\n",
    "df = pd.DataFrame(data)\n",
    "df"
   ],
   "id": "e8d04f37d8c43c32",
   "outputs": [
    {
     "data": {
      "text/plain": [
       "           날짜       상품  판매량    가격\n",
       "0  2024-01-01   아이폰 14   15  1000\n",
       "1  2024-01-01  갤럭시 S23   30   900\n",
       "2  2024-01-01  아이패드 프로    5   800\n",
       "3  2024-01-01   아이폰 14   10  1000\n",
       "4  2024-01-02   아이폰 14   20  1000\n",
       "5  2024-01-02  갤럭시 S23   25   900\n",
       "6  2024-01-02  아이패드 프로   10   800\n",
       "7  2024-01-02  갤럭시 S23    5   900\n",
       "8  2024-01-03    맥북 프로    8  2000\n",
       "9  2024-01-03   아이폰 14   12  1000"
      ],
      "text/html": [
       "<div>\n",
       "<style scoped>\n",
       "    .dataframe tbody tr th:only-of-type {\n",
       "        vertical-align: middle;\n",
       "    }\n",
       "\n",
       "    .dataframe tbody tr th {\n",
       "        vertical-align: top;\n",
       "    }\n",
       "\n",
       "    .dataframe thead th {\n",
       "        text-align: right;\n",
       "    }\n",
       "</style>\n",
       "<table border=\"1\" class=\"dataframe\">\n",
       "  <thead>\n",
       "    <tr style=\"text-align: right;\">\n",
       "      <th></th>\n",
       "      <th>날짜</th>\n",
       "      <th>상품</th>\n",
       "      <th>판매량</th>\n",
       "      <th>가격</th>\n",
       "    </tr>\n",
       "  </thead>\n",
       "  <tbody>\n",
       "    <tr>\n",
       "      <th>0</th>\n",
       "      <td>2024-01-01</td>\n",
       "      <td>아이폰 14</td>\n",
       "      <td>15</td>\n",
       "      <td>1000</td>\n",
       "    </tr>\n",
       "    <tr>\n",
       "      <th>1</th>\n",
       "      <td>2024-01-01</td>\n",
       "      <td>갤럭시 S23</td>\n",
       "      <td>30</td>\n",
       "      <td>900</td>\n",
       "    </tr>\n",
       "    <tr>\n",
       "      <th>2</th>\n",
       "      <td>2024-01-01</td>\n",
       "      <td>아이패드 프로</td>\n",
       "      <td>5</td>\n",
       "      <td>800</td>\n",
       "    </tr>\n",
       "    <tr>\n",
       "      <th>3</th>\n",
       "      <td>2024-01-01</td>\n",
       "      <td>아이폰 14</td>\n",
       "      <td>10</td>\n",
       "      <td>1000</td>\n",
       "    </tr>\n",
       "    <tr>\n",
       "      <th>4</th>\n",
       "      <td>2024-01-02</td>\n",
       "      <td>아이폰 14</td>\n",
       "      <td>20</td>\n",
       "      <td>1000</td>\n",
       "    </tr>\n",
       "    <tr>\n",
       "      <th>5</th>\n",
       "      <td>2024-01-02</td>\n",
       "      <td>갤럭시 S23</td>\n",
       "      <td>25</td>\n",
       "      <td>900</td>\n",
       "    </tr>\n",
       "    <tr>\n",
       "      <th>6</th>\n",
       "      <td>2024-01-02</td>\n",
       "      <td>아이패드 프로</td>\n",
       "      <td>10</td>\n",
       "      <td>800</td>\n",
       "    </tr>\n",
       "    <tr>\n",
       "      <th>7</th>\n",
       "      <td>2024-01-02</td>\n",
       "      <td>갤럭시 S23</td>\n",
       "      <td>5</td>\n",
       "      <td>900</td>\n",
       "    </tr>\n",
       "    <tr>\n",
       "      <th>8</th>\n",
       "      <td>2024-01-03</td>\n",
       "      <td>맥북 프로</td>\n",
       "      <td>8</td>\n",
       "      <td>2000</td>\n",
       "    </tr>\n",
       "    <tr>\n",
       "      <th>9</th>\n",
       "      <td>2024-01-03</td>\n",
       "      <td>아이폰 14</td>\n",
       "      <td>12</td>\n",
       "      <td>1000</td>\n",
       "    </tr>\n",
       "  </tbody>\n",
       "</table>\n",
       "</div>"
      ]
     },
     "execution_count": 42,
     "metadata": {},
     "output_type": "execute_result"
    }
   ],
   "execution_count": 42
  },
  {
   "metadata": {
    "ExecuteTime": {
     "end_time": "2024-12-02T08:47:54.806567Z",
     "start_time": "2024-12-02T08:47:54.784390Z"
    }
   },
   "cell_type": "code",
   "source": [
    "df.pivot_table(index ='날짜',\n",
    "               columns = '상품',\n",
    "               values= '판매량',\n",
    "               aggfunc='sum', # 지정 안해주면 기본값이 평균으로 나와버림\n",
    "               fill_value=0,\n",
    "               margins=True\n",
    ")"
   ],
   "id": "838aef891d1ef944",
   "outputs": [
    {
     "data": {
      "text/plain": [
       "상품          갤럭시 S23  맥북 프로  아이패드 프로  아이폰 14  All\n",
       "날짜                                              \n",
       "2024-01-01       30      0        5      25   60\n",
       "2024-01-02       30      0       10      20   60\n",
       "2024-01-03        0      8        0      12   20\n",
       "All              60      8       15      57  140"
      ],
      "text/html": [
       "<div>\n",
       "<style scoped>\n",
       "    .dataframe tbody tr th:only-of-type {\n",
       "        vertical-align: middle;\n",
       "    }\n",
       "\n",
       "    .dataframe tbody tr th {\n",
       "        vertical-align: top;\n",
       "    }\n",
       "\n",
       "    .dataframe thead th {\n",
       "        text-align: right;\n",
       "    }\n",
       "</style>\n",
       "<table border=\"1\" class=\"dataframe\">\n",
       "  <thead>\n",
       "    <tr style=\"text-align: right;\">\n",
       "      <th>상품</th>\n",
       "      <th>갤럭시 S23</th>\n",
       "      <th>맥북 프로</th>\n",
       "      <th>아이패드 프로</th>\n",
       "      <th>아이폰 14</th>\n",
       "      <th>All</th>\n",
       "    </tr>\n",
       "    <tr>\n",
       "      <th>날짜</th>\n",
       "      <th></th>\n",
       "      <th></th>\n",
       "      <th></th>\n",
       "      <th></th>\n",
       "      <th></th>\n",
       "    </tr>\n",
       "  </thead>\n",
       "  <tbody>\n",
       "    <tr>\n",
       "      <th>2024-01-01</th>\n",
       "      <td>30</td>\n",
       "      <td>0</td>\n",
       "      <td>5</td>\n",
       "      <td>25</td>\n",
       "      <td>60</td>\n",
       "    </tr>\n",
       "    <tr>\n",
       "      <th>2024-01-02</th>\n",
       "      <td>30</td>\n",
       "      <td>0</td>\n",
       "      <td>10</td>\n",
       "      <td>20</td>\n",
       "      <td>60</td>\n",
       "    </tr>\n",
       "    <tr>\n",
       "      <th>2024-01-03</th>\n",
       "      <td>0</td>\n",
       "      <td>8</td>\n",
       "      <td>0</td>\n",
       "      <td>12</td>\n",
       "      <td>20</td>\n",
       "    </tr>\n",
       "    <tr>\n",
       "      <th>All</th>\n",
       "      <td>60</td>\n",
       "      <td>8</td>\n",
       "      <td>15</td>\n",
       "      <td>57</td>\n",
       "      <td>140</td>\n",
       "    </tr>\n",
       "  </tbody>\n",
       "</table>\n",
       "</div>"
      ]
     },
     "execution_count": 45,
     "metadata": {},
     "output_type": "execute_result"
    }
   ],
   "execution_count": 45
  },
  {
   "metadata": {
    "ExecuteTime": {
     "end_time": "2024-12-03T00:18:55.520907Z",
     "start_time": "2024-12-03T00:18:55.496806Z"
    }
   },
   "cell_type": "code",
   "source": [
    "# titanic 승객 데이터에서 성별, 클래스 별 생존율을 출력\n",
    "df = pd.read_csv('data/titanic.csv')\n",
    "df"
   ],
   "id": "a0959957077f88dc",
   "outputs": [
    {
     "data": {
      "text/plain": [
       "     PassengerId  Survived  Pclass  \\\n",
       "0              1         0       3   \n",
       "1              2         1       1   \n",
       "2              3         1       3   \n",
       "3              4         1       1   \n",
       "4              5         0       3   \n",
       "..           ...       ...     ...   \n",
       "886          887         0       2   \n",
       "887          888         1       1   \n",
       "888          889         0       3   \n",
       "889          890         1       1   \n",
       "890          891         0       3   \n",
       "\n",
       "                                                  Name     Sex   Age  SibSp  \\\n",
       "0                              Braund, Mr. Owen Harris    male  22.0      1   \n",
       "1    Cumings, Mrs. John Bradley (Florence Briggs Th...  female  38.0      1   \n",
       "2                               Heikkinen, Miss. Laina  female  26.0      0   \n",
       "3         Futrelle, Mrs. Jacques Heath (Lily May Peel)  female  35.0      1   \n",
       "4                             Allen, Mr. William Henry    male  35.0      0   \n",
       "..                                                 ...     ...   ...    ...   \n",
       "886                              Montvila, Rev. Juozas    male  27.0      0   \n",
       "887                       Graham, Miss. Margaret Edith  female  19.0      0   \n",
       "888           Johnston, Miss. Catherine Helen \"Carrie\"  female   NaN      1   \n",
       "889                              Behr, Mr. Karl Howell    male  26.0      0   \n",
       "890                                Dooley, Mr. Patrick    male  32.0      0   \n",
       "\n",
       "     Parch            Ticket     Fare Cabin Embarked  \n",
       "0        0         A/5 21171   7.2500   NaN        S  \n",
       "1        0          PC 17599  71.2833   C85        C  \n",
       "2        0  STON/O2. 3101282   7.9250   NaN        S  \n",
       "3        0            113803  53.1000  C123        S  \n",
       "4        0            373450   8.0500   NaN        S  \n",
       "..     ...               ...      ...   ...      ...  \n",
       "886      0            211536  13.0000   NaN        S  \n",
       "887      0            112053  30.0000   B42        S  \n",
       "888      2        W./C. 6607  23.4500   NaN        S  \n",
       "889      0            111369  30.0000  C148        C  \n",
       "890      0            370376   7.7500   NaN        Q  \n",
       "\n",
       "[891 rows x 12 columns]"
      ],
      "text/html": [
       "<div>\n",
       "<style scoped>\n",
       "    .dataframe tbody tr th:only-of-type {\n",
       "        vertical-align: middle;\n",
       "    }\n",
       "\n",
       "    .dataframe tbody tr th {\n",
       "        vertical-align: top;\n",
       "    }\n",
       "\n",
       "    .dataframe thead th {\n",
       "        text-align: right;\n",
       "    }\n",
       "</style>\n",
       "<table border=\"1\" class=\"dataframe\">\n",
       "  <thead>\n",
       "    <tr style=\"text-align: right;\">\n",
       "      <th></th>\n",
       "      <th>PassengerId</th>\n",
       "      <th>Survived</th>\n",
       "      <th>Pclass</th>\n",
       "      <th>Name</th>\n",
       "      <th>Sex</th>\n",
       "      <th>Age</th>\n",
       "      <th>SibSp</th>\n",
       "      <th>Parch</th>\n",
       "      <th>Ticket</th>\n",
       "      <th>Fare</th>\n",
       "      <th>Cabin</th>\n",
       "      <th>Embarked</th>\n",
       "    </tr>\n",
       "  </thead>\n",
       "  <tbody>\n",
       "    <tr>\n",
       "      <th>0</th>\n",
       "      <td>1</td>\n",
       "      <td>0</td>\n",
       "      <td>3</td>\n",
       "      <td>Braund, Mr. Owen Harris</td>\n",
       "      <td>male</td>\n",
       "      <td>22.0</td>\n",
       "      <td>1</td>\n",
       "      <td>0</td>\n",
       "      <td>A/5 21171</td>\n",
       "      <td>7.2500</td>\n",
       "      <td>NaN</td>\n",
       "      <td>S</td>\n",
       "    </tr>\n",
       "    <tr>\n",
       "      <th>1</th>\n",
       "      <td>2</td>\n",
       "      <td>1</td>\n",
       "      <td>1</td>\n",
       "      <td>Cumings, Mrs. John Bradley (Florence Briggs Th...</td>\n",
       "      <td>female</td>\n",
       "      <td>38.0</td>\n",
       "      <td>1</td>\n",
       "      <td>0</td>\n",
       "      <td>PC 17599</td>\n",
       "      <td>71.2833</td>\n",
       "      <td>C85</td>\n",
       "      <td>C</td>\n",
       "    </tr>\n",
       "    <tr>\n",
       "      <th>2</th>\n",
       "      <td>3</td>\n",
       "      <td>1</td>\n",
       "      <td>3</td>\n",
       "      <td>Heikkinen, Miss. Laina</td>\n",
       "      <td>female</td>\n",
       "      <td>26.0</td>\n",
       "      <td>0</td>\n",
       "      <td>0</td>\n",
       "      <td>STON/O2. 3101282</td>\n",
       "      <td>7.9250</td>\n",
       "      <td>NaN</td>\n",
       "      <td>S</td>\n",
       "    </tr>\n",
       "    <tr>\n",
       "      <th>3</th>\n",
       "      <td>4</td>\n",
       "      <td>1</td>\n",
       "      <td>1</td>\n",
       "      <td>Futrelle, Mrs. Jacques Heath (Lily May Peel)</td>\n",
       "      <td>female</td>\n",
       "      <td>35.0</td>\n",
       "      <td>1</td>\n",
       "      <td>0</td>\n",
       "      <td>113803</td>\n",
       "      <td>53.1000</td>\n",
       "      <td>C123</td>\n",
       "      <td>S</td>\n",
       "    </tr>\n",
       "    <tr>\n",
       "      <th>4</th>\n",
       "      <td>5</td>\n",
       "      <td>0</td>\n",
       "      <td>3</td>\n",
       "      <td>Allen, Mr. William Henry</td>\n",
       "      <td>male</td>\n",
       "      <td>35.0</td>\n",
       "      <td>0</td>\n",
       "      <td>0</td>\n",
       "      <td>373450</td>\n",
       "      <td>8.0500</td>\n",
       "      <td>NaN</td>\n",
       "      <td>S</td>\n",
       "    </tr>\n",
       "    <tr>\n",
       "      <th>...</th>\n",
       "      <td>...</td>\n",
       "      <td>...</td>\n",
       "      <td>...</td>\n",
       "      <td>...</td>\n",
       "      <td>...</td>\n",
       "      <td>...</td>\n",
       "      <td>...</td>\n",
       "      <td>...</td>\n",
       "      <td>...</td>\n",
       "      <td>...</td>\n",
       "      <td>...</td>\n",
       "      <td>...</td>\n",
       "    </tr>\n",
       "    <tr>\n",
       "      <th>886</th>\n",
       "      <td>887</td>\n",
       "      <td>0</td>\n",
       "      <td>2</td>\n",
       "      <td>Montvila, Rev. Juozas</td>\n",
       "      <td>male</td>\n",
       "      <td>27.0</td>\n",
       "      <td>0</td>\n",
       "      <td>0</td>\n",
       "      <td>211536</td>\n",
       "      <td>13.0000</td>\n",
       "      <td>NaN</td>\n",
       "      <td>S</td>\n",
       "    </tr>\n",
       "    <tr>\n",
       "      <th>887</th>\n",
       "      <td>888</td>\n",
       "      <td>1</td>\n",
       "      <td>1</td>\n",
       "      <td>Graham, Miss. Margaret Edith</td>\n",
       "      <td>female</td>\n",
       "      <td>19.0</td>\n",
       "      <td>0</td>\n",
       "      <td>0</td>\n",
       "      <td>112053</td>\n",
       "      <td>30.0000</td>\n",
       "      <td>B42</td>\n",
       "      <td>S</td>\n",
       "    </tr>\n",
       "    <tr>\n",
       "      <th>888</th>\n",
       "      <td>889</td>\n",
       "      <td>0</td>\n",
       "      <td>3</td>\n",
       "      <td>Johnston, Miss. Catherine Helen \"Carrie\"</td>\n",
       "      <td>female</td>\n",
       "      <td>NaN</td>\n",
       "      <td>1</td>\n",
       "      <td>2</td>\n",
       "      <td>W./C. 6607</td>\n",
       "      <td>23.4500</td>\n",
       "      <td>NaN</td>\n",
       "      <td>S</td>\n",
       "    </tr>\n",
       "    <tr>\n",
       "      <th>889</th>\n",
       "      <td>890</td>\n",
       "      <td>1</td>\n",
       "      <td>1</td>\n",
       "      <td>Behr, Mr. Karl Howell</td>\n",
       "      <td>male</td>\n",
       "      <td>26.0</td>\n",
       "      <td>0</td>\n",
       "      <td>0</td>\n",
       "      <td>111369</td>\n",
       "      <td>30.0000</td>\n",
       "      <td>C148</td>\n",
       "      <td>C</td>\n",
       "    </tr>\n",
       "    <tr>\n",
       "      <th>890</th>\n",
       "      <td>891</td>\n",
       "      <td>0</td>\n",
       "      <td>3</td>\n",
       "      <td>Dooley, Mr. Patrick</td>\n",
       "      <td>male</td>\n",
       "      <td>32.0</td>\n",
       "      <td>0</td>\n",
       "      <td>0</td>\n",
       "      <td>370376</td>\n",
       "      <td>7.7500</td>\n",
       "      <td>NaN</td>\n",
       "      <td>Q</td>\n",
       "    </tr>\n",
       "  </tbody>\n",
       "</table>\n",
       "<p>891 rows × 12 columns</p>\n",
       "</div>"
      ]
     },
     "execution_count": 69,
     "metadata": {},
     "output_type": "execute_result"
    }
   ],
   "execution_count": 69
  },
  {
   "metadata": {
    "ExecuteTime": {
     "end_time": "2024-12-03T00:22:27.435489Z",
     "start_time": "2024-12-03T00:22:27.413042Z"
    }
   },
   "cell_type": "code",
   "source": [
    "df.pivot_table(index ='Sex',\n",
    "               columns = 'Pclass',\n",
    "               values= 'Survived',\n",
    "               #aggfunc='sum', # 지정 안해주면 기본값이 평균으로 나와버림 # or aggfunc='mean'\n",
    "               fill_value=0,\n",
    "               margins=True\n",
    ")"
   ],
   "id": "569d245e7cf75138",
   "outputs": [
    {
     "data": {
      "text/plain": [
       "Pclass         1         2         3       All\n",
       "Sex                                           \n",
       "female  0.968085  0.921053  0.500000  0.742038\n",
       "male    0.368852  0.157407  0.135447  0.188908\n",
       "All     0.629630  0.472826  0.242363  0.383838"
      ],
      "text/html": [
       "<div>\n",
       "<style scoped>\n",
       "    .dataframe tbody tr th:only-of-type {\n",
       "        vertical-align: middle;\n",
       "    }\n",
       "\n",
       "    .dataframe tbody tr th {\n",
       "        vertical-align: top;\n",
       "    }\n",
       "\n",
       "    .dataframe thead th {\n",
       "        text-align: right;\n",
       "    }\n",
       "</style>\n",
       "<table border=\"1\" class=\"dataframe\">\n",
       "  <thead>\n",
       "    <tr style=\"text-align: right;\">\n",
       "      <th>Pclass</th>\n",
       "      <th>1</th>\n",
       "      <th>2</th>\n",
       "      <th>3</th>\n",
       "      <th>All</th>\n",
       "    </tr>\n",
       "    <tr>\n",
       "      <th>Sex</th>\n",
       "      <th></th>\n",
       "      <th></th>\n",
       "      <th></th>\n",
       "      <th></th>\n",
       "    </tr>\n",
       "  </thead>\n",
       "  <tbody>\n",
       "    <tr>\n",
       "      <th>female</th>\n",
       "      <td>0.968085</td>\n",
       "      <td>0.921053</td>\n",
       "      <td>0.500000</td>\n",
       "      <td>0.742038</td>\n",
       "    </tr>\n",
       "    <tr>\n",
       "      <th>male</th>\n",
       "      <td>0.368852</td>\n",
       "      <td>0.157407</td>\n",
       "      <td>0.135447</td>\n",
       "      <td>0.188908</td>\n",
       "    </tr>\n",
       "    <tr>\n",
       "      <th>All</th>\n",
       "      <td>0.629630</td>\n",
       "      <td>0.472826</td>\n",
       "      <td>0.242363</td>\n",
       "      <td>0.383838</td>\n",
       "    </tr>\n",
       "  </tbody>\n",
       "</table>\n",
       "</div>"
      ]
     },
     "execution_count": 72,
     "metadata": {},
     "output_type": "execute_result"
    }
   ],
   "execution_count": 72
  }
 ],
 "metadata": {
  "kernelspec": {
   "display_name": "Python 3",
   "language": "python",
   "name": "python3"
  },
  "language_info": {
   "codemirror_mode": {
    "name": "ipython",
    "version": 2
   },
   "file_extension": ".py",
   "mimetype": "text/x-python",
   "name": "python",
   "nbconvert_exporter": "python",
   "pygments_lexer": "ipython2",
   "version": "2.7.6"
  }
 },
 "nbformat": 4,
 "nbformat_minor": 5
}
