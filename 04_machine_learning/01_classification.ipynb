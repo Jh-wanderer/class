{
 "cells": [
  {
   "metadata": {},
   "cell_type": "markdown",
   "source": [
    "# 지도학습 분류 Overview\n",
    "\n",
    "https://scikit-learn.org/stable/api/index.html\n",
    "\n",
    "주어진 입력 데이터와 그에 대응하는 정답(label)을 기반으로 모델을 학습하는 방식\n",
    "- 분류 : 이진분류, 다중분류\n",
    "- 회귀 : 연속값을 예측"
   ],
   "id": "d2986438536bbacd"
  },
  {
   "metadata": {},
   "cell_type": "markdown",
   "source": "## 환경설정",
   "id": "698081e1cb68a6aa"
  },
  {
   "metadata": {
    "collapsed": true
   },
   "cell_type": "code",
   "outputs": [],
   "execution_count": null,
   "source": "# !conda install scikit-learn -y",
   "id": "initial_id"
  },
  {
   "metadata": {
    "ExecuteTime": {
     "end_time": "2024-12-06T03:41:17.315803Z",
     "start_time": "2024-12-06T03:41:17.291178Z"
    }
   },
   "cell_type": "code",
   "source": [
    "import numpy as np\n",
    "import pandas as pd\n",
    "import matplotlib.pyplot as plt\n",
    "import seaborn as sns"
   ],
   "id": "d83451da3c3a9493",
   "outputs": [],
   "execution_count": 1
  },
  {
   "metadata": {
    "ExecuteTime": {
     "end_time": "2024-12-06T05:11:18.346473Z",
     "start_time": "2024-12-06T05:11:18.338974Z"
    }
   },
   "cell_type": "code",
   "source": [
    "# 한글 폰트 사용 설정\n",
    "\n",
    "import matplotlib.font_manager as fm\n",
    "\n",
    "\n",
    "font_Path = 'C:\\\\Windows\\\\Fonts\\\\gulim.ttc'\n",
    "font= fm.FontProperties(fname =font_Path).get_name()\n",
    "plt.rc('font', family = font)"
   ],
   "id": "90d7e7d412f498a9",
   "outputs": [],
   "execution_count": 15
  },
  {
   "metadata": {},
   "cell_type": "markdown",
   "source": [
    "## 생선 이진분류 - 도미냐? 방어냐?\n",
    "이진 분류는 항상 1,0으로 구분한다.\n",
    "- 도미냐(1)? 도미가 아니냐(0)?\n"
   ],
   "id": "26b0c65264f35533"
  },
  {
   "metadata": {
    "ExecuteTime": {
     "end_time": "2024-12-06T03:46:57.004006Z",
     "start_time": "2024-12-06T03:46:56.991496Z"
    }
   },
   "cell_type": "code",
   "source": [
    "# 도미\n",
    "bream_length = [25.4, 26.3, 26.5, 29.0, 29.0, 29.7, 29.7, 30.0, 30.0, 30.7, 31.0, 31.0, 31.5, 32.0, 32.0, 32.0, 33.0, 33.0, 33.5, 33.5, 34.0, 34.0, 34.5, 35.0, 35.0, 35.0, 35.0, 36.0, 36.0, 37.0, 38.5, 38.5, 39.5, 41.0, 41.0]\n",
    "bream_weight = [242.0, 290.0, 340.0, 363.0, 430.0, 450.0, 500.0, 390.0, 450.0, 500.0, 475.0, 500.0, 500.0, 340.0, 600.0, 600.0, 700.0, 700.0, 610.0, 650.0, 575.0, 685.0, 620.0, 680.0, 700.0, 725.0, 720.0, 714.0, 850.0, 1000.0, 920.0, 955.0, 925.0, 975.0, 950.0]\n",
    "\n",
    "print(len(bream_length), len( bream_weight))"
   ],
   "id": "45edb13b6151ad38",
   "outputs": [
    {
     "name": "stdout",
     "output_type": "stream",
     "text": [
      "35 35\n"
     ]
    }
   ],
   "execution_count": 5
  },
  {
   "metadata": {
    "ExecuteTime": {
     "end_time": "2024-12-06T05:11:20.479718Z",
     "start_time": "2024-12-06T05:11:20.471174Z"
    }
   },
   "cell_type": "code",
   "source": [
    "# 빙어\n",
    "smelt_length = [9.8, 10.5, 10.6, 11.0, 11.2, 11.3, 11.8, 11.8, 12.0, 12.2, 12.4, 13.0, 14.3, 15.0]\n",
    "smelt_weight = [6.7, 7.5, 7.0, 9.7, 9.8, 8.7, 10.0, 9.9, 9.8, 12.2, 13.4, 12.2, 19.7, 19.9]\n",
    "\n",
    "print(len(smelt_length), len( smelt_weight))"
   ],
   "id": "f51c9feebaba65e3",
   "outputs": [
    {
     "name": "stdout",
     "output_type": "stream",
     "text": [
      "14 14\n"
     ]
    }
   ],
   "execution_count": 16
  },
  {
   "metadata": {
    "ExecuteTime": {
     "end_time": "2024-12-06T05:11:22.622866Z",
     "start_time": "2024-12-06T05:11:22.393064Z"
    }
   },
   "cell_type": "code",
   "source": [
    "# 데이터 분포 확인 (산점도)\n",
    "plt.scatter(x=bream_length,y=bream_weight, label='도미')\n",
    "plt.scatter(x=smelt_length,y=smelt_weight, label='빙어')\n",
    "\n",
    "plt.xlabel('length')\n",
    "plt.ylabel('weight', rotation=0)\n",
    "plt.legend()\n",
    "plt.show()\n"
   ],
   "id": "b5a79a69693f14db",
   "outputs": [
    {
     "data": {
      "text/plain": [
       "<Figure size 640x480 with 1 Axes>"
      ],
      "image/png": "[encoded data removed]"
     },
     "metadata": {},
     "output_type": "display_data"
    }
   ],
   "execution_count": 17
  },
  {
   "metadata": {},
   "cell_type": "markdown",
   "source": [
    "### 데이터 전처리\n",
    "모델이 원하는 형태로 가공\n",
    "- 입력 : [길이, 무게]로 짝지어진 2차원 배열\n",
    "- 정답 : 1, 0으로 구성된 1차원 배열"
   ],
   "id": "85f33b1a1c04e06d"
  },
  {
   "metadata": {
    "ExecuteTime": {
     "end_time": "2024-12-06T05:31:41.769112Z",
     "start_time": "2024-12-06T05:31:41.757125Z"
    }
   },
   "cell_type": "code",
   "source": [
    "fish_length = bream_length + smelt_length # lst의 더하기는 서로 연결됨\n",
    "fish_weight = bream_weight + smelt_weight\n",
    "len(fish_length), len(fish_weight)\n",
    "\n",
    "# 훈련 입력 데이터\n",
    "train_input = []\n",
    "for l, w in zip(fish_length, fish_weight):\n",
    "    train_input.append([l, w])\n",
    "# train_input\n",
    "\n",
    "# 훈련 정답 데이터\n",
    "train_label = [1]*len(bream_length) + [0]* len(smelt_length) # 도미는 1, 빙어는 0\n",
    "train_label"
   ],
   "id": "dac6e6fd598d259f",
   "outputs": [
    {
     "data": {
      "text/plain": [
       "[1,\n",
       " 1,\n",
       " 1,\n",
       " 1,\n",
       " 1,\n",
       " 1,\n",
       " 1,\n",
       " 1,\n",
       " 1,\n",
       " 1,\n",
       " 1,\n",
       " 1,\n",
       " 1,\n",
       " 1,\n",
       " 1,\n",
       " 1,\n",
       " 1,\n",
       " 1,\n",
       " 1,\n",
       " 1,\n",
       " 1,\n",
       " 1,\n",
       " 1,\n",
       " 1,\n",
       " 1,\n",
       " 1,\n",
       " 1,\n",
       " 1,\n",
       " 1,\n",
       " 1,\n",
       " 1,\n",
       " 1,\n",
       " 1,\n",
       " 1,\n",
       " 1,\n",
       " 0,\n",
       " 0,\n",
       " 0,\n",
       " 0,\n",
       " 0,\n",
       " 0,\n",
       " 0,\n",
       " 0,\n",
       " 0,\n",
       " 0,\n",
       " 0,\n",
       " 0,\n",
       " 0,\n",
       " 0]"
      ]
     },
     "execution_count": 23,
     "metadata": {},
     "output_type": "execute_result"
    }
   ],
   "execution_count": 23
  },
  {
   "metadata": {},
   "cell_type": "markdown",
   "source": "### K-최근접 이웃 분류모델",
   "id": "75a4dcdd56385fb"
  },
  {
   "metadata": {
    "ExecuteTime": {
     "end_time": "2024-12-06T05:23:42.357566Z",
     "start_time": "2024-12-06T05:23:41.988675Z"
    }
   },
   "cell_type": "code",
   "source": "from sklearn.neighbors import KNeighborsClassifier",
   "id": "afaaf168f1036ba",
   "outputs": [],
   "execution_count": 19
  },
  {
   "metadata": {
    "ExecuteTime": {
     "end_time": "2024-12-06T05:35:18.664041Z",
     "start_time": "2024-12-06T05:35:18.630620Z"
    }
   },
   "cell_type": "code",
   "source": [
    "KN = KNeighborsClassifier()\n",
    "\n",
    "# fit(훈련) - score(평가) - predict(예측)\n",
    "# 최근접 이웃 모델의 훈련은 별도의 연산없이 모델이 데이터를 로드하면 끝이다.\n",
    "KN.fit(train_input, train_label) # 입력 데이터, 정답 데이터\n",
    "\n",
    "KN.score(train_input, train_label) # 실행 시 1이 나오는데 이는 정답률이 100이라는 뜻이다."
   ],
   "id": "9dc2f3babb7eb67b",
   "outputs": [
    {
     "data": {
      "text/plain": [
       "1.0"
      ]
     },
     "execution_count": 24,
     "metadata": {},
     "output_type": "execute_result"
    }
   ],
   "execution_count": 24
  },
  {
   "metadata": {
    "ExecuteTime": {
     "end_time": "2024-12-06T05:50:06.800532Z",
     "start_time": "2024-12-06T05:50:06.790053Z"
    }
   },
   "cell_type": "code",
   "source": [
    "# 예측\n",
    "KN.predict([[30, 500], [10,5], [20,120]]) # - 도미, 빙어, 배치-batch 차원으로 데이터 감싸서 전달"
   ],
   "id": "18ba7dc461b24fab",
   "outputs": [
    {
     "data": {
      "text/plain": [
       "array([1, 0, 0])"
      ]
     },
     "execution_count": 47,
     "metadata": {},
     "output_type": "execute_result"
    }
   ],
   "execution_count": 47
  },
  {
   "metadata": {
    "ExecuteTime": {
     "end_time": "2024-12-06T05:46:11.877815Z",
     "start_time": "2024-12-06T05:46:11.872638Z"
    }
   },
   "cell_type": "code",
   "source": [
    "# 최근접 이웃모델의 작동원리\n",
    "# - 주어진 데이터와 가장 가까운 k개의 이웃을 찾고, 이웃 데이터를 이용해 예측\n",
    "# - distance는 모델 데이터포인트와 거리 (유클리드 거리 측정방식)\n",
    "# - index 모델 데이터포인트의 인덱스\n",
    "\n",
    "distances, index = KN.kneighbors([[10,5]])\n",
    "distances, index\n",
    "\n",
    "# fancy indexing을 사용하기 위해 ndarray로 변환\n",
    "np.array(train_input)[index]\n",
    "# np.array(train_label)[index]"
   ],
   "id": "a055e1b1d23e20d2",
   "outputs": [
    {
     "data": {
      "text/plain": [
       "array([[[ 9.8,  6.7],\n",
       "        [10.6,  7. ],\n",
       "        [10.5,  7.5],\n",
       "        [11.3,  8.7],\n",
       "        [11. ,  9.7]]])"
      ]
     },
     "execution_count": 39,
     "metadata": {},
     "output_type": "execute_result"
    }
   ],
   "execution_count": 39
  },
  {
   "metadata": {
    "ExecuteTime": {
     "end_time": "2024-12-06T06:08:32.552282Z",
     "start_time": "2024-12-06T06:08:32.449570Z"
    }
   },
   "cell_type": "code",
   "source": [
    "# 데이터 분포 확인\n",
    "distances, index = KN.kneighbors([[20,150]])\n",
    "train_input = np.array(train_input)\n",
    "\n",
    "plt.scatter(x=bream_length,y=bream_weight, label='도미')\n",
    "plt.scatter(x=smelt_length,y=smelt_weight, label='빙어')\n",
    "plt.scatter(20,150, label='예측', marker='^')\n",
    "plt.scatter(train_input[index, 0], train_input[index, 1], label = '최근접 이웃', marker='x')\n",
    "\n",
    "plt.xlabel('length')\n",
    "plt.ylabel('weight', rotation=0)\n",
    "plt.legend()\n",
    "plt.show()"
   ],
   "id": "394069d091d48a6d",
   "outputs": [
    {
     "data": {
      "text/plain": [
       "<Figure size 640x480 with 1 Axes>"
      ],
      "image/png": "[encoded data removed]"
     },
     "metadata": {},
     "output_type": "display_data"
    }
   ],
   "execution_count": 52
  },
  {
   "metadata": {
    "ExecuteTime": {
     "end_time": "2024-12-06T06:11:53.945384Z",
     "start_time": "2024-12-06T06:11:53.755997Z"
    }
   },
   "cell_type": "code",
   "source": [
    "# K개수를 변경 - 홀수개\n",
    "KN49 = KNeighborsClassifier(n_neighbors=49)\n",
    "\n",
    "# 훈련\n",
    "KN49.fit(train_input, train_label)\n",
    "\n",
    "# 평가\n",
    "KN49.score(train_input, train_label) # 결과 값은 전체에서 도미가 차지하는 비율 35/49 도미는 true가 나오고, 빙어는 반드시 False가 나옴\n",
    "# 도미는 이미 과반수이기 때문에. 즉, 최소 모집단 이하의 숫자를 K로 지정해야 한다는 결론이 생긴다. 최대한 절반 이하\n"
   ],
   "id": "36b38eeb8ed620a0",
   "outputs": [
    {
     "data": {
      "text/plain": [
       "0.7142857142857143"
      ]
     },
     "execution_count": 53,
     "metadata": {},
     "output_type": "execute_result"
    }
   ],
   "execution_count": 53
  },
  {
   "metadata": {},
   "cell_type": "markdown",
   "source": [
    "### 훈련 데이터와 테스트 데이터를 분리\n",
    "- 훈련 데이터 : 모의고사\n",
    "- 테스트 데이터 : 수능\n",
    "\n"
   ],
   "id": "c3fdfd6805e4148"
  },
  {
   "metadata": {
    "ExecuteTime": {
     "end_time": "2024-12-06T06:33:17.920950Z",
     "start_time": "2024-12-06T06:33:17.918265Z"
    }
   },
   "cell_type": "code",
   "source": [
    "# 훈련 입력 데이터\n",
    "fish_input= []\n",
    "for l, w in zip(fish_length, fish_weight):\n",
    "    fish_input.append([l, w])\n",
    "\n",
    "# 훈련 정답 데이터\n",
    "fish_label = [1]*len(bream_length) + [0]* len(smelt_length)"
   ],
   "id": "66835e2e85b03032",
   "outputs": [],
   "execution_count": 55
  },
  {
   "metadata": {
    "ExecuteTime": {
     "end_time": "2024-12-06T06:33:19.359873Z",
     "start_time": "2024-12-06T06:33:19.352382Z"
    }
   },
   "cell_type": "code",
   "source": [
    "# sampling 편향\n",
    "# - 데이터가 한쪽으로 치우친 현상을 가리킨다. 훈련 데이터와 테스트 데이터는 구분되어야 한다.\n",
    "# - 도미데이터를 훈련하고, 빙어로 테스트한다.\n",
    "\n",
    "train_input = fish_input[:35]\n",
    "train_label = fish_label[:35] # 모두 1\n",
    "\n",
    "test_input = fish_input[35:]\n",
    "test_label = fish_label[35:] # 모두 0\n",
    "\n",
    "# 훈련\n",
    "KN = KNeighborsClassifier(n_neighbors = 5)\n",
    "KN.fit(train_input, train_label)\n",
    "KN.score(test_input, test_label)\n",
    "\n",
    "\n",
    "\n",
    "\n",
    "# 평가"
   ],
   "id": "6207f77ba19e247c",
   "outputs": [
    {
     "data": {
      "text/plain": [
       "0.0"
      ]
     },
     "execution_count": 56,
     "metadata": {},
     "output_type": "execute_result"
    }
   ],
   "execution_count": 56
  },
  {
   "metadata": {
    "ExecuteTime": {
     "end_time": "2024-12-06T06:50:11.978845Z",
     "start_time": "2024-12-06T06:50:11.973055Z"
    }
   },
   "cell_type": "code",
   "source": [
    "# 훈련/테스트 데이터 나누기 함수\n",
    "\n",
    "from sklearn.model_selection import train_test_split\n",
    "train_input, test_input, train_label, test_label = train_test_split(fish_input, fish_label, test_size=0.3, stratify=fish_label, random_state=42) # test_size 기본값은 0.25로 test 부분을 뒤쪽 25%로 잡는 것, # stratify는 똑같이 비율을 맞춰서(???), # random_state는 같은 기준을 가지는 기준 지정-\n",
    "\n",
    "train_input, test_input, train_label, test_label\n",
    "\n",
    "sum(train_label), sum(test_label)\n"
   ],
   "id": "a9217bef595cb1e1",
   "outputs": [
    {
     "data": {
      "text/plain": [
       "(24, 11)"
      ]
     },
     "execution_count": 64,
     "metadata": {},
     "output_type": "execute_result"
    }
   ],
   "execution_count": 64
  },
  {
   "metadata": {
    "ExecuteTime": {
     "end_time": "2024-12-06T07:11:19.048342Z",
     "start_time": "2024-12-06T07:11:18.704890Z"
    }
   },
   "cell_type": "code",
   "source": [
    "train_input = np.array(train_input)\n",
    "test_input = np.array(test_input)\n",
    "\n",
    "plt.scatter(train_input[:, 0], train_input[:, 1], label = '훈련')\n",
    "plt.scatter(test_input[:, 0], test_input[:, 1], label = '테스트')\n",
    "\n",
    "plt.xlabel('length')\n",
    "plt.ylabel('weight', rotation=0)\n",
    "plt.legend()\n",
    "plt.show()"
   ],
   "id": "486023f7d48bea73",
   "outputs": [
    {
     "data": {
      "text/plain": [
       "<Figure size 640x480 with 1 Axes>"
      ],
      "image/png": "[encoded data removed]"
     },
     "metadata": {},
     "output_type": "display_data"
    }
   ],
   "execution_count": 65
  },
  {
   "metadata": {
    "ExecuteTime": {
     "end_time": "2024-12-06T07:13:57.849899Z",
     "start_time": "2024-12-06T07:13:57.839619Z"
    }
   },
   "cell_type": "code",
   "source": [
    "# 훈련\n",
    "KN.fit(train_input, train_label)\n",
    "\n",
    "\n",
    "# 평가\n",
    "KN.score(test_input, test_label)\n"
   ],
   "id": "4675bcb38d873a62",
   "outputs": [
    {
     "data": {
      "text/plain": [
       "1.0"
      ]
     },
     "execution_count": 70,
     "metadata": {},
     "output_type": "execute_result"
    }
   ],
   "execution_count": 70
  },
  {
   "metadata": {
    "ExecuteTime": {
     "end_time": "2024-12-06T07:16:07.087451Z",
     "start_time": "2024-12-06T07:16:07.070066Z"
    }
   },
   "cell_type": "code",
   "source": [
    "# 도미, 빙어 예측\n",
    "KN = KNeighborsClassifier()\n",
    "\n",
    "KN.fit(train_input, train_label)\n",
    "KN.score(test_input, test_label)\n",
    "\n",
    "x = [25,100] # 특정 개체 데이터\n",
    "KN.predict([x])"
   ],
   "id": "bf56c79c03962af6",
   "outputs": [
    {
     "data": {
      "text/plain": [
       "array([0])"
      ]
     },
     "execution_count": 71,
     "metadata": {},
     "output_type": "execute_result"
    }
   ],
   "execution_count": 71
  },
  {
   "metadata": {
    "ExecuteTime": {
     "end_time": "2024-12-06T07:20:29.674826Z",
     "start_time": "2024-12-06T07:20:29.402420Z"
    }
   },
   "cell_type": "code",
   "source": [
    "plt.scatter(train_input[:, 0], train_input[:, 1], label = '훈련')\n",
    "plt.scatter(x[0], x[1], label = 'x', marker='D')\n",
    "\n",
    "plt.xlabel('length')\n",
    "plt.ylabel('weight', rotation=0)\n",
    "# plt.xlim(0,1000) 축들의 스케일이 달라서 보정 필요하다면.\n",
    "plt.legend()\n",
    "plt.show()"
   ],
   "id": "36408074bc864f20",
   "outputs": [
    {
     "data": {
      "text/plain": [
       "<Figure size 640x480 with 1 Axes>"
      ],
      "image/png": "[encoded data removed]"
     },
     "metadata": {},
     "output_type": "display_data"
    }
   ],
   "execution_count": 74
  },
  {
   "metadata": {
    "ExecuteTime": {
     "end_time": "2024-12-06T07:22:00.989224Z",
     "start_time": "2024-12-06T07:22:00.976323Z"
    }
   },
   "cell_type": "code",
   "source": [
    "distances, index = KN.kneighbors([x])\n",
    "np.array(train_label)[index]"
   ],
   "id": "29a7c0386d45c8ef",
   "outputs": [
    {
     "data": {
      "text/plain": [
       "array([[0, 0, 0, 0, 0]])"
      ]
     },
     "execution_count": 75,
     "metadata": {},
     "output_type": "execute_result"
    }
   ],
   "execution_count": 75
  },
  {
   "metadata": {},
   "cell_type": "markdown",
   "source": [
    "### 표준점수\n",
    "Z-score 평균에서 얼마나 떨어져 있는지를 표준편차단위로 계산한 값\n",
    "(La-Tex)\n",
    "$$\n",
    "    표준점수 = \\frac{데이터포인트 - 평균}{표준편차}\n",
    "$$\n"
   ],
   "id": "4aaddc9eaf8004f1"
  },
  {
   "metadata": {
    "ExecuteTime": {
     "end_time": "2024-12-06T07:28:34.987241Z",
     "start_time": "2024-12-06T07:28:34.967740Z"
    }
   },
   "cell_type": "code",
   "source": [
    "mean = np.mean(train_input, axis=0)\n",
    "\n",
    "std = np.std(train_input, axis=0)\n",
    "mean, std"
   ],
   "id": "47a58f311a9c05a8",
   "outputs": [
    {
     "data": {
      "text/plain": [
       "(array([ 27.02352941, 445.60294118]), array([ 10.0816099 , 319.21122132]))"
      ]
     },
     "execution_count": 78,
     "metadata": {},
     "output_type": "execute_result"
    }
   ],
   "execution_count": 78
  },
  {
   "metadata": {
    "ExecuteTime": {
     "end_time": "2024-12-06T08:05:22.972566Z",
     "start_time": "2024-12-06T08:05:22.964839Z"
    }
   },
   "cell_type": "code",
   "source": [
    "train_scaled = (train_input - mean) / std\n",
    "train_scaled"
   ],
   "id": "668631738b49b19e",
   "outputs": [
    {
     "data": {
      "text/plain": [
       "array([[-1.4703534 , -1.35773091],\n",
       "       [ 0.49361864,  0.48368306],\n",
       "       [ 0.74159491,  0.54633749],\n",
       "       [ 0.36467098,  0.17041086],\n",
       "       [ 0.49361864,  0.48368306],\n",
       "       [ 0.79119016,  0.85960969],\n",
       "       [-1.55962486, -1.36869543],\n",
       "       [ 0.89038067,  0.84081336],\n",
       "       [ 0.19604712, -0.04887968],\n",
       "       [-1.56954391, -1.36524944],\n",
       "       [ 0.26548048,  0.17041086],\n",
       "       [-1.4901915 , -1.36524944],\n",
       "       [ 0.39442813,  0.09209281],\n",
       "       [ 0.98957118,  1.73677184],\n",
       "       [ 0.19604712, -0.25877205],\n",
       "       [ 0.59280915,  0.79695525],\n",
       "       [-1.26205334, -1.33423549],\n",
       "       [ 0.44402339,  0.17041086],\n",
       "       [ 1.23754745,  1.50181769],\n",
       "       [-1.70841062, -1.37496088],\n",
       "       [ 0.89038067,  1.26686354],\n",
       "       [-1.63897726, -1.3724547 ],\n",
       "       [ 0.6424044 ,  0.51501027],\n",
       "       [-1.62905821, -1.37402106],\n",
       "       [ 0.79119016,  0.79695525],\n",
       "       [ 0.79119016,  0.8752733 ],\n",
       "       [-1.391001  , -1.35773091],\n",
       "       [ 0.29523763,  0.01377476],\n",
       "       [ 0.59280915,  0.79695525],\n",
       "       [-1.19261998, -1.33360895],\n",
       "       [ 0.49361864, -0.33082465],\n",
       "       [ 0.6424044 ,  0.64031915],\n",
       "       [ 0.29523763, -0.17418855],\n",
       "       [ 1.38633321,  1.65845379]])"
      ]
     },
     "execution_count": 92,
     "metadata": {},
     "output_type": "execute_result"
    }
   ],
   "execution_count": 92
  },
  {
   "metadata": {
    "ExecuteTime": {
     "end_time": "2024-12-06T07:31:58.394567Z",
     "start_time": "2024-12-06T07:31:58.381084Z"
    }
   },
   "cell_type": "code",
   "source": [
    "# 훈련 데이터, 테스트 데이터, 예측 데이터 모두 동일한 방법으로 정규화를 해야 한다.\n",
    "x_scaled = ([25,100]-mean)/std\n",
    "x_scaled"
   ],
   "id": "71ea2310fa34e68",
   "outputs": [
    {
     "data": {
      "text/plain": [
       "array([-0.20071491, -1.08267792])"
      ]
     },
     "execution_count": 79,
     "metadata": {},
     "output_type": "execute_result"
    }
   ],
   "execution_count": 79
  },
  {
   "metadata": {
    "ExecuteTime": {
     "end_time": "2024-12-06T08:05:14.546500Z",
     "start_time": "2024-12-06T08:05:14.536515Z"
    }
   },
   "cell_type": "code",
   "source": [
    "test_scaled = (test_input - mean) / std\n",
    "test_scaled"
   ],
   "id": "ec8d1baf0c6074db",
   "outputs": [
    {
     "data": {
      "text/plain": [
       "array([[-1.58938201, -1.36556271],\n",
       "       [-1.51002961, -1.36493617],\n",
       "       [ 1.13835694,  1.59579935],\n",
       "       [ 0.79119016,  0.73430081],\n",
       "       [ 0.69199966,  0.40536501],\n",
       "       [-1.4505153 , -1.35397164],\n",
       "       [-0.07176725, -0.48746075],\n",
       "       [ 1.38633321,  1.58013574],\n",
       "       [-0.16103871, -0.6378314 ],\n",
       "       [ 0.69199966,  0.74996442],\n",
       "       [ 0.39442813,  0.17041086],\n",
       "       [ 1.13835694,  1.48615408],\n",
       "       [ 0.26548048,  0.01377476],\n",
       "       [-1.51002961, -1.3646229 ],\n",
       "       [-0.05192915, -0.33082465]])"
      ]
     },
     "execution_count": 90,
     "metadata": {},
     "output_type": "execute_result"
    }
   ],
   "execution_count": 90
  },
  {
   "metadata": {
    "ExecuteTime": {
     "end_time": "2024-12-06T08:05:26.810901Z",
     "start_time": "2024-12-06T08:05:26.624628Z"
    }
   },
   "cell_type": "code",
   "source": [
    "# 훈련\n",
    "plt.scatter(train_scaled[:, 0], train_scaled[:, 1], label = '훈련')\n",
    "plt.scatter(x_scaled[0], x_scaled[1], label = 'x', marker='o')\n",
    "plt.scatter(train_scaled[index, 0], train_scaled[index, 1], label = '최근접 이웃', marker='x')\n",
    "\n",
    "plt.xlabel('length')\n",
    "plt.ylabel('weight', rotation=0)\n",
    "plt.legend()\n",
    "plt.show()"
   ],
   "id": "caf65c39281dc14a",
   "outputs": [
    {
     "data": {
      "text/plain": [
       "<Figure size 640x480 with 1 Axes>"
      ],
      "image/png": "[encoded data removed]"
     },
     "metadata": {},
     "output_type": "display_data"
    }
   ],
   "execution_count": 93
  },
  {
   "metadata": {
    "ExecuteTime": {
     "end_time": "2024-12-06T08:09:23.800930Z",
     "start_time": "2024-12-06T08:09:23.791636Z"
    }
   },
   "cell_type": "code",
   "source": [
    "# standardScaler를 이용한 정규화\n",
    "\n",
    "from sklearn.preprocessing import StandardScaler\n",
    "\n",
    "std_scaler = StandardScaler()\n",
    "train_scaled = std_scaler.fit_transform(train_input) # 정규값 넣기\n",
    "\n",
    "train_scaled"
   ],
   "id": "6329e74725372557",
   "outputs": [
    {
     "data": {
      "text/plain": [
       "array([[-1.4703534 , -1.35773091],\n",
       "       [ 0.49361864,  0.48368306],\n",
       "       [ 0.74159491,  0.54633749],\n",
       "       [ 0.36467098,  0.17041086],\n",
       "       [ 0.49361864,  0.48368306],\n",
       "       [ 0.79119016,  0.85960969],\n",
       "       [-1.55962486, -1.36869543],\n",
       "       [ 0.89038067,  0.84081336],\n",
       "       [ 0.19604712, -0.04887968],\n",
       "       [-1.56954391, -1.36524944],\n",
       "       [ 0.26548048,  0.17041086],\n",
       "       [-1.4901915 , -1.36524944],\n",
       "       [ 0.39442813,  0.09209281],\n",
       "       [ 0.98957118,  1.73677184],\n",
       "       [ 0.19604712, -0.25877205],\n",
       "       [ 0.59280915,  0.79695525],\n",
       "       [-1.26205334, -1.33423549],\n",
       "       [ 0.44402339,  0.17041086],\n",
       "       [ 1.23754745,  1.50181769],\n",
       "       [-1.70841062, -1.37496088],\n",
       "       [ 0.89038067,  1.26686354],\n",
       "       [-1.63897726, -1.3724547 ],\n",
       "       [ 0.6424044 ,  0.51501027],\n",
       "       [-1.62905821, -1.37402106],\n",
       "       [ 0.79119016,  0.79695525],\n",
       "       [ 0.79119016,  0.8752733 ],\n",
       "       [-1.391001  , -1.35773091],\n",
       "       [ 0.29523763,  0.01377476],\n",
       "       [ 0.59280915,  0.79695525],\n",
       "       [-1.19261998, -1.33360895],\n",
       "       [ 0.49361864, -0.33082465],\n",
       "       [ 0.6424044 ,  0.64031915],\n",
       "       [ 0.29523763, -0.17418855],\n",
       "       [ 1.38633321,  1.65845379]])"
      ]
     },
     "execution_count": 94,
     "metadata": {},
     "output_type": "execute_result"
    }
   ],
   "execution_count": 94
  },
  {
   "metadata": {
    "ExecuteTime": {
     "end_time": "2024-12-06T08:24:00.458325Z",
     "start_time": "2024-12-06T08:24:00.423917Z"
    }
   },
   "cell_type": "code",
   "source": [
    "# 이진분류 사용법 정리하기\n",
    "from sklearn.model_selection import train_test_split\n",
    "from sklearn.preprocessing import StandardScaler, MinMaxScaler\n",
    "from sklearn.metrics import accuracy_score\n",
    "\n",
    "bream_length = [25.4, 26.3, 26.5, 29.0, 29.0, 29.7, 29.7, 30.0, 30.0, 30.7, 31.0, 31.0, 31.5, 32.0, 32.0, 32.0, 33.0,\n",
    "                33.0, 33.5, 33.5, 34.0, 34.0, 34.5, 35.0, 35.0, 35.0, 35.0, 36.0, 36.0, 37.0, 38.5, 38.5, 39.5, 41.0,\n",
    "                41.0]\n",
    "bream_weight = [242.0, 290.0, 340.0, 363.0, 430.0, 450.0, 500.0, 390.0, 450.0, 500.0, 475.0, 500.0, 500.0, 340.0, 600.0,\n",
    "                600.0, 700.0, 700.0, 610.0, 650.0, 575.0, 685.0, 620.0, 680.0, 700.0, 725.0, 720.0, 714.0, 850.0,\n",
    "                1000.0, 920.0, 955.0, 925.0, 975.0, 950.0]\n",
    "smelt_length = [9.8, 10.5, 10.6, 11.0, 11.2, 11.3, 11.8, 11.8, 12.0, 12.2, 12.4, 13.0, 14.3, 15.0]\n",
    "smelt_weight = [6.7, 7.5, 7.0, 9.7, 9.8, 8.7, 10.0, 9.9, 9.8, 12.2, 13.4, 12.2, 19.7, 19.9]\n",
    "\n",
    "length = bream_length + smelt_length\n",
    "weight = bream_weight + smelt_weight\n",
    "\n",
    "fish_data = np.array([[l, w]for l, w in zip(length, weight)])\n",
    "fish_target = np.array([1] * 35 + [0] * 14)\n",
    "\n",
    "# train/test 데이터 분리\n",
    "\n",
    "train_input, test_input, train_target, test_target = train_test_split(fish_data, fish_target, test_size=0.3, stratify=fish_target, random_state=42)\n",
    "\n",
    "# 데이터 정규화\n",
    "# scaler = StandardScaler()\n",
    "scaler = MinMaxScaler()\n",
    "scaler.fit(train_input)\n",
    "train_scaled = scaler.transform(train_input)\n",
    "test_scaled = scaler.transform(test_input)\n",
    "\n",
    "# 모델 생성 및 훈련\n",
    "KN = KNeighborsClassifier()\n",
    "KN.fit(train_scaled, train_target)\n",
    "\n",
    "# 평가\n",
    "KN.score(train_scaled, train_target)\n",
    "\n",
    "# 예측\n",
    "pred = KN.predict(test_scaled[:5])\n",
    "\n",
    "# 실제값, 예측값 순으로 전달\n",
    "accuracy_score(test_target[:5], pred)\n"
   ],
   "id": "6d283d465bd77e19",
   "outputs": [
    {
     "data": {
      "text/plain": [
       "1.0"
      ]
     },
     "execution_count": 99,
     "metadata": {},
     "output_type": "execute_result"
    }
   ],
   "execution_count": 99
  }
 ],
 "metadata": {
  "kernelspec": {
   "display_name": "Python 3",
   "language": "python",
   "name": "python3"
  },
  "language_info": {
   "codemirror_mode": {
    "name": "ipython",
    "version": 2
   },
   "file_extension": ".py",
   "mimetype": "text/x-python",
   "name": "python",
   "nbconvert_exporter": "python",
   "pygments_lexer": "ipython2",
   "version": "2.7.6"
  }
 },
 "nbformat": 4,
 "nbformat_minor": 5
}
