{
 "cells": [
  {
   "metadata": {},
   "cell_type": "markdown",
   "source": "# 평가 Evaluation",
   "id": "7691a5ce2a90f528"
  },
  {
   "metadata": {},
   "cell_type": "markdown",
   "source": [
    "<table border=\"1\" cellpadding=\"5\" cellspacing=\"0\">\n",
    "  <thead>\n",
    "    <tr>\n",
    "      <th>이름</th>\n",
    "      <th>설명</th>\n",
    "      <th>관련 수식</th>\n",
    "    </tr>\n",
    "  </thead>\n",
    "  <tbody>\n",
    "    <tr>\n",
    "      <td>Accuracy (정확도)</td>\n",
    "      <td>전체 샘플 중에서 올바르게 예측된 샘플의 비율을 나타낸다. 하지만 데이터가 불균형할 경우 유용하지 않을 수 있다.</td>\n",
    "      <td>$$\n",
    "      \\text{Accuracy} = \\frac{TP + TN}{TP + TN + FP + FN}\n",
    "      $$</td>\n",
    "    </tr>\n",
    "    <tr>\n",
    "      <td>Precision (정밀도)</td>\n",
    "      <td>모델이 Positive로 예측한 샘플 중 실제로 Positive인 샘플의 비율을 나타낸다. FP를 줄이는 데 중점을 둔다.</td>\n",
    "      <td>$Precision = \\frac{TP}{TP + FP}$</td>\n",
    "    </tr>\n",
    "    <tr>\n",
    "      <td>Recall (재현율 또는 민감도)</td>\n",
    "      <td>실제 Positive 샘플 중 모델이 Positive로 정확히 예측한 샘플의 비율을 나타낸다. FN을 줄이는 데 중점을 둔다.</td>\n",
    "      <td>$Recall = \\frac{TP}{TP + FN}$</td>\n",
    "    </tr>\n",
    "    <tr>\n",
    "      <td>F1-Score (F1 점수)</td>\n",
    "      <td>Precision과 Recall의 조화 평균을 나타내며, 불균형 데이터에서도 유용하다.</td>\n",
    "      <td>$F1 = 2 \\cdot \\frac{Precision \\cdot Recall}{Precision + Recall}$</td>\n",
    "    </tr>\n",
    "    <tr>\n",
    "      <td>특이도 (Specificity)</td>\n",
    "      <td>실제 부정인 것 중에서 모델이 부정으로 정확하게 예측한 비율</td>\n",
    "      <td>$Specificity=\\frac{TN}{TN + FP}$</td>\n",
    "    </tr>\n",
    "    <tr>\n",
    "      <td>ROC Curve (수신자 조작 특성 곡선)</td>\n",
    "      <td>모델의 분류 기준을 변경했을 때, True Positive Rate (Recall)와 False Positive Rate 간의 관계를 시각화한 그래프이다.</td>\n",
    "      <td>$FPR = \\frac{FP}{FP + TN},\\ TPR = \\frac{TP}{TP + FN}$</td>\n",
    "    </tr>\n",
    "    <tr>\n",
    "      <td>AUC (Area Under Curve)</td>\n",
    "      <td>ROC Curve 아래 면적을 나타내며, 1에 가까울수록 좋은 성능을 의미한다.</td>\n",
    "      <td>AUC는 ROC Curve 아래의 면적을 의미</td>\n",
    "    </tr>\n",
    "  </tbody>\n",
    "</table>"
   ],
   "id": "f4e90c9340a36ea1"
  },
  {
   "metadata": {},
   "cell_type": "markdown",
   "source": [
    "### 정확도 Accuracy\n",
    "전체 샘플 중에서 올바르게 예측한 샘플의 비율\n",
    "\n",
    "데이터가 불균형한 경우에 정확도는 비현실적 성능을 낼 수 있다.\n",
    "\n",
    "100개 데이터 중에 실제 90개가 음성인 경우, 따지지 않고 모두 음성이라고 예측해도 정확도는 90%가 나온다."
   ],
   "id": "4dd783509921fe00"
  },
  {
   "metadata": {
    "ExecuteTime": {
     "end_time": "2024-12-10T03:49:17.254307Z",
     "start_time": "2024-12-10T03:49:17.240781Z"
    }
   },
   "cell_type": "code",
   "source": [
    "from telnetlib import TELNET_PORT\n",
    "from xml.dom.expatbuilder import TEXT_NODE\n",
    "\n",
    "import numpy as np\n",
    "import pandas as pd\n",
    "import matplotlib.pyplot as plt\n",
    "import seaborn as sns\n",
    "from sklearn.linear_model import LogisticRegression"
   ],
   "id": "517f7ba3cf651e48",
   "outputs": [],
   "execution_count": 93
  },
  {
   "metadata": {
    "ExecuteTime": {
     "end_time": "2024-12-10T03:49:19.482734Z",
     "start_time": "2024-12-10T03:49:19.469916Z"
    }
   },
   "cell_type": "code",
   "source": [
    "# 성별로만 판별하는 모델 작성\n",
    "\n",
    "from sklearn.base import BaseEstimator # fit, predict, score 사용 가능\n",
    "\n",
    "class MyTitanicClassifier(BaseEstimator):\n",
    "    def fit(self, X, y): # input data - X/ label - y\n",
    "        '''\n",
    "        훈련 메소드\n",
    "        :param X: 독립변수 x의 모음 (입력데이터)\n",
    "        :param y: 종속변수 y (라벨데이터)\n",
    "        :return:\n",
    "        '''\n",
    "        pass\n",
    "\n",
    "    def predict(self, X): # X는 test_input\n",
    "        '''\n",
    "        테스트 데이터 기준으로 결과(라벨)을 예측하는 메소드\n",
    "        :param X: 평가용 독립변수 모음(test_input)\n",
    "        :return:\n",
    "        '''\n",
    "\n",
    "        pred = np.zeros((X.shape[0], 1))\n",
    "\n",
    "        for i in range(X.shape[0]):\n",
    "            sex = X['Sex'].iloc[i]\n",
    "            if sex == 0: #여성인 경우\n",
    "                pred[i] = 1\n",
    "\n",
    "        return pred\n"
   ],
   "id": "dd43e37f892404e9",
   "outputs": [],
   "execution_count": 94
  },
  {
   "metadata": {
    "ExecuteTime": {
     "end_time": "2024-12-10T03:49:21.654901Z",
     "start_time": "2024-12-10T03:49:21.643163Z"
    }
   },
   "cell_type": "code",
   "source": [
    "from sklearn.preprocessing import LabelEncoder, StandardScaler\n",
    "\n",
    "\n",
    "def fillna(df):\n",
    "    '''\n",
    "    - Age\n",
    "    - Cabin\n",
    "    - Embarked\n",
    "    '''\n",
    "    df['Age'] = df['Age'].fillna(df['Age'].mean())\n",
    "    df['Cabin'] = df['Cabin'].fillna('N')\n",
    "    df['Embarked'] = df['Embarked'].fillna('N')\n",
    "    return df\n",
    "\n",
    "def drop_features(df):\n",
    "    '''\n",
    "    모델 훈련과 상관없는 속성 제거\n",
    "\n",
    "    '''\n",
    "    columns = ['PassengerId', 'Name', 'Ticket']\n",
    "    return df.drop(columns, axis=1)\n",
    "\n",
    "def encode_features(df):\n",
    "    '''\n",
    "    범주형 데이터를 숫자로 인코딩\n",
    "    '''\n",
    "    df['Cabin'] = df['Cabin'].str[:1] # 0번 인덱스만 사용하겠다.\n",
    "    categories = ['Sex', 'Cabin', 'Embarked']\n",
    "\n",
    "    for cate in categories:\n",
    "        label_encoder = LabelEncoder()\n",
    "        df[cate] = label_encoder.fit_transform(df[cate])\n",
    "    return df\n",
    "\n",
    "def preprocess_data(df):\n",
    "    df = fillna(df)\n",
    "    df = drop_features(df)\n",
    "    df = encode_features(df)\n",
    "    return df\n"
   ],
   "id": "8e0ac0fc68dcb089",
   "outputs": [],
   "execution_count": 95
  },
  {
   "metadata": {
    "ExecuteTime": {
     "end_time": "2024-12-10T03:49:24.796807Z",
     "start_time": "2024-12-10T03:49:24.765994Z"
    }
   },
   "cell_type": "code",
   "source": [
    "from sklearn.model_selection import train_test_split\n",
    "# from sklearn.preprocessing import StandardScaler\n",
    "# from sklearn.linear_model import LogisticRegression\n",
    "\n",
    "df = pd.read_csv('data/titanic.csv')\n",
    "# 입력/라벨 데이터 분리\n",
    "X = df.drop('Survived', axis=1)\n",
    "y = df['Survived']\n",
    "\n",
    "\n",
    "# 전처리\n",
    "X = preprocess_data(X)\n",
    "X\n",
    "\n",
    "# 훈련/테스트 데이터 분리\n",
    "X_train, X_test, y_train, y_test = train_test_split(X, y, random_state=0)\n",
    "\n",
    "# # 특징 스케일링\n",
    "# scaler = StandardScaler()\n",
    "# X_train_scaled = scaler.fit_transform(X_train)\n",
    "# X_test_scaled = scaler.transform(X_test)\n",
    "#\n",
    "# # 모델 훈련\n",
    "#\n",
    "# lr_classfier = LogisticRegression()\n",
    "# lr_classifier = lr_classfier.fit(X_train_scaled, y_train)\n",
    "#\n",
    "# # 평가\n",
    "# y_train_pred = lr_classifier.predict(X_train_scaled)\n",
    "# y_train_pred"
   ],
   "id": "1e3be10978a94f23",
   "outputs": [],
   "execution_count": 96
  },
  {
   "metadata": {
    "ExecuteTime": {
     "end_time": "2024-12-10T03:49:28.198790Z",
     "start_time": "2024-12-10T03:49:28.172770Z"
    }
   },
   "cell_type": "code",
   "source": [
    "from sklearn.metrics import accuracy_score\n",
    "# 모델 훈련 및 예측\n",
    "\n",
    "my_classifier = MyTitanicClassifier()\n",
    "my_classifier.fit(X_train, y_train) # 스케일링 안하고 진행\n",
    "\n",
    "pred = my_classifier.predict(X_train)\n",
    "\n",
    "score = accuracy_score(y_train, pred)\n",
    "print('훈련데이터 점수 : ', score)\n",
    "\n",
    "\n",
    "pred = my_classifier.predict(X_test)\n",
    "score = accuracy_score(y_test, pred)\n",
    "print('테스트데이터 점수 : ', score)\n"
   ],
   "id": "61e9e7bf44dcc3a9",
   "outputs": [
    {
     "name": "stdout",
     "output_type": "stream",
     "text": [
      "훈련데이터 점수 :  0.7889221556886228\n",
      "테스트데이터 점수 :  0.7802690582959642\n"
     ]
    }
   ],
   "execution_count": 97
  },
  {
   "metadata": {},
   "cell_type": "markdown",
   "source": [
    "### 혼동행렬 Confusion Matrix\n",
    "- True/False 는 정답/오답을 의미\n",
    "- Positive/Negative 는 양성예측/음성예측을 의미한다.\n",
    "---\n",
    "뒤에서부터 보기\n",
    "- TN : 음성을 예측했으나 정답임 (실제 음성)\n",
    "- TP : 양성을 예측, 정답 (실제 양성)\n",
    "- FN : 음성을 예측했고, 오답 (실제 양성)\n",
    "- FP : 양성을 예측, 오답 (실제 음성)\n",
    "\n",
    "![](https://d.pr/i/rtYBJv+) # 끝에 + 표시를 넣어야 완료됨"
   ],
   "id": "f082f61b2f471f16"
  },
  {
   "metadata": {},
   "cell_type": "markdown",
   "source": [
    "### 정밀도 Precision\n",
    "양성이라고 예측한 것 중에 양성인 확률\n",
    "\n",
    "$\n",
    "    정밀도 = \\frac{TP}{TP + FP}\n",
    "$\n",
    "\n",
    "** 정밀도가 중요한 지표**\n",
    "- 음성인 데이터를 양성으로 예측하면 큰일나는 경우\n",
    "- 스팸메일 분류 (스팸이 아닌 업무용 메일을 스팸메일이라고 분류하면 업무상 혼란이 야기됨.)"
   ],
   "id": "291b1707c511fe67"
  },
  {
   "metadata": {},
   "cell_type": "markdown",
   "source": [
    "### 재현율 Recall\n",
    "실제 양성 중에 양성으로 예측한 확률\n",
    "\n",
    "$\n",
    "    정밀도 = \\frac{TP}{TP + FN}\n",
    "$\n",
    "\n",
    "** 재현율이 중요한 지표**\n",
    "- 양성인 데이터를 음성으로 예측하는 경우\n",
    "- 암진단\n",
    "- 보험/금융사기"
   ],
   "id": "2f3b229672dc225a"
  },
  {
   "metadata": {
    "ExecuteTime": {
     "end_time": "2024-12-10T03:49:34.726214Z",
     "start_time": "2024-12-10T03:49:34.702674Z"
    }
   },
   "cell_type": "code",
   "source": [
    "from sklearn.metrics import confusion_matrix, precision_score, recall_score\n",
    "\n",
    "matrix = confusion_matrix(y_test, pred)\n",
    "matrix"
   ],
   "id": "ec5710b0c74b4716",
   "outputs": [
    {
     "data": {
      "text/plain": [
       "array([[115,  24],\n",
       "       [ 25,  59]])"
      ]
     },
     "execution_count": 98,
     "metadata": {},
     "output_type": "execute_result"
    }
   ],
   "execution_count": 98
  },
  {
   "metadata": {
    "ExecuteTime": {
     "end_time": "2024-12-10T03:49:37.193543Z",
     "start_time": "2024-12-10T03:49:37.180142Z"
    }
   },
   "cell_type": "code",
   "source": [
    "# 정밀도\n",
    "precision_score(y_test, pred)"
   ],
   "id": "79272a1332d073b1",
   "outputs": [
    {
     "data": {
      "text/plain": [
       "np.float64(0.7108433734939759)"
      ]
     },
     "execution_count": 99,
     "metadata": {},
     "output_type": "execute_result"
    }
   ],
   "execution_count": 99
  },
  {
   "metadata": {
    "ExecuteTime": {
     "end_time": "2024-12-10T03:49:39.408329Z",
     "start_time": "2024-12-10T03:49:39.395022Z"
    }
   },
   "cell_type": "code",
   "source": [
    "# 재현율\n",
    "recall_score(y_test, pred)\n"
   ],
   "id": "8b9df865a37991d0",
   "outputs": [
    {
     "data": {
      "text/plain": [
       "np.float64(0.7023809523809523)"
      ]
     },
     "execution_count": 100,
     "metadata": {},
     "output_type": "execute_result"
    }
   ],
   "execution_count": 100
  },
  {
   "metadata": {
    "ExecuteTime": {
     "end_time": "2024-12-10T03:49:41.869175Z",
     "start_time": "2024-12-10T03:49:41.834910Z"
    }
   },
   "cell_type": "code",
   "source": [
    "# 모두 사망이라고 예측하는 모델 작성\n",
    "\n",
    "from sklearn.base import BaseEstimator  # fit, predict, score 사용 가능\n",
    "\n",
    "\n",
    "class MyDeathClassifier(BaseEstimator):\n",
    "    def fit(self, X, y):  # input data - X/ label - y\n",
    "\n",
    "        pass\n",
    "\n",
    "    def predict(self, X):  # X는 test_input\n",
    "\n",
    "        return np.zeros((X.shape[0], 1))\n",
    "\n",
    "my_classifier2 = MyDeathClassifier()\n",
    "my_classifier2.fit(X_train, y_train)\n",
    "\n",
    "pred = my_classifier2.predict(X_train)\n",
    "print('훈련 데이터 혼동행렬 : ', confusion_matrix(y_train, pred))\n",
    "print('훈련 데이터 정확도 : ', accuracy_score(y_train, pred))\n",
    "print('훈련 데이터 정밀도 : ', precision_score(y_train, pred))\n",
    "print('훈련 데이터 재현율 : ', recall_score(y_train, pred))\n",
    "\n",
    "pred = my_classifier2.predict(X_test)\n",
    "print('테스트 데이터 혼동행렬 : ', confusion_matrix(y_test, pred))\n",
    "print('테스트 데이터 정확도 : ', accuracy_score(y_test, pred))\n",
    "print('테스트 데이터 정밀도 : ', precision_score(y_test, pred))\n",
    "print('테스트 데이터 재현율 : ', recall_score(y_test, pred))"
   ],
   "id": "f8d99e6e530ba3ed",
   "outputs": [
    {
     "name": "stdout",
     "output_type": "stream",
     "text": [
      "훈련 데이터 혼동행렬 :  [[410   0]\n",
      " [258   0]]\n",
      "훈련 데이터 정확도 :  0.6137724550898204\n",
      "훈련 데이터 정밀도 :  0.0\n",
      "훈련 데이터 재현율 :  0.0\n",
      "테스트 데이터 혼동행렬 :  [[139   0]\n",
      " [ 84   0]]\n",
      "테스트 데이터 정확도 :  0.6233183856502242\n",
      "테스트 데이터 정밀도 :  0.0\n",
      "테스트 데이터 재현율 :  0.0\n"
     ]
    },
    {
     "name": "stderr",
     "output_type": "stream",
     "text": [
      "C:\\Users\\tngkr\\miniconda3\\envs\\dl_env\\Lib\\site-packages\\sklearn\\metrics\\_classification.py:1531: UndefinedMetricWarning: Precision is ill-defined and being set to 0.0 due to no predicted samples. Use `zero_division` parameter to control this behavior.\n",
      "  _warn_prf(average, modifier, f\"{metric.capitalize()} is\", len(result))\n",
      "C:\\Users\\tngkr\\miniconda3\\envs\\dl_env\\Lib\\site-packages\\sklearn\\metrics\\_classification.py:1531: UndefinedMetricWarning: Precision is ill-defined and being set to 0.0 due to no predicted samples. Use `zero_division` parameter to control this behavior.\n",
      "  _warn_prf(average, modifier, f\"{metric.capitalize()} is\", len(result))\n"
     ]
    }
   ],
   "execution_count": 101
  },
  {
   "metadata": {
    "ExecuteTime": {
     "end_time": "2024-12-10T03:52:12.167215Z",
     "start_time": "2024-12-10T03:52:12.158723Z"
    }
   },
   "cell_type": "code",
   "source": [
    "# 오차행렬, 정확도, 정밀도, 재현율 계산 함수\n",
    "def evaluate_binary_classification(y_true, y_pred):\n",
    "    print('혼동행렬 : \\n', confusion_matrix(y_true, y_pred))\n",
    "    print('정확도 : {0:.4f}, 정밀도 : {1:.4f}, 재현율 : {2:.4f}'.format(accuracy_score(y_true, y_pred), precision_score(y_true, y_pred), recall_score(y_true, y_pred)))\n"
   ],
   "id": "23b4d73176c44421",
   "outputs": [],
   "execution_count": 108
  },
  {
   "metadata": {
    "ExecuteTime": {
     "end_time": "2024-12-10T05:09:27.060192Z",
     "start_time": "2024-12-10T05:09:27.025017Z"
    }
   },
   "cell_type": "code",
   "source": [
    "# 정상적인 타이타닉 모델 확인\n",
    "from sklearn.model_selection import train_test_split\n",
    "\n",
    "df = pd.read_csv('data/titanic.csv')\n",
    "\n",
    "# 입력/라벨 데이터 분리\n",
    "X = df.drop('Survived', axis=1)\n",
    "y = df['Survived']\n",
    "\n",
    "# 전처리\n",
    "X = preprocess_data(X)\n",
    "\n",
    "# 훈련/테스트 데이터 분리\n",
    "X_train, X_test, y_train, y_test = train_test_split(X, y, random_state=0)\n",
    "\n",
    "# 특징 스케일링\n",
    "from sklearn.preprocessing import StandardScaler\n",
    "scaler = StandardScaler()\n",
    "X_train_scaled = scaler.fit_transform(X_train)\n",
    "X_test_scaled = scaler.transform(X_test)\n",
    "\n",
    "# 모델 훈련\n",
    "lr_classifier = LogisticRegression()\n",
    "lr_classifier.fit(X_train_scaled, y_train)\n",
    "\n",
    "# 평가\n",
    "y_train_pred = lr_classifier.predict(X_train_scaled)\n",
    "evaluate_binary_classification(y_train, y_train_pred)\n",
    "\n",
    "y_test_pred = lr_classifier.predict(X_test_scaled)\n",
    "evaluate_binary_classification(y_test, y_test_pred)\n",
    "\n",
    "\n"
   ],
   "id": "ce272320d59562a3",
   "outputs": [
    {
     "name": "stdout",
     "output_type": "stream",
     "text": [
      "혼동행렬 : \n",
      " [[349  61]\n",
      " [ 75 183]]\n",
      "정확도 : 0.7964, 정밀도 : 0.7500, 재현율 : 0.7093\n",
      "혼동행렬 : \n",
      " [[117  22]\n",
      " [ 23  61]]\n",
      "정확도 : 0.7982, 정밀도 : 0.7349, 재현율 : 0.7262\n"
     ]
    }
   ],
   "execution_count": 111
  },
  {
   "metadata": {},
   "cell_type": "markdown",
   "source": [
    "### 정밀도-재현율의 trade-off\n",
    "- 분류결정 임계치를 낮추면, Positive로 예측할 확률이 높아진다.\n",
    "    - 정밀도는 낮아지고, 재현율이 높아진다.\n",
    "- 분류결정 임계치를 높이면, Positive로 예측할 확률이 낮아진다.\n",
    "    - 정밀도 높아지고, 재현율이 낮아진다."
   ],
   "id": "51d988c8fbf26c79"
  },
  {
   "metadata": {
    "ExecuteTime": {
     "end_time": "2024-12-10T05:31:07.409248Z",
     "start_time": "2024-12-10T05:31:07.402685Z"
    }
   },
   "cell_type": "code",
   "source": [
    "# predict_proba - 선형회귀결과값 z에 따른 클래스별 비율 반환\n",
    "predict_proba = lr_classifier.predict_proba(X_test_scaled)\n",
    "predict_proba\n",
    "\n",
    "print(predict_proba[:9])\n",
    "pred = lr_classifier.predict(X_test_scaled) # 판단 결과 반환\n",
    "print(pred[:9])"
   ],
   "id": "bfa0feb1e4816255",
   "outputs": [
    {
     "name": "stdout",
     "output_type": "stream",
     "text": [
      "[[0.84483816 0.15516184]\n",
      " [0.89437144 0.10562856]\n",
      " [0.92598891 0.07401109]\n",
      " [0.05163537 0.94836463]\n",
      " [0.28551801 0.71448199]\n",
      " [0.51333381 0.48666619]\n",
      " [0.08526161 0.91473839]\n",
      " [0.06832819 0.93167181]\n",
      " [0.41757669 0.58242331]]\n",
      "[0 0 0 1 1 0 1 1 1]\n"
     ]
    }
   ],
   "execution_count": 116
  },
  {
   "metadata": {
    "ExecuteTime": {
     "end_time": "2024-12-10T05:43:05.067903Z",
     "start_time": "2024-12-10T05:43:05.063482Z"
    }
   },
   "cell_type": "code",
   "source": [
    "# Binarizer 클래스를 통한 임계치 조정 # Threshold : 임계치, Binarizer : 문턱 비슷한 의미\n",
    "from sklearn.preprocessing import Binarizer\n",
    "X = [[1, -1, 2],\n",
    "     [2, 0, 0],\n",
    "     [0, 1.1, 1.2]]\n",
    "\n",
    "# threshold =0 ,\n",
    "# - 0보다 작거나 같으면 0 반환, 음성\n",
    "# - 0보다 크면 1 반환, 양성\n",
    "\n",
    "binarizer = Binarizer(threshold=1) # 0 이 임계치, 이 값을 넘어야 1을 반환.\n",
    "X_adj = binarizer.fit_transform(X)\n",
    "X_adj"
   ],
   "id": "833a165af395dc9c",
   "outputs": [
    {
     "data": {
      "text/plain": [
       "array([[0., 0., 1.],\n",
       "       [1., 0., 0.],\n",
       "       [0., 1., 1.]])"
      ]
     },
     "execution_count": 122,
     "metadata": {},
     "output_type": "execute_result"
    }
   ],
   "execution_count": 122
  },
  {
   "metadata": {
    "ExecuteTime": {
     "end_time": "2024-12-10T06:08:21.782077Z",
     "start_time": "2024-12-10T06:08:21.758477Z"
    }
   },
   "cell_type": "code",
   "source": [
    "# titanic 데이터에 적용해 보기\n",
    "# 생존(양성) 값만 가져와서 배치차원 추가.\n",
    "predict_proba1 = predict_proba[:, 1].reshape(-1,1) # 모든 행의 1번 index\n",
    "\n",
    "binarizer = Binarizer(threshold=0.5)\n",
    "custum_pred = binarizer.fit_transform(predict_proba1)\n",
    "# custum_pred\n",
    "evaluate_binary_classification(y_test, custum_pred)\n",
    "\n",
    "binarizer = Binarizer(threshold=0.6)\n",
    "custum_pred = binarizer.fit_transform(predict_proba1)\n",
    "evaluate_binary_classification(y_test, custum_pred)"
   ],
   "id": "839eccad4f8ccd9c",
   "outputs": [
    {
     "name": "stdout",
     "output_type": "stream",
     "text": [
      "혼동행렬 : \n",
      " [[117  22]\n",
      " [ 23  61]]\n",
      "정확도 : 0.7982, 정밀도 : 0.7349, 재현율 : 0.7262\n",
      "혼동행렬 : \n",
      " [[124  15]\n",
      " [ 27  57]]\n",
      "정확도 : 0.8117, 정밀도 : 0.7917, 재현율 : 0.6786\n"
     ]
    }
   ],
   "execution_count": 125
  },
  {
   "metadata": {
    "ExecuteTime": {
     "end_time": "2024-12-10T07:06:17.746172Z",
     "start_time": "2024-12-10T07:06:17.662586Z"
    }
   },
   "cell_type": "code",
   "source": [
    "# 임계치 테스트를 위한 함수 작성\n",
    "thresholds = [0.4, 0.45, 0.5, 0.55, 0.59, 0.6]\n",
    "\n",
    "def evaluate_by_thresholds(y_true, y_pred, thresholds):\n",
    "    for threshold in thresholds:\n",
    "        binarizer = Binarizer(threshold = threshold)\n",
    "        custum_pred = binarizer.fit_transform(y_pred)\n",
    "        print(f'> 임계치 :  {threshold}')\n",
    "        evaluate_binary_classification(y_true, custum_pred)\n",
    "\n",
    "\n",
    "evaluate_by_thresholds(y_test, predict_proba1, thresholds)\n"
   ],
   "id": "b47806b6a3e25b64",
   "outputs": [
    {
     "name": "stdout",
     "output_type": "stream",
     "text": [
      "> 임계치 :  0.4\n",
      "혼동행렬 : \n",
      " [[109  30]\n",
      " [ 19  65]]\n",
      "정확도 : 0.7803, 정밀도 : 0.6842, 재현율 : 0.7738, F1스코어 :0.7263\n",
      "> 임계치 :  0.45\n",
      "혼동행렬 : \n",
      " [[112  27]\n",
      " [ 19  65]]\n",
      "정확도 : 0.7937, 정밀도 : 0.7065, 재현율 : 0.7738, F1스코어 :0.7386\n",
      "> 임계치 :  0.5\n",
      "혼동행렬 : \n",
      " [[117  22]\n",
      " [ 23  61]]\n",
      "정확도 : 0.7982, 정밀도 : 0.7349, 재현율 : 0.7262, F1스코어 :0.7305\n",
      "> 임계치 :  0.55\n",
      "혼동행렬 : \n",
      " [[119  20]\n",
      " [ 23  61]]\n",
      "정확도 : 0.8072, 정밀도 : 0.7531, 재현율 : 0.7262, F1스코어 :0.7394\n",
      "> 임계치 :  0.59\n",
      "혼동행렬 : \n",
      " [[123  16]\n",
      " [ 25  59]]\n",
      "정확도 : 0.8161, 정밀도 : 0.7867, 재현율 : 0.7024, F1스코어 :0.7421\n",
      "> 임계치 :  0.6\n",
      "혼동행렬 : \n",
      " [[124  15]\n",
      " [ 27  57]]\n",
      "정확도 : 0.8117, 정밀도 : 0.7917, 재현율 : 0.6786, F1스코어 :0.7308\n"
     ]
    }
   ],
   "execution_count": 152
  },
  {
   "metadata": {
    "ExecuteTime": {
     "end_time": "2024-12-10T06:27:45.026469Z",
     "start_time": "2024-12-10T06:27:45.019288Z"
    }
   },
   "cell_type": "code",
   "source": [
    "# 정밀도-재현율 변화과정 시각화\n",
    "from sklearn.metrics import precision_recall_curve\n",
    "\n",
    "precisions, recalls, thresholds = precision_recall_curve(y_test, predict_proba1)\n",
    "\n",
    "thresholds\n",
    "\n",
    "# thresholds에 따른 precision, recall값을 각각 반환한다.\n",
    "# thresholds(up), precision(up), recall(down)\n",
    "\n",
    "# 기준 thresholds 221개\n",
    "# - 정밀도는 마지막에 1이 추가\n",
    "# - 재현율은 마지막에 0이 추가\n",
    "precisions.shape, recalls.shape, thresholds.shape # precision recall 함수 설계에서 각각 1, 0 이 더해지기 때문에 요소 개수가 1개씩 증가.\n"
   ],
   "id": "da8f262d34b9f04d",
   "outputs": [
    {
     "data": {
      "text/plain": [
       "((212,), (212,), (211,))"
      ]
     },
     "execution_count": 133,
     "metadata": {},
     "output_type": "execute_result"
    }
   ],
   "execution_count": 133
  },
  {
   "metadata": {
    "ExecuteTime": {
     "end_time": "2024-12-10T06:42:18.940567Z",
     "start_time": "2024-12-10T06:42:18.852098Z"
    }
   },
   "cell_type": "code",
   "source": [
    "def precision_recall_curve_plot(y_true, y_pred):\n",
    "    precisions, recalls, thresholds = precision_recall_curve(y_true, y_pred) # 정밀도, 재현율, 임계치 반환\n",
    "\n",
    "    plt.figure(figsize=(8, 6))\n",
    "    # 정밀도 plot\n",
    "    plt.plot(thresholds, precisions[:-1], linestyle='--', label='Precision')\n",
    "\n",
    "    # 재현율 plot\n",
    "    plt.plot(thresholds, recalls[:-1], linestyle='--', label='Recall')\n",
    "\n",
    "    plt.xlabel('Threshold')\n",
    "    plt.ylabel('Precision and Recall values')\n",
    "    plt.legend()\n",
    "    plt.show()\n",
    "\n",
    "precision_recall_curve_plot(y_test, predict_proba1)"
   ],
   "id": "fd00e8d5918074a8",
   "outputs": [
    {
     "data": {
      "text/plain": [
       "<Figure size 800x600 with 1 Axes>"
      ],
      "image/png": "[encoded data removed]"
     },
     "metadata": {},
     "output_type": "display_data"
    }
   ],
   "execution_count": 143
  },
  {
   "metadata": {},
   "cell_type": "markdown",
   "source": [
    "### F1-score\n",
    "정밀도와 재현율을 결합한 지표.\n",
    "$\n",
    "F1 = \\frac{2 \\times precision \\times recall}{precision + recall}\n",
    "$"
   ],
   "id": "ee015ee39a8e5643"
  },
  {
   "metadata": {
    "ExecuteTime": {
     "end_time": "2024-12-10T06:47:40.331389Z",
     "start_time": "2024-12-10T06:47:40.323435Z"
    }
   },
   "cell_type": "code",
   "source": [
    "from sklearn.metrics import f1_score\n",
    "f1_score(y_test, pred)"
   ],
   "id": "e8fa4fc67af4a8f6",
   "outputs": [
    {
     "data": {
      "text/plain": [
       "np.float64(0.7305389221556886)"
      ]
     },
     "execution_count": 144,
     "metadata": {},
     "output_type": "execute_result"
    }
   ],
   "execution_count": 144
  },
  {
   "metadata": {
    "ExecuteTime": {
     "end_time": "2024-12-10T07:05:08.016471Z",
     "start_time": "2024-12-10T07:05:07.998667Z"
    }
   },
   "cell_type": "code",
   "source": [
    "# 혼동행렬, 정확도, 정밀도, 재현율, F1-score 계산 함수\n",
    "def evaluate_binary_classification(y_true, y_pred):\n",
    "    print('혼동행렬 : \\n', confusion_matrix(y_true, y_pred))\n",
    "    print('정확도 : {0:.4f}, 정밀도 : {1:.4f}, 재현율 : {2:.4f}, F1스코어 :{3:.4f}'.format(accuracy_score(y_true, y_pred),\n",
    "                                                               precision_score(y_true, y_pred),\n",
    "                                                               recall_score(y_true, y_pred),f1_score(y_true, y_pred)))\n",
    "    # formating, 0번은 뒤에 있는 format 이후 첫번째 꺼 가져옴, 1번은 두번쨰꺼\n",
    "    # 임계치 테스트를 위한 함수 작성\n"
   ],
   "id": "db651ec644fd7457",
   "outputs": [],
   "execution_count": 150
  },
  {
   "metadata": {
    "ExecuteTime": {
     "end_time": "2024-12-10T07:06:35.201582Z",
     "start_time": "2024-12-10T07:06:35.136180Z"
    }
   },
   "cell_type": "code",
   "source": [
    "thresholds = [0.4, 0.45, 0.5, 0.55, 0.59, 0.6]\n",
    "\n",
    "\n",
    "def evaluate_by_thresholds(y_true, y_pred, thresholds):\n",
    "    for threshold in thresholds:\n",
    "        binarizer = Binarizer(threshold=threshold)\n",
    "        custum_pred = binarizer.fit_transform(y_pred)\n",
    "        print(f'> 임계치 :  {threshold}')\n",
    "        evaluate_binary_classification(y_true, custum_pred)\n",
    "\n",
    "\n",
    "evaluate_by_thresholds(y_test, predict_proba1, thresholds)  # 임계치 상승에 따라 정밀도는 상승, 재현율은 감소, 하지만 정확도는 0.59에서 피크 후 감소, F1의 경우, 요동침, 0.59에서 F1도 정확도와 같이 peak값을 가짐. 따라서, 0.59를 임계치로 설정할만함"
   ],
   "id": "94bcd590d8e48921",
   "outputs": [
    {
     "name": "stdout",
     "output_type": "stream",
     "text": [
      "> 임계치 :  0.4\n",
      "혼동행렬 : \n",
      " [[109  30]\n",
      " [ 19  65]]\n",
      "정확도 : 0.7803, 정밀도 : 0.6842, 재현율 : 0.7738, F1스코어 :0.7263\n",
      "> 임계치 :  0.45\n",
      "혼동행렬 : \n",
      " [[112  27]\n",
      " [ 19  65]]\n",
      "정확도 : 0.7937, 정밀도 : 0.7065, 재현율 : 0.7738, F1스코어 :0.7386\n",
      "> 임계치 :  0.5\n",
      "혼동행렬 : \n",
      " [[117  22]\n",
      " [ 23  61]]\n",
      "정확도 : 0.7982, 정밀도 : 0.7349, 재현율 : 0.7262, F1스코어 :0.7305\n",
      "> 임계치 :  0.55\n",
      "혼동행렬 : \n",
      " [[119  20]\n",
      " [ 23  61]]\n",
      "정확도 : 0.8072, 정밀도 : 0.7531, 재현율 : 0.7262, F1스코어 :0.7394\n",
      "> 임계치 :  0.59\n",
      "혼동행렬 : \n",
      " [[123  16]\n",
      " [ 25  59]]\n",
      "정확도 : 0.8161, 정밀도 : 0.7867, 재현율 : 0.7024, F1스코어 :0.7421\n",
      "> 임계치 :  0.6\n",
      "혼동행렬 : \n",
      " [[124  15]\n",
      " [ 27  57]]\n",
      "정확도 : 0.8117, 정밀도 : 0.7917, 재현율 : 0.6786, F1스코어 :0.7308\n"
     ]
    }
   ],
   "execution_count": 153
  },
  {
   "metadata": {},
   "cell_type": "markdown",
   "source": [
    "## 회귀모델 평가\n",
    "분류와 달리 True/False로 평가하지 않고, 실제값과 예측값사이의 오차로써 평가한다.\n",
    "\n",
    "<table border=\"1\" cellpadding=\"5\" cellspacing=\"0\">\n",
    "    <thead>\n",
    "        <tr>\n",
    "            <th>평가 지표</th>\n",
    "            <th>설명</th>\n",
    "            <th>LaTeX 수식</th>\n",
    "        </tr>\n",
    "    </thead>\n",
    "    <tbody>\n",
    "        <tr>\n",
    "            <td><strong>평균 제곱 오차 (MSE)</strong></td>\n",
    "            <td>예측 값과 실제 값의 차이를 제곱하여 평균을 낸 값입니다.</td>\n",
    "            <td>$$\\text{MSE} = \\frac{1}{n} \\sum_{i=1}^{n} (y_i - \\hat{y}_i)^2$$</td>\n",
    "        </tr>\n",
    "        <tr>\n",
    "            <td><strong>평균 절대 오차 (MAE)</strong></td>\n",
    "            <td>예측 값과 실제 값의 차이의 절대값을 평균한 값입니다.</td>\n",
    "            <td>$$\\text{MAE} = \\frac{1}{n} \\sum_{i=1}^{n} |y_i - \\hat{y}_i|$$</td>\n",
    "        </tr>\n",
    "        <tr>\n",
    "            <td><strong>루트 평균 제곱 오차 (RMSE)</strong></td>\n",
    "            <td>평균 제곱 오차의 제곱근으로, 실제 오차의 크기와 같은 단위를 가집니다. 큰 오차에 대해 더 가중치를 부여하므로 MAE 대비 크다.</td>\n",
    "            <td>\n",
    "            $$\\text{RMSE} = \\sqrt{\\frac{1}{n} \\sum_{i=1}^{n} (y_i - \\hat{y}_i)^2}\n",
    "            $$</td>\n",
    "        </tr>\n",
    "        <tr>\n",
    "            <td><strong>평균 제곱 로그 오차 (MSLE)</strong></td>\n",
    "            <td>실제 값과 예측 값의 로그 차이를 제곱하여 평균을 낸 값입니다.</td>\n",
    "            <td>$$\\text{MSLE} = \\frac{1}{n} \\sum_{i=1}^{n} \\left( \\log(y_i + 1) - \\log(\\hat{y}_i + 1) \\right)^2$$</td>\n",
    "        </tr>\n",
    "        <tr>\n",
    "            <td><strong>루트 평균 제곱 로그 오차 (RMSLE)</strong></td>\n",
    "            <td>MSLE의 제곱근으로, 로그 스케일에서의 예측 정확도를 측정합니다.</td>\n",
    "            <td>$$\n",
    "            RMSLE = \\sqrt{\\frac{1}{n} \\sum_{i=1}^{n} \\left( \\log(y_i + 1) - \\log(\\hat{y}_i + 1) \\right)^2}$$</td>\n",
    "        </tr>\n",
    "        <tr>\n",
    "            <td><strong>결정 계수 (R-squared, $R^2$)<strong></td>\n",
    "            <td>모델이 데이터의 변동성을 얼마나 설명하는지를 나타냅니다.</td>\n",
    "            <td>$$R^2 = 1 - \\frac{\\sum_{i=1}^{n} (y_i - \\hat{y}_i)^2}{\\sum_{i=1}^{n} (y_i - \\bar{y})^2}$$</td>\n",
    "        </tr>\n",
    "        <tr>\n",
    "            <td>조정된 결정 계수 (Adjusted $R^2$)</td>\n",
    "            <td>독립 변수의 개수를 고려하여 조정한 결정 계수입니다.</td>\n",
    "            <td>$$\\text{Adjusted } R^2 = 1 - \\frac{(1-R^2)(n-1)}{n-p-1}$$</td>\n",
    "        </tr>\n",
    "        <tr>\n",
    "            <td>설명 분산 점수 (Explained Variance)</td>\n",
    "            <td>예측이 실제 데이터를 얼마나 잘 설명하는지를 나타냅니다.</td>\n",
    "            <td>$$\\text{Explained Variance} = 1 - \\frac{\\text{Var}(y - \\hat{y})}{\\text{Var}(y)}$$</td>\n",
    "        </tr>\n",
    "        <tr>\n",
    "            <td>평균 절대 백분율 오차 (MAPE)</td>\n",
    "            <td>예측 값과 실제 값의 차이를 실제 값으로 나눈 백분율의 절대값을 평균한 값입니다.</td>\n",
    "            <td>$$\\text{MAPE} = \\frac{1}{n} \\sum_{i=1}^{n} \\left| \\frac{y_i - \\hat{y}_i}{y_i} \\right| \\times 100$$</td>\n",
    "        </tr>\n",
    "        <tr>\n",
    "            <td>최대 절대 오차 (Max Error)</td>\n",
    "            <td>가장 큰 오차의 절대값을 측정합니다.</td>\n",
    "            <td>$$\\text{Max Error} = \\max(|y_i - \\hat{y}_i|)$$</td>\n",
    "        </tr>\n",
    "        <tr>\n",
    "            <td>Huber Loss</td>\n",
    "            <td>MSE와 MAE의 장점을 결합한 손실 함수입니다.</td>\n",
    "            <td>$$L_\\delta(y, \\hat{y}) = \\begin{cases} \\frac{1}{2}(y_i - \\hat{y}_i)^2, & \\text{if } |y_i - \\hat{y}_i| \\le \\delta \\\\ \\delta(|y_i - \\hat{y}_i| - \\frac{1}{2}\\delta), & \\text{otherwise} \\end{cases}$$ </td>\n",
    "        </tr>\n",
    "        <tr>\n",
    "            <td>로그 코사인 이탈 (Log-Cosh Loss)</td>\n",
    "            <td>로그 하이퍼볼릭 코사인 함수의 값을 손실로 사용합니다.</td>\n",
    "            <td>$$\\text{Log-Cosh Loss} = \\sum_{i=1}^{n} \\log(\\cosh(\\hat{y}_i - y_i))$$</td>\n",
    "        </tr>\n",
    "        <tr>\n",
    "            <td>대수 평균 제곱 오차 (Log-MSE)</td>\n",
    "            <td>예측 값의 로그와 실제 값의 로그 간의 차이를 제곱하여 평균을 낸 값입니다.</td>\n",
    "            <td>$$\\text{Log-MSE} = \\frac{1}{n} \\sum_{i=1}^{n} (\\log(y_i + 1) - \\log(\\hat{y}_i + 1))^2$$</td>\n",
    "        </tr>\n",
    "    </tbody>\n",
    "</table>\n",
    "\n"
   ],
   "id": "bc06b5fb18fddad9"
  },
  {
   "metadata": {
    "ExecuteTime": {
     "end_time": "2024-12-10T07:18:57.101271Z",
     "start_time": "2024-12-10T07:18:57.086904Z"
    }
   },
   "cell_type": "code",
   "source": [
    "# 샘플 데이터\n",
    "y_true = [3, 0.5, 2, 7]\n",
    "y_pred = [2.5, 0.0, 2, 9]"
   ],
   "id": "a94d9fd451fc19c",
   "outputs": [],
   "execution_count": 154
  },
  {
   "metadata": {
    "ExecuteTime": {
     "end_time": "2024-12-10T07:19:04.151480Z",
     "start_time": "2024-12-10T07:19:04.129756Z"
    }
   },
   "cell_type": "code",
   "source": [
    "# MSE Mean Squared Error 평균 제곱 오차\n",
    "# 잔차(실제값 - 예측값) 제곱하고, 평균낸 값\n",
    "from sklearn.metrics import mean_squared_error\n",
    "mean_squared_error(y_true, y_pred)"
   ],
   "id": "3a6c29a0581bfb4f",
   "outputs": [
    {
     "data": {
      "text/plain": [
       "np.float64(1.125)"
      ]
     },
     "execution_count": 155,
     "metadata": {},
     "output_type": "execute_result"
    }
   ],
   "execution_count": 155
  },
  {
   "metadata": {
    "ExecuteTime": {
     "end_time": "2024-12-10T07:21:15.283414Z",
     "start_time": "2024-12-10T07:21:15.267064Z"
    }
   },
   "cell_type": "code",
   "source": [
    "# MAE Mean Absolute Error 평균 절대 오차\n",
    "# 잔차의 절대값을 평균낸 값\n",
    "from sklearn.metrics import mean_absolute_error\n",
    "mean_absolute_error(y_true, y_pred)"
   ],
   "id": "b5992a99d31d3671",
   "outputs": [
    {
     "data": {
      "text/plain": [
       "np.float64(0.75)"
      ]
     },
     "execution_count": 156,
     "metadata": {},
     "output_type": "execute_result"
    }
   ],
   "execution_count": 156
  },
  {
   "metadata": {
    "ExecuteTime": {
     "end_time": "2024-12-10T07:22:45.719331Z",
     "start_time": "2024-12-10T07:22:45.699674Z"
    }
   },
   "cell_type": "code",
   "source": [
    "# MSLE 평균 제곱 로그 오차\n",
    "from sklearn.metrics import mean_squared_log_error\n",
    "mean_squared_log_error(y_true, y_pred)"
   ],
   "id": "b6b8818de4c514bc",
   "outputs": [
    {
     "data": {
      "text/plain": [
       "np.float64(0.058006407800631835)"
      ]
     },
     "execution_count": 157,
     "metadata": {},
     "output_type": "execute_result"
    }
   ],
   "execution_count": 157
  },
  {
   "metadata": {
    "ExecuteTime": {
     "end_time": "2024-12-10T07:24:02.708385Z",
     "start_time": "2024-12-10T07:24:02.695663Z"
    }
   },
   "cell_type": "code",
   "source": [
    "# RMSE 루트 평균 제곱 오차\n",
    "from sklearn.metrics import root_mean_squared_error\n",
    "root_mean_squared_error(y_true, y_pred)"
   ],
   "id": "1e4ede48c1423000",
   "outputs": [
    {
     "data": {
      "text/plain": [
       "np.float64(1.0606601717798212)"
      ]
     },
     "execution_count": 158,
     "metadata": {},
     "output_type": "execute_result"
    }
   ],
   "execution_count": 158
  },
  {
   "metadata": {
    "ExecuteTime": {
     "end_time": "2024-12-10T07:25:16.183357Z",
     "start_time": "2024-12-10T07:25:16.174572Z"
    }
   },
   "cell_type": "code",
   "source": [
    "# RMSLE 루트 평균 제곱 로그 오차\n",
    "from sklearn.metrics import root_mean_squared_log_error\n",
    "root_mean_squared_log_error(y_true, y_pred)"
   ],
   "id": "aaebb69df25f6f47",
   "outputs": [
    {
     "data": {
      "text/plain": [
       "np.float64(0.2408451946803835)"
      ]
     },
     "execution_count": 159,
     "metadata": {},
     "output_type": "execute_result"
    }
   ],
   "execution_count": 159
  },
  {
   "metadata": {
    "ExecuteTime": {
     "end_time": "2024-12-10T07:26:59.460823Z",
     "start_time": "2024-12-10T07:26:59.443952Z"
    }
   },
   "cell_type": "code",
   "source": [
    "# R^2 결정계수\n",
    "# 회귀모델 기본 score 함수에 적용되어 있다.\n",
    "from sklearn.metrics import r2_score\n",
    "r2_score(y_true, y_pred)"
   ],
   "id": "ff79946eadbed1b4",
   "outputs": [
    {
     "data": {
      "text/plain": [
       "0.8059299191374663"
      ]
     },
     "execution_count": 160,
     "metadata": {},
     "output_type": "execute_result"
    }
   ],
   "execution_count": 160
  }
 ],
 "metadata": {
  "kernelspec": {
   "display_name": "Python 3",
   "language": "python",
   "name": "python3"
  },
  "language_info": {
   "codemirror_mode": {
    "name": "ipython",
    "version": 2
   },
   "file_extension": ".py",
   "mimetype": "text/x-python",
   "name": "python",
   "nbconvert_exporter": "python",
   "pygments_lexer": "ipython2",
   "version": "2.7.6"
  }
 },
 "nbformat": 4,
 "nbformat_minor": 5
}
